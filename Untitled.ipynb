{
 "cells": [
  {
   "cell_type": "code",
   "execution_count": 248,
   "metadata": {},
   "outputs": [],
   "source": [
    "# data from\n",
    "# https://developer.riotgames.com/getting-started.html\n",
    "#\n",
    "# https://projet.liris.cnrs.fr/dm2l/lol/documentation_lol_json.html\n",
    "\n",
    "import json\n",
    "import numpy as np\n",
    "\n"
   ]
  },
  {
   "cell_type": "code",
   "execution_count": 249,
   "metadata": {},
   "outputs": [],
   "source": [
    "fin = 'matches1.json'\n",
    "\n",
    "with open(fin, encoding='latin-1') as f:\n",
    "    data = json.load(f)"
   ]
  },
  {
   "cell_type": "code",
   "execution_count": 13,
   "metadata": {},
   "outputs": [
    {
     "data": {
      "text/plain": [
       "dict_keys(['matches'])"
      ]
     },
     "execution_count": 13,
     "metadata": {},
     "output_type": "execute_result"
    }
   ],
   "source": [
    "data.keys()"
   ]
  },
  {
   "cell_type": "code",
   "execution_count": 21,
   "metadata": {},
   "outputs": [
    {
     "data": {
      "text/plain": [
       "dict_keys(['gameId', 'platformId', 'gameCreation', 'gameDuration', 'queueId', 'mapId', 'seasonId', 'gameVersion', 'gameMode', 'gameType', 'teams', 'participants', 'participantIdentities'])"
      ]
     },
     "execution_count": 21,
     "metadata": {},
     "output_type": "execute_result"
    }
   ],
   "source": [
    "data['matches'][0].keys()"
   ]
  },
  {
   "cell_type": "code",
   "execution_count": 51,
   "metadata": {},
   "outputs": [
    {
     "data": {
      "text/plain": [
       "[{'teamId': 100,\n",
       "  'win': 'Win',\n",
       "  'firstBlood': True,\n",
       "  'firstTower': False,\n",
       "  'firstInhibitor': False,\n",
       "  'firstBaron': False,\n",
       "  'firstDragon': False,\n",
       "  'firstRiftHerald': False,\n",
       "  'towerKills': 9,\n",
       "  'inhibitorKills': 1,\n",
       "  'baronKills': 0,\n",
       "  'dragonKills': 2,\n",
       "  'vilemawKills': 0,\n",
       "  'riftHeraldKills': 0,\n",
       "  'dominionVictoryScore': 0,\n",
       "  'bans': [{'championId': 31, 'pickTurn': 1},\n",
       "   {'championId': 157, 'pickTurn': 2},\n",
       "   {'championId': 16, 'pickTurn': 3},\n",
       "   {'championId': 134, 'pickTurn': 4},\n",
       "   {'championId': 40, 'pickTurn': 5}]},\n",
       " {'teamId': 200,\n",
       "  'win': 'Fail',\n",
       "  'firstBlood': False,\n",
       "  'firstTower': True,\n",
       "  'firstInhibitor': True,\n",
       "  'firstBaron': True,\n",
       "  'firstDragon': True,\n",
       "  'firstRiftHerald': False,\n",
       "  'towerKills': 9,\n",
       "  'inhibitorKills': 3,\n",
       "  'baronKills': 2,\n",
       "  'dragonKills': 3,\n",
       "  'vilemawKills': 0,\n",
       "  'riftHeraldKills': 0,\n",
       "  'dominionVictoryScore': 0,\n",
       "  'bans': [{'championId': 16, 'pickTurn': 6},\n",
       "   {'championId': 57, 'pickTurn': 7},\n",
       "   {'championId': 53, 'pickTurn': 8},\n",
       "   {'championId': 122, 'pickTurn': 9},\n",
       "   {'championId': 131, 'pickTurn': 10}]}]"
      ]
     },
     "execution_count": 51,
     "metadata": {},
     "output_type": "execute_result"
    }
   ],
   "source": [
    "data['matches'][0]['teams']"
   ]
  },
  {
   "cell_type": "code",
   "execution_count": 79,
   "metadata": {},
   "outputs": [
    {
     "data": {
      "text/plain": [
       "{'participantId': 1,\n",
       " 'creepsPerMinDeltas': {'10-20': 7.7,\n",
       "  '0-10': 5.7,\n",
       "  '30-end': 5.52,\n",
       "  '20-30': 8.0},\n",
       " 'xpPerMinDeltas': {'10-20': 515.5,\n",
       "  '0-10': 409.5,\n",
       "  '30-end': 634.2,\n",
       "  '20-30': 565.4},\n",
       " 'goldPerMinDeltas': {'10-20': 456.70000000000005,\n",
       "  '0-10': 287.9,\n",
       "  '30-end': 444.88,\n",
       "  '20-30': 514.4},\n",
       " 'csDiffPerMinDeltas': {'10-20': 2.3000000000000003,\n",
       "  '0-10': 2.1,\n",
       "  '30-end': 2.56,\n",
       "  '20-30': 3.0},\n",
       " 'xpDiffPerMinDeltas': {'10-20': 49.099999999999994,\n",
       "  '0-10': 21.30000000000001,\n",
       "  '30-end': 46.55999999999997,\n",
       "  '20-30': -41.099999999999994},\n",
       " 'damageTakenPerMinDeltas': {'10-20': 804.9000000000001,\n",
       "  '0-10': 727.8,\n",
       "  '30-end': 1631.1599999999999,\n",
       "  '20-30': 1960.3000000000002},\n",
       " 'damageTakenDiffPerMinDeltas': {'10-20': 406.0,\n",
       "  '0-10': 306.3,\n",
       "  '30-end': 568.5600000000001,\n",
       "  '20-30': 1494.9},\n",
       " 'role': 'SOLO',\n",
       " 'lane': 'TOP'}"
      ]
     },
     "execution_count": 79,
     "metadata": {},
     "output_type": "execute_result"
    }
   ],
   "source": [
    "data['matches'][0]['participants'][0]['timeline']#['role','lane']"
   ]
  },
  {
   "cell_type": "code",
   "execution_count": 83,
   "metadata": {},
   "outputs": [
    {
     "data": {
      "text/plain": [
       "dict_keys(['participantId', 'creepsPerMinDeltas', 'xpPerMinDeltas', 'goldPerMinDeltas', 'csDiffPerMinDeltas', 'xpDiffPerMinDeltas', 'damageTakenPerMinDeltas', 'damageTakenDiffPerMinDeltas', 'role', 'lane'])"
      ]
     },
     "execution_count": 83,
     "metadata": {},
     "output_type": "execute_result"
    }
   ],
   "source": [
    "data['matches'][0]['participants'][0]['timeline'].keys()"
   ]
  },
  {
   "cell_type": "code",
   "execution_count": null,
   "metadata": {},
   "outputs": [],
   "source": [
    "# feature vector will include\n",
    "# first blood, first tower, first inhibitor, first baron, first dragon, etc.\n",
    "# as well as the difference\n",
    "# creepsPerMinDeltas\n",
    "# goldPerMinDeltas\n",
    "# role\n",
    "# lane"
   ]
  },
  {
   "cell_type": "code",
   "execution_count": null,
   "metadata": {},
   "outputs": [],
   "source": [
    "\"\"\"\n",
    "'firstBlood': True,\n",
    "'firstTower': False,\n",
    "'firstInhibitor': False,\n",
    "'firstBaron': False,\n",
    "'firstDragon': False,\n",
    "'firstRiftHerald': False,\n",
    "\"\"\""
   ]
  },
  {
   "cell_type": "code",
   "execution_count": 82,
   "metadata": {},
   "outputs": [
    {
     "data": {
      "text/plain": [
       "dict_keys(['teamId', 'win', 'firstBlood', 'firstTower', 'firstInhibitor', 'firstBaron', 'firstDragon', 'firstRiftHerald', 'towerKills', 'inhibitorKills', 'baronKills', 'dragonKills', 'vilemawKills', 'riftHeraldKills', 'dominionVictoryScore', 'bans'])"
      ]
     },
     "execution_count": 82,
     "metadata": {},
     "output_type": "execute_result"
    }
   ],
   "source": [
    "data['matches'][0]['teams'][0].keys()"
   ]
  },
  {
   "cell_type": "code",
   "execution_count": 283,
   "metadata": {},
   "outputs": [
    {
     "name": "stdout",
     "output_type": "stream",
     "text": [
      "labels:\n",
      "('creepsPerMinDeltas_0-10', int),\n",
      "('creepsPerMinDeltas_10-20', int),\n",
      "('creepsPerMinDeltas_20-30', int),\n",
      "('creepsPerMinDeltas_30-end', int),\n",
      "('goldPerMinDeltas_0-10', int),\n",
      "('goldPerMinDeltas_10-20', int),\n",
      "('goldPerMinDeltas_20-30', int),\n",
      "('goldPerMinDeltas_30-end', int),\n"
     ]
    }
   ],
   "source": [
    "\n",
    "solo_vars = ['creepsPerMinDeltas', 'goldPerMinDeltas']\n",
    "team_outcome = ['win']\n",
    "time_deltas = ['0-10', '10-20', '20-30', '30-end']\n",
    "\n",
    "dat_labels = []\n",
    "print('labels:')\n",
    "for v in solo_vars:\n",
    "    for t in time_deltas:\n",
    "        cur_label = v + '_' + t\n",
    "        dat_labels.append(cur_label)\n",
    "        print(\"('\"+ cur_label + \"', int),\")"
   ]
  },
  {
   "cell_type": "code",
   "execution_count": 366,
   "metadata": {},
   "outputs": [],
   "source": [
    "def get_winner(match_id):\n",
    "    if data['matches'][match_id]['teams'][0]['win'] == 'Win':\n",
    "        return 0\n",
    "    elif data['matches'][match_id]['teams'][1]['win'] == 'Win':\n",
    "        return 1\n",
    "    else:\n",
    "        return -1\n",
    "    \n",
    "def get_team_data(match_id, winner):\n",
    "    team_dat = []\n",
    "    \n",
    "    team_vars = ['firstBlood', 'firstTower', 'firstInhibitor', 'firstBaron', 'firstDragon', 'firstRiftHerald']\n",
    "    \n",
    "    for v in team_vars:\n",
    "        cur_dat = data['matches'][match_id]['teams'][winner][v]*1\n",
    "        team_dat.append(cur_dat)\n",
    "    return np.array(team_dat)\n",
    "\n",
    "def get_role_lane(match_id, participant_id):\n",
    "    role = data['matches'][match_id]['participants'][participant_id]['timeline']['role']\n",
    "    lane = data['matches'][match_id]['participants'][participant_id]['timeline']['lane']\n",
    "    return role + '_' + lane\n",
    "\n",
    "def get_role_lanes(match_id):\n",
    "    role_lanes = {}\n",
    "    for participant_id in range(10):\n",
    "        cur_role_lane = get_role_lane(match_id,participant_id)\n",
    "        if participant_id < 5:\n",
    "            role_lanes[cur_role_lane] = [participant_id]\n",
    "        else:\n",
    "            if cur_role_lane not in role_lanes:\n",
    "                return None # not valid IDs\n",
    "            role_lanes[cur_role_lane].append(participant_id)\n",
    "    return role_lanes\n",
    "\n",
    "def get_role_lane_order(role_lanes, unique_role_lanes, winner):\n",
    "    participant_order = []\n",
    "    for i in [(x+winner)%2 for x in range(2)]:\n",
    "        for role_lane in unique_role_lanes:\n",
    "            participant_order.append(role_lanes[role_lane][i])\n",
    "    return participant_order\n",
    "\n",
    "def get_participant_data(match_id, winner, debug=False):\n",
    "    role_lanes = get_role_lanes(match_id)\n",
    "    if role_lanes == None:\n",
    "        return None\n",
    "\n",
    "    unique_role_lanes = np.sort(list(role_lanes.keys()))\n",
    "    \n",
    "    participant_data = []\n",
    "\n",
    "    for participant_id in range(10):\n",
    "        cur_role_lane = get_role_lane(match_id, participant_id)\n",
    "        cur_participant_data = [participant_id, cur_role_lane]\n",
    "        for v in solo_vars:\n",
    "            for t in time_deltas:\n",
    "                cur_participant_data.append(np.round(data['matches'][match_id]['participants'][participant_id]['timeline'][v][t],2))\n",
    "                \n",
    "        cur_participant_data = np.array(cur_participant_data,\n",
    "                                dtype = object)\n",
    "        participant_data.append(cur_participant_data)\n",
    "    \n",
    "    participant_order = get_role_lane_order(role_lanes, unique_role_lanes, winner)\n",
    "    participant_data = np.array(participant_data)[participant_order]\n",
    "    \n",
    "    difference_data = []\n",
    "    for i in range(5):\n",
    "        cur_difference = np.array(participant_data[i,2:] - participant_data[i+5,2:]).astype(float)\n",
    "        difference_data.append(cur_difference)\n",
    "    difference_data = np.around(np.array(difference_data),1)\n",
    "    \n",
    "    h,w = difference_data.shape\n",
    "    \n",
    "    difference_data = difference_data.reshape((1,h*w))\n",
    "    \n",
    "    participant_data = participant_data.reshape((1,100))\n",
    "    \n",
    "    return np.concatenate([participant_data, difference_data],axis=1)\n",
    "\n",
    "def process_match(match_id):\n",
    "    winner = get_winner(match_id)\n",
    "    team_dat = get_team_data(match_id, winner)\n",
    "    participant_data = get_participant_data(match_id, winner)\n",
    "    return winner, team_dat, participant_data"
   ]
  },
  {
   "cell_type": "code",
   "execution_count": 367,
   "metadata": {},
   "outputs": [
    {
     "name": "stdout",
     "output_type": "stream",
     "text": [
      "0 (0, array([1, 0, 0, 0, 0, 0]), array([[1, 'DUO_CARRY_BOTTOM', 5.1, 7.0, 3.1, 8.4, 194.0, 396.4, 471.4,\n",
      "        562.68, 2, 'DUO_SUPPORT_BOTTOM', 0.1, 0.9, 1.4, 1.68, 139.3,\n",
      "        304.1, 273.8, 390.04, 3, 'NONE_JUNGLE', 1.1, 0.6, 2.7, 1.56,\n",
      "        286.9, 321.1, 335.1, 321.32, 4, 'SOLO_MIDDLE', 5.9, 5.9, 4.4,\n",
      "        4.88, 259.5, 336.7, 276.6, 406.44, 0, 'SOLO_TOP', 5.7, 7.7, 8.0,\n",
      "        5.52, 287.9, 456.7, 514.4, 444.88, 8, 'DUO_CARRY_BOTTOM', 6.7,\n",
      "        5.5, 7.4, 3.32, 316.9, 394.1, 391.6, 404.28, 7,\n",
      "        'DUO_SUPPORT_BOTTOM', 0.1, 0.4, 1.2, 3.08, 231.3, 336.2, 376.8,\n",
      "        391.28, 5, 'NONE_JUNGLE', 0.4, 0.4, 0.7, 1.64, 266.2, 300.8,\n",
      "        377.1, 372.12, 6, 'SOLO_MIDDLE', 6.0, 6.6, 4.5, 3.44, 253.9,\n",
      "        447.2, 396.2, 415.48, 9, 'SOLO_TOP', 3.6, 5.4, 5.0, 2.96, 208.2,\n",
      "        331.8, 443.3, 448.44, -1.6, 1.5, -4.3, 5.1, -122.9, 2.3, 79.8,\n",
      "        158.4, 0.0, 0.5, 0.2, -1.4, -92.0, -32.1, -103.0, -1.2, 0.7, 0.2,\n",
      "        2.0, -0.1, 20.7, 20.3, -42.0, -50.8, -0.1, -0.7, -0.1, 1.4, 5.6,\n",
      "        -110.5, -119.6, -9.0, 2.1, 2.3, 3.0, 2.6, 79.7, 124.9, 71.1,\n",
      "        -3.6]], dtype=object))\n",
      "1 (1, array([1, 0, 1, 1, 0, 0]), array([[6, 'DUO_CARRY_BOTTOM', 4.6, 5.1, 6.9, 3.0, 222.2, 399.1, 346.9,\n",
      "        434.7, 5, 'DUO_SUPPORT_BOTTOM', 0.8, 1.2, 1.1, 1.25, 147.5,\n",
      "        282.5, 260.3, 412.25, 9, 'NONE_JUNGLE', 0.7, 0.7, 4.1, 6.55,\n",
      "        247.0, 394.0, 435.9, 506.6, 7, 'SOLO_MIDDLE', 4.6, 4.8, 4.1,\n",
      "        4.65, 211.8, 369.1, 312.7, 409.95, 8, 'SOLO_TOP', 6.1, 9.0, 4.2,\n",
      "        3.0, 262.8, 549.0, 520.7, 576.55, 2, 'DUO_CARRY_BOTTOM', 5.9,\n",
      "        5.6, 4.4, 4.9, 320.2, 321.4, 388.1, 374.5, 1,\n",
      "        'DUO_SUPPORT_BOTTOM', 0.4, 2.7, 3.0, 5.3, 245.9, 302.1, 388.8,\n",
      "        475.25, 3, 'NONE_JUNGLE', 0.5, 2.0, 4.8, 3.35, 290.9, 397.3,\n",
      "        363.7, 362.4, 4, 'SOLO_MIDDLE', 6.5, 3.5, 4.8, 4.8, 283.3, 395.7,\n",
      "        342.6, 487.0, 0, 'SOLO_TOP', 5.0, 7.0, 3.3, 3.95, 248.1, 361.5,\n",
      "        304.1, 399.2, -1.3, -0.5, 2.5, -1.9, -98.0, 77.7, -41.2, 60.2,\n",
      "        0.4, -1.5, -1.9, -4.0, -98.4, -19.6, -128.5, -63.0, 0.2, -1.3,\n",
      "        -0.7, 3.2, -43.9, -3.3, 72.2, 144.2, -1.9, 1.3, -0.7, -0.1,\n",
      "        -71.5, -26.6, -29.9, -77.1, 1.1, 2.0, 0.9, -1.0, 14.7, 187.5,\n",
      "        216.6, 177.3]], dtype=object))\n",
      "2 (1, array([1, 1, 1, 1, 0, 0]), array([[9, 'DUO_CARRY_BOTTOM', 7.5, 7.9, 5.3, 6.4, 295.5, 398.5, 354.7,\n",
      "        527.73, 7, 'DUO_SUPPORT_BOTTOM', 0.1, 0.4, 0.6, 0.67, 185.9,\n",
      "        331.4, 309.7, 378.27, 6, 'NONE_JUNGLE', 0.3, 0.5, 3.3, 3.27,\n",
      "        240.0, 307.0, 465.3, 469.73, 8, 'SOLO_MIDDLE', 7.0, 4.8, 6.6,\n",
      "        3.13, 240.6, 293.5, 363.1, 405.47, 5, 'SOLO_TOP', 7.0, 9.7, 6.4,\n",
      "        7.2, 279.8, 424.3, 383.3, 585.8, 0, 'DUO_CARRY_BOTTOM', 5.5, 7.3,\n",
      "        4.3, 5.2, 206.9, 441.3, 439.5, 301.2, 1, 'DUO_SUPPORT_BOTTOM',\n",
      "        0.6, 1.0, 5.4, 2.53, 153.1, 272.8, 498.4, 327.67, 2,\n",
      "        'NONE_JUNGLE', 0.5, 2.0, 4.1, 5.8, 276.8, 483.7, 418.2, 392.4, 4,\n",
      "        'SOLO_MIDDLE', 6.9, 7.1, 2.1, 5.53, 235.5, 358.6, 351.6, 338.6,\n",
      "        3, 'SOLO_TOP', 6.1, 7.8, 2.8, 2.93, 264.0, 350.9, 303.7, 278.73,\n",
      "        2.0, 0.6, 1.0, 1.2, 88.6, -42.8, -84.8, 226.5, -0.5, -0.6, -4.8,\n",
      "        -1.9, 32.8, 58.6, -188.7, 50.6, -0.2, -1.5, -0.8, -2.5, -36.8,\n",
      "        -176.7, 47.1, 77.3, 0.1, -2.3, 4.5, -2.4, 5.1, -65.1, 11.5, 66.9,\n",
      "        0.9, 1.9, 3.6, 4.3, 15.8, 73.4, 79.6, 307.1]], dtype=object))\n",
      "3 (1, array([1, 1, 1, 0, 1, 1]), array([[9, 'DUO_CARRY_BOTTOM', 7.5, 8.1, 6.1, 11.27, 311.1, 559.0, 360.6,\n",
      "        561.53, 5, 'DUO_SUPPORT_BOTTOM', 0.1, 0.8, 0.8, 2.07, 172.2,\n",
      "        334.8, 342.7, 366.0, 6, 'NONE_JUNGLE', 0.0, 1.1, 2.9, 0.73,\n",
      "        254.6, 336.1, 339.3, 302.53, 8, 'SOLO_MIDDLE', 8.3, 5.2, 5.1,\n",
      "        4.4, 289.3, 337.5, 353.2, 473.67, 7, 'SOLO_TOP', 4.7, 7.6, 4.6,\n",
      "        2.53, 206.2, 399.1, 313.9, 345.33, 0, 'DUO_CARRY_BOTTOM', 5.8,\n",
      "        6.2, 2.9, 4.6, 214.9, 373.9, 379.4, 488.07, 1,\n",
      "        'DUO_SUPPORT_BOTTOM', 1.0, 1.9, 1.7, 1.6, 158.4, 317.2, 341.8,\n",
      "        367.67, 4, 'NONE_JUNGLE', 0.0, 0.9, 4.0, 5.67, 281.1, 384.2,\n",
      "        501.0, 468.07, 2, 'SOLO_MIDDLE', 6.7, 5.1, 4.9, 4.67, 231.3,\n",
      "        376.9, 374.9, 440.2, 3, 'SOLO_TOP', 6.1, 5.4, 6.9, 5.07, 285.6,\n",
      "        322.1, 446.6, 395.4, 1.7, 1.9, 3.2, 6.7, 96.2, 185.1, -18.8,\n",
      "        73.5, -0.9, -1.1, -0.9, 0.5, 13.8, 17.6, 0.9, -1.7, 0.0, 0.2,\n",
      "        -1.1, -4.9, -26.5, -48.1, -161.7, -165.5, 1.6, 0.1, 0.2, -0.3,\n",
      "        58.0, -39.4, -21.7, 33.5, -1.4, 2.2, -2.3, -2.5, -79.4, 77.0,\n",
      "        -132.7, -50.1]], dtype=object))\n",
      "4 (0, array([1, 1, 1, 0, 0, 1]), array([[1, 'DUO_CARRY_BOTTOM', 4.6, 4.8, 4.1, 4.73, 269.6, 325.5, 531.4,\n",
      "        396.73, 0, 'DUO_SUPPORT_BOTTOM', 0.7, 1.5, 1.3, 2.0, 206.7,\n",
      "        374.2, 467.4, 383.07, 2, 'NONE_JUNGLE', 0.2, 2.3, 7.5, 3.13,\n",
      "        272.2, 487.9, 571.2, 380.27, 3, 'SOLO_MIDDLE', 8.1, 9.1, 1.6,\n",
      "        3.2, 319.7, 370.2, 417.6, 392.27, 4, 'SOLO_TOP', 5.5, 8.2, 7.0,\n",
      "        7.53, 210.4, 371.2, 528.6, 522.07, 7, 'DUO_CARRY_BOTTOM', 5.5,\n",
      "        6.7, 6.6, 9.27, 271.7, 364.7, 424.3, 520.73, 9,\n",
      "        'DUO_SUPPORT_BOTTOM', 0.5, 0.6, 0.2, 0.47, 188.3, 261.2, 329.0,\n",
      "        336.87, 5, 'NONE_JUNGLE', 0.4, 0.8, 3.8, 4.8, 231.5, 392.4,\n",
      "        440.1, 408.6, 8, 'SOLO_MIDDLE', 7.6, 10.4, 6.4, 7.73, 253.2,\n",
      "        396.8, 392.4, 560.47, 6, 'SOLO_TOP', 7.3, 6.6, 4.4, 4.6, 301.2,\n",
      "        342.3, 348.5, 392.33, -0.9, -1.9, -2.5, -4.5, -2.1, -39.2, 107.1,\n",
      "        -124.0, 0.2, 0.9, 1.1, 1.5, 18.4, 113.0, 138.4, 46.2, -0.2, 1.5,\n",
      "        3.7, -1.7, 40.7, 95.5, 131.1, -28.3, 0.5, -1.3, -4.8, -4.5, 66.5,\n",
      "        -26.6, 25.2, -168.2, -1.8, 1.6, 2.6, 2.9, -90.8, 28.9, 180.1,\n",
      "        129.7]], dtype=object))\n",
      "5 (1, array([1, 0, 1, 1, 1, 0]), array([[8, 'DUO_CARRY_BOTTOM', 7.8, 8.1, 5.0, 5.13, 304.5, 425.2, 478.6,\n",
      "        658.8, 5, 'DUO_SUPPORT_BOTTOM', 1.3, 1.6, 0.7, 1.73, 169.1,\n",
      "        208.0, 303.2, 461.53, 9, 'NONE_JUNGLE', 0.2, 0.2, 2.9, 1.67,\n",
      "        243.9, 261.3, 363.6, 421.13, 7, 'SOLO_MIDDLE', 6.8, 9.6, 5.6,\n",
      "        4.8, 335.0, 329.4, 474.8, 443.93, 6, 'SOLO_TOP', 4.3, 5.7, 5.4,\n",
      "        5.67, 219.3, 274.9, 430.6, 477.0, 2, 'DUO_CARRY_BOTTOM', 7.0,\n",
      "        8.2, 8.6, 6.27, 258.1, 361.4, 482.0, 450.4, 1,\n",
      "        'DUO_SUPPORT_BOTTOM', 0.0, 0.6, 0.7, 1.67, 171.6, 237.9, 366.0,\n",
      "        364.07, 0, 'NONE_JUNGLE', 0.6, 0.9, 0.3, 1.8, 276.3, 342.2,\n",
      "        369.2, 347.33, 3, 'SOLO_MIDDLE', 6.8, 8.1, 6.1, 4.87, 367.1,\n",
      "        347.9, 549.7, 434.73, 4, 'SOLO_TOP', 7.6, 7.4, 9.9, 5.6, 336.1,\n",
      "        358.4, 500.8, 410.07, 0.8, -0.1, -3.6, -1.1, 46.4, 63.8, -3.4,\n",
      "        208.4, 1.3, 1.0, 0.0, 0.1, -2.5, -29.9, -62.8, 97.5, -0.4, -0.7,\n",
      "        2.6, -0.1, -32.4, -80.9, -5.6, 73.8, 0.0, 1.5, -0.5, -0.1, -32.1,\n",
      "        -18.5, -74.9, 9.2, -3.3, -1.7, -4.5, 0.1, -116.8, -83.5, -70.2,\n",
      "        66.9]], dtype=object))\n",
      "6 (0, array([1, 1, 1, 1, 0, 0]), array([[3, 'DUO_CARRY_BOTTOM', 6.7, 8.7, 5.5, 6.05, 379.7, 485.2, 496.6,\n",
      "        509.3, 4, 'DUO_SUPPORT_BOTTOM', 1.4, 2.7, 1.4, 1.2, 256.3, 377.8,\n",
      "        385.8, 283.6, 1, 'NONE_JUNGLE', 0.5, 0.9, 1.1, 2.5, 293.5, 370.2,\n",
      "        443.0, 357.25, 0, 'SOLO_MIDDLE', 5.5, 6.3, 3.4, 4.7, 242.8,\n",
      "        368.4, 471.9, 388.3, 2, 'SOLO_TOP', 7.7, 7.3, 5.0, 2.55, 258.3,\n",
      "        397.3, 446.1, 342.4, 8, 'DUO_CARRY_BOTTOM', 4.7, 3.8, 1.0, 4.2,\n",
      "        194.5, 264.2, 266.0, 378.0, 5, 'DUO_SUPPORT_BOTTOM', 1.0, 0.0,\n",
      "        0.4, 0.3, 175.6, 318.9, 328.4, 397.7, 9, 'NONE_JUNGLE', 0.2, 0.6,\n",
      "        5.2, 6.3, 230.9, 344.9, 375.9, 410.8, 7, 'SOLO_MIDDLE', 5.4, 6.9,\n",
      "        10.8, 8.4, 215.7, 363.2, 447.4, 427.6, 6, 'SOLO_TOP', 7.1, 9.7,\n",
      "        6.6, 9.8, 261.5, 397.1, 477.4, 569.15, 2.0, 4.9, 4.5, 1.8, 185.2,\n",
      "        221.0, 230.6, 131.3, 0.4, 2.7, 1.0, 0.9, 80.7, 58.9, 57.4,\n",
      "        -114.1, 0.3, 0.3, -4.1, -3.8, 62.6, 25.3, 67.1, -53.6, 0.1, -0.6,\n",
      "        -7.4, -3.7, 27.1, 5.2, 24.5, -39.3, 0.6, -2.4, -1.6, -7.3, -3.2,\n",
      "        0.2, -31.3, -226.8]], dtype=object))\n",
      "7 (0, array([0, 0, 1, 0, 1, 0]), array([[2, 'DUO_CARRY_BOTTOM', 5.1, 4.5, 5.9, 4.53, 254.2, 378.1, 575.5,\n",
      "        491.8, 3, 'DUO_SUPPORT_BOTTOM', 0.2, 0.5, 1.5, 3.2, 191.7, 392.0,\n",
      "        385.1, 366.07, 4, 'NONE_JUNGLE', 0.3, 1.9, 2.3, 1.8, 238.7,\n",
      "        343.5, 361.9, 408.93, 0, 'SOLO_MIDDLE', 3.7, 3.8, 8.4, 3.93,\n",
      "        178.1, 326.6, 512.2, 488.67, 1, 'SOLO_TOP', 2.3, 3.4, 2.9, 1.4,\n",
      "        174.0, 274.4, 350.0, 322.33, 6, 'DUO_CARRY_BOTTOM', 4.9, 3.4,\n",
      "        3.4, 5.33, 198.7, 311.4, 447.0, 384.93, 8, 'DUO_SUPPORT_BOTTOM',\n",
      "        0.7, 1.2, 1.8, 2.6, 148.9, 259.6, 366.6, 383.2, 5, 'NONE_JUNGLE',\n",
      "        0.0, 1.2, 2.4, 2.93, 201.9, 326.1, 382.2, 400.33, 9,\n",
      "        'SOLO_MIDDLE', 3.9, 5.7, 3.0, 5.6, 231.2, 343.7, 336.0, 531.6, 7,\n",
      "        'SOLO_TOP', 5.2, 5.8, 6.8, 2.27, 327.7, 467.7, 497.9, 298.27,\n",
      "        0.2, 1.1, 2.5, -0.8, 55.5, 66.7, 128.5, 106.9, -0.5, -0.7, -0.3,\n",
      "        0.6, 42.8, 132.4, 18.5, -17.1, 0.3, 0.7, -0.1, -1.1, 36.8, 17.4,\n",
      "        -20.3, 8.6, -0.2, -1.9, 5.4, -1.7, -53.1, -17.1, 176.2, -42.9,\n",
      "        -2.9, -2.4, -3.9, -0.9, -153.7, -193.3, -147.9, 24.1]],\n",
      "      dtype=object))\n",
      "8 (1, array([0, 0, 0, 1, 0, 0]), None)\n",
      "9 (0, array([0, 0, 1, 1, 0, 0]), array([[3, 'DUO_CARRY_BOTTOM', 5.4, 3.6, 2.8, 3.25, 206.4, 263.6, 300.3,\n",
      "        448.55, 2, 'DUO_SUPPORT_BOTTOM', 1.2, 1.8, 2.4, 1.15, 138.0,\n",
      "        263.4, 327.8, 388.9, 1, 'NONE_JUNGLE', 0.4, 1.4, 2.7, 5.1, 206.8,\n",
      "        325.4, 368.3, 499.65, 0, 'SOLO_MIDDLE', 4.3, 2.8, 7.1, 5.75,\n",
      "        199.7, 314.4, 448.7, 525.0, 4, 'SOLO_TOP', 4.2, 4.4, 3.3, 2.85,\n",
      "        183.5, 372.6, 319.0, 391.75, 9, 'DUO_CARRY_BOTTOM', 4.9, 4.6,\n",
      "        6.2, 6.75, 210.3, 397.1, 481.4, 535.35, 7, 'DUO_SUPPORT_BOTTOM',\n",
      "        0.1, 0.7, 0.2, 0.35, 132.1, 306.5, 293.9, 290.05, 6,\n",
      "        'NONE_JUNGLE', 0.2, 0.9, 1.4, 3.45, 167.8, 360.9, 300.8, 383.3,\n",
      "        5, 'SOLO_MIDDLE', 5.0, 3.5, 3.0, 3.35, 245.7, 392.4, 311.3,\n",
      "        306.9, 8, 'SOLO_TOP', 3.1, 3.7, 5.9, 3.6, 161.7, 290.3, 381.9,\n",
      "        359.8, 0.5, -1.0, -3.4, -3.5, -3.9, -133.5, -181.1, -86.8, 1.1,\n",
      "        1.1, 2.2, 0.8, 5.9, -43.1, 33.9, 98.8, 0.2, 0.5, 1.3, 1.6, 39.0,\n",
      "        -35.5, 67.5, 116.3, -0.7, -0.7, 4.1, 2.4, -46.0, -78.0, 137.4,\n",
      "        218.1, 1.1, 0.7, -2.6, -0.8, 21.8, 82.3, -62.9, 31.9]],\n",
      "      dtype=object))\n"
     ]
    }
   ],
   "source": [
    "for match_id in range(10):\n",
    "    print(match_id, process_match(match_id))"
   ]
  },
  {
   "cell_type": "code",
   "execution_count": 253,
   "metadata": {},
   "outputs": [
    {
     "name": "stdout",
     "output_type": "stream",
     "text": [
      "SOLO,TOP\n",
      "DUO_CARRY,BOTTOM\n",
      "NONE,JUNGLE\n",
      "DUO_SUPPORT,BOTTOM\n",
      "SOLO,MIDDLE\n",
      "NONE,JUNGLE\n",
      "SOLO,TOP\n",
      "DUO,BOTTOM\n",
      "SOLO,MIDDLE\n",
      "DUO,BOTTOM\n"
     ]
    }
   ],
   "source": [
    "for i in range(10):\n",
    "    print(data['matches'][8]['participants'][i]['timeline']['role'],end=',')\n",
    "    print(data['matches'][8]['participants'][i]['timeline']['lane'])"
   ]
  },
  {
   "cell_type": "code",
   "execution_count": 262,
   "metadata": {},
   "outputs": [
    {
     "name": "stdout",
     "output_type": "stream",
     "text": [
      "0 0\n",
      "[1, 0, 1, 1, 0, 0]\n",
      "[1, 'DUO_CARRY_BOTTOM', 5.1, 7.0, 3.1, 8.4, 194.0, 396.4, 471.4, 562.68]\n",
      "[8, 'DUO_CARRY_BOTTOM', 6.7, 5.5, 7.4, 3.32, 316.9, 394.1, 391.6, 404.28]\n",
      "[2, 'DUO_SUPPORT_BOTTOM', 0.1, 0.9, 1.4, 1.68, 139.3, 304.1, 273.8, 390.04]\n",
      "[7, 'DUO_SUPPORT_BOTTOM', 0.1, 0.4, 1.2, 3.08, 231.3, 336.2, 376.8, 391.28]\n",
      "[3, 'NONE_JUNGLE', 1.1, 0.6, 2.7, 1.56, 286.9, 321.1, 335.1, 321.32]\n",
      "[5, 'NONE_JUNGLE', 0.4, 0.4, 0.7, 1.64, 266.2, 300.8, 377.1, 372.12]\n",
      "[4, 'SOLO_MIDDLE', 5.9, 5.9, 4.4, 4.88, 259.5, 336.7, 276.6, 406.44]\n",
      "[6, 'SOLO_MIDDLE', 6.0, 6.6, 4.5, 3.44, 253.9, 447.2, 396.2, 415.48]\n",
      "[0, 'SOLO_TOP', 5.7, 7.7, 8.0, 5.52, 287.9, 456.7, 514.4, 444.88]\n",
      "[9, 'SOLO_TOP', 3.6, 5.4, 5.0, 2.96, 208.2, 331.8, 443.3, 448.44]\n",
      "1 1\n",
      "[1, 0, 1, 1, 0, 0]\n",
      "[6, 'DUO_CARRY_BOTTOM', 4.6, 5.1, 6.9, 3.0, 222.2, 399.1, 346.9, 434.7]\n",
      "[2, 'DUO_CARRY_BOTTOM', 5.9, 5.6, 4.4, 4.9, 320.2, 321.4, 388.1, 374.5]\n",
      "[5, 'DUO_SUPPORT_BOTTOM', 0.8, 1.2, 1.1, 1.25, 147.5, 282.5, 260.3, 412.25]\n",
      "[1, 'DUO_SUPPORT_BOTTOM', 0.4, 2.7, 3.0, 5.3, 245.9, 302.1, 388.8, 475.25]\n",
      "[9, 'NONE_JUNGLE', 0.7, 0.7, 4.1, 6.55, 247.0, 394.0, 435.9, 506.6]\n",
      "[3, 'NONE_JUNGLE', 0.5, 2.0, 4.8, 3.35, 290.9, 397.3, 363.7, 362.4]\n",
      "[7, 'SOLO_MIDDLE', 4.6, 4.8, 4.1, 4.65, 211.8, 369.1, 312.7, 409.95]\n",
      "[4, 'SOLO_MIDDLE', 6.5, 3.5, 4.8, 4.8, 283.3, 395.7, 342.6, 487.0]\n",
      "[8, 'SOLO_TOP', 6.1, 9.0, 4.2, 3.0, 262.8, 549.0, 520.7, 576.55]\n",
      "[0, 'SOLO_TOP', 5.0, 7.0, 3.3, 3.95, 248.1, 361.5, 304.1, 399.2]\n",
      "2 1\n",
      "[1, 0, 1, 1, 0, 0]\n",
      "[9, 'DUO_CARRY_BOTTOM', 7.5, 7.9, 5.3, 6.4, 295.5, 398.5, 354.7, 527.73]\n",
      "[0, 'DUO_CARRY_BOTTOM', 5.5, 7.3, 4.3, 5.2, 206.9, 441.3, 439.5, 301.2]\n",
      "[7, 'DUO_SUPPORT_BOTTOM', 0.1, 0.4, 0.6, 0.67, 185.9, 331.4, 309.7, 378.27]\n",
      "[1, 'DUO_SUPPORT_BOTTOM', 0.6, 1.0, 5.4, 2.53, 153.1, 272.8, 498.4, 327.67]\n",
      "[6, 'NONE_JUNGLE', 0.3, 0.5, 3.3, 3.27, 240.0, 307.0, 465.3, 469.73]\n",
      "[2, 'NONE_JUNGLE', 0.5, 2.0, 4.1, 5.8, 276.8, 483.7, 418.2, 392.4]\n",
      "[8, 'SOLO_MIDDLE', 7.0, 4.8, 6.6, 3.13, 240.6, 293.5, 363.1, 405.47]\n",
      "[4, 'SOLO_MIDDLE', 6.9, 7.1, 2.1, 5.53, 235.5, 358.6, 351.6, 338.6]\n",
      "[5, 'SOLO_TOP', 7.0, 9.7, 6.4, 7.2, 279.8, 424.3, 383.3, 585.8]\n",
      "[3, 'SOLO_TOP', 6.1, 7.8, 2.8, 2.93, 264.0, 350.9, 303.7, 278.73]\n",
      "3 1\n",
      "[1, 0, 1, 1, 0, 0]\n",
      "[9, 'DUO_CARRY_BOTTOM', 7.5, 8.1, 6.1, 11.27, 311.1, 559.0, 360.6, 561.53]\n",
      "[0, 'DUO_CARRY_BOTTOM', 5.8, 6.2, 2.9, 4.6, 214.9, 373.9, 379.4, 488.07]\n",
      "[5, 'DUO_SUPPORT_BOTTOM', 0.1, 0.8, 0.8, 2.07, 172.2, 334.8, 342.7, 366.0]\n",
      "[1, 'DUO_SUPPORT_BOTTOM', 1.0, 1.9, 1.7, 1.6, 158.4, 317.2, 341.8, 367.67]\n",
      "[6, 'NONE_JUNGLE', 0.0, 1.1, 2.9, 0.73, 254.6, 336.1, 339.3, 302.53]\n",
      "[4, 'NONE_JUNGLE', 0.0, 0.9, 4.0, 5.67, 281.1, 384.2, 501.0, 468.07]\n",
      "[8, 'SOLO_MIDDLE', 8.3, 5.2, 5.1, 4.4, 289.3, 337.5, 353.2, 473.67]\n",
      "[2, 'SOLO_MIDDLE', 6.7, 5.1, 4.9, 4.67, 231.3, 376.9, 374.9, 440.2]\n",
      "[7, 'SOLO_TOP', 4.7, 7.6, 4.6, 2.53, 206.2, 399.1, 313.9, 345.33]\n",
      "[3, 'SOLO_TOP', 6.1, 5.4, 6.9, 5.07, 285.6, 322.1, 446.6, 395.4]\n",
      "4 0\n",
      "[1, 0, 1, 1, 0, 0]\n",
      "[1, 'DUO_CARRY_BOTTOM', 4.6, 4.8, 4.1, 4.73, 269.6, 325.5, 531.4, 396.73]\n",
      "[7, 'DUO_CARRY_BOTTOM', 5.5, 6.7, 6.6, 9.27, 271.7, 364.7, 424.3, 520.73]\n",
      "[0, 'DUO_SUPPORT_BOTTOM', 0.7, 1.5, 1.3, 2.0, 206.7, 374.2, 467.4, 383.07]\n",
      "[9, 'DUO_SUPPORT_BOTTOM', 0.5, 0.6, 0.2, 0.47, 188.3, 261.2, 329.0, 336.87]\n",
      "[2, 'NONE_JUNGLE', 0.2, 2.3, 7.5, 3.13, 272.2, 487.9, 571.2, 380.27]\n",
      "[5, 'NONE_JUNGLE', 0.4, 0.8, 3.8, 4.8, 231.5, 392.4, 440.1, 408.6]\n",
      "[3, 'SOLO_MIDDLE', 8.1, 9.1, 1.6, 3.2, 319.7, 370.2, 417.6, 392.27]\n",
      "[8, 'SOLO_MIDDLE', 7.6, 10.4, 6.4, 7.73, 253.2, 396.8, 392.4, 560.47]\n",
      "[4, 'SOLO_TOP', 5.5, 8.2, 7.0, 7.53, 210.4, 371.2, 528.6, 522.07]\n",
      "[6, 'SOLO_TOP', 7.3, 6.6, 4.4, 4.6, 301.2, 342.3, 348.5, 392.33]\n",
      "5 1\n",
      "[1, 0, 1, 1, 0, 0]\n",
      "[8, 'DUO_CARRY_BOTTOM', 7.8, 8.1, 5.0, 5.13, 304.5, 425.2, 478.6, 658.8]\n",
      "[2, 'DUO_CARRY_BOTTOM', 7.0, 8.2, 8.6, 6.27, 258.1, 361.4, 482.0, 450.4]\n",
      "[5, 'DUO_SUPPORT_BOTTOM', 1.3, 1.6, 0.7, 1.73, 169.1, 208.0, 303.2, 461.53]\n",
      "[1, 'DUO_SUPPORT_BOTTOM', 0.0, 0.6, 0.7, 1.67, 171.6, 237.9, 366.0, 364.07]\n",
      "[9, 'NONE_JUNGLE', 0.2, 0.2, 2.9, 1.67, 243.9, 261.3, 363.6, 421.13]\n",
      "[0, 'NONE_JUNGLE', 0.6, 0.9, 0.3, 1.8, 276.3, 342.2, 369.2, 347.33]\n",
      "[7, 'SOLO_MIDDLE', 6.8, 9.6, 5.6, 4.8, 335.0, 329.4, 474.8, 443.93]\n",
      "[3, 'SOLO_MIDDLE', 6.8, 8.1, 6.1, 4.87, 367.1, 347.9, 549.7, 434.73]\n",
      "[6, 'SOLO_TOP', 4.3, 5.7, 5.4, 5.67, 219.3, 274.9, 430.6, 477.0]\n",
      "[4, 'SOLO_TOP', 7.6, 7.4, 9.9, 5.6, 336.1, 358.4, 500.8, 410.07]\n",
      "6 0\n",
      "[1, 0, 1, 1, 0, 0]\n",
      "[3, 'DUO_CARRY_BOTTOM', 6.7, 8.7, 5.5, 6.05, 379.7, 485.2, 496.6, 509.3]\n",
      "[8, 'DUO_CARRY_BOTTOM', 4.7, 3.8, 1.0, 4.2, 194.5, 264.2, 266.0, 378.0]\n",
      "[4, 'DUO_SUPPORT_BOTTOM', 1.4, 2.7, 1.4, 1.2, 256.3, 377.8, 385.8, 283.6]\n",
      "[5, 'DUO_SUPPORT_BOTTOM', 1.0, 0.0, 0.4, 0.3, 175.6, 318.9, 328.4, 397.7]\n",
      "[1, 'NONE_JUNGLE', 0.5, 0.9, 1.1, 2.5, 293.5, 370.2, 443.0, 357.25]\n",
      "[9, 'NONE_JUNGLE', 0.2, 0.6, 5.2, 6.3, 230.9, 344.9, 375.9, 410.8]\n",
      "[0, 'SOLO_MIDDLE', 5.5, 6.3, 3.4, 4.7, 242.8, 368.4, 471.9, 388.3]\n",
      "[7, 'SOLO_MIDDLE', 5.4, 6.9, 10.8, 8.4, 215.7, 363.2, 447.4, 427.6]\n",
      "[2, 'SOLO_TOP', 7.7, 7.3, 5.0, 2.55, 258.3, 397.3, 446.1, 342.4]\n",
      "[6, 'SOLO_TOP', 7.1, 9.7, 6.6, 9.8, 261.5, 397.1, 477.4, 569.15]\n",
      "7 0\n",
      "[1, 0, 1, 1, 0, 0]\n",
      "[2, 'DUO_CARRY_BOTTOM', 5.1, 4.5, 5.9, 4.53, 254.2, 378.1, 575.5, 491.8]\n",
      "[6, 'DUO_CARRY_BOTTOM', 4.9, 3.4, 3.4, 5.33, 198.7, 311.4, 447.0, 384.93]\n",
      "[3, 'DUO_SUPPORT_BOTTOM', 0.2, 0.5, 1.5, 3.2, 191.7, 392.0, 385.1, 366.07]\n",
      "[8, 'DUO_SUPPORT_BOTTOM', 0.7, 1.2, 1.8, 2.6, 148.9, 259.6, 366.6, 383.2]\n",
      "[4, 'NONE_JUNGLE', 0.3, 1.9, 2.3, 1.8, 238.7, 343.5, 361.9, 408.93]\n",
      "[5, 'NONE_JUNGLE', 0.0, 1.2, 2.4, 2.93, 201.9, 326.1, 382.2, 400.33]\n",
      "[0, 'SOLO_MIDDLE', 3.7, 3.8, 8.4, 3.93, 178.1, 326.6, 512.2, 488.67]\n",
      "[9, 'SOLO_MIDDLE', 3.9, 5.7, 3.0, 5.6, 231.2, 343.7, 336.0, 531.6]\n",
      "[1, 'SOLO_TOP', 2.3, 3.4, 2.9, 1.4, 174.0, 274.4, 350.0, 322.33]\n",
      "[7, 'SOLO_TOP', 5.2, 5.8, 6.8, 2.27, 327.7, 467.7, 497.9, 298.27]\n",
      "9 0\n",
      "[1, 0, 1, 1, 0, 0]\n",
      "[3, 'DUO_CARRY_BOTTOM', 5.4, 3.6, 2.8, 3.25, 206.4, 263.6, 300.3, 448.55]\n",
      "[9, 'DUO_CARRY_BOTTOM', 4.9, 4.6, 6.2, 6.75, 210.3, 397.1, 481.4, 535.35]\n",
      "[2, 'DUO_SUPPORT_BOTTOM', 1.2, 1.8, 2.4, 1.15, 138.0, 263.4, 327.8, 388.9]\n",
      "[7, 'DUO_SUPPORT_BOTTOM', 0.1, 0.7, 0.2, 0.35, 132.1, 306.5, 293.9, 290.05]\n",
      "[1, 'NONE_JUNGLE', 0.4, 1.4, 2.7, 5.1, 206.8, 325.4, 368.3, 499.65]\n",
      "[6, 'NONE_JUNGLE', 0.2, 0.9, 1.4, 3.45, 167.8, 360.9, 300.8, 383.3]\n",
      "[0, 'SOLO_MIDDLE', 4.3, 2.8, 7.1, 5.75, 199.7, 314.4, 448.7, 525.0]\n",
      "[5, 'SOLO_MIDDLE', 5.0, 3.5, 3.0, 3.35, 245.7, 392.4, 311.3, 306.9]\n",
      "[4, 'SOLO_TOP', 4.2, 4.4, 3.3, 2.85, 183.5, 372.6, 319.0, 391.75]\n",
      "[8, 'SOLO_TOP', 3.1, 3.7, 5.9, 3.6, 161.7, 290.3, 381.9, 359.8]\n"
     ]
    }
   ],
   "source": [
    "\n",
    "\n",
    "\n",
    "    \n",
    "for match_id in range(10):\n",
    "    winner = get_winner(match_id)\n",
    "\n",
    "    team_data = get_team_data(match_id, winner)\n",
    "\n",
    "    participant_data = get_participant_data(match_id, winner)\n",
    "    if participant_data == None: continue\n",
    "    print(match_id, winner)\n",
    "    print(team_dat)\n",
    "    for x in participant_data:\n",
    "        print(x)\n",
    "    \n",
    "\n",
    "#    print(match_id, role_lanes)\n",
    "\n"
   ]
  },
  {
   "cell_type": "code",
   "execution_count": 236,
   "metadata": {},
   "outputs": [
    {
     "data": {
      "text/plain": [
       "[[4.6, 4.8, 4.1, 4.73, 269.6, 325.5, 531.4, 396.73],\n",
       " [5.5, 6.7, 6.6, 9.27, 271.7, 364.7, 424.3, 520.73],\n",
       " [0.7, 1.5, 1.3, 2.0, 206.7, 374.2, 467.4, 383.07],\n",
       " [0.5, 0.6, 0.2, 0.47, 188.3, 261.2, 329.0, 336.87],\n",
       " [0.2, 2.3, 7.5, 3.13, 272.2, 487.9, 571.2, 380.27],\n",
       " [0.4, 0.8, 3.8, 4.8, 231.5, 392.4, 440.1, 408.6],\n",
       " [8.1, 9.1, 1.6, 3.2, 319.7, 370.2, 417.6, 392.27],\n",
       " [7.6, 10.4, 6.4, 7.73, 253.2, 396.8, 392.4, 560.47],\n",
       " [5.5, 8.2, 7.0, 7.53, 210.4, 371.2, 528.6, 522.07],\n",
       " [7.3, 6.6, 4.4, 4.6, 301.2, 342.3, 348.5, 392.33]]"
      ]
     },
     "execution_count": 236,
     "metadata": {},
     "output_type": "execute_result"
    }
   ],
   "source": [
    "participant_data"
   ]
  },
  {
   "cell_type": "code",
   "execution_count": 190,
   "metadata": {},
   "outputs": [
    {
     "name": "stdout",
     "output_type": "stream",
     "text": [
      "[[5.7000e+00 7.7000e+00 8.0000e+00 5.5200e+00 2.8790e+02 4.5670e+02\n",
      "  5.1440e+02 4.4488e+02]\n",
      " [5.1000e+00 7.0000e+00 3.1000e+00 8.4000e+00 1.9400e+02 3.9640e+02\n",
      "  4.7140e+02 5.6268e+02]\n",
      " [1.0000e-01 9.0000e-01 1.4000e+00 1.6800e+00 1.3930e+02 3.0410e+02\n",
      "  2.7380e+02 3.9004e+02]\n",
      " [1.1000e+00 6.0000e-01 2.7000e+00 1.5600e+00 2.8690e+02 3.2110e+02\n",
      "  3.3510e+02 3.2132e+02]\n",
      " [5.9000e+00 5.9000e+00 4.4000e+00 4.8800e+00 2.5950e+02 3.3670e+02\n",
      "  2.7660e+02 4.0644e+02]\n",
      " [4.0000e-01 4.0000e-01 7.0000e-01 1.6400e+00 2.6620e+02 3.0080e+02\n",
      "  3.7710e+02 3.7212e+02]\n",
      " [6.0000e+00 6.6000e+00 4.5000e+00 3.4400e+00 2.5390e+02 4.4720e+02\n",
      "  3.9620e+02 4.1548e+02]\n",
      " [1.0000e-01 4.0000e-01 1.2000e+00 3.0800e+00 2.3130e+02 3.3620e+02\n",
      "  3.7680e+02 3.9128e+02]\n",
      " [6.7000e+00 5.5000e+00 7.4000e+00 3.3200e+00 3.1690e+02 3.9410e+02\n",
      "  3.9160e+02 4.0428e+02]\n",
      " [3.6000e+00 5.4000e+00 5.0000e+00 2.9600e+00 2.0820e+02 3.3180e+02\n",
      "  4.4330e+02 4.4844e+02]]\n",
      "DUO_CARRY_BOTTOM_creepsPerMinDeltas_0-10\n",
      "DUO_CARRY_BOTTOM_creepsPerMinDeltas_10-20\n",
      "DUO_CARRY_BOTTOM_creepsPerMinDeltas_20-30\n",
      "DUO_CARRY_BOTTOM_creepsPerMinDeltas_30-end\n",
      "DUO_CARRY_BOTTOM_goldPerMinDeltas_0-10\n",
      "DUO_CARRY_BOTTOM_goldPerMinDeltas_10-20\n",
      "DUO_CARRY_BOTTOM_goldPerMinDeltas_20-30\n",
      "DUO_CARRY_BOTTOM_goldPerMinDeltas_30-end\n",
      "DUO_SUPPORT_BOTTOM_creepsPerMinDeltas_0-10\n",
      "DUO_SUPPORT_BOTTOM_creepsPerMinDeltas_10-20\n",
      "DUO_SUPPORT_BOTTOM_creepsPerMinDeltas_20-30\n",
      "DUO_SUPPORT_BOTTOM_creepsPerMinDeltas_30-end\n",
      "DUO_SUPPORT_BOTTOM_goldPerMinDeltas_0-10\n",
      "DUO_SUPPORT_BOTTOM_goldPerMinDeltas_10-20\n",
      "DUO_SUPPORT_BOTTOM_goldPerMinDeltas_20-30\n",
      "DUO_SUPPORT_BOTTOM_goldPerMinDeltas_30-end\n",
      "NONE_JUNGLE_creepsPerMinDeltas_0-10\n",
      "NONE_JUNGLE_creepsPerMinDeltas_10-20\n",
      "NONE_JUNGLE_creepsPerMinDeltas_20-30\n",
      "NONE_JUNGLE_creepsPerMinDeltas_30-end\n",
      "NONE_JUNGLE_goldPerMinDeltas_0-10\n",
      "NONE_JUNGLE_goldPerMinDeltas_10-20\n",
      "NONE_JUNGLE_goldPerMinDeltas_20-30\n",
      "NONE_JUNGLE_goldPerMinDeltas_30-end\n",
      "SOLO_MIDDLE_creepsPerMinDeltas_0-10\n",
      "SOLO_MIDDLE_creepsPerMinDeltas_10-20\n",
      "SOLO_MIDDLE_creepsPerMinDeltas_20-30\n",
      "SOLO_MIDDLE_creepsPerMinDeltas_30-end\n",
      "SOLO_MIDDLE_goldPerMinDeltas_0-10\n",
      "SOLO_MIDDLE_goldPerMinDeltas_10-20\n",
      "SOLO_MIDDLE_goldPerMinDeltas_20-30\n",
      "SOLO_MIDDLE_goldPerMinDeltas_30-end\n",
      "SOLO_TOP_creepsPerMinDeltas_0-10\n",
      "SOLO_TOP_creepsPerMinDeltas_10-20\n",
      "SOLO_TOP_creepsPerMinDeltas_20-30\n",
      "SOLO_TOP_creepsPerMinDeltas_30-end\n",
      "SOLO_TOP_goldPerMinDeltas_0-10\n",
      "SOLO_TOP_goldPerMinDeltas_10-20\n",
      "SOLO_TOP_goldPerMinDeltas_20-30\n",
      "SOLO_TOP_goldPerMinDeltas_30-end\n"
     ]
    }
   ],
   "source": [
    "# first put winner, then loser\n",
    "# write function to gather data from participant_id\n",
    "\n",
    "def get_participant_data(match_id, participant_id):\n",
    "    dat = []\n",
    "    for v in solo_vars:\n",
    "        for t in time_deltas:\n",
    "            cur_dat = np.round(data['matches'][match_id]['participants'][participant_id]['timeline'][v][t],2)\n",
    "            dat.append(cur_dat)\n",
    "    return dat\n",
    "        \n",
    "dat = []\n",
    "for participant_id in range(10):\n",
    "    dat.append(get_participant_data(match_id, participant_id))\n",
    "dat = np.array(dat)\n",
    "print(dat)\n",
    "\n",
    "role_participant_ids = np.array([role_lanes[role_lane] for role_lane in unique_role_lanes])\n",
    "\n",
    "combined_labels = []\n",
    "for i, role_id in enumerate(role_participant_ids):\n",
    "    for label in dat_labels:\n",
    "        cur_label = unique_role_lanes[i] + '_' + label\n",
    "        print(cur_label)"
   ]
  },
  {
   "cell_type": "code",
   "execution_count": 308,
   "metadata": {},
   "outputs": [
    {
     "name": "stdout",
     "output_type": "stream",
     "text": [
      "[1, 0]\n"
     ]
    }
   ],
   "source": [
    "winner = 1\n",
    "print([(x+winner)%2 for x in range(2)])"
   ]
  },
  {
   "cell_type": "code",
   "execution_count": 272,
   "metadata": {
    "scrolled": true
   },
   "outputs": [
    {
     "data": {
      "text/plain": [
       "[9, 7, 6, 5, 8, 3, 2, 1, 0, 4]"
      ]
     },
     "execution_count": 272,
     "metadata": {},
     "output_type": "execute_result"
    }
   ],
   "source": [
    "get_role_lane_order(role_lanes, unique_role_lanes, winner)"
   ]
  },
  {
   "cell_type": "code",
   "execution_count": null,
   "metadata": {},
   "outputs": [],
   "source": []
  }
 ],
 "metadata": {
  "kernelspec": {
   "display_name": "Python 3",
   "language": "python",
   "name": "python3"
  },
  "language_info": {
   "codemirror_mode": {
    "name": "ipython",
    "version": 3
   },
   "file_extension": ".py",
   "mimetype": "text/x-python",
   "name": "python",
   "nbconvert_exporter": "python",
   "pygments_lexer": "ipython3",
   "version": "3.6.5"
  }
 },
 "nbformat": 4,
 "nbformat_minor": 2
}
