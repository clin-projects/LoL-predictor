{
 "cells": [
  {
   "cell_type": "code",
   "execution_count": 119,
   "metadata": {},
   "outputs": [],
   "source": [
    "api_key = 'RGAPI-81fa66af-c6ae-4f82-baec-4865252dec09'"
   ]
  },
  {
   "cell_type": "code",
   "execution_count": 120,
   "metadata": {},
   "outputs": [],
   "source": [
    "# use riotwatcher (https://github.com/pseudonym117/Riot-Watcher)\n",
    "\n",
    "from riotwatcher import RiotWatcher\n",
    "import numpy as np\n",
    "import time\n",
    "import json\n",
    "\n",
    "watcher = RiotWatcher(api_key)\n",
    "\n",
    "my_region = 'na1'"
   ]
  },
  {
   "cell_type": "code",
   "execution_count": 75,
   "metadata": {},
   "outputs": [],
   "source": [
    "from progressbar import AnimatedMarker, Bar, BouncingBar, Counter, ETA, \\\n",
    "    AdaptiveETA, FileTransferSpeed, FormatLabel, Percentage, \\\n",
    "    ProgressBar, ReverseBar, RotatingMarker, \\\n",
    "    SimpleProgress, Timer, UnknownLength\n",
    "    \n",
    "def show_progress_bar(display_string, total_duration, num_increments):\n",
    "    widgets = [display_string, Percentage(), ' ', Bar(),\n",
    "               ' ', ETA()]\n",
    "    pbar = ProgressBar(widgets=widgets, maxval=num_increments).start()\n",
    "    time_increment = total_duration / num_increments\n",
    "    s = time.time()\n",
    "    for i in range(num_increments):\n",
    "        time.sleep(time_increment)\n",
    "        pbar.update(i+1)\n",
    "    pbar.finish()\n",
    "    e = time.time()\n",
    "    print(e-s, 'seconds elapsed')"
   ]
  },
  {
   "cell_type": "code",
   "execution_count": 99,
   "metadata": {},
   "outputs": [],
   "source": [
    "account_id_list = [233246710, 233033899, 203021036, 203021036, 32236961, 35196312, 233871907, 41897392, 44777402, 33773329, 200950816]"
   ]
  },
  {
   "cell_type": "code",
   "execution_count": 100,
   "metadata": {},
   "outputs": [
    {
     "name": "stdout",
     "output_type": "stream",
     "text": [
      "Current account: 233246710\n"
     ]
    },
    {
     "name": "stderr",
     "output_type": "stream",
     "text": [
      "Finished 233246710. Waiting for API timer to reset: 100% |######| Time: 0:01:33\n"
     ]
    },
    {
     "name": "stdout",
     "output_type": "stream",
     "text": [
      "93.68418717384338 seconds elapsed\n",
      "Current account: 233033899\n"
     ]
    },
    {
     "name": "stderr",
     "output_type": "stream",
     "text": [
      "Finished 233033899. Waiting for API timer to reset: 100% |######| Time: 0:01:33\n"
     ]
    },
    {
     "name": "stdout",
     "output_type": "stream",
     "text": [
      "93.23031187057495 seconds elapsed\n",
      "Current account: 203021036\n"
     ]
    },
    {
     "name": "stderr",
     "output_type": "stream",
     "text": [
      "Finished 203021036. Waiting for API timer to reset: 100% |######| Time: 0:01:19\n"
     ]
    },
    {
     "name": "stdout",
     "output_type": "stream",
     "text": [
      "79.2504870891571 seconds elapsed\n",
      "Current account: 203021036\n"
     ]
    },
    {
     "name": "stderr",
     "output_type": "stream",
     "text": [
      "Finished 203021036. Waiting for API timer to reset: 100% |######| Time: 0:01:28\n"
     ]
    },
    {
     "name": "stdout",
     "output_type": "stream",
     "text": [
      "88.65419507026672 seconds elapsed\n",
      "Current account: 32236961\n"
     ]
    },
    {
     "name": "stderr",
     "output_type": "stream",
     "text": [
      "Finished 32236961. Waiting for API timer to reset:  44% |###    | ETA:  0:00:51\r"
     ]
    },
    {
     "ename": "KeyboardInterrupt",
     "evalue": "",
     "output_type": "error",
     "traceback": [
      "\u001b[0;31m---------------------------------------------------------------------------\u001b[0m",
      "\u001b[0;31mKeyboardInterrupt\u001b[0m                         Traceback (most recent call last)",
      "\u001b[0;32m<ipython-input-100-7dac5e6438f1>\u001b[0m in \u001b[0;36m<module>\u001b[0;34m()\u001b[0m\n\u001b[1;32m     24\u001b[0m     \u001b[0mt\u001b[0m \u001b[0;34m=\u001b[0m \u001b[0mmax_time\u001b[0m \u001b[0;34m-\u001b[0m \u001b[0;34m(\u001b[0m\u001b[0me\u001b[0m\u001b[0;34m-\u001b[0m\u001b[0ms\u001b[0m\u001b[0;34m)\u001b[0m\u001b[0;34m\u001b[0m\u001b[0m\n\u001b[1;32m     25\u001b[0m     \u001b[0mdisplay_string\u001b[0m \u001b[0;34m=\u001b[0m \u001b[0;34m'Finished '\u001b[0m \u001b[0;34m+\u001b[0m \u001b[0mstr\u001b[0m\u001b[0;34m(\u001b[0m\u001b[0maccount_id\u001b[0m\u001b[0;34m)\u001b[0m \u001b[0;34m+\u001b[0m \u001b[0;34m'. Waiting for API timer to reset: '\u001b[0m\u001b[0;34m\u001b[0m\u001b[0m\n\u001b[0;32m---> 26\u001b[0;31m     \u001b[0mshow_progress_bar\u001b[0m\u001b[0;34m(\u001b[0m\u001b[0mdisplay_string\u001b[0m\u001b[0;34m,\u001b[0m \u001b[0mtotal_duration\u001b[0m\u001b[0;34m=\u001b[0m\u001b[0mt\u001b[0m\u001b[0;34m,\u001b[0m \u001b[0mnum_increments\u001b[0m\u001b[0;34m=\u001b[0m\u001b[0;36m100\u001b[0m\u001b[0;34m)\u001b[0m\u001b[0;34m\u001b[0m\u001b[0m\n\u001b[0m",
      "\u001b[0;32m<ipython-input-75-0f3844272554>\u001b[0m in \u001b[0;36mshow_progress_bar\u001b[0;34m(display_string, total_duration, num_increments)\u001b[0m\n\u001b[1;32m      8\u001b[0m     \u001b[0ms\u001b[0m \u001b[0;34m=\u001b[0m \u001b[0mtime\u001b[0m\u001b[0;34m.\u001b[0m\u001b[0mtime\u001b[0m\u001b[0;34m(\u001b[0m\u001b[0;34m)\u001b[0m\u001b[0;34m\u001b[0m\u001b[0m\n\u001b[1;32m      9\u001b[0m     \u001b[0;32mfor\u001b[0m \u001b[0mi\u001b[0m \u001b[0;32min\u001b[0m \u001b[0mrange\u001b[0m\u001b[0;34m(\u001b[0m\u001b[0mnum_increments\u001b[0m\u001b[0;34m)\u001b[0m\u001b[0;34m:\u001b[0m\u001b[0;34m\u001b[0m\u001b[0m\n\u001b[0;32m---> 10\u001b[0;31m         \u001b[0mtime\u001b[0m\u001b[0;34m.\u001b[0m\u001b[0msleep\u001b[0m\u001b[0;34m(\u001b[0m\u001b[0mtime_increment\u001b[0m\u001b[0;34m)\u001b[0m\u001b[0;34m\u001b[0m\u001b[0m\n\u001b[0m\u001b[1;32m     11\u001b[0m         \u001b[0mpbar\u001b[0m\u001b[0;34m.\u001b[0m\u001b[0mupdate\u001b[0m\u001b[0;34m(\u001b[0m\u001b[0mi\u001b[0m\u001b[0;34m+\u001b[0m\u001b[0;36m1\u001b[0m\u001b[0;34m)\u001b[0m\u001b[0;34m\u001b[0m\u001b[0m\n\u001b[1;32m     12\u001b[0m     \u001b[0mpbar\u001b[0m\u001b[0;34m.\u001b[0m\u001b[0mfinish\u001b[0m\u001b[0;34m(\u001b[0m\u001b[0;34m)\u001b[0m\u001b[0;34m\u001b[0m\u001b[0m\n",
      "\u001b[0;31mKeyboardInterrupt\u001b[0m: "
     ]
    }
   ],
   "source": [
    "max_time = 120\n",
    "\n",
    "for account_id in account_id_list:\n",
    "    s = time.time()\n",
    "    print('Current account:', str(account_id))\n",
    "    try:\n",
    "        matches = watcher.match.matchlist_by_account(my_region, account_id = account_id)\n",
    "    except:\n",
    "        print('error')\n",
    "        continue\n",
    "    for i, cur_match in enumerate(matches['matches'][:-1]):\n",
    "        cur_match_id = cur_match['gameId']\n",
    "        try:\n",
    "            match = watcher.match.by_id(my_region, match_id = cur_match_id)\n",
    "            fout = './dat/match_' + str(cur_match_id) + '.json'\n",
    "            #print(i, cur_match_id, fout)\n",
    "            with open(fout, 'w') as fp:\n",
    "                json.dump(match, fp)\n",
    "        except Exception as ex:\n",
    "            print(ex)\n",
    "            print(i, cur_match_id, 'issue')\n",
    "            continue\n",
    "    e = time.time()\n",
    "    t = max_time - (e-s)\n",
    "    display_string = 'Finished ' + str(account_id) + '. Waiting for API timer to reset: '\n",
    "    show_progress_bar(display_string, total_duration=t, num_increments=100)"
   ]
  },
  {
   "cell_type": "code",
   "execution_count": null,
   "metadata": {},
   "outputs": [],
   "source": [
    "#matches = watcher.match.matchlist_by_account(my_region, account_id = summoner_id['accountId'])"
   ]
  },
  {
   "cell_type": "code",
   "execution_count": 74,
   "metadata": {},
   "outputs": [
    {
     "name": "stderr",
     "output_type": "stream",
     "text": [
      "Waiting for API clock to reset: 100% |##########################| Time: 0:00:05\r"
     ]
    },
    {
     "name": "stdout",
     "output_type": "stream",
     "text": [
      "5.448493003845215 seconds elapsed\n"
     ]
    },
    {
     "name": "stderr",
     "output_type": "stream",
     "text": [
      "\n"
     ]
    }
   ],
   "source": [
    "show_progress_bar(total_duration=5, num_increments=100)"
   ]
  },
  {
   "cell_type": "code",
   "execution_count": 115,
   "metadata": {},
   "outputs": [
    {
     "name": "stdout",
     "output_type": "stream",
     "text": [
      "11\n",
      "11\n",
      "11\n",
      "11\n",
      "11\n",
      "11\n",
      "11\n",
      "11\n",
      "11\n",
      "11\n",
      "11\n",
      "11\n",
      "11\n",
      "11\n",
      "11\n",
      "11\n",
      "11\n",
      "11\n",
      "11\n",
      "11\n",
      "11\n",
      "11\n",
      "11\n",
      "11\n",
      "11\n",
      "11\n",
      "11\n",
      "11\n",
      "11\n",
      "11\n",
      "11\n",
      "11\n",
      "11\n",
      "11\n",
      "11\n",
      "11\n",
      "11\n",
      "11\n",
      "11\n",
      "11\n",
      "11\n",
      "11\n",
      "11\n",
      "11\n",
      "11\n",
      "11\n",
      "11\n",
      "11\n",
      "11\n",
      "11\n",
      "11\n",
      "11\n",
      "11\n",
      "11\n",
      "11\n",
      "11\n",
      "11\n",
      "11\n",
      "11\n",
      "11\n",
      "11\n",
      "11\n",
      "11\n",
      "11\n",
      "11\n",
      "11\n",
      "11\n",
      "11\n",
      "11\n",
      "11\n",
      "11\n",
      "11\n",
      "11\n",
      "11\n",
      "11\n",
      "11\n",
      "11\n",
      "11\n",
      "11\n",
      "11\n",
      "11\n",
      "11\n",
      "11\n",
      "11\n",
      "11\n",
      "11\n",
      "11\n",
      "11\n",
      "11\n",
      "11\n",
      "11\n",
      "11\n",
      "11\n",
      "11\n",
      "11\n",
      "11\n",
      "11\n",
      "11\n",
      "11\n"
     ]
    }
   ],
   "source": [
    "for i, cur_match in enumerate(matches['matches'][:-1]):\n",
    "    print(cur_match['season'])"
   ]
  },
  {
   "cell_type": "code",
   "execution_count": 124,
   "metadata": {},
   "outputs": [],
   "source": [
    "match = watcher.match.timeline_by_match(my_region, match_id = 2831763541)"
   ]
  },
  {
   "cell_type": "code",
   "execution_count": 127,
   "metadata": {},
   "outputs": [
    {
     "data": {
      "text/plain": [
       "dict_keys(['frames', 'frameInterval'])"
      ]
     },
     "execution_count": 127,
     "metadata": {},
     "output_type": "execute_result"
    }
   ],
   "source": [
    "match.keys()"
   ]
  },
  {
   "cell_type": "code",
   "execution_count": 129,
   "metadata": {},
   "outputs": [
    {
     "data": {
      "text/plain": [
       "60000"
      ]
     },
     "execution_count": 129,
     "metadata": {},
     "output_type": "execute_result"
    }
   ],
   "source": [
    "match['frameInterval']"
   ]
  },
  {
   "cell_type": "code",
   "execution_count": 133,
   "metadata": {},
   "outputs": [
    {
     "data": {
      "text/plain": [
       "dict_keys(['participantFrames', 'events', 'timestamp'])"
      ]
     },
     "execution_count": 133,
     "metadata": {},
     "output_type": "execute_result"
    }
   ],
   "source": [
    "match['frames'][0].keys()"
   ]
  },
  {
   "cell_type": "code",
   "execution_count": 144,
   "metadata": {},
   "outputs": [
    {
     "data": {
      "text/plain": [
       "2.00015"
      ]
     },
     "execution_count": 144,
     "metadata": {},
     "output_type": "execute_result"
    }
   ],
   "source": [
    "match['frames'][2]['timestamp']/60/1000\n",
    "# note that each frame is one minute"
   ]
  },
  {
   "cell_type": "code",
   "execution_count": 155,
   "metadata": {},
   "outputs": [
    {
     "data": {
      "text/plain": [
       "dict_keys(['participantId', 'position', 'currentGold', 'totalGold', 'level', 'xp', 'minionsKilled', 'jungleMinionsKilled', 'dominionScore', 'teamScore'])"
      ]
     },
     "execution_count": 155,
     "metadata": {},
     "output_type": "execute_result"
    }
   ],
   "source": [
    "match['frames'][2]['participantFrames']['1'].keys()"
   ]
  },
  {
   "cell_type": "code",
   "execution_count": 210,
   "metadata": {},
   "outputs": [
    {
     "data": {
      "text/plain": [
       "{'participantId': 1,\n",
       " 'currentGold': 718,\n",
       " 'totalGold': 15993,\n",
       " 'level': 16,\n",
       " 'xp': 16293,\n",
       " 'minionsKilled': 232,\n",
       " 'jungleMinionsKilled': 12}"
      ]
     },
     "execution_count": 210,
     "metadata": {},
     "output_type": "execute_result"
    }
   ],
   "source": [
    "match['frames'][-1]['participantFrames']['1']"
   ]
  },
  {
   "cell_type": "code",
   "execution_count": 156,
   "metadata": {},
   "outputs": [
    {
     "data": {
      "text/plain": [
       "97"
      ]
     },
     "execution_count": 156,
     "metadata": {},
     "output_type": "execute_result"
    }
   ],
   "source": [
    "match['frames'][2]['participantFrames']['1']['currentGold']"
   ]
  },
  {
   "cell_type": "code",
   "execution_count": 157,
   "metadata": {},
   "outputs": [
    {
     "data": {
      "text/plain": [
       "597"
      ]
     },
     "execution_count": 157,
     "metadata": {},
     "output_type": "execute_result"
    }
   ],
   "source": [
    "match['frames'][2]['participantFrames']['1']['totalGold']"
   ]
  },
  {
   "cell_type": "code",
   "execution_count": 158,
   "metadata": {},
   "outputs": [
    {
     "data": {
      "text/plain": [
       "134"
      ]
     },
     "execution_count": 158,
     "metadata": {},
     "output_type": "execute_result"
    }
   ],
   "source": [
    "match['frames'][2]['participantFrames']['1']['xp']"
   ]
  },
  {
   "cell_type": "code",
   "execution_count": 170,
   "metadata": {},
   "outputs": [],
   "source": [
    "current_gold = []\n",
    "total_gold = []\n",
    "xp = []\n",
    "frame = 2\n",
    "frames = len(match['frames'])\n",
    "for frame in range(frames):\n",
    "    frame_current_gold = []\n",
    "    frame_total_gold = []\n",
    "    frame_xp = []\n",
    "    for i in range(1,11):\n",
    "        frame_current_gold.append(match['frames'][frame]['participantFrames'][str(i)]['currentGold'])\n",
    "        frame_total_gold.append(match['frames'][frame]['participantFrames'][str(i)]['totalGold'])\n",
    "        frame_xp.append(match['frames'][frame]['participantFrames'][str(i)]['xp'])\n",
    "    current_gold.append(frame_current_gold)\n",
    "    total_gold.append(frame_total_gold)\n",
    "    xp.append(frame_xp)"
   ]
  },
  {
   "cell_type": "code",
   "execution_count": 172,
   "metadata": {},
   "outputs": [],
   "source": [
    "current_gold = np.array(current_gold)"
   ]
  },
  {
   "cell_type": "code",
   "execution_count": 194,
   "metadata": {},
   "outputs": [],
   "source": [
    "def calculate_team_total_and_difference(dat):\n",
    "    team_total = np.array([np.sum(dat[:,:5],axis=1),np.sum(dat[:,5:],axis=1)]).transpose()\n",
    "    team_total_diff = np.concatenate((team_total,(team_total[:,0] - team_total[:,1]).reshape((frames,1))),axis=1)\n",
    "    return team_total_diff"
   ]
  },
  {
   "cell_type": "code",
   "execution_count": 197,
   "metadata": {},
   "outputs": [],
   "source": [
    "team_current_gold = calculate_team_total_and_difference(np.array(current_gold))\n",
    "team_total_gold = calculate_team_total_and_difference(np.array(total_gold))\n",
    "team_xp = calculate_team_total_and_difference(np.array(xp))"
   ]
  },
  {
   "cell_type": "code",
   "execution_count": 201,
   "metadata": {},
   "outputs": [
    {
     "name": "stderr",
     "output_type": "stream",
     "text": [
      "/Users/ccl/anaconda3/envs/test/lib/python3.6/site-packages/ipykernel_launcher.py:1: RuntimeWarning: invalid value encountered in true_divide\n",
      "  \"\"\"Entry point for launching an IPython kernel.\n"
     ]
    },
    {
     "data": {
      "text/plain": [
       "array([[ 0.        ,  0.        ,         nan],\n",
       "       [ 0.82781457,  1.        ,  0.        ],\n",
       "       [ 0.85843373,  0.91675834,  0.59021922],\n",
       "       [ 0.56920312,  0.71611253,  0.04557885],\n",
       "       [ 0.79887504,  0.71222656,  1.54919236],\n",
       "       [ 0.76199041,  0.55009823,  3.05673759],\n",
       "       [ 0.65186173,  0.71262844, -0.13610315],\n",
       "       [ 0.72755147,  0.82099068, -0.05327869],\n",
       "       [ 0.90124038,  0.68837898,  5.37132988],\n",
       "       [ 0.81234079,  0.72059047,  2.03030303],\n",
       "       [ 0.73111706,  0.80624792, -0.98934551],\n",
       "       [ 0.87690662,  0.8848418 ,  0.7882111 ],\n",
       "       [ 0.89511846,  0.8262284 ,  1.59453303],\n",
       "       [ 0.84241684,  0.80157171,  1.74242424],\n",
       "       [ 0.94710722,  0.81047045,  5.06919946],\n",
       "       [ 0.9043447 ,  0.90558151,  0.85353535],\n",
       "       [ 0.95214106,  0.86392691, 25.62626263],\n",
       "       [ 0.92899388,  0.85541163, -1.1882805 ],\n",
       "       [ 0.84948923,  0.89362792, -2.6940874 ],\n",
       "       [ 0.93537485,  0.83176297, -2.08436725],\n",
       "       [ 0.94129289,  0.94612471,  1.25399645],\n",
       "       [ 0.88970859,  0.90614035,  1.67990074],\n",
       "       [ 0.89876953,  0.8606224 , -0.5575304 ],\n",
       "       [ 0.91658149,  0.92264762,  1.45233266],\n",
       "       [ 0.95092504,  0.92932175, -1.43170732],\n",
       "       [ 0.87352905,  0.92144606, -0.1294964 ],\n",
       "       [ 0.95725948,  0.93412986,  1.25936048],\n",
       "       [ 0.92153549,  0.92084981,  0.93076296],\n",
       "       [ 0.85274848,  0.88621295,  0.4676087 ],\n",
       "       [ 0.94473494,  0.9676157 ,  0.68350731],\n",
       "       [ 0.93912467,  0.94701248,  0.8567997 ],\n",
       "       [ 0.9261907 ,  0.94796607,  0.66787659],\n",
       "       [ 0.90792025,  0.93594158,  0.62196571],\n",
       "       [ 0.9776054 ,  0.91580969,  1.56731789],\n",
       "       [ 0.92166953,  0.92128622,  0.92440962],\n",
       "       [ 0.92670594,  0.91794396,  0.99318628]])"
      ]
     },
     "execution_count": 201,
     "metadata": {},
     "output_type": "execute_result"
    }
   ],
   "source": [
    "1 - team_current_gold / team_total_gold"
   ]
  },
  {
   "cell_type": "code",
   "execution_count": 212,
   "metadata": {},
   "outputs": [],
   "source": [
    "import matplotlib.pyplot as plt\n",
    "\n",
    "%matplotlib inline"
   ]
  },
  {
   "cell_type": "code",
   "execution_count": 218,
   "metadata": {},
   "outputs": [
    {
     "data": {
      "text/plain": [
       "[<matplotlib.lines.Line2D at 0x1173e9cf8>]"
      ]
     },
     "execution_count": 218,
     "metadata": {},
     "output_type": "execute_result"
    },
    {
     "data": {
      "image/png": "[encoded data removed]",
      "text/plain": [
       "<Figure size 432x288 with 1 Axes>"
      ]
     },
     "metadata": {},
     "output_type": "display_data"
    }
   ],
   "source": [
    "plt.plot(team_total_gold[:,0],color='blue')\n",
    "plt.plot(team_total_gold[:,1],color='red')"
   ]
  },
  {
   "cell_type": "code",
   "execution_count": 220,
   "metadata": {},
   "outputs": [
    {
     "data": {
      "text/plain": [
       "[<matplotlib.lines.Line2D at 0x117454198>]"
      ]
     },
     "execution_count": 220,
     "metadata": {},
     "output_type": "execute_result"
    },
    {
     "data": {
      "image/png": "[encoded data removed]",
      "text/plain": [
       "<Figure size 432x288 with 1 Axes>"
      ]
     },
     "metadata": {},
     "output_type": "display_data"
    }
   ],
   "source": [
    "plt.plot(team_xp[:,0],color='blue')\n",
    "plt.plot(team_xp[:,1],color='red')"
   ]
  },
  {
   "cell_type": "code",
   "execution_count": 221,
   "metadata": {},
   "outputs": [
    {
     "data": {
      "text/plain": [
       "[<matplotlib.lines.Line2D at 0x117530860>]"
      ]
     },
     "execution_count": 221,
     "metadata": {},
     "output_type": "execute_result"
    },
    {
     "data": {
      "image/png": "[encoded data removed]",
      "text/plain": [
       "<Figure size 432x288 with 1 Axes>"
      ]
     },
     "metadata": {},
     "output_type": "display_data"
    }
   ],
   "source": [
    "plt.plot(team_total_gold[:,2],color='blue')\n",
    "plt.plot(team_xp[:,2],color='red')"
   ]
  },
  {
   "cell_type": "code",
   "execution_count": null,
   "metadata": {},
   "outputs": [],
   "source": []
  }
 ],
 "metadata": {
  "kernelspec": {
   "display_name": "Python 3",
   "language": "python",
   "name": "python3"
  },
  "language_info": {
   "codemirror_mode": {
    "name": "ipython",
    "version": 3
   },
   "file_extension": ".py",
   "mimetype": "text/x-python",
   "name": "python",
   "nbconvert_exporter": "python",
   "pygments_lexer": "ipython3",
   "version": "3.6.5"
  }
 },
 "nbformat": 4,
 "nbformat_minor": 2
}
