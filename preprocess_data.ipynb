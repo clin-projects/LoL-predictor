{
 "cells": [
  {
   "cell_type": "code",
   "execution_count": 20,
   "metadata": {},
   "outputs": [],
   "source": [
    "import glob\n",
    "import json\n",
    "import numpy as np\n",
    "\n",
    "np.set_printoptions(suppress=True)"
   ]
  },
  {
   "cell_type": "code",
   "execution_count": 21,
   "metadata": {},
   "outputs": [
    {
     "name": "stdout",
     "output_type": "stream",
     "text": [
      "7539\n"
     ]
    }
   ],
   "source": [
    "#files = glob.glob('./dat/*timeline*')\n",
    "files = glob.glob('./dat_challenger_only/*timeline*')\n",
    "\n",
    "print(len(files))"
   ]
  },
  {
   "cell_type": "code",
   "execution_count": 4,
   "metadata": {},
   "outputs": [],
   "source": [
    "def calculate_team_total_and_difference(dat, frames):\n",
    "    team_total = np.array([np.sum(dat[:,:5],axis=1),np.sum(dat[:,5:],axis=1)]).transpose()\n",
    "    team_total_diff = np.concatenate((team_total,(team_total[:,0] - team_total[:,1]).reshape((frames,1))),axis=1)\n",
    "    return team_total_diff\n",
    "\n",
    "def calculate_team_max_and_difference(dat, frames):\n",
    "    team_max = np.array([np.max(dat[:,:5],axis=1),np.max(dat[:,5:],axis=1)]).transpose()\n",
    "    team_max_diff = np.concatenate((team_max,(team_max[:,0] - team_max[:,1]).reshape((frames,1))),axis=1)\n",
    "    return team_max_diff\n",
    "\n",
    "def get_dat(match):\n",
    "    current_gold = []\n",
    "    total_gold = []\n",
    "    xp = []\n",
    "    frames = len(match['frames'])\n",
    "    for frame in range(frames):\n",
    "        frame_current_gold = []\n",
    "        frame_total_gold = []\n",
    "        frame_xp = []\n",
    "        for i in range(1,11):\n",
    "            frame_current_gold.append(match['frames'][frame]['participantFrames'][str(i)]['currentGold'])\n",
    "            frame_total_gold.append(match['frames'][frame]['participantFrames'][str(i)]['totalGold'])\n",
    "            frame_xp.append(match['frames'][frame]['participantFrames'][str(i)]['xp'])\n",
    "        current_gold.append(frame_current_gold)\n",
    "        total_gold.append(frame_total_gold)\n",
    "        xp.append(frame_xp)\n",
    "        \n",
    "    team_current_gold = calculate_team_total_and_difference(np.array(current_gold), frames)\n",
    "    team_total_gold = calculate_team_total_and_difference(np.array(total_gold), frames)\n",
    "    team_xp = calculate_team_total_and_difference(np.array(xp), frames)\n",
    "    \n",
    "    team_max_current_gold = calculate_team_max_and_difference(np.array(current_gold), frames)\n",
    "    team_max_total_gold = calculate_team_max_and_difference(np.array(total_gold), frames)\n",
    "    team_max_xp = calculate_team_max_and_difference(np.array(xp), frames)\n",
    "    \n",
    "    return team_current_gold, team_total_gold, team_xp, team_max_current_gold, team_max_total_gold, team_max_xp, frames\n",
    "\n",
    "team_stats_vars = ['firstBlood','firstTower','firstDragon','firstRiftHerald','firstInhibitor','firstBaron']\n",
    "\n",
    "# inhibitor is well inside base; late-game predictor\n",
    "# baron spawns at 20:00\n",
    "# dragon spawns at 2:30 (http://leagueoflegends.wikia.com/wiki/Dragon)\n",
    "# rift herald spawns at 9:50 (http://leagueoflegends.wikia.com/wiki/Rift_Herald)\n",
    "# baron spawns at 20:00 http://leagueoflegends.wikia.com/wiki/Baron_Nashor\n",
    "\n",
    "def get_team_stats(match):\n",
    "    team_0_stats = np.array([1*match['teams'][0][var] for var in team_stats_vars])\n",
    "    team_1_stats = np.array([1*match['teams'][1][var] for var in team_stats_vars])\n",
    "    team_diff = team_0_stats - team_1_stats\n",
    "    return team_diff\n",
    "\n",
    "def convert_to_tensor(dat, num_matches, num_frames, max_frames):\n",
    "    new_dat = []\n",
    "    for i in range(num_matches):\n",
    "        new_dat.append(np.pad(dat[i], ((0,max_frames - num_frames[i]), (0,0)), 'constant'))\n",
    "    new_dat = np.array(new_dat)\n",
    "    return new_dat"
   ]
  },
  {
   "cell_type": "code",
   "execution_count": 8,
   "metadata": {},
   "outputs": [
    {
     "name": "stdout",
     "output_type": "stream",
     "text": [
      "0\n",
      "500\n",
      "1000\n",
      "1500\n",
      "2000\n",
      "2500\n",
      "3000\n",
      "3500\n",
      "4000\n",
      "4500\n",
      "5000\n",
      "5500\n",
      "6000\n",
      "6500\n",
      "7000\n",
      "7500\n"
     ]
    }
   ],
   "source": [
    "current_gold = []\n",
    "total_gold = []\n",
    "xp = []\n",
    "max_current_gold = []\n",
    "max_total_gold = []\n",
    "max_xp = []\n",
    "champions = []\n",
    "\n",
    "winners = []\n",
    "num_frames = []\n",
    "match_ids = []\n",
    "team_stats = []\n",
    "duration = []\n",
    "player_tiers = []\n",
    "versions = []\n",
    "game_types = []\n",
    "\n",
    "for i, file in enumerate(files):\n",
    "    if i%500 == 0:\n",
    "        print(i)\n",
    "        \n",
    "    with open(file, 'r') as fp:\n",
    "        \n",
    "        match_file = file.replace('timeline','match')\n",
    "\n",
    "        with open(match_file, 'r') as fp2:\n",
    "            match2 = json.load(fp2)\n",
    "            if match2['mapId'] != 11: # summoner's rift only\n",
    "                continue\n",
    "            n = len(match2['participants'])\n",
    "            if n != 10:\n",
    "                continue\n",
    "            current_champion_ids = [match2['participants'][participant_id]['championId'] for participant_id in range(10)]\n",
    "            if len(np.unique(current_champion_ids)) < 10:\n",
    "                continue\n",
    "        \n",
    "        match = json.load(fp)\n",
    "            \n",
    "        try:\n",
    "            team_current_gold, team_total_gold, team_xp, team_max_current_gold, team_max_total_gold, team_max_xp, frames = get_dat(match)\n",
    "            current_tiers = [match2['participants'][i]['highestAchievedSeasonTier'] for i in range(10)]\n",
    "        except:\n",
    "            continue\n",
    "       \n",
    "        match_id = match2['gameId']\n",
    "        \n",
    "        versions.append(match2['gameVersion'])\n",
    "        game_types.append(match2['gameType'])\n",
    "        player_tiers.append(current_tiers)\n",
    "        \n",
    "        champions.append(current_champion_ids)\n",
    "        \n",
    "        duration.append(match2['gameDuration'])\n",
    "        \n",
    "        winner = (match2['teams'][0]['win'] == 'Fail')*1\n",
    "        winners.append(winner)\n",
    "        match_ids.append(match_id)\n",
    "        \n",
    "        max_current_gold.append(team_max_current_gold)\n",
    "        max_total_gold.append(team_max_total_gold)\n",
    "        max_xp.append(team_max_xp)\n",
    "\n",
    "        current_gold.append(team_current_gold)\n",
    "        total_gold.append(team_total_gold)\n",
    "        xp.append(team_xp)\n",
    "        num_frames.append(frames)\n",
    "        \n",
    "        cur_team_stats = get_team_stats(match2)\n",
    "        team_stats.append(cur_team_stats)"
   ]
  },
  {
   "cell_type": "code",
   "execution_count": 9,
   "metadata": {},
   "outputs": [
    {
     "name": "stdout",
     "output_type": "stream",
     "text": [
      "7302\n",
      "72\n"
     ]
    }
   ],
   "source": [
    "num_matches = len(winners)\n",
    "print(num_matches)\n",
    "\n",
    "max_frames = np.max(num_frames)\n",
    "print(max_frames)"
   ]
  },
  {
   "cell_type": "code",
   "execution_count": 10,
   "metadata": {},
   "outputs": [],
   "source": [
    "tensor_current_gold = convert_to_tensor(current_gold, num_matches, num_frames, max_frames)\n",
    "tensor_total_gold = convert_to_tensor(total_gold, num_matches, num_frames, max_frames)\n",
    "tensor_xp = convert_to_tensor(xp, num_matches, num_frames, max_frames)\n",
    "tensor_max_current_gold = convert_to_tensor(max_current_gold, num_matches, num_frames, max_frames)\n",
    "tensor_max_total_gold = convert_to_tensor(max_total_gold, num_matches, num_frames, max_frames)\n",
    "tensor_max_xp = convert_to_tensor(max_xp, num_matches, num_frames, max_frames)\n",
    "tensor_team_stats = np.array(team_stats)\n",
    "winners = np.array(winners)\n",
    "num_frames = np.array(num_frames)\n",
    "champions = np.array(champions)\n",
    "duration = np.array(duration)\n",
    "versions = np.array(versions)\n",
    "game_types = np.array(game_types)\n",
    "\n",
    "player_tiers = np.array(player_tiers)\n",
    "map_tiers = {\n",
    "    'UNRANKED': 0,\n",
    "    'BRONZE': 1,\n",
    "    'SILVER': 2,\n",
    "    'GOLD': 3,\n",
    "    'PLATINUM': 4,\n",
    "    'DIAMOND': 5,\n",
    "    'MASTER': 6,\n",
    "    'CHALLENGER': 7\n",
    "}\n",
    "player_tiers = np.vectorize(map_tiers.get)(player_tiers)"
   ]
  },
  {
   "cell_type": "code",
   "execution_count": 11,
   "metadata": {},
   "outputs": [
    {
     "name": "stdout",
     "output_type": "stream",
     "text": [
      "(7302, 72, 3)\n",
      "(7302, 72, 3)\n",
      "(7302, 72, 3)\n",
      "(7302, 72, 3)\n",
      "(7302, 72, 3)\n",
      "(7302, 72, 3)\n",
      "(7302, 6)\n",
      "(7302,)\n",
      "(7302,)\n",
      "(7302, 10)\n",
      "(7302,)\n",
      "(7302,)\n",
      "(7302,)\n",
      "(7302, 10)\n"
     ]
    }
   ],
   "source": [
    "print(tensor_current_gold.shape)\n",
    "print(tensor_total_gold.shape)\n",
    "print(tensor_xp.shape)\n",
    "print(tensor_max_current_gold.shape)\n",
    "print(tensor_max_total_gold.shape)\n",
    "print(tensor_max_xp.shape)\n",
    "print(tensor_team_stats.shape)\n",
    "print(winners.shape)\n",
    "print(num_frames.shape)\n",
    "print(champions.shape)\n",
    "print(duration.shape)\n",
    "print(versions.shape)\n",
    "print(game_types.shape)\n",
    "print(player_tiers.shape)"
   ]
  },
  {
   "cell_type": "code",
   "execution_count": 12,
   "metadata": {},
   "outputs": [],
   "source": [
    "# SAVING DATA\n",
    "\n",
    "#fout = 'lol_dat.npz'\n",
    "fout = 'lol_dat_challenger.npz'\n",
    "\n",
    "np.savez(fout, current_gold = tensor_current_gold, total_gold = tensor_total_gold, xp = tensor_xp,\n",
    "        max_current_gold = tensor_max_current_gold, max_total_gold = tensor_max_total_gold, max_xp = tensor_max_xp,\n",
    "        team_stats = tensor_team_stats, winners = winners, num_frames = num_frames, champions = champions, duration = duration,\n",
    "        versions = versions, game_types = game_types, player_tiers = player_tiers)"
   ]
  },
  {
   "cell_type": "code",
   "execution_count": 25,
   "metadata": {},
   "outputs": [
    {
     "data": {
      "text/plain": [
       "['current_gold',\n",
       " 'total_gold',\n",
       " 'xp',\n",
       " 'max_current_gold',\n",
       " 'max_total_gold',\n",
       " 'max_xp',\n",
       " 'team_stats',\n",
       " 'winners',\n",
       " 'num_frames',\n",
       " 'champions']"
      ]
     },
     "execution_count": 25,
     "metadata": {},
     "output_type": "execute_result"
    }
   ],
   "source": [
    "# LOADING DATA\n",
    "\n",
    "npzfile = np.load(fout)\n",
    "npzfile.files"
   ]
  },
  {
   "cell_type": "code",
   "execution_count": 54,
   "metadata": {},
   "outputs": [
    {
     "data": {
      "text/plain": [
       "dict_keys(['gameId', 'platformId', 'gameCreation', 'gameDuration', 'queueId', 'mapId', 'seasonId', 'gameVersion', 'gameMode', 'gameType', 'teams', 'participants', 'participantIdentities'])"
      ]
     },
     "execution_count": 54,
     "metadata": {},
     "output_type": "execute_result"
    }
   ],
   "source": [
    "match2.keys()"
   ]
  },
  {
   "cell_type": "code",
   "execution_count": 103,
   "metadata": {},
   "outputs": [
    {
     "name": "stdout",
     "output_type": "stream",
     "text": [
      "['BRONZE' 'CHALLENGER' 'DIAMOND' 'GOLD' 'MASTER' 'PLATINUM' 'SILVER'\n",
      " 'UNRANKED']\n"
     ]
    }
   ],
   "source": [
    "tiers = np.unique(player_tiers)\n",
    "\n"
   ]
  },
  {
   "cell_type": "code",
   "execution_count": 81,
   "metadata": {},
   "outputs": [],
   "source": [
    "min_tier = 'PLATINUM'\n",
    "min_ranking = map_tiers[min_tier]\n",
    "\n",
    "fraction_cutoff = 7 # require this number of players to have min_ranking\n",
    "\n",
    "valid_games = (np.sum(np.vectorize(map_tiers.get)(versions)>min_ranking,axis=1) >= fraction_cutoff)*1"
   ]
  },
  {
   "cell_type": "code",
   "execution_count": 85,
   "metadata": {},
   "outputs": [
    {
     "data": {
      "text/plain": [
       "'MATCHED_GAME'"
      ]
     },
     "execution_count": 85,
     "metadata": {},
     "output_type": "execute_result"
    }
   ],
   "source": [
    "match2['gameType']"
   ]
  },
  {
   "cell_type": "code",
   "execution_count": 96,
   "metadata": {},
   "outputs": [
    {
     "name": "stdout",
     "output_type": "stream",
     "text": [
      "0 UNRANKED\n",
      "1 PLATINUM\n",
      "2 UNRANKED\n",
      "3 UNRANKED\n",
      "4 UNRANKED\n"
     ]
    },
    {
     "ename": "KeyError",
     "evalue": "'highestAchievedSeasonTier'",
     "output_type": "error",
     "traceback": [
      "\u001b[0;31m---------------------------------------------------------------------------\u001b[0m",
      "\u001b[0;31mKeyError\u001b[0m                                  Traceback (most recent call last)",
      "\u001b[0;32m<ipython-input-96-360a9c2b1267>\u001b[0m in \u001b[0;36m<module>\u001b[0;34m()\u001b[0m\n\u001b[1;32m      1\u001b[0m \u001b[0;32mfor\u001b[0m \u001b[0mi\u001b[0m \u001b[0;32min\u001b[0m \u001b[0mrange\u001b[0m\u001b[0;34m(\u001b[0m\u001b[0;36m10\u001b[0m\u001b[0;34m)\u001b[0m\u001b[0;34m:\u001b[0m\u001b[0;34m\u001b[0m\u001b[0m\n\u001b[0;32m----> 2\u001b[0;31m     \u001b[0mprint\u001b[0m\u001b[0;34m(\u001b[0m\u001b[0mi\u001b[0m\u001b[0;34m,\u001b[0m\u001b[0mmatch2\u001b[0m\u001b[0;34m[\u001b[0m\u001b[0;34m'participants'\u001b[0m\u001b[0;34m]\u001b[0m\u001b[0;34m[\u001b[0m\u001b[0mi\u001b[0m\u001b[0;34m]\u001b[0m\u001b[0;34m[\u001b[0m\u001b[0;34m'highestAchievedSeasonTier'\u001b[0m\u001b[0;34m]\u001b[0m\u001b[0;34m)\u001b[0m\u001b[0;34m\u001b[0m\u001b[0m\n\u001b[0m",
      "\u001b[0;31mKeyError\u001b[0m: 'highestAchievedSeasonTier'"
     ]
    }
   ],
   "source": [
    "for i in range(10):\n",
    "    print(i,match2['participants'][i]['highestAchievedSeasonTier'])"
   ]
  },
  {
   "cell_type": "code",
   "execution_count": 141,
   "metadata": {},
   "outputs": [
    {
     "name": "stdout",
     "output_type": "stream",
     "text": [
      "[[0 0]\n",
      " [0 0]\n",
      " [0 0]\n",
      " [0 0]\n",
      " [0 0]\n",
      " [1 1]\n",
      " [0 0]\n",
      " [3 1]\n",
      " [1 0]\n",
      " [0 1]\n",
      " [2 1]\n",
      " [1 2]\n",
      " [2 4]\n",
      " [0 1]\n",
      " [1 2]\n",
      " [0 1]\n",
      " [1 1]\n",
      " [0 3]\n",
      " [0 2]\n",
      " [0 0]\n",
      " [0 2]\n",
      " [3 4]\n",
      " [0 0]\n",
      " [1 0]\n",
      " [2 4]\n",
      " [1 0]\n",
      " [3 1]\n",
      " [4 0]\n",
      " [0 0]\n",
      " [4 0]\n",
      " [1 0]]\n"
     ]
    }
   ],
   "source": [
    "all_events = []\n",
    "all_victims = []\n",
    "\n",
    "for f in range(frames):\n",
    "    cur_events = match['frames'][f]['events']\n",
    "    num_events = len(cur_events)\n",
    "    team1_kills = 0\n",
    "    team2_kills = 0\n",
    "    for i in range(num_events):\n",
    "        if cur_events[i]['type'] == 'CHAMPION_KILL':\n",
    "            if cur_events[i]['victimId'] > 5:\n",
    "                team1_kills += 1\n",
    "            else:\n",
    "                team2_kills += 1\n",
    "    all_victims.append([team1_kills, team2_kills])\n",
    "print(np.array(all_victims))"
   ]
  },
  {
   "cell_type": "code",
   "execution_count": 140,
   "metadata": {},
   "outputs": [
    {
     "data": {
      "text/plain": [
       "[{'teamId': 100,\n",
       "  'win': 'Win',\n",
       "  'firstBlood': True,\n",
       "  'firstTower': True,\n",
       "  'firstInhibitor': True,\n",
       "  'firstBaron': True,\n",
       "  'firstDragon': False,\n",
       "  'firstRiftHerald': False,\n",
       "  'towerKills': 7,\n",
       "  'inhibitorKills': 1,\n",
       "  'baronKills': 1,\n",
       "  'dragonKills': 0,\n",
       "  'vilemawKills': 0,\n",
       "  'riftHeraldKills': 0,\n",
       "  'dominionVictoryScore': 0,\n",
       "  'bans': [{'championId': 16, 'pickTurn': 1},\n",
       "   {'championId': 163, 'pickTurn': 2},\n",
       "   {'championId': 121, 'pickTurn': 3},\n",
       "   {'championId': -1, 'pickTurn': 4},\n",
       "   {'championId': 107, 'pickTurn': 5}]},\n",
       " {'teamId': 200,\n",
       "  'win': 'Fail',\n",
       "  'firstBlood': False,\n",
       "  'firstTower': False,\n",
       "  'firstInhibitor': False,\n",
       "  'firstBaron': False,\n",
       "  'firstDragon': True,\n",
       "  'firstRiftHerald': True,\n",
       "  'towerKills': 6,\n",
       "  'inhibitorKills': 0,\n",
       "  'baronKills': 0,\n",
       "  'dragonKills': 2,\n",
       "  'vilemawKills': 0,\n",
       "  'riftHeraldKills': 1,\n",
       "  'dominionVictoryScore': 0,\n",
       "  'bans': [{'championId': 41, 'pickTurn': 6},\n",
       "   {'championId': 119, 'pickTurn': 7},\n",
       "   {'championId': 84, 'pickTurn': 8},\n",
       "   {'championId': 266, 'pickTurn': 9},\n",
       "   {'championId': 555, 'pickTurn': 10}]}]"
      ]
     },
     "execution_count": 140,
     "metadata": {},
     "output_type": "execute_result"
    }
   ],
   "source": [
    "match2['teams']"
   ]
  },
  {
   "cell_type": "code",
   "execution_count": null,
   "metadata": {},
   "outputs": [],
   "source": []
  }
 ],
 "metadata": {
  "kernelspec": {
   "display_name": "Python 3",
   "language": "python",
   "name": "python3"
  },
  "language_info": {
   "codemirror_mode": {
    "name": "ipython",
    "version": 3
   },
   "file_extension": ".py",
   "mimetype": "text/x-python",
   "name": "python",
   "nbconvert_exporter": "python",
   "pygments_lexer": "ipython3",
   "version": "3.6.5"
  }
 },
 "nbformat": 4,
 "nbformat_minor": 2
}
