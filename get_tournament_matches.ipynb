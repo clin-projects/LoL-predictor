{
 "cells": [
  {
   "cell_type": "code",
   "execution_count": 176,
   "metadata": {},
   "outputs": [],
   "source": [
    "import requests, json\n",
    "import numpy as np"
   ]
  },
  {
   "cell_type": "code",
   "execution_count": 174,
   "metadata": {},
   "outputs": [
    {
     "name": "stdout",
     "output_type": "stream",
     "text": [
      "1 0 2015-12-10 2015-12-13 all_star_2015\n",
      "1 1 2016-11-03 2016-12-20 all_star_2016\n",
      "1 2 2017-12-07 2017-12-10 all_star_2017\n",
      "2 1 2016-01-16 2016-04-17 na_2016_spring\n",
      "2 2 2016-06-03 2016-09-05 na_2016_summer\n",
      "2 3 2017-01-19 2017-04-24 na_2017_spring\n",
      "2 4 2017-06-02 2017-09-11 na_2017_summer\n",
      "2 5 2018-01-20 2018-04-08 na_2018_spring\n",
      "2 6 2018-06-16 2018-09-16 na_2018_summer\n",
      "3 2 2016-01-14 2016-04-17 eu_2016_spring\n",
      "3 3 2016-06-02 2016-09-05 eu_2016_summer\n",
      "3 4 2017-01-18 2017-04-24 eu_2017_spring\n",
      "3 5 2017-06-01 2017-09-03 eu_2017_summer\n",
      "3 6 2018-01-19 2018-04-08 eu_2018_spring\n",
      "3 7 2018-06-15 2018-09-16 eu_2018_summer\n",
      "4 0 2016-01-27 2016-03-16 nacs_2016_spring\n",
      "4 1 2016-06-08 2016-07-28 nacs_2016_summer\n",
      "4 2 2017-01-24 2017-04-06 nacs_2017_spring\n",
      "4 3 2017-06-08 2017-07-28 nacs_2017_summer\n",
      "5 0 2016-01-26 2016-03-15 eucs_2016_spring\n",
      "5 1 2016-06-07 2016-07-27 eucs_2016_summer\n",
      "5 2 2017-02-04 2017-04-06 eucs_2017_spring\n",
      "5 3 2017-06-18 2017-08-06 eucs_2017_summer\n",
      "6 1 2016-01-13 2016-04-23 lck_2016_spring\n",
      "6 2 2016-05-25 2016-09-05 lck_2016_summer\n",
      "6 3 2017-01-16 2017-04-23 lck_2017_spring\n",
      "6 4 2017-05-30 2017-09-17 lck_2017_summer\n",
      "6 5 2018-01-16 2018-04-23 lck_2018_spring\n",
      "6 6 2018-06-12 2018-09-23 lck_2018_summer\n",
      "7 1 2016-01-14 2016-05-01 lpl_2016_spring\n",
      "7 2 2016-05-26 2016-09-05 lpl_2016_summer\n",
      "7 3 2017-01-18 2017-04-30 lpl_2017_spring\n",
      "7 4 2017-06-08 2017-09-10 lpl_2017_summer\n",
      "7 5 2018-01-15 2018-04-29 lpl_2018_spring\n",
      "7 6 2018-06-11 2018-09-23 lpl_2018_summer\n",
      "8 1 2016-01-13 2016-04-17 lms_2016_spring\n",
      "8 2 2016-06-08 2016-09-05 lms_2016_summer\n",
      "8 3 2017-01-20 2017-04-24 lms_2017_spring\n",
      "8 4 2017-06-02 2017-09-17 lms_2017_summer\n",
      "8 5 2018-01-20 2018-04-22 lms_2018_spring\n",
      "8 6 2018-06-22 2018-09-22 lms_2018_summer\n",
      "9 0 2015-10-01 2015-10-31 world_championship_2015\n",
      "9 1 2016-09-29 2016-10-29 world_championship_2016\n",
      "9 2 2017-09-22 2017-11-04 world_championship_2017\n",
      "10 0 2016-05-04 2016-05-15 msi_2016\n",
      "10 1 2017-04-28 2017-05-21 msi_2017\n",
      "10 2 2018-04-27 2018-05-20 msi_2018\n",
      "12 1 2016-08-23 2016-09-05 iwcq_2016\n",
      "13 0 2016-01-17 2016-04-06 opl_2016_spring\n",
      "13 1 2016-05-23 2016-08-13 opl_2016_summer\n",
      "13 2 2017-01-06 2017-04-22 opl_2017_split1\n",
      "13 3 2017-05-03 2017-09-02 opl_2017_split2\n",
      "13 4 2018-01-20 2018-04-01 opl_2018_split1\n",
      "13 5 2018-06-06 2018-09-04 opl_2018_split2\n",
      "14 6 2018-01-20 2018-04-30 cblol_2018_split_1\n",
      "14 8 2018-06-09 2018-09-08 cblol_2018_split_2\n",
      "14 11 2018-09-14 2018-09-16 cblol_promotion_gauntlet_split2_2018\n",
      "24 4 2018-01-20 2018-04-29 cls_2018_apertura\n",
      "24 5 2018-06-16 2018-09-08 cls_2018_clausura\n",
      "26 1 2017-01-30 2017-03-03 french_2017_winter\n",
      "26 2 2017-11-10 2017-12-01 Challenge_France_Projet\n",
      "30 3 2018-01-19 2018-04-22 lln_2018_spring\n",
      "30 4 2018-06-15 2018-09-10 lln-2018-clausura\n",
      "32 0 2015-05-16 2015-08-08 tr_2015_summer\n",
      "32 1 2016-01-16 2016-04-03 tr_2016_winter\n",
      "32 2 2016-06-11 2016-08-13 tr_2016_summer\n",
      "32 3 2017-01-21 2017-05-13 tr_2017_winter\n",
      "32 4 2017-06-02 2017-09-15 tr_2017_summer\n",
      "32 5 2015-01-24 2015-04-04 tr_2015_winter\n",
      "32 6 2018-01-20 2018-04-30 tr_2018_winter\n",
      "32 7 2018-06-15 2018-09-22 tr_2018_summer\n",
      "37 2 2018-01-25 2018-04-05 CDL_2018_spring\n",
      "38 0 2015-03-16 2015-04-12 tcs_2015_winter\n",
      "38 1 2015-07-06 2015-08-16 tcs_2015_summer\n",
      "38 2 2017-06-14 2017-09-13 tcs_2017_summer\n",
      "38 3 2017-02-14 2017-05-13 tcs_2017_winter\n",
      "38 4 2018-01-30 2018-03-31 tcs_2018_winter\n",
      "38 5 2018-07-10 2018-09-30 tcs_2018_summer\n",
      "38 6 2016-08-02 2016-08-24 tcs_2016_summer\n",
      "38 7 2016-04-07 2016-04-10 tcs_2016_winter\n",
      "39 0 2018-04-09 2018-04-10 BTN_League_of_Legends\n",
      "40 0 2017-05-03 2017-06-09 origin_2017\n",
      "41 0 2017-05-25 2017-05-28 league_of_legends_college_championship\n",
      "41 1 2018-06-07 2018-06-10 college_championship_2018\n",
      "42 0 2017-06-01 2017-08-26 ljl_summer_split_2017\n",
      "42 1 2018-02-09 2018-04-15 ljl_2018_spring\n",
      "42 2 2018-06-21 2018-09-15 ljl_2018_summer\n",
      "43 0 2017-07-05 2017-07-08 rift_rivals_na_eu_2017\n",
      "43 1 2017-07-06 2017-07-09 rift_rivals_lck_lpl_lms_2017\n",
      "43 2 2018-07-02 2018-07-06 rift_rivals_oce_jp_sea_2018\n",
      "43 3 2018-07-03 2018-07-08 rift_rivals_vn_tr_cis_2018\n",
      "43 4 2018-07-05 2018-07-08 rift_rivals_na_eu_2018\n",
      "43 5 2018-07-04 2018-07-08 rift_rivals_cn_kr_lms_2018\n",
      "43 6 2018-07-04 2018-07-09 rift_rivals_br_lan_las_2018\n",
      "44 0 2017-07-02 2017-07-05 rift_rivals_gpl_ljl_opl_2017\n",
      "45 0 2017-07-06 2017-07-10 rift_rivals_tr_cis_2017\n",
      "46 0 2017-07-05 2017-07-08 rift_rivals_cblol_cls_lln_2017\n",
      "46 1 2018-07-02 2018-07-09 rift_rivals_cblol_cls_lln_2018\n",
      "48 0 2018-02-10 2018-04-15 lcl-2018-spring\n",
      "50 0 2017-11-30 2017-12-02 na_scouting_grounds_2017\n",
      "51 0 2018-01-18 2018-03-30 na_academy_2018_spring\n",
      "51 1 2018-06-14 2018-08-31 na_academy_2018_summer\n",
      "53 0 2018-05-09 2018-09-15 ocs_2018_split2\n",
      "57 0 2018-09-15 2018-09-15 final_movistar_2019\n"
     ]
    }
   ],
   "source": [
    "league_id = []\n",
    "tournament_id = []\n",
    "tournament_title = []\n",
    "tournament_start_date = []\n",
    "tournament_end_date = []\n",
    "\n",
    "for i in range(100):\n",
    "    urlTournament=\"http://api.lolesports.com/api/v1/scheduleItems?leagueId=%d\" % (i)\n",
    "    r  = requests.get(urlTournament)\n",
    "    data = json.loads(r.text)\n",
    "\n",
    "    n = len(data['highlanderTournaments'])\n",
    "    for j in range(n):\n",
    "        if 'endDate' not in data['highlanderTournaments'][j].keys():\n",
    "            continue\n",
    "        print('%d %d %s %s %s' % (\n",
    "            i, j,\n",
    "            data['highlanderTournaments'][j]['startDate'],\n",
    "            data['highlanderTournaments'][j]['endDate'],\n",
    "            data['highlanderTournaments'][j]['title']))\n",
    "        league_id.append(i)\n",
    "        tournament_id.append(j)\n",
    "        tournament_title.append(data['highlanderTournaments'][j]['title'])\n",
    "        tournament_start_date.append(data['highlanderTournaments'][j]['startDate'])\n",
    "        tournament_end_date.append(data['highlanderTournaments'][j]['endDate'])"
   ]
  },
  {
   "cell_type": "code",
   "execution_count": 185,
   "metadata": {},
   "outputs": [],
   "source": [
    "league_id = np.array(league_id)\n",
    "tournament_id = np.array(tournament_id)\n",
    "tournament_title = np.array(tournament_title)\n",
    "tournament_start_date = np.array(tournament_start_date)\n",
    "tournament_end_date = np.array(tournament_end_date)"
   ]
  },
  {
   "cell_type": "code",
   "execution_count": 210,
   "metadata": {},
   "outputs": [],
   "source": [
    "fout = 'tournaments.txt'\n",
    "n = len(league_id)\n",
    "with open(fout,'w') as f:\n",
    "    for i in range(n):\n",
    "        out_str = '%d %d %s %s %s\\n' % (league_id[i], tournament_id[i],\n",
    "                                     tournament_start_date[i], tournament_end_date[i], tournament_title[i])\n",
    "        f.write(out_str)"
   ]
  },
  {
   "cell_type": "code",
   "execution_count": 205,
   "metadata": {},
   "outputs": [],
   "source": [
    "# select only tournaments in 2018 that have completed\n",
    "\n",
    "valid_id = []\n",
    "for x in tournament_end_date:\n",
    "    y, m, d = [int(date_field) for date_field in x.split('-') ]\n",
    "    if y == 2018 and m <= 9:\n",
    "        if m == 9 and d > 6:\n",
    "            valid_id.append(0)\n",
    "            continue\n",
    "        valid_id.append(1)\n",
    "    else:\n",
    "        valid_id.append(0)\n",
    "valid_id = np.array(valid_id)"
   ]
  },
  {
   "cell_type": "code",
   "execution_count": 207,
   "metadata": {},
   "outputs": [
    {
     "name": "stdout",
     "output_type": "stream",
     "text": [
      "2 5 2018-04-08 na_2018_spring\n",
      "3 6 2018-04-08 eu_2018_spring\n",
      "6 5 2018-04-23 lck_2018_spring\n",
      "7 5 2018-04-29 lpl_2018_spring\n",
      "8 5 2018-04-22 lms_2018_spring\n",
      "10 2 2018-05-20 msi_2018\n",
      "13 4 2018-04-01 opl_2018_split1\n",
      "13 5 2018-09-04 opl_2018_split2\n",
      "14 6 2018-04-30 cblol_2018_split_1\n",
      "24 4 2018-04-29 cls_2018_apertura\n",
      "30 3 2018-04-22 lln_2018_spring\n",
      "32 6 2018-04-30 tr_2018_winter\n",
      "37 2 2018-04-05 CDL_2018_spring\n",
      "38 4 2018-03-31 tcs_2018_winter\n",
      "39 0 2018-04-10 BTN_League_of_Legends\n",
      "41 1 2018-06-10 college_championship_2018\n",
      "42 1 2018-04-15 ljl_2018_spring\n",
      "43 2 2018-07-06 rift_rivals_oce_jp_sea_2018\n",
      "43 3 2018-07-08 rift_rivals_vn_tr_cis_2018\n",
      "43 4 2018-07-08 rift_rivals_na_eu_2018\n",
      "43 5 2018-07-08 rift_rivals_cn_kr_lms_2018\n",
      "43 6 2018-07-09 rift_rivals_br_lan_las_2018\n",
      "46 1 2018-07-09 rift_rivals_cblol_cls_lln_2018\n",
      "48 0 2018-04-15 lcl-2018-spring\n",
      "51 0 2018-03-30 na_academy_2018_spring\n",
      "51 1 2018-08-31 na_academy_2018_summer\n"
     ]
    }
   ],
   "source": [
    "# list valid tournaments\n",
    "for i in np.where(valid_id == 1)[0]:\n",
    "    print('%d %d %s %s' % (league_id[i], tournament_id[i], tournament_end_date[i], tournament_title[i]))"
   ]
  },
  {
   "cell_type": "code",
   "execution_count": 165,
   "metadata": {},
   "outputs": [
    {
     "data": {
      "text/plain": [
       "dict_keys(['id', 'title', 'description', 'leagueReference', 'roles', 'matchType', 'gameMode', 'rosteringStrategy', 'queues', 'rosters', 'published', 'brackets', 'standings', 'liveMatches', 'platformIds', 'gameIds', 'leagueId', 'league'])"
      ]
     },
     "execution_count": 165,
     "metadata": {},
     "output_type": "execute_result"
    }
   ],
   "source": [
    "data['highlanderTournaments'][j].keys()"
   ]
  },
  {
   "cell_type": "code",
   "execution_count": 55,
   "metadata": {},
   "outputs": [
    {
     "data": {
      "text/plain": [
       "'2016-05-15'"
      ]
     },
     "execution_count": 55,
     "metadata": {},
     "output_type": "execute_result"
    }
   ],
   "source": [
    "data['highlanderTournaments'][0]['endDate']#.keys()"
   ]
  },
  {
   "cell_type": "code",
   "execution_count": 45,
   "metadata": {},
   "outputs": [
    {
     "data": {
      "text/plain": [
       "['na_2015_summer_playoffs',\n",
       " 'na_2016_spring',\n",
       " 'na_2016_summer',\n",
       " 'na_2017_spring',\n",
       " 'na_2017_summer',\n",
       " 'na_2018_spring',\n",
       " 'na_2018_summer',\n",
       " 'na_2015_regionals']"
      ]
     },
     "execution_count": 45,
     "metadata": {},
     "output_type": "execute_result"
    }
   ],
   "source": [
    "tournamentId = data['highlanderTournaments'][2][\"id\"]\n",
    "\n",
    "brackets = data['highlanderTournaments'][2][\"brackets\"]\n",
    "\n",
    "matches = []\n",
    "games = {}"
   ]
  },
  {
   "cell_type": "code",
   "execution_count": 161,
   "metadata": {},
   "outputs": [
    {
     "name": "stdout",
     "output_type": "stream",
     "text": [
      "103\n"
     ]
    }
   ],
   "source": [
    "keys = list(brackets.keys())\n",
    "num_matches = 0\n",
    "for key in keys:\n",
    "    num_matches += len(brackets[key]['matches'])\n",
    "print(num_matches)"
   ]
  },
  {
   "cell_type": "code",
   "execution_count": 159,
   "metadata": {},
   "outputs": [
    {
     "name": "stdout",
     "output_type": "stream",
     "text": [
      "IMT-vs-APX 3 matches\n",
      "NRG-vs-APX 3 matches\n",
      "FOX-vs-TL 3 matches\n",
      "P1-vs-FOX 3 matches\n",
      "FOX-vs-CLG 3 matches\n",
      "NV-vs-TSM 3 matches\n",
      "APX-vs-IMT 3 matches\n",
      "IMT-vs-TSM 3 matches\n",
      "C9-vs-TL 3 matches\n",
      "APX-vs-CLG 3 matches\n",
      "P1-vs-IMT 3 matches\n",
      "C9-vs-NRG 3 matches\n",
      "C9-vs-NV 3 matches\n",
      "NRG-vs-TSM 3 matches\n",
      "TSM-vs-C9 3 matches\n",
      "NRG-vs-P1 3 matches\n",
      "C9-vs-APX 3 matches\n",
      "TL-vs-P1 3 matches\n",
      "IMT-vs-NV 3 matches\n",
      "IMT-vs-TL 3 matches\n",
      "P1-vs-NV 3 matches\n",
      "TSM-vs-P1 3 matches\n",
      "NV-vs-APX 3 matches\n",
      "FOX-vs-C9 3 matches\n",
      "APX-vs-NV 3 matches\n",
      "APX-vs-NRG 3 matches\n",
      "TL-vs-TSM 3 matches\n",
      "TL-vs-NRG 3 matches\n",
      "NV-vs-FOX 3 matches\n",
      "TSM-vs-FOX 3 matches\n",
      "TL-vs-CLG 3 matches\n",
      "FOX-vs-NRG 3 matches\n",
      "FOX-vs-TSM 3 matches\n",
      "NRG-vs-CLG 3 matches\n",
      "NV-vs-IMT 3 matches\n",
      "FOX-vs-IMT 3 matches\n",
      "TSM-vs-APX 3 matches\n",
      "FOX-vs-P1 3 matches\n",
      "TSM-vs-TL 3 matches\n",
      "NRG-vs-IMT 3 matches\n",
      "P1-vs-TL 3 matches\n",
      "NRG-vs-C9 3 matches\n",
      "NRG-vs-TL 3 matches\n",
      "C9-vs-P1 3 matches\n",
      "APX-vs-TL 3 matches\n",
      "NV-vs-CLG 3 matches\n",
      "CLG-vs-FOX 3 matches\n",
      "IMT-vs-FOX 3 matches\n",
      "P1-vs-C9 3 matches\n",
      "NV-vs-TL 3 matches\n",
      "APX-vs-TSM 3 matches\n",
      "TL-vs-C9 3 matches\n",
      "CLG-vs-NV 3 matches\n",
      "CLG-vs-TSM 3 matches\n",
      "FOX-vs-APX 3 matches\n",
      "NV-vs-P1 3 matches\n",
      "CLG-vs-TL 3 matches\n",
      "C9-vs-TSM 3 matches\n",
      "IMT-vs-NRG 3 matches\n",
      "TSM-vs-CLG 3 matches\n",
      "NRG-vs-FOX 3 matches\n",
      "P1-vs-APX 3 matches\n",
      "NV-vs-C9 3 matches\n",
      "CLG-vs-NRG 3 matches\n",
      "CLG-vs-APX 3 matches\n",
      "IMT-vs-P1 3 matches\n",
      "C9-vs-FOX 3 matches\n",
      "P1-vs-NRG 3 matches\n",
      "P1-vs-CLG 3 matches\n",
      "TL-vs-IMT 3 matches\n",
      "TSM-vs-IMT 3 matches\n",
      "CLG-vs-IMT 3 matches\n",
      "P1-vs-TSM 3 matches\n",
      "TL-vs-NV 3 matches\n",
      "CLG-vs-C9 3 matches\n",
      "CLG-vs-P1 3 matches\n",
      "TL-vs-APX 3 matches\n",
      "APX-vs-C9 3 matches\n",
      "APX-vs-FOX 3 matches\n",
      "C9-vs-CLG 3 matches\n",
      "C9-vs-IMT 3 matches\n",
      "TSM-vs-NRG 3 matches\n",
      "TL-vs-FOX 3 matches\n",
      "TSM-vs-NV 3 matches\n",
      "IMT-vs-C9 3 matches\n",
      "FOX-vs-NV 3 matches\n",
      "NV-vs-NRG 3 matches\n",
      "IMT-vs-CLG 3 matches\n",
      "APX-vs-P1 3 matches\n",
      "NRG-vs-NV 3 matches\n"
     ]
    }
   ],
   "source": [
    "index = 2\n",
    "for match in brackets[keys[index]]['matches']:\n",
    "    print(brackets[keys[index]]['matches'][match]['name'], end = ' ')\n",
    "#    print(brackets[keys[index]]['matches'][match].keys())#['games'].keys())\n",
    "    games = brackets[keys[index]]['matches'][match]['games']\n",
    "    num_games = len(games)\n",
    "    print(num_games, 'matches')\n",
    "#     for game in games:\n",
    "# #         print(games[game].keys())\n",
    "#        print(games[game]['generatedName'])"
   ]
  },
  {
   "cell_type": "code",
   "execution_count": 2,
   "metadata": {},
   "outputs": [],
   "source": [
    "\n",
    "\n",
    "#Get the list of matches and each of their games\n",
    "for bracketId in brackets:\n",
    "\n",
    "    #print(\"Bracket : \"+bracketId)\n",
    "    bracket = brackets[bracketId]\n",
    "    \n",
    "    for matchId in bracket[\"matches\"]:\n",
    "        \n",
    "        match = bracket[\"matches\"][matchId]\n",
    "        for gameId in match['games']:\n",
    "            \n",
    "            game = match['games'][gameId]\n",
    "            \n",
    "            if 'gameId' in game:\n",
    "                matches.append(matchId)\n",
    "                games[gameId] = {\"matchHistoryId\":game['gameId']}"
   ]
  },
  {
   "cell_type": "code",
   "execution_count": 4,
   "metadata": {},
   "outputs": [],
   "source": [
    "#Call each match to get the game hash    \n",
    "baseMatchUrl = \"http://api.lolesports.com/api/v2/highlanderMatchDetails?tournamentId=\"+tournamentId+\"&matchId=\"\n",
    "for matchId in matches:\n",
    "    r  = requests.get(baseMatchUrl + matchId)\n",
    "    dataMatch = json.loads(r.text)\n",
    "    for i in dataMatch[\"gameIdMappings\"]:\n",
    "        games[i[\"id\"]][\"hash\"] = i[\"gameHash\"]\n",
    "        \n",
    "#At last get the full game data\n",
    "baseMatchHistoryUrl = \"https://acs.leagueoflegends.com/v1/stats/game/TRLH1/\""
   ]
  },
  {
   "cell_type": "code",
   "execution_count": null,
   "metadata": {},
   "outputs": [],
   "source": [
    "for gameId in games:\n",
    "    r  = requests.get(baseMatchHistoryUrl + games[gameId][\"matchHistoryId\"] + \"?gameHash=\" + games[gameId][\"hash\"])\n",
    "    match_data = json.loads(r.text)\n",
    "    game_id = match_data['gameId']\n",
    "    \n",
    "    fout_match = './dat_tournaments/%d_%s_match_%d.json' % (league_id[i], tournament_title[i], game_id)\n",
    "    fout_timeline = fout_match.replace('match','timeline')\n",
    "    \n",
    "    r  = requests.get(baseMatchHistoryUrl + games[gameId][\"matchHistoryId\"] + \"/timeline?gameHash=\" + games[gameId][\"hash\"])\n",
    "    timeline_data = json.loads(r.text)\n",
    "    \n",
    "    with open(fout_match, 'w') as fp:\n",
    "        json.dump(match_data, fp)\n",
    "        \n",
    "    with open(fout_timeline, 'w') as fp:\n",
    "        json.dump(timeline_data, fp)"
   ]
  },
  {
   "cell_type": "code",
   "execution_count": null,
   "metadata": {},
   "outputs": [],
   "source": []
  }
 ],
 "metadata": {
  "kernelspec": {
   "display_name": "Python 3",
   "language": "python",
   "name": "python3"
  },
  "language_info": {
   "codemirror_mode": {
    "name": "ipython",
    "version": 3
   },
   "file_extension": ".py",
   "mimetype": "text/x-python",
   "name": "python",
   "nbconvert_exporter": "python",
   "pygments_lexer": "ipython3",
   "version": "3.6.5"
  }
 },
 "nbformat": 4,
 "nbformat_minor": 2
}
