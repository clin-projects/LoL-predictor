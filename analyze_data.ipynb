{
 "cells": [
  {
   "cell_type": "code",
   "execution_count": 125,
   "metadata": {},
   "outputs": [],
   "source": [
    "import numpy as np\n",
    "import matplotlib.pyplot as plt\n",
    "import seaborn as sns\n",
    "import pandas as pd\n",
    "from sklearn.model_selection import train_test_split\n",
    "\n",
    "np.set_printoptions(suppress=True)\n",
    "\n",
    "%matplotlib inline"
   ]
  },
  {
   "cell_type": "code",
   "execution_count": 126,
   "metadata": {},
   "outputs": [],
   "source": [
    "from sklearn.metrics import accuracy_score, log_loss\n",
    "from sklearn.linear_model import LogisticRegression\n",
    "from sklearn.svm import SVC\n",
    "from sklearn.ensemble import RandomForestClassifier\n",
    "\n",
    "def runModel(model, X_train, Y_train, X_test):\n",
    "    \"\"\"\n",
    "    performs fitting of [model] using [X_train] and [Y_train]\n",
    "    returns accuracy on training set, and predictions on [X_test]\n",
    "    \"\"\"\n",
    "    model.fit(X_train, Y_train)\n",
    "    Y_pred = model.predict(X_test)\n",
    "    accuracy = round(model.score(X_train, Y_train) * 100, 2)\n",
    "    return accuracy, Y_pred\n",
    "\n",
    "def runLogisticRegression(X_train, Y_train, X_test):\n",
    "    \"\"\"\n",
    "    runs logistic regression\n",
    "    returns accuracy on training set, and predictions\n",
    "    \"\"\"\n",
    "    logreg = LogisticRegression()\n",
    "    return runModel(logreg, X_train, Y_train, X_test)\n",
    "\n",
    "def runSVM(X_train, Y_train, X_test):\n",
    "    \"\"\"\n",
    "    runs support vector machine\n",
    "    returns accuracy on training set, and predictions\n",
    "    \"\"\"\n",
    "    svc = SVC()\n",
    "    return runModel(svc, X_train, Y_train, X_test)\n",
    "\n",
    "def runRandomForest(X_train, Y_train, X_test, n_estimators = 300):\n",
    "    \"\"\"\n",
    "    runs random forest with [n_estimators] estimators\n",
    "    returns accuracy on training set, and predictions\n",
    "    \"\"\"\n",
    "    random_forest = RandomForestClassifier(n_estimators=300)\n",
    "    return runModel(random_forest, X_train, Y_train, X_test)\n",
    "\n",
    "from sklearn.metrics import mean_squared_error, r2_score\n",
    "from sklearn import linear_model\n",
    "\n",
    "\n",
    "def runLinearRegression(X_train, Y_train, X_test):\n",
    "    regr = linear_model.LinearRegression()\n",
    "\n",
    "    regr.fit(X_train, Y_train)\n",
    "\n",
    "    # Make predictions using the testing set\n",
    "    Y_pred_test = regr.predict(X_test)\n",
    "    Y_pred_train = regr.predict(X_train)\n",
    "\n",
    "    return Y_pred_test, Y_pred_train\n",
    "\n",
    "def get_R2(Y_pred, Y_actual):\n",
    "    return r2_score(Y_actual, Y_pred)"
   ]
  },
  {
   "cell_type": "code",
   "execution_count": 127,
   "metadata": {},
   "outputs": [
    {
     "data": {
      "text/plain": [
       "['current_gold',\n",
       " 'total_gold',\n",
       " 'xp',\n",
       " 'max_current_gold',\n",
       " 'max_total_gold',\n",
       " 'max_xp',\n",
       " 'team_stats',\n",
       " 'winners',\n",
       " 'num_frames',\n",
       " 'champions',\n",
       " 'duration',\n",
       " 'versions',\n",
       " 'game_types',\n",
       " 'player_tiers']"
      ]
     },
     "execution_count": 127,
     "metadata": {},
     "output_type": "execute_result"
    }
   ],
   "source": [
    "# LOADING DATA\n",
    "\n",
    "fin = 'lol_dat.npz'\n",
    "fin = 'lol_dat_challenger.npz'\n",
    "\n",
    "npzfile = np.load(fin)\n",
    "npzfile.files"
   ]
  },
  {
   "cell_type": "code",
   "execution_count": 128,
   "metadata": {},
   "outputs": [
    {
     "data": {
      "text/plain": [
       "array([[[2500, 2500,    0],\n",
       "        [2500, 2500,    0],\n",
       "        [2913, 3018, -105],\n",
       "        ...,\n",
       "        [   0,    0,    0],\n",
       "        [   0,    0,    0],\n",
       "        [   0,    0,    0]],\n",
       "\n",
       "       [[2500, 2500,    0],\n",
       "        [2500, 2500,    0],\n",
       "        [2867, 2998, -131],\n",
       "        ...,\n",
       "        [   0,    0,    0],\n",
       "        [   0,    0,    0],\n",
       "        [   0,    0,    0]],\n",
       "\n",
       "       [[2500, 2500,    0],\n",
       "        [2500, 2500,    0],\n",
       "        [2975, 2987,  -12],\n",
       "        ...,\n",
       "        [   0,    0,    0],\n",
       "        [   0,    0,    0],\n",
       "        [   0,    0,    0]],\n",
       "\n",
       "       ...,\n",
       "\n",
       "       [[2500, 2500,    0],\n",
       "        [2500, 2500,    0],\n",
       "        [2925, 3396, -471],\n",
       "        ...,\n",
       "        [   0,    0,    0],\n",
       "        [   0,    0,    0],\n",
       "        [   0,    0,    0]],\n",
       "\n",
       "       [[2500, 2500,    0],\n",
       "        [2500, 2500,    0],\n",
       "        [2921, 2893,   28],\n",
       "        ...,\n",
       "        [   0,    0,    0],\n",
       "        [   0,    0,    0],\n",
       "        [   0,    0,    0]],\n",
       "\n",
       "       [[2500, 2500,    0],\n",
       "        [2505, 2500,    5],\n",
       "        [3063, 2904,  159],\n",
       "        ...,\n",
       "        [   0,    0,    0],\n",
       "        [   0,    0,    0],\n",
       "        [   0,    0,    0]]])"
      ]
     },
     "execution_count": 128,
     "metadata": {},
     "output_type": "execute_result"
    }
   ],
   "source": [
    "npzfile['total_gold']"
   ]
  },
  {
   "cell_type": "code",
   "execution_count": 129,
   "metadata": {},
   "outputs": [
    {
     "data": {
      "image/png": "[encoded data removed]",
      "text/plain": [
       "<Figure size 432x288 with 1 Axes>"
      ]
     },
     "metadata": {},
     "output_type": "display_data"
    }
   ],
   "source": [
    "plt.hist(npzfile['duration']/60,bins=200);"
   ]
  },
  {
   "cell_type": "code",
   "execution_count": 130,
   "metadata": {},
   "outputs": [
    {
     "name": "stdout",
     "output_type": "stream",
     "text": [
      "['8.1.213.4336' '8.1.214.5847' '8.10.229.7328' '8.11.231.7304'\n",
      " '8.11.232.7066' '8.11.232.8721' '8.12.233.4186' '8.13.235.3406'\n",
      " '8.13.235.9749' '8.14.238.1713' '8.14.238.9731' '8.14.239.6309'\n",
      " '8.15.239.9021' '8.16.241.6543' '8.17.243.3340' '8.2.215.824'\n",
      " '8.2.216.1199' '8.3.217.1022' '8.4.218.8787' '8.5.220.3006'\n",
      " '8.6.222.2149' '8.7.223.9264' '8.7.224.5563' '8.8.225.6906'\n",
      " '8.8.226.7254' '8.9.227.7511' '8.9.228.4283']\n",
      "['MATCHED_GAME']\n"
     ]
    }
   ],
   "source": [
    "print(np.unique(npzfile['versions']))\n",
    "print(np.unique(npzfile['game_types']))"
   ]
  },
  {
   "cell_type": "code",
   "execution_count": 148,
   "metadata": {
    "scrolled": true
   },
   "outputs": [
    {
     "name": "stdout",
     "output_type": "stream",
     "text": [
      "6301\n"
     ]
    }
   ],
   "source": [
    "min_ranking = 5 # 4: platinum\n",
    "fraction_cutoff = 0 # require this number of players to have min_ranking\n",
    "min_duration = 20\n",
    "max_duration = 60\n",
    "\n",
    "valid_games = np.where(\n",
    "    (np.sum(npzfile['player_tiers']>min_ranking,axis=1) >= fraction_cutoff) &\n",
    "    (npzfile['duration']/60 >= min_duration) &\n",
    "    (npzfile['duration']/60 <= max_duration)\n",
    "    )[0]\n",
    "print(len(valid_games))"
   ]
  },
  {
   "cell_type": "code",
   "execution_count": 133,
   "metadata": {},
   "outputs": [
    {
     "name": "stdout",
     "output_type": "stream",
     "text": [
      "(7302,)\n",
      "7302 matches\n"
     ]
    }
   ],
   "source": [
    "Y = npzfile['winners']\n",
    "n = len(Y)\n",
    "print(Y.shape)\n",
    "print(n, 'matches')"
   ]
  },
  {
   "cell_type": "code",
   "execution_count": 7,
   "metadata": {},
   "outputs": [
    {
     "data": {
      "text/plain": [
       "65"
      ]
     },
     "execution_count": 7,
     "metadata": {},
     "output_type": "execute_result"
    }
   ],
   "source": [
    "max_frames = np.max(npzfile['num_frames'])\n",
    "max_frames"
   ]
  },
  {
   "cell_type": "code",
   "execution_count": 71,
   "metadata": {},
   "outputs": [],
   "source": [
    "frame = 0\n",
    "X = npzfile['current_gold'][:,frame,2]\n",
    "X = X.reshape((n,1))"
   ]
  },
  {
   "cell_type": "code",
   "execution_count": 72,
   "metadata": {},
   "outputs": [
    {
     "name": "stdout",
     "output_type": "stream",
     "text": [
      "train: 51.68 \n",
      "test:  51.002435825370064\n"
     ]
    }
   ],
   "source": [
    "X_train, X_test, y_train, y_test = train_test_split(X, Y, test_size=0.2, random_state=42)\n",
    "acc, y_pred = runLogisticRegression(X_train, y_train, X_test)\n",
    "print('train:' ,acc, '\\ntest: ' ,accuracy_score(y_test, y_pred)*100)"
   ]
  },
  {
   "cell_type": "code",
   "execution_count": 6,
   "metadata": {},
   "outputs": [
    {
     "name": "stdout",
     "output_type": "stream",
     "text": [
      "frame:  1 , train: 51.53 , test:  53.18655851680185 N:  8627\n",
      "frame:  2 , train: 53.15 , test:  54.19649960222752 N:  25140\n",
      "frame:  3 , train: 58.81 , test:  57.47422680412371 N:  25218\n",
      "frame:  4 , train: 56.89 , test:  57.66249254621347 N:  25154\n",
      "frame:  5 , train: 54.59 , test:  54.859437751004016 N:  24897\n",
      "frame:  6 , train: 55.38 , test:  55.6046605062274 N:  24890\n",
      "frame:  7 , train: 56.37 , test:  55.90361445783133 N:  24897\n",
      "frame:  8 , train: 56.6 , test:  56.967871485943775 N:  24898\n",
      "frame:  9 , train: 58.54 , test:  58.62623016670015 N:  24892\n",
      "frame:  10 , train: 58.49 , test:  58.3283102270444 N:  24882\n",
      "frame:  11 , train: 58.95 , test:  58.9300080450523 N:  24858\n",
      "frame:  12 , train: 60.04 , test:  60.50352467270896 N:  24822\n",
      "frame:  13 , train: 60.08 , test:  59.3939393939394 N:  24746\n",
      "frame:  14 , train: 61.53 , test:  60.37774167343623 N:  24619\n",
      "frame:  15 , train: 61.95 , test:  62.5051082958725 N:  24466\n",
      "frame:  16 , train: 63.56 , test:  63.58762886597938 N:  24250\n",
      "frame:  17 , train: 63.58 , test:  62.762048843743244 N:  23132\n",
      "frame:  18 , train: 63.65 , test:  64.45676274944567 N:  22549\n",
      "frame:  19 , train: 63.51 , test:  62.95541977823037 N:  22093\n",
      "frame:  20 , train: 63.41 , test:  64.04285048905449 N:  21469\n",
      "frame:  21 , train: 65.04 , test:  65.96820809248555 N:  20756\n",
      "frame:  22 , train: 65.35 , test:  65.46338965693805 N:  19526\n",
      "frame:  23 , train: 65.19 , test:  64.96867338599837 N:  18355\n",
      "frame:  24 , train: 66.04 , test:  67.12529274004683 N:  17078\n",
      "frame:  25 , train: 66.32 , test:  66.3046949856276 N:  15655\n",
      "frame:  26 , train: 67.16 , test:  66.95926966292134 N:  14238\n",
      "frame:  27 , train: 66.96 , test:  66.28950448692939 N:  12814\n",
      "frame:  28 , train: 66.24 , test:  65.60565870910699 N:  11310\n",
      "frame:  29 , train: 67.32 , test:  67.92168674698796 N:  9958\n",
      "frame:  30 , train: 67.62 , test:  67.5596971461852 N:  8583\n",
      "frame:  31 , train: 67.53 , test:  67.3274094326726 N:  7314\n",
      "frame:  32 , train: 66.63 , test:  67.47769667477696 N:  6162\n",
      "frame:  33 , train: 67.53 , test:  67.08737864077669 N:  5148\n",
      "frame:  34 , train: 68.05 , test:  66.7458432304038 N:  4210\n",
      "frame:  35 , train: 66.07 , test:  68.21480406386067 N:  3445\n",
      "frame:  36 , train: 67.12 , test:  65.41218637992831 N:  2787\n",
      "frame:  37 , train: 69.91 , test:  69.17960088691795 N:  2252\n",
      "frame:  38 , train: 67.06 , test:  70.30812324929971 N:  1784\n",
      "frame:  39 , train: 72.23 , test:  63.47517730496454 N:  1409\n",
      "frame:  40 , train: 67.94 , test:  67.12962962962963 N:  1077\n",
      "frame:  41 , train: 67.81 , test:  66.46706586826348 N:  835\n",
      "frame:  42 , train: 63.4 , test:  55.2 N:  625\n",
      "frame:  43 , train: 64.04 , test:  67.70833333333334 N:  477\n",
      "frame:  44 , train: 64.24 , test:  60.526315789473685 N:  378\n",
      "frame:  45 , train: 60.93 , test:  70.37037037037037 N:  269\n",
      "frame:  46 , train: 58.17 , test:  53.84615384615385 N:  192\n",
      "frame:  47 , train: 58.62 , test:  62.06896551724138 N:  145\n",
      "frame:  48 , train: 57.95 , test:  52.17391304347826 N:  111\n",
      "frame:  49 , train: 59.7 , test:  58.82352941176471 N:  84\n",
      "frame:  50 , train: 58.18 , test:  50.0 N:  69\n",
      "frame:  51 , train: 57.14 , test:  54.54545454545454 N:  53\n",
      "frame:  52 , train: 67.86 , test:  100.0 N:  35\n",
      "frame:  53 , train: 76.19 , test:  83.33333333333334 N:  27\n",
      "frame:  54 , train: 70.59 , test:  100.0 N:  22\n",
      "frame:  55 , train: 61.54 , test:  100.0 N:  17\n",
      "frame:  56 , train: 70.0 , test:  100.0 N:  13\n",
      "frame:  57 , train: 62.5 , test:  100.0 N:  11\n",
      "frame:  58 , train: 50.0 , test:  100.0 N:  6\n",
      "frame:  59 , train: 100.0 , test:  0.0 N:  4\n",
      "frame:  60 , train: 100.0 , test:  0.0 N:  3\n",
      "frame:  61 ...issue\n",
      "frame:  62 ...issue\n",
      "frame:  63 ...issue\n",
      "frame:  64 ...issue\n"
     ]
    }
   ],
   "source": [
    "# predict just using lead in current gold\n",
    "\n",
    "acc_train_list = []\n",
    "acc_test_list = []\n",
    "valid_frames = []\n",
    "for frame in range(max_frames):\n",
    "    X = npzfile['current_gold'][:,frame,2]\n",
    "    indices = np.where(X != 0)[0]\n",
    "    X = X.reshape((n,1))\n",
    "    if len(indices) == 0:\n",
    "        continue\n",
    "    # print('frame: ', frame,', number of matches: ',len(indices[0]))\n",
    "    try:\n",
    "        X_train, X_test, y_train, y_test = train_test_split(X[indices], Y[indices], test_size=0.2, random_state=42)\n",
    "        acc_train, y_pred = runLogisticRegression(X_train, y_train, X_test)\n",
    "        acc_test = accuracy_score(y_test, y_pred)*100\n",
    "        acc_train_list.append(acc_train)\n",
    "        acc_test_list.append(acc_test)\n",
    "        valid_frames.append(frame)\n",
    "        print('frame: ', frame, ', train:' ,acc_train, ', test: ' , acc_test, 'N: ', len(indices))\n",
    "    except:\n",
    "        print('frame: ', frame, '...issue')"
   ]
  },
  {
   "cell_type": "code",
   "execution_count": 7,
   "metadata": {},
   "outputs": [
    {
     "data": {
      "text/plain": [
       "[<matplotlib.lines.Line2D at 0x112c33940>]"
      ]
     },
     "execution_count": 7,
     "metadata": {},
     "output_type": "execute_result"
    },
    {
     "data": {
      "image/png": "[encoded data removed]",
      "text/plain": [
       "<Figure size 432x288 with 1 Axes>"
      ]
     },
     "metadata": {},
     "output_type": "display_data"
    }
   ],
   "source": [
    "plt.plot(valid_frames, acc_test_list)"
   ]
  },
  {
   "cell_type": "code",
   "execution_count": 10,
   "metadata": {},
   "outputs": [
    {
     "name": "stdout",
     "output_type": "stream",
     "text": [
      "frame:  1 , train: 55.48 , test:  55.44217687074829 N:  4406\n",
      "frame:  2 , train: 55.6 , test:  53.80942908295205 N:  25131\n",
      "frame:  3 , train: 60.75 , test:  58.76288659793815 N:  25218\n",
      "frame:  4 , train: 63.91 , test:  61.955873583780566 N:  25154\n",
      "frame:  5 , train: 65.02 , test:  65.66265060240963 N:  24896\n",
      "frame:  6 , train: 67.01 , test:  66.59971881903996 N:  24893\n",
      "frame:  7 , train: 68.04 , test:  69.2570281124498 N:  24897\n",
      "frame:  8 , train: 69.71 , test:  69.93975903614458 N:  24896\n",
      "frame:  9 , train: 71.72 , test:  70.81157091201285 N:  24889\n",
      "frame:  10 , train: 72.98 , test:  72.35837685817597 N:  24886\n",
      "frame:  11 , train: 73.86 , test:  74.84415845566058 N:  24864\n",
      "frame:  12 , train: 74.89 , test:  75.64954682779457 N:  24825\n",
      "frame:  13 , train: 76.29 , test:  75.71717171717171 N:  24750\n",
      "frame:  14 , train: 77.55 , test:  76.26877791311408 N:  24626\n",
      "frame:  15 , train: 78.17 , test:  78.83122190437271 N:  24466\n",
      "frame:  16 , train: 78.86 , test:  79.71552257266544 N:  24252\n",
      "frame:  17 , train: 79.11 , test:  79.79252215258266 N:  23134\n",
      "frame:  18 , train: 79.98 , test:  79.17960088691795 N:  22550\n",
      "frame:  19 , train: 80.54 , test:  80.69699026929169 N:  22095\n",
      "frame:  20 , train: 80.73 , test:  80.7638565440149 N:  21469\n",
      "frame:  21 , train: 81.78 , test:  80.80443159922929 N:  20760\n",
      "frame:  22 , train: 81.63 , test:  81.20839733742959 N:  19528\n",
      "frame:  23 , train: 81.87 , test:  81.8082788671024 N:  18358\n",
      "frame:  24 , train: 81.97 , test:  83.37236533957847 N:  17079\n",
      "frame:  25 , train: 82.62 , test:  81.44955300127714 N:  15659\n",
      "frame:  26 , train: 82.65 , test:  82.19803370786516 N:  14240\n",
      "frame:  27 , train: 82.11 , test:  82.44245025360905 N:  12815\n",
      "frame:  28 , train: 81.84 , test:  80.73353954927089 N:  11312\n",
      "frame:  29 , train: 81.13 , test:  82.1285140562249 N:  9959\n",
      "frame:  30 , train: 81.26 , test:  79.84857309260337 N:  8584\n",
      "frame:  31 , train: 79.71 , test:  80.041011619959 N:  7313\n",
      "frame:  32 , train: 78.88 , test:  78.1021897810219 N:  6163\n",
      "frame:  33 , train: 78.4 , test:  76.60194174757281 N:  5150\n",
      "frame:  34 , train: 77.05 , test:  77.22419928825623 N:  4211\n",
      "frame:  35 , train: 76.78 , test:  77.53623188405797 N:  3446\n",
      "frame:  36 , train: 75.59 , test:  77.41935483870968 N:  2787\n",
      "frame:  37 , train: 75.79 , test:  73.8359201773836 N:  2252\n",
      "frame:  38 , train: 74.23 , test:  74.2296918767507 N:  1785\n",
      "frame:  39 , train: 74.71 , test:  75.88652482269504 N:  1409\n",
      "frame:  40 , train: 73.87 , test:  69.9074074074074 N:  1077\n",
      "frame:  41 , train: 72.31 , test:  72.45508982035929 N:  835\n",
      "frame:  42 , train: 69.4 , test:  71.2 N:  625\n",
      "frame:  43 , train: 67.19 , test:  77.08333333333334 N:  477\n",
      "frame:  44 , train: 68.65 , test:  68.42105263157895 N:  379\n",
      "frame:  45 , train: 68.37 , test:  68.51851851851852 N:  269\n",
      "frame:  46 , train: 70.59 , test:  69.23076923076923 N:  192\n",
      "frame:  47 , train: 73.28 , test:  75.86206896551724 N:  145\n",
      "frame:  48 , train: 69.32 , test:  78.26086956521739 N:  111\n",
      "frame:  49 , train: 65.67 , test:  76.47058823529412 N:  84\n",
      "frame:  50 , train: 72.73 , test:  71.42857142857143 N:  69\n",
      "frame:  51 , train: 71.43 , test:  72.72727272727273 N:  53\n",
      "frame:  52 , train: 75.0 , test:  100.0 N:  35\n",
      "frame:  53 , train: 80.95 , test:  83.33333333333334 N:  27\n",
      "frame:  54 , train: 76.47 , test:  100.0 N:  22\n",
      "frame:  55 , train: 69.23 , test:  100.0 N:  17\n",
      "frame:  56 , train: 80.0 , test:  100.0 N:  13\n",
      "frame:  57 , train: 75.0 , test:  100.0 N:  11\n",
      "frame:  58 , train: 50.0 , test:  100.0 N:  6\n",
      "frame:  59 , train: 66.67 , test:  0.0 N:  4\n",
      "frame:  60 , train: 50.0 , test:  0.0 N:  3\n",
      "frame:  61 ...issue\n",
      "frame:  62 ...issue\n",
      "frame:  63 ...issue\n",
      "frame:  64 ...issue\n"
     ]
    }
   ],
   "source": [
    "# predict just using lead in total gold\n",
    "\n",
    "acc_train_list = []\n",
    "acc_test_list = []\n",
    "valid_frames = []\n",
    "for frame in range(max_frames):\n",
    "    X = npzfile['total_gold'][:,frame,2]\n",
    "    indices = np.where(X != 0)[0]\n",
    "    X = X.reshape((n,1))\n",
    "    if len(indices) == 0:\n",
    "        continue\n",
    "    # print('frame: ', frame,', number of matches: ',len(indices[0]))\n",
    "    try:\n",
    "        X_train, X_test, y_train, y_test = train_test_split(X[indices], Y[indices], test_size=0.2, random_state=42)\n",
    "        acc_train, y_pred = runLogisticRegression(X_train, y_train, X_test)\n",
    "        acc_test = accuracy_score(y_test, y_pred)*100\n",
    "        acc_train_list.append(acc_train)\n",
    "        acc_test_list.append(acc_test)\n",
    "        valid_frames.append(frame)\n",
    "        print('frame: ', frame, ', train:' ,acc_train, ', test: ' , acc_test, 'N: ', len(indices))\n",
    "    except:\n",
    "        print('frame: ', frame, '...issue')"
   ]
  },
  {
   "cell_type": "code",
   "execution_count": 11,
   "metadata": {},
   "outputs": [
    {
     "data": {
      "text/plain": [
       "[<matplotlib.lines.Line2D at 0x10abea390>]"
      ]
     },
     "execution_count": 11,
     "metadata": {},
     "output_type": "execute_result"
    },
    {
     "data": {
      "image/png": "[encoded data removed]",
      "text/plain": [
       "<Figure size 432x288 with 1 Axes>"
      ]
     },
     "metadata": {},
     "output_type": "display_data"
    }
   ],
   "source": [
    "plt.plot(valid_frames, acc_test_list)"
   ]
  },
  {
   "cell_type": "code",
   "execution_count": 8,
   "metadata": {},
   "outputs": [
    {
     "name": "stdout",
     "output_type": "stream",
     "text": [
      "frame:  1 , train: 54.9 , test:  55.68181818181818 N:  4397\n",
      "frame:  2 , train: 55.31 , test:  53.03625028861695 N:  21653\n",
      "frame:  3 , train: 58.85 , test:  58.900260887015854 N:  24914\n",
      "frame:  4 , train: 61.07 , test:  62.87652104528226 N:  25061\n",
      "frame:  5 , train: 63.6 , test:  61.768844221105525 N:  24874\n",
      "frame:  6 , train: 64.2 , test:  65.03918022905366 N:  24881\n",
      "frame:  7 , train: 65.69 , test:  66.77380474085979 N:  24887\n",
      "frame:  8 , train: 66.87 , test:  67.32315112540192 N:  24879\n",
      "frame:  9 , train: 68.17 , test:  68.15990357573322 N:  24887\n",
      "frame:  10 , train: 69.51 , test:  70.23115577889448 N:  24871\n",
      "frame:  11 , train: 70.44 , test:  70.8107020720177 N:  24854\n",
      "frame:  12 , train: 71.76 , test:  71.93229901269393 N:  24815\n",
      "frame:  13 , train: 72.53 , test:  72.39846433622954 N:  24745\n",
      "frame:  14 , train: 73.21 , test:  74.26888708367181 N:  24616\n",
      "frame:  15 , train: 74.07 , test:  75.47516860821581 N:  24463\n",
      "frame:  16 , train: 75.4 , test:  74.01526087853165 N:  24244\n",
      "frame:  17 , train: 74.84 , test:  75.24859489840034 N:  23130\n",
      "frame:  18 , train: 75.35 , test:  76.73541805278332 N:  22544\n",
      "frame:  19 , train: 75.83 , test:  76.18832050701675 N:  22087\n",
      "frame:  20 , train: 76.27 , test:  75.45412203074056 N:  21467\n",
      "frame:  21 , train: 77.07 , test:  75.81888246628131 N:  20757\n",
      "frame:  22 , train: 77.14 , test:  76.72215108834827 N:  19522\n",
      "frame:  23 , train: 77.55 , test:  78.02287581699346 N:  18356\n",
      "frame:  24 , train: 77.49 , test:  78.07377049180327 N:  17079\n",
      "frame:  25 , train: 77.5 , test:  77.41935483870968 N:  15653\n",
      "frame:  26 , train: 77.32 , test:  77.31741573033707 N:  14236\n",
      "frame:  27 , train: 77.16 , test:  76.19976589933671 N:  12815\n",
      "frame:  28 , train: 75.9 , test:  75.95048629531388 N:  11310\n",
      "frame:  29 , train: 75.12 , test:  75.30120481927712 N:  9959\n",
      "frame:  30 , train: 73.99 , test:  74.19918462434478 N:  8583\n",
      "frame:  31 , train: 73.41 , test:  72.29822161422709 N:  7310\n",
      "frame:  32 , train: 71.76 , test:  72.4249797242498 N:  6163\n",
      "frame:  33 , train: 71.17 , test:  70.48543689320388 N:  5150\n",
      "frame:  34 , train: 69.6 , test:  70.58125741399762 N:  4211\n",
      "frame:  35 , train: 67.78 , test:  69.71014492753623 N:  3446\n",
      "frame:  36 , train: 66.26 , test:  67.56272401433692 N:  2787\n",
      "frame:  37 , train: 65.44 , test:  67.40576496674058 N:  2251\n",
      "frame:  38 , train: 65.5 , test:  65.54621848739495 N:  1783\n",
      "frame:  39 , train: 66.16 , test:  64.8936170212766 N:  1408\n",
      "frame:  40 , train: 64.58 , test:  62.03703703703704 N:  1077\n",
      "frame:  41 , train: 63.17 , test:  60.47904191616767 N:  835\n",
      "frame:  42 , train: 60.8 , test:  58.4 N:  625\n",
      "frame:  43 , train: 60.1 , test:  67.70833333333334 N:  477\n",
      "frame:  44 , train: 61.59 , test:  63.1578947368421 N:  378\n",
      "frame:  45 , train: 61.4 , test:  57.407407407407405 N:  269\n",
      "frame:  46 , train: 60.78 , test:  51.28205128205128 N:  192\n",
      "frame:  47 , train: 57.39 , test:  55.172413793103445 N:  144\n",
      "frame:  48 , train: 55.68 , test:  47.82608695652174 N:  111\n",
      "frame:  49 , train: 59.7 , test:  58.82352941176471 N:  84\n",
      "frame:  50 , train: 56.36 , test:  42.857142857142854 N:  69\n",
      "frame:  51 , train: 57.14 , test:  54.54545454545454 N:  53\n",
      "frame:  52 , train: 64.29 , test:  100.0 N:  35\n",
      "frame:  53 , train: 76.19 , test:  83.33333333333334 N:  27\n",
      "frame:  54 , train: 70.59 , test:  100.0 N:  22\n",
      "frame:  55 , train: 76.92 , test:  50.0 N:  17\n",
      "frame:  56 , train: 50.0 , test:  66.66666666666666 N:  13\n",
      "frame:  57 , train: 62.5 , test:  100.0 N:  11\n",
      "frame:  58 , train: 50.0 , test:  50.0 N:  6\n",
      "frame:  59 , train: 33.33 , test:  100.0 N:  4\n",
      "frame:  60 , train: 50.0 , test:  0.0 N:  3\n",
      "frame:  61 ...issue\n",
      "frame:  62 ...issue\n",
      "frame:  63 ...issue\n",
      "frame:  64 ...issue\n"
     ]
    }
   ],
   "source": [
    "# predict just using lead in max total gold\n",
    "\n",
    "acc_train_list = []\n",
    "acc_test_list = []\n",
    "valid_frames = []\n",
    "for frame in range(max_frames):\n",
    "    X = npzfile['max_total_gold'][:,frame,2]\n",
    "    indices = np.where(X != 0)[0]\n",
    "    X = X.reshape((n,1))\n",
    "    if len(indices) == 0:\n",
    "        continue\n",
    "    # print('frame: ', frame,', number of matches: ',len(indices[0]))\n",
    "    try:\n",
    "        X_train, X_test, y_train, y_test = train_test_split(X[indices], Y[indices], test_size=0.2, random_state=42)\n",
    "        acc_train, y_pred = runLogisticRegression(X_train, y_train, X_test)\n",
    "        acc_test = accuracy_score(y_test, y_pred)*100\n",
    "        acc_train_list.append(acc_train)\n",
    "        acc_test_list.append(acc_test)\n",
    "        valid_frames.append(frame)\n",
    "        print('frame: ', frame, ', train:' ,acc_train, ', test: ' , acc_test, 'N: ', len(indices))\n",
    "    except:\n",
    "        print('frame: ', frame, '...issue')"
   ]
  },
  {
   "cell_type": "code",
   "execution_count": 9,
   "metadata": {},
   "outputs": [
    {
     "data": {
      "text/plain": [
       "[<matplotlib.lines.Line2D at 0x112cce128>]"
      ]
     },
     "execution_count": 9,
     "metadata": {},
     "output_type": "execute_result"
    },
    {
     "data": {
      "image/png": "[encoded data removed]",
      "text/plain": [
       "<Figure size 432x288 with 1 Axes>"
      ]
     },
     "metadata": {},
     "output_type": "display_data"
    }
   ],
   "source": [
    "plt.plot(valid_frames, acc_test_list)"
   ]
  },
  {
   "cell_type": "code",
   "execution_count": 80,
   "metadata": {},
   "outputs": [
    {
     "name": "stdout",
     "output_type": "stream",
     "text": [
      "frame:  1 , train: 57.46 , test:  54.90753911806543 N:  3512\n",
      "frame:  2 , train: 54.03 , test:  54.52137722285282 N:  26428\n",
      "frame:  3 , train: 58.57 , test:  58.080239970003745 N:  26667\n",
      "frame:  4 , train: 60.01 , test:  60.9627679578789 N:  26587\n",
      "frame:  5 , train: 61.68 , test:  62.20322886989553 N:  26321\n",
      "frame:  6 , train: 64.91 , test:  62.56410256410256 N:  26324\n",
      "frame:  7 , train: 66.86 , test:  67.10351377018043 N:  26321\n",
      "frame:  8 , train: 68.2 , test:  67.9582146248813 N:  26321\n",
      "frame:  9 , train: 69.76 , test:  70.29646522234891 N:  26309\n",
      "frame:  10 , train: 71.36 , test:  71.16517772286637 N:  26305\n",
      "frame:  11 , train: 72.86 , test:  71.9611945976793 N:  26281\n",
      "frame:  12 , train: 73.97 , test:  73.29902801600915 N:  26232\n",
      "frame:  13 , train: 75.02 , test:  75.45402408717263 N:  26154\n",
      "frame:  14 , train: 76.11 , test:  76.1913912375096 N:  26017\n",
      "frame:  15 , train: 76.49 , test:  77.22082446293787 N:  25833\n",
      "frame:  16 , train: 77.54 , test:  77.10042985541227 N:  25588\n",
      "frame:  17 , train: 77.4 , test:  78.621255642183 N:  24367\n",
      "frame:  18 , train: 78.15 , test:  76.77705125500948 N:  23704\n",
      "frame:  19 , train: 78.27 , test:  77.57654161276413 N:  23187\n",
      "frame:  20 , train: 78.46 , test:  78.9239662072032 N:  22490\n",
      "frame:  21 , train: 79.13 , test:  79.80658530969376 N:  21711\n",
      "frame:  22 , train: 79.75 , test:  79.60736196319019 N:  20375\n",
      "frame:  23 , train: 79.51 , test:  80.52287581699346 N:  19123\n",
      "frame:  24 , train: 79.56 , test:  80.3486083778465 N:  17782\n",
      "frame:  25 , train: 80.39 , test:  79.74217311233886 N:  16290\n",
      "frame:  26 , train: 79.99 , test:  80.97165991902834 N:  14820\n",
      "frame:  27 , train: 79.04 , test:  79.1072768192048 N:  13327\n",
      "frame:  28 , train: 78.52 , test:  78.77498936622713 N:  11755\n",
      "frame:  29 , train: 78.31 , test:  77.34299516908213 N:  10350\n",
      "frame:  30 , train: 77.95 , test:  76.23318385650224 N:  8919\n",
      "frame:  31 , train: 76.84 , test:  78.36949375410914 N:  7605\n",
      "frame:  32 , train: 75.78 , test:  76.24610591900311 N:  6420\n",
      "frame:  33 , train: 75.91 , test:  74.69767441860465 N:  5372\n",
      "frame:  34 , train: 73.89 , test:  75.02837684449489 N:  4401\n",
      "frame:  35 , train: 72.41 , test:  75.72815533980582 N:  3602\n",
      "frame:  36 , train: 72.84 , test:  75.1286449399657 N:  2914\n",
      "frame:  37 , train: 73.57 , test:  72.2457627118644 N:  2360\n",
      "frame:  38 , train: 73.01 , test:  72.41379310344827 N:  1881\n",
      "frame:  39 , train: 73.11 , test:  71.47651006711409 N:  1488\n",
      "frame:  40 , train: 68.64 , test:  70.6140350877193 N:  1140\n",
      "frame:  41 , train: 69.53 , test:  69.66292134831461 N:  887\n",
      "frame:  42 , train: 67.86 , test:  73.88059701492537 N:  666\n",
      "frame:  43 , train: 67.65 , test:  66.66666666666666 N:  507\n",
      "frame:  44 , train: 66.25 , test:  60.0 N:  400\n",
      "frame:  45 , train: 65.35 , test:  63.793103448275865 N:  286\n",
      "frame:  46 , train: 63.12 , test:  75.60975609756098 N:  201\n",
      "frame:  47 , train: 62.6 , test:  70.96774193548387 N:  154\n",
      "frame:  48 , train: 64.13 , test:  62.5 N:  116\n",
      "frame:  49 , train: 63.77 , test:  44.44444444444444 N:  87\n",
      "frame:  50 , train: 60.71 , test:  66.66666666666666 N:  71\n",
      "frame:  51 , train: 63.64 , test:  72.72727272727273 N:  55\n",
      "frame:  52 , train: 78.57 , test:  62.5 N:  36\n",
      "frame:  53 , train: 86.36 , test:  50.0 N:  28\n",
      "frame:  54 , train: 66.67 , test:  100.0 N:  23\n",
      "frame:  55 , train: 61.54 , test:  100.0 N:  17\n",
      "frame:  56 , train: 60.0 , test:  100.0 N:  13\n",
      "frame:  57 , train: 62.5 , test:  100.0 N:  11\n",
      "frame:  58 , train: 75.0 , test:  0.0 N:  6\n",
      "frame:  59 , train: 66.67 , test:  0.0 N:  4\n",
      "frame:  60 , train: 50.0 , test:  0.0 N:  3\n",
      "frame:  61 ...issue\n",
      "frame:  62 ...issue\n",
      "frame:  63 ...issue\n",
      "frame:  64 ...issue\n"
     ]
    }
   ],
   "source": [
    "# predict just using lead in xp\n",
    "\n",
    "acc_train_list = []\n",
    "acc_test_list = []\n",
    "valid_frames = []\n",
    "for frame in range(max_frames):\n",
    "    X = npzfile['xp'][:,frame,2]\n",
    "    indices = np.where(X != 0)[0]\n",
    "    X = X.reshape((n,1))\n",
    "    if len(indices) == 0:\n",
    "        continue\n",
    "    # print('frame: ', frame,', number of matches: ',len(indices[0]))\n",
    "    try:\n",
    "        X_train, X_test, y_train, y_test = train_test_split(X[indices], Y[indices], test_size=0.2, random_state=42)\n",
    "        acc_train, y_pred = runLogisticRegression(X_train, y_train, X_test)\n",
    "        acc_test = accuracy_score(y_test, y_pred)*100\n",
    "        acc_train_list.append(acc_train)\n",
    "        acc_test_list.append(acc_test)\n",
    "        valid_frames.append(frame)\n",
    "        print('frame: ', frame, ', train:' ,acc_train, ', test: ' , acc_test, 'N: ', len(indices))\n",
    "    except:\n",
    "        print('frame: ', frame, '...issue')"
   ]
  },
  {
   "cell_type": "code",
   "execution_count": 81,
   "metadata": {},
   "outputs": [
    {
     "data": {
      "text/plain": [
       "[<matplotlib.lines.Line2D at 0x106d3fa90>]"
      ]
     },
     "execution_count": 81,
     "metadata": {},
     "output_type": "execute_result"
    },
    {
     "data": {
      "image/png": "[encoded data removed]",
      "text/plain": [
       "<Figure size 432x288 with 1 Axes>"
      ]
     },
     "metadata": {},
     "output_type": "display_data"
    }
   ],
   "source": [
    "plt.plot(valid_frames, acc_test_list)"
   ]
  },
  {
   "cell_type": "code",
   "execution_count": 87,
   "metadata": {},
   "outputs": [
    {
     "data": {
      "text/plain": [
       "(26683, 65)"
      ]
     },
     "execution_count": 87,
     "metadata": {},
     "output_type": "execute_result"
    }
   ],
   "source": [
    "X_pre = npzfile['total_gold'][:,:,2]\n",
    "X_pre.shape"
   ]
  },
  {
   "cell_type": "code",
   "execution_count": 90,
   "metadata": {},
   "outputs": [
    {
     "data": {
      "text/plain": [
       "array([[0, 1, 1, ..., 0, 0, 0],\n",
       "       [0, 0, 0, ..., 0, 0, 0],\n",
       "       [0, 0, 1, ..., 0, 0, 0],\n",
       "       ...,\n",
       "       [0, 0, 0, ..., 0, 0, 0],\n",
       "       [0, 0, 1, ..., 0, 0, 0],\n",
       "       [0, 0, 0, ..., 0, 0, 0]])"
      ]
     },
     "execution_count": 90,
     "metadata": {},
     "output_type": "execute_result"
    }
   ],
   "source": [
    "lead = 1*(X_pre > 0)\n",
    "for i in range(max_frames):\n",
    "    percent_time_with_lead = []"
   ]
  },
  {
   "cell_type": "code",
   "execution_count": 98,
   "metadata": {},
   "outputs": [
    {
     "name": "stdout",
     "output_type": "stream",
     "text": [
      "[[1 1 1]\n",
      " [0 0 0]\n",
      " [0 1 1]\n",
      " ...\n",
      " [0 0 1]\n",
      " [0 1 1]\n",
      " [0 0 0]]\n"
     ]
    },
    {
     "data": {
      "text/plain": [
       "(26683,)"
      ]
     },
     "execution_count": 98,
     "metadata": {},
     "output_type": "execute_result"
    }
   ],
   "source": [
    "cur_frame = 3\n",
    "print(lead[:,1:cur_frame+1])\n",
    "(np.sum(lead[:,1:cur_frame+1],axis=1) / cur_frame).shape"
   ]
  },
  {
   "cell_type": "code",
   "execution_count": 101,
   "metadata": {},
   "outputs": [
    {
     "name": "stderr",
     "output_type": "stream",
     "text": [
      "/Users/ccl/anaconda3/envs/test/lib/python3.6/site-packages/ipykernel_launcher.py:12: RuntimeWarning: invalid value encountered in true_divide\n",
      "  if sys.path[0] == '':\n"
     ]
    },
    {
     "name": "stdout",
     "output_type": "stream",
     "text": [
      "frame:  0 ...issue\n",
      "frame:  1 , train: 52.54 , test:  51.853953840332956 N:  26428\n",
      "frame:  2 , train: 55.2 , test:  54.94938132733408 N:  26667\n",
      "frame:  3 , train: 58.24 , test:  58.44302369311771 N:  26587\n",
      "frame:  4 , train: 61.25 , test:  62.35517568850902 N:  26321\n",
      "frame:  5 , train: 63.56 , test:  62.79202279202279 N:  26324\n",
      "frame:  6 , train: 64.96 , test:  65.47008547008546 N:  26321\n",
      "frame:  7 , train: 66.37 , test:  65.79297245963912 N:  26321\n",
      "frame:  8 , train: 67.63 , test:  66.72367920942608 N:  26309\n",
      "frame:  9 , train: 68.48 , test:  68.52309446873218 N:  26305\n",
      "frame:  10 , train: 69.9 , test:  69.12687844778391 N:  26281\n",
      "frame:  11 , train: 70.79 , test:  70.47836859157613 N:  26232\n",
      "frame:  12 , train: 71.76 , test:  70.94245842095202 N:  26154\n",
      "frame:  13 , train: 72.32 , test:  72.09838585703305 N:  26017\n",
      "frame:  14 , train: 72.95 , test:  72.86626669247144 N:  25833\n",
      "frame:  15 , train: 73.6 , test:  73.9937475576397 N:  25588\n",
      "frame:  16 , train: 73.06 , test:  74.02544111612639 N:  24367\n",
      "frame:  17 , train: 73.47 , test:  73.04366167475216 N:  23704\n",
      "frame:  18 , train: 73.57 , test:  73.19965502371711 N:  23187\n",
      "frame:  19 , train: 74.02 , test:  73.121387283237 N:  22490\n",
      "frame:  20 , train: 73.65 , test:  74.30347685931383 N:  21711\n",
      "frame:  21 , train: 73.11 , test:  73.9877300613497 N:  20375\n",
      "frame:  22 , train: 72.56 , test:  73.12418300653594 N:  19123\n",
      "frame:  23 , train: 72.06 , test:  73.3764408209165 N:  17782\n",
      "frame:  24 , train: 71.49 , test:  71.39349294045427 N:  16290\n",
      "frame:  25 , train: 70.23 , test:  72.43589743589743 N:  14820\n",
      "frame:  26 , train: 69.55 , test:  70.5926481620405 N:  13327\n",
      "frame:  27 , train: 68.3 , test:  69.50233943002976 N:  11755\n",
      "frame:  28 , train: 67.67 , test:  66.85990338164251 N:  10350\n",
      "frame:  29 , train: 66.25 , test:  67.2085201793722 N:  8919\n",
      "frame:  30 , train: 65.22 , test:  65.28599605522683 N:  7605\n",
      "frame:  31 , train: 63.94 , test:  63.00623052959502 N:  6420\n",
      "frame:  32 , train: 62.93 , test:  62.32558139534884 N:  5372\n",
      "frame:  33 , train: 62.44 , test:  58.683314415437 N:  4401\n",
      "frame:  34 , train: 60.6 , test:  61.719833564493754 N:  3602\n",
      "frame:  35 , train: 58.82 , test:  61.57804459691252 N:  2914\n",
      "frame:  36 , train: 58.95 , test:  60.80508474576271 N:  2360\n",
      "frame:  37 , train: 57.91 , test:  58.09018567639257 N:  1881\n",
      "frame:  38 , train: 57.39 , test:  54.69798657718121 N:  1488\n",
      "frame:  39 , train: 58.22 , test:  55.70175438596491 N:  1140\n",
      "frame:  40 , train: 57.4 , test:  54.49438202247191 N:  887\n",
      "frame:  41 , train: 54.51 , test:  57.46268656716418 N:  666\n",
      "frame:  42 , train: 55.8 , test:  54.90196078431373 N:  507\n",
      "frame:  43 , train: 55.0 , test:  57.49999999999999 N:  400\n",
      "frame:  44 , train: 60.09 , test:  60.3448275862069 N:  286\n",
      "frame:  45 , train: 51.88 , test:  65.85365853658537 N:  201\n",
      "frame:  46 , train: 58.54 , test:  51.61290322580645 N:  154\n",
      "frame:  47 , train: 55.43 , test:  45.83333333333333 N:  116\n",
      "frame:  48 , train: 59.42 , test:  55.55555555555556 N:  87\n",
      "frame:  49 , train: 62.5 , test:  33.33333333333333 N:  71\n",
      "frame:  50 , train: 56.82 , test:  45.45454545454545 N:  55\n",
      "frame:  51 , train: 71.43 , test:  62.5 N:  36\n",
      "frame:  52 , train: 81.82 , test:  50.0 N:  28\n",
      "frame:  53 , train: 66.67 , test:  100.0 N:  23\n",
      "frame:  54 , train: 61.54 , test:  100.0 N:  17\n",
      "frame:  55 , train: 60.0 , test:  100.0 N:  13\n",
      "frame:  56 , train: 62.5 , test:  100.0 N:  11\n",
      "frame:  57 , train: 50.0 , test:  100.0 N:  6\n",
      "frame:  58 , train: 66.67 , test:  0.0 N:  4\n",
      "frame:  59 , train: 100.0 , test:  0.0 N:  3\n",
      "frame:  60 ...issue\n",
      "frame:  61 ...issue\n",
      "frame:  62 ...issue\n",
      "frame:  63 ...issue\n"
     ]
    }
   ],
   "source": [
    "# predict using fraction time with lead\n",
    "\n",
    "acc_train_list = []\n",
    "acc_test_list = []\n",
    "valid_frames = []\n",
    "\n",
    "lead = 1*(npzfile['total_gold'][:,:,2] > 0)\n",
    "\n",
    "for frame in range(max_frames-1):\n",
    "    X = npzfile['xp'][:,frame+1,2]\n",
    "    indices = np.where(X != 0)[0]\n",
    "    X = np.sum(lead[:,1:frame+1],axis=1) / frame\n",
    "    X = X.reshape((n,1))\n",
    "    if len(indices) == 0:\n",
    "        continue\n",
    "    # print('frame: ', frame,', number of matches: ',len(indices[0]))\n",
    "    try:\n",
    "        X_train, X_test, y_train, y_test = train_test_split(X[indices], Y[indices], test_size=0.2, random_state=42)\n",
    "        acc_train, y_pred = runLogisticRegression(X_train, y_train, X_test)\n",
    "        acc_test = accuracy_score(y_test, y_pred)*100\n",
    "        acc_train_list.append(acc_train)\n",
    "        acc_test_list.append(acc_test)\n",
    "        valid_frames.append(frame)\n",
    "        print('frame: ', frame, ', train:' ,acc_train, ', test: ' , acc_test, 'N: ', len(indices))\n",
    "    except:\n",
    "        print('frame: ', frame, '...issue')"
   ]
  },
  {
   "cell_type": "code",
   "execution_count": 102,
   "metadata": {},
   "outputs": [
    {
     "data": {
      "text/plain": [
       "[<matplotlib.lines.Line2D at 0x10ed76080>]"
      ]
     },
     "execution_count": 102,
     "metadata": {},
     "output_type": "execute_result"
    },
    {
     "data": {
      "image/png": "[encoded data removed]",
      "text/plain": [
       "<Figure size 432x288 with 1 Axes>"
      ]
     },
     "metadata": {},
     "output_type": "display_data"
    }
   ],
   "source": [
    "plt.plot(valid_frames, acc_test_list)"
   ]
  },
  {
   "cell_type": "code",
   "execution_count": 109,
   "metadata": {},
   "outputs": [
    {
     "name": "stdout",
     "output_type": "stream",
     "text": [
      "(26683, 5)\n",
      "frame:  1 , train: 53.3 , test:  52.04313280363224 N:  26428\n",
      "(26683, 5)\n",
      "frame:  2 , train: 55.48 , test:  55.49306336707911 N:  26667\n",
      "(26683, 5)\n",
      "frame:  3 , train: 60.62 , test:  60.49266641594584 N:  26587\n",
      "(26683, 5)\n",
      "frame:  4 , train: 63.56 , test:  64.21652421652422 N:  26321\n",
      "(26683, 5)\n",
      "frame:  5 , train: 65.5 , test:  65.07122507122507 N:  26324\n",
      "(26683, 5)\n",
      "frame:  6 , train: 67.34 , test:  67.63532763532764 N:  26321\n",
      "(26683, 5)\n",
      "frame:  7 , train: 68.82 , test:  68.98385565052232 N:  26321\n",
      "(26683, 5)\n",
      "frame:  8 , train: 70.39 , test:  70.04941087039148 N:  26309\n",
      "(26683, 5)\n",
      "frame:  9 , train: 72.12 , test:  72.5527466261167 N:  26305\n",
      "(26683, 5)\n",
      "frame:  10 , train: 73.36 , test:  72.18946167015407 N:  26281\n",
      "(26683, 5)\n",
      "frame:  11 , train: 74.75 , test:  74.06136840099104 N:  26232\n",
      "(26683, 5)\n",
      "frame:  12 , train: 75.66 , test:  74.67023513668515 N:  26154\n",
      "(26683, 5)\n",
      "frame:  13 , train: 76.64 , test:  76.30668716372021 N:  26017\n",
      "(26683, 5)\n",
      "frame:  14 , train: 77.55 , test:  77.74337139539385 N:  25833\n",
      "(26683, 5)\n",
      "frame:  15 , train: 78.54 , test:  78.54630715123095 N:  25588\n",
      "(26683, 5)\n",
      "frame:  16 , train: 78.32 , test:  79.17521542880591 N:  24367\n",
      "(26683, 5)\n",
      "frame:  17 , train: 79.39 , test:  78.16916262391901 N:  23704\n",
      "(26683, 5)\n",
      "frame:  18 , train: 79.77 , test:  79.21517895644674 N:  23187\n",
      "(26683, 5)\n",
      "frame:  19 , train: 80.32 , test:  80.08003557136504 N:  22490\n",
      "(26683, 5)\n",
      "frame:  20 , train: 80.37 , test:  80.54340317752705 N:  21711\n",
      "(26683, 5)\n",
      "frame:  21 , train: 80.37 , test:  81.76687116564418 N:  20375\n",
      "(26683, 5)\n",
      "frame:  22 , train: 80.45 , test:  81.85620915032679 N:  19123\n",
      "(26683, 5)\n",
      "frame:  23 , train: 80.41 , test:  81.38881079561429 N:  17782\n",
      "(26683, 5)\n",
      "frame:  24 , train: 81.25 , test:  80.69367710251689 N:  16290\n",
      "(26683, 5)\n",
      "frame:  25 , train: 80.68 , test:  82.79352226720647 N:  14820\n",
      "(26683, 5)\n",
      "frame:  26 , train: 81.03 , test:  81.32033008252063 N:  13327\n",
      "(26683, 5)\n",
      "frame:  27 , train: 80.53 , test:  79.88090174393875 N:  11755\n",
      "(26683, 5)\n",
      "frame:  28 , train: 79.54 , test:  80.96618357487922 N:  10350\n",
      "(26683, 5)\n",
      "frame:  29 , train: 79.22 , test:  79.37219730941703 N:  8919\n",
      "(26683, 5)\n",
      "frame:  30 , train: 78.19 , test:  79.6844181459566 N:  7605\n",
      "(26683, 5)\n",
      "frame:  31 , train: 76.58 , test:  78.11526479750779 N:  6420\n",
      "(26683, 5)\n",
      "frame:  32 , train: 76.22 , test:  74.32558139534883 N:  5372\n",
      "(26683, 5)\n",
      "frame:  33 , train: 75.09 , test:  72.8717366628831 N:  4401\n",
      "(26683, 5)\n",
      "frame:  34 , train: 73.1 , test:  76.56033287101248 N:  3602\n",
      "(26683, 5)\n",
      "frame:  35 , train: 72.59 , test:  75.47169811320755 N:  2914\n",
      "(26683, 5)\n",
      "frame:  36 , train: 73.25 , test:  70.97457627118644 N:  2360\n",
      "(26683, 5)\n",
      "frame:  37 , train: 73.2 , test:  71.08753315649867 N:  1881\n",
      "(26683, 5)\n",
      "frame:  38 , train: 72.52 , test:  65.77181208053692 N:  1488\n",
      "(26683, 5)\n",
      "frame:  39 , train: 70.72 , test:  72.36842105263158 N:  1140\n",
      "(26683, 5)\n",
      "frame:  40 , train: 68.12 , test:  64.04494382022472 N:  887\n",
      "(26683, 5)\n",
      "frame:  41 , train: 68.23 , test:  65.67164179104478 N:  666\n",
      "(26683, 5)\n",
      "frame:  42 , train: 65.93 , test:  67.64705882352942 N:  507\n",
      "(26683, 5)\n",
      "frame:  43 , train: 65.94 , test:  60.0 N:  400\n",
      "(26683, 5)\n",
      "frame:  44 , train: 64.47 , test:  60.3448275862069 N:  286\n",
      "(26683, 5)\n",
      "frame:  45 , train: 63.12 , test:  80.48780487804879 N:  201\n",
      "(26683, 5)\n",
      "frame:  46 , train: 68.29 , test:  74.19354838709677 N:  154\n",
      "(26683, 5)\n",
      "frame:  47 , train: 69.57 , test:  58.333333333333336 N:  116\n",
      "(26683, 5)\n",
      "frame:  48 , train: 68.12 , test:  61.111111111111114 N:  87\n",
      "(26683, 5)\n",
      "frame:  49 , train: 71.43 , test:  53.333333333333336 N:  71\n",
      "(26683, 5)\n",
      "frame:  50 , train: 70.45 , test:  36.36363636363637 N:  55\n",
      "(26683, 5)\n",
      "frame:  51 , train: 75.0 , test:  62.5 N:  36\n",
      "(26683, 5)\n",
      "frame:  52 , train: 86.36 , test:  50.0 N:  28\n",
      "(26683, 5)\n",
      "frame:  53 , train: 83.33 , test:  80.0 N:  23\n",
      "(26683, 5)\n",
      "frame:  54 , train: 84.62 , test:  75.0 N:  17\n",
      "(26683, 5)\n",
      "frame:  55 , train: 80.0 , test:  66.66666666666666 N:  13\n",
      "(26683, 5)\n",
      "frame:  56 , train: 62.5 , test:  33.33333333333333 N:  11\n",
      "(26683, 5)\n",
      "frame:  57 , train: 100.0 , test:  50.0 N:  6\n",
      "(26683, 5)\n",
      "frame:  58 , train: 100.0 , test:  0.0 N:  4\n",
      "(26683, 5)\n",
      "frame:  59 , train: 100.0 , test:  0.0 N:  3\n",
      "(26683, 5)\n",
      "frame:  60 ...issue\n",
      "(26683, 5)\n",
      "frame:  61 ...issue\n",
      "(26683, 5)\n",
      "frame:  62 ...issue\n",
      "(26683, 5)\n",
      "frame:  63 ...issue\n"
     ]
    }
   ],
   "source": [
    "# combining variables\n",
    "\n",
    "acc_train_list = []\n",
    "acc_test_list = []\n",
    "valid_frames = []\n",
    "\n",
    "lead = 1*(npzfile['total_gold'][:,:,2] > 0)\n",
    "\n",
    "for frame in range(1,max_frames-1):\n",
    "    X = npzfile['xp'][:,frame+1,2]\n",
    "    indices = np.where(X != 0)[0]\n",
    "    X1 = (np.sum(lead[:,1:frame+1],axis=1) / frame).reshape(-1,1)\n",
    "    \n",
    "    X2 = npzfile['total_gold'][:,frame,2].reshape(-1,1)\n",
    "    \n",
    "    X3 = npzfile['current_gold'][:,frame,2].reshape(-1,1)\n",
    "    \n",
    "    X4 = npzfile['max_total_gold'][:,frame,2].reshape(-1,1)\n",
    "    \n",
    "    X5 = npzfile['xp'][:,frame,2].reshape(-1,1)\n",
    "    \n",
    "    X = np.concatenate((X1,X2,X3,X4,X5),axis=1)\n",
    "    \n",
    "    if len(indices) == 0:\n",
    "        continue\n",
    "    # print('frame: ', frame,', number of matches: ',len(indices[0]))\n",
    "    try:\n",
    "        X_train, X_test, y_train, y_test = train_test_split(X[indices], Y[indices], test_size=0.2, random_state=42)\n",
    "        acc_train, y_pred = runLogisticRegression(X_train, y_train, X_test)\n",
    "        acc_test = accuracy_score(y_test, y_pred)*100\n",
    "        acc_train_list.append(acc_train)\n",
    "        acc_test_list.append(acc_test)\n",
    "        valid_frames.append(frame)\n",
    "        print('frame: ', frame, ', train:' ,acc_train, ', test: ' , acc_test, 'N: ', len(indices))\n",
    "    except:\n",
    "        print('frame: ', frame, '...issue')"
   ]
  },
  {
   "cell_type": "code",
   "execution_count": 110,
   "metadata": {},
   "outputs": [
    {
     "data": {
      "text/plain": [
       "[<matplotlib.lines.Line2D at 0x10f2c9e48>]"
      ]
     },
     "execution_count": 110,
     "metadata": {},
     "output_type": "execute_result"
    },
    {
     "data": {
      "image/png": "[encoded data removed]",
      "text/plain": [
       "<Figure size 432x288 with 1 Axes>"
      ]
     },
     "metadata": {},
     "output_type": "display_data"
    }
   ],
   "source": [
    "plt.plot(valid_frames, acc_test_list)"
   ]
  },
  {
   "cell_type": "code",
   "execution_count": 111,
   "metadata": {},
   "outputs": [
    {
     "name": "stdout",
     "output_type": "stream",
     "text": [
      "frame:  1 , train: 52.65 , test:  51.38100643208475 N:  26428\n",
      "frame:  2 , train: 55.49 , test:  54.761904761904766 N:  26667\n",
      "frame:  3 , train: 60.4 , test:  60.81233546446032 N:  26587\n",
      "frame:  4 , train: 63.21 , test:  64.42545109211775 N:  26321\n",
      "frame:  5 , train: 65.43 , test:  64.86229819563152 N:  26324\n",
      "frame:  6 , train: 66.94 , test:  67.63532763532764 N:  26321\n",
      "frame:  7 , train: 68.46 , test:  68.45204178537512 N:  26321\n",
      "frame:  8 , train: 69.97 , test:  69.82136069935386 N:  26309\n",
      "frame:  9 , train: 71.68 , test:  71.84945827789394 N:  26305\n",
      "frame:  10 , train: 72.97 , test:  72.85524063153889 N:  26281\n",
      "frame:  11 , train: 74.17 , test:  74.19477796836289 N:  26232\n",
      "frame:  12 , train: 75.39 , test:  74.03938061556107 N:  26154\n",
      "frame:  13 , train: 76.27 , test:  75.9607993850884 N:  26017\n",
      "frame:  14 , train: 77.26 , test:  77.27888523321076 N:  25833\n",
      "frame:  15 , train: 78.33 , test:  77.90152403282532 N:  25588\n",
      "frame:  16 , train: 78.06 , test:  78.47763643824375 N:  24367\n",
      "frame:  17 , train: 79.02 , test:  77.85277367643957 N:  23704\n",
      "frame:  18 , train: 79.49 , test:  78.95644674428634 N:  23187\n",
      "frame:  19 , train: 80.0 , test:  79.99110715873722 N:  22490\n",
      "frame:  20 , train: 80.11 , test:  80.22104536034999 N:  21711\n",
      "frame:  21 , train: 80.16 , test:  81.12883435582822 N:  20375\n",
      "frame:  22 , train: 80.06 , test:  80.99346405228758 N:  19123\n",
      "frame:  23 , train: 80.11 , test:  81.30447005903851 N:  17782\n",
      "frame:  24 , train: 80.54 , test:  80.60159607120934 N:  16290\n",
      "frame:  25 , train: 80.0 , test:  82.32118758434548 N:  14820\n",
      "frame:  26 , train: 80.3 , test:  81.54538634658664 N:  13327\n",
      "frame:  27 , train: 79.71 , test:  79.32794555508295 N:  11755\n",
      "frame:  28 , train: 78.72 , test:  80.43478260869566 N:  10350\n",
      "frame:  29 , train: 78.19 , test:  78.0829596412556 N:  8919\n",
      "frame:  30 , train: 77.5 , test:  78.17225509533202 N:  7605\n",
      "frame:  31 , train: 75.88 , test:  77.25856697819314 N:  6420\n",
      "frame:  32 , train: 75.17 , test:  74.13953488372093 N:  5372\n",
      "frame:  33 , train: 74.74 , test:  70.60158910329172 N:  4401\n",
      "frame:  34 , train: 72.06 , test:  74.47988904299584 N:  3602\n",
      "frame:  35 , train: 72.29 , test:  74.09948542024014 N:  2914\n",
      "frame:  36 , train: 72.14 , test:  70.76271186440678 N:  2360\n",
      "frame:  37 , train: 70.68 , test:  72.14854111405835 N:  1881\n",
      "frame:  38 , train: 70.92 , test:  64.09395973154362 N:  1488\n",
      "frame:  39 , train: 69.41 , test:  69.73684210526315 N:  1140\n",
      "frame:  40 , train: 68.12 , test:  65.1685393258427 N:  887\n",
      "frame:  41 , train: 68.23 , test:  65.67164179104478 N:  666\n",
      "frame:  42 , train: 65.93 , test:  65.68627450980392 N:  507\n",
      "frame:  43 , train: 65.0 , test:  61.25000000000001 N:  400\n",
      "frame:  44 , train: 66.23 , test:  65.51724137931035 N:  286\n",
      "frame:  45 , train: 61.25 , test:  80.48780487804879 N:  201\n",
      "frame:  46 , train: 65.04 , test:  74.19354838709677 N:  154\n",
      "frame:  47 , train: 73.91 , test:  62.5 N:  116\n",
      "frame:  48 , train: 65.22 , test:  55.55555555555556 N:  87\n",
      "frame:  49 , train: 67.86 , test:  66.66666666666666 N:  71\n",
      "frame:  50 , train: 68.18 , test:  63.63636363636363 N:  55\n",
      "frame:  51 , train: 78.57 , test:  62.5 N:  36\n",
      "frame:  52 , train: 86.36 , test:  50.0 N:  28\n",
      "frame:  53 , train: 66.67 , test:  100.0 N:  23\n",
      "frame:  54 , train: 61.54 , test:  100.0 N:  17\n",
      "frame:  55 , train: 60.0 , test:  100.0 N:  13\n",
      "frame:  56 , train: 62.5 , test:  100.0 N:  11\n",
      "frame:  57 , train: 50.0 , test:  100.0 N:  6\n",
      "frame:  58 , train: 66.67 , test:  0.0 N:  4\n",
      "frame:  59 , train: 50.0 , test:  0.0 N:  3\n",
      "frame:  60 ...issue\n",
      "frame:  61 ...issue\n",
      "frame:  62 ...issue\n",
      "frame:  63 ...issue\n"
     ]
    }
   ],
   "source": [
    "# combining variables\n",
    "\n",
    "acc_train_list = []\n",
    "acc_test_list = []\n",
    "valid_frames = []\n",
    "\n",
    "lead = 1*(npzfile['total_gold'][:,:,2] > 0)\n",
    "\n",
    "for frame in range(1,max_frames-1):\n",
    "    X = npzfile['xp'][:,frame+1,2]\n",
    "    indices = np.where(X != 0)[0]\n",
    "    X1 = (np.sum(lead[:,1:frame+1],axis=1) / frame).reshape(-1,1)\n",
    "    \n",
    "    X2 = npzfile['total_gold'][:,frame,2].reshape(-1,1)\n",
    "    \n",
    "    X = np.concatenate((X1,X2),axis=1)\n",
    "    \n",
    "    if len(indices) == 0:\n",
    "        continue\n",
    "    # print('frame: ', frame,', number of matches: ',len(indices[0]))\n",
    "    try:\n",
    "        X_train, X_test, y_train, y_test = train_test_split(X[indices], Y[indices], test_size=0.2, random_state=42)\n",
    "        acc_train, y_pred = runLogisticRegression(X_train, y_train, X_test)\n",
    "        acc_test = accuracy_score(y_test, y_pred)*100\n",
    "        acc_train_list.append(acc_train)\n",
    "        acc_test_list.append(acc_test)\n",
    "        valid_frames.append(frame)\n",
    "        print('frame: ', frame, ', train:' ,acc_train, ', test: ' , acc_test, 'N: ', len(indices))\n",
    "    except:\n",
    "        print('frame: ', frame, '...issue')"
   ]
  },
  {
   "cell_type": "code",
   "execution_count": 122,
   "metadata": {},
   "outputs": [
    {
     "name": "stdout",
     "output_type": "stream",
     "text": [
      "frame:  1 , train: 56.96 , test:  54.957983193277315 N:  2974\n",
      "frame:  2 , train: 56.75 , test:  57.59065765212047 N:  16270\n",
      "frame:  3 , train: 64.2 , test:  63.92036753445636 N:  16322\n",
      "frame:  4 , train: 68.9 , test:  68.50199938480468 N:  16251\n",
      "frame:  5 , train: 71.24 , test:  71.58059467918622 N:  15974\n",
      "frame:  6 , train: 74.22 , test:  73.38760175328741 N:  15969\n",
      "frame:  7 , train: 76.11 , test:  76.11893583724569 N:  15972\n",
      "frame:  8 , train: 77.93 , test:  77.96557120500782 N:  15973\n",
      "frame:  9 , train: 80.02 , test:  81.02098340119011 N:  15964\n",
      "frame:  10 , train: 82.1 , test:  82.01754385964912 N:  15956\n",
      "frame:  11 , train: 83.74 , test:  83.71509256353939 N:  15934\n",
      "frame:  12 , train: 85.14 , test:  84.38778722064842 N:  15885\n",
      "frame:  13 , train: 86.62 , test:  87.28250553622271 N:  15805\n",
      "frame:  14 , train: 87.9 , test:  87.61965539246968 N:  15668\n",
      "frame:  15 , train: 88.71 , test:  89.05392315143688 N:  15483\n",
      "frame:  16 , train: 89.97 , test:  89.66535433070865 N:  15239\n",
      "frame:  17 , train: 90.31 , test:  90.72753209700429 N:  14016\n",
      "frame:  18 , train: 90.79 , test:  91.12691875701985 N:  13355\n",
      "frame:  19 , train: 91.91 , test:  91.1993769470405 N:  12837\n",
      "frame:  20 , train: 92.43 , test:  91.51565074135091 N:  12140\n",
      "frame:  21 , train: 93.02 , test:  94.23669159700836 N:  11361\n",
      "frame:  22 , train: 93.84 , test:  93.71884346959123 N:  10026\n",
      "frame:  23 , train: 95.23 , test:  94.18803418803418 N:  8773\n",
      "frame:  24 , train: 96.15 , test:  95.42703429724277 N:  7432\n",
      "frame:  25 , train: 97.18 , test:  96.38351555929351 N:  5942\n",
      "frame:  26 , train: 97.29 , test:  97.87472035794184 N:  4470\n",
      "frame:  27 , train: 98.24 , test:  97.98657718120806 N:  2977\n",
      "frame:  28 , train: 98.31 , test:  98.57651245551602 N:  1405\n"
     ]
    }
   ],
   "source": [
    "# only over games that last 30 minutes or fewer\n",
    "\n",
    "acc_train_list = []\n",
    "acc_test_list = []\n",
    "valid_frames = []\n",
    "\n",
    "lead = 1*(npzfile['total_gold'][:,:,2] > 0)\n",
    "\n",
    "max_time = 30\n",
    "main_indices = np.where(npzfile['num_frames'] < max_time)[0]\n",
    "len(main_indices)\n",
    "\n",
    "for frame in range(1,max_frames-1):\n",
    "    X1 = (np.sum(lead[:,1:frame+1],axis=1) / frame).reshape(-1,1)[main_indices]\n",
    "    \n",
    "    X2 = npzfile['total_gold'][:,frame,2].reshape(-1,1)[main_indices]\n",
    "    \n",
    "    indices = np.where(X2 != 0)[0]\n",
    "    \n",
    "    X = np.concatenate((X1,X2),axis=1)\n",
    "    \n",
    "    if len(indices) == 0:\n",
    "        continue\n",
    "    # print('frame: ', frame,', number of matches: ',len(indices[0]))\n",
    "    try:\n",
    "        X_train, X_test, y_train, y_test = train_test_split(X[indices], Y[main_indices][indices], test_size=0.2, random_state=42)\n",
    "        acc_train, y_pred = runLogisticRegression(X_train, y_train, X_test)\n",
    "        acc_test = accuracy_score(y_test, y_pred)*100\n",
    "        acc_train_list.append(acc_train)\n",
    "        acc_test_list.append(acc_test)\n",
    "        valid_frames.append(frame)\n",
    "        print('frame: ', frame, ', train:' ,acc_train, ', test: ' , acc_test, 'N: ', len(indices))\n",
    "    except:\n",
    "        print('frame: ', frame, '...issue')"
   ]
  },
  {
   "cell_type": "code",
   "execution_count": 123,
   "metadata": {},
   "outputs": [
    {
     "name": "stdout",
     "output_type": "stream",
     "text": [
      "frame:  1 , train: 55.13 , test:  52.459016393442624 N:  2132\n",
      "frame:  2 , train: 54.86 , test:  55.743801652892564 N:  12097\n",
      "frame:  3 , train: 61.0 , test:  61.22785331685208 N:  12132\n",
      "frame:  4 , train: 64.81 , test:  64.82701812191104 N:  12138\n",
      "frame:  5 , train: 67.35 , test:  68.69851729818781 N:  12138\n",
      "frame:  6 , train: 70.16 , test:  69.01524515863206 N:  12132\n",
      "frame:  7 , train: 71.71 , test:  71.81705809641534 N:  12135\n",
      "frame:  8 , train: 73.55 , test:  73.06425041186162 N:  12137\n",
      "frame:  9 , train: 76.22 , test:  75.164744645799 N:  12137\n",
      "frame:  10 , train: 77.94 , test:  77.97447509263071 N:  12141\n",
      "frame:  11 , train: 79.72 , test:  79.74475092630712 N:  12141\n",
      "frame:  12 , train: 81.43 , test:  79.85996705107084 N:  12140\n",
      "frame:  13 , train: 83.38 , test:  83.15485996705108 N:  12140\n",
      "frame:  14 , train: 84.91 , test:  83.89621087314663 N:  12140\n",
      "frame:  15 , train: 86.22 , test:  85.25535420098846 N:  12140\n",
      "frame:  16 , train: 87.71 , test:  87.27347611202636 N:  12140\n",
      "frame:  17 , train: 89.23 , test:  88.55496088925484 N:  12141\n",
      "frame:  18 , train: 90.21 , test:  89.41951420337587 N:  12141\n",
      "frame:  19 , train: 91.59 , test:  90.36640592836558 N:  12141\n",
      "frame:  20 , train: 92.43 , test:  91.51565074135091 N:  12140\n",
      "frame:  21 , train: 93.02 , test:  94.23669159700836 N:  11361\n",
      "frame:  22 , train: 93.84 , test:  93.71884346959123 N:  10026\n",
      "frame:  23 , train: 95.23 , test:  94.18803418803418 N:  8773\n",
      "frame:  24 , train: 96.15 , test:  95.42703429724277 N:  7432\n",
      "frame:  25 , train: 97.18 , test:  96.38351555929351 N:  5942\n",
      "frame:  26 , train: 97.29 , test:  97.87472035794184 N:  4470\n",
      "frame:  27 , train: 98.24 , test:  97.98657718120806 N:  2977\n",
      "frame:  28 , train: 98.31 , test:  98.57651245551602 N:  1405\n"
     ]
    }
   ],
   "source": [
    "# only over games that last 30 minutes or fewer\n",
    "\n",
    "acc_train_list = []\n",
    "acc_test_list = []\n",
    "valid_frames = []\n",
    "\n",
    "lead = 1*(npzfile['total_gold'][:,:,2] > 0)\n",
    "\n",
    "min_time = 20\n",
    "max_time = 30\n",
    "main_indices = np.where((npzfile['num_frames'] < max_time) & (npzfile['num_frames'] > min_time))[0]\n",
    "len(main_indices)\n",
    "\n",
    "for frame in range(1,max_frames-1):\n",
    "    X1 = (np.sum(lead[:,1:frame+1],axis=1) / frame).reshape(-1,1)[main_indices]\n",
    "    \n",
    "    X2 = npzfile['total_gold'][:,frame,2].reshape(-1,1)[main_indices]\n",
    "    \n",
    "    indices = np.where(X2 != 0)[0]\n",
    "    \n",
    "    X = np.concatenate((X1,X2),axis=1)\n",
    "    \n",
    "    if len(indices) == 0:\n",
    "        continue\n",
    "    # print('frame: ', frame,', number of matches: ',len(indices[0]))\n",
    "    try:\n",
    "        X_train, X_test, y_train, y_test = train_test_split(X[indices], Y[main_indices][indices], test_size=0.2, random_state=42)\n",
    "        acc_train, y_pred = runLogisticRegression(X_train, y_train, X_test)\n",
    "        acc_test = accuracy_score(y_test, y_pred)*100\n",
    "        acc_train_list.append(acc_train)\n",
    "        acc_test_list.append(acc_test)\n",
    "        valid_frames.append(frame)\n",
    "        print('frame: ', frame, ', train:' ,acc_train, ', test: ' , acc_test, 'N: ', len(indices))\n",
    "    except:\n",
    "        print('frame: ', frame, '...issue')"
   ]
  },
  {
   "cell_type": "code",
   "execution_count": 134,
   "metadata": {},
   "outputs": [
    {
     "name": "stdout",
     "output_type": "stream",
     "text": [
      "['champion_ids', 'champion_names', 'champion_roles_array', 'champion_embeddings', 'all_roles_dict']\n"
     ]
    }
   ],
   "source": [
    "fin = 'embeddings.npz'\n",
    "\n",
    "champion_file = np.load(fin)\n",
    "print(champion_file.files)\n",
    "\n",
    "embeddings = champion_file['champion_embeddings']\n",
    "\n",
    "num_champions = len(embeddings)\n",
    "map_champions = dict(zip(champion_file['champion_ids'], range(num_champions))) # maps champion_id to 0...num_champions\n",
    "re_indexed_champions = np.vectorize(map_champions.get)(npzfile['champions'])"
   ]
  },
  {
   "cell_type": "code",
   "execution_count": 135,
   "metadata": {},
   "outputs": [
    {
     "data": {
      "text/plain": [
       "(7302, 10, 20)"
      ]
     },
     "execution_count": 135,
     "metadata": {},
     "output_type": "execute_result"
    }
   ],
   "source": [
    "embeddings = champion_file['champion_embeddings']\n",
    "embeddings[re_indexed_champions].shape"
   ]
  },
  {
   "cell_type": "code",
   "execution_count": 136,
   "metadata": {},
   "outputs": [
    {
     "data": {
      "text/plain": [
       "(7302, 20)"
      ]
     },
     "execution_count": 136,
     "metadata": {},
     "output_type": "execute_result"
    }
   ],
   "source": [
    "# calculate feature as the differencein embeddings\n",
    "team_1 = np.sum(embeddings[re_indexed_champions][:,:5,:],axis=1)\n",
    "team_2 = np.sum(embeddings[re_indexed_champions][:,5:,:],axis=1)\n",
    "team_diff = team_1 - team_2\n",
    "team_diff.shape"
   ]
  },
  {
   "cell_type": "code",
   "execution_count": 145,
   "metadata": {},
   "outputs": [
    {
     "name": "stdout",
     "output_type": "stream",
     "text": [
      "frame:  0 , train: 52.84 , test:  51.94184425413264 N:  25104\n",
      "frame:  1 , train: 57.65 , test:  55.40386803185437 N:  4395\n",
      "frame:  2 , train: 55.0 , test:  55.58 N:  24998\n",
      "frame:  3 , train: 60.44 , test:  61.231811839744864 N:  25085\n",
      "frame:  4 , train: 63.3 , test:  63.23676323676324 N:  25021\n",
      "frame:  5 , train: 65.35 , test:  65.11205330102968 N:  24763\n",
      "frame:  6 , train: 66.98 , test:  66.53877221324717 N:  24760\n",
      "frame:  7 , train: 68.26 , test:  68.34241873611953 N:  24764\n",
      "frame:  8 , train: 69.55 , test:  69.77589339794065 N:  24763\n",
      "frame:  9 , train: 71.44 , test:  71.18336025848141 N:  24757\n",
      "frame:  10 , train: 72.65 , test:  72.94022617124394 N:  24758\n",
      "frame:  11 , train: 73.85 , test:  74.21180274858528 N:  24737\n",
      "frame:  12 , train: 74.88 , test:  75.08601497672535 N:  24701\n",
      "frame:  13 , train: 76.14 , test:  75.7206658546488 N:  24629\n",
      "frame:  14 , train: 77.33 , test:  76.60615949418724 N:  24512\n",
      "frame:  15 , train: 78.0 , test:  79.05211325400082 N:  24367\n",
      "frame:  16 , train: 79.11 , test:  78.36160529582126 N:  24169\n",
      "frame:  17 , train: 79.1 , test:  79.54052882531425 N:  23067\n",
      "frame:  18 , train: 79.94 , test:  79.11111111111111 N:  22496\n",
      "frame:  19 , train: 80.73 , test:  79.75056689342404 N:  22050\n",
      "frame:  20 , train: 80.7 , test:  80.7557732680196 N:  21433\n",
      "frame:  21 , train: 81.39 , test:  82.22811671087533 N:  20732\n",
      "frame:  22 , train: 81.29 , test:  82.4750192159877 N:  19511\n",
      "frame:  23 , train: 81.85 , test:  81.85286103542234 N:  18348\n",
      "frame:  24 , train: 82.04 , test:  83.04538799414348 N:  17072\n",
      "frame:  25 , train: 82.46 , test:  82.05046311082721 N:  15654\n",
      "frame:  26 , train: 82.48 , test:  82.83005617977528 N:  14238\n",
      "frame:  27 , train: 82.15 , test:  82.28638314475224 N:  12814\n",
      "frame:  28 , train: 81.84 , test:  80.73353954927089 N:  11312\n",
      "frame:  29 , train: 81.13 , test:  82.1285140562249 N:  9959\n",
      "frame:  30 , train: 81.26 , test:  79.84857309260337 N:  8584\n",
      "frame:  31 , train: 79.71 , test:  80.041011619959 N:  7313\n",
      "frame:  32 , train: 78.88 , test:  78.1021897810219 N:  6163\n",
      "frame:  33 , train: 78.4 , test:  76.60194174757281 N:  5150\n",
      "frame:  34 , train: 77.05 , test:  77.22419928825623 N:  4211\n",
      "frame:  35 , train: 76.78 , test:  77.53623188405797 N:  3446\n",
      "frame:  36 , train: 75.59 , test:  77.41935483870968 N:  2787\n",
      "frame:  37 , train: 75.79 , test:  73.8359201773836 N:  2252\n",
      "frame:  38 , train: 74.23 , test:  74.2296918767507 N:  1785\n",
      "frame:  39 , train: 74.71 , test:  75.88652482269504 N:  1409\n",
      "frame:  40 , train: 73.87 , test:  69.9074074074074 N:  1077\n",
      "frame:  41 , train: 72.31 , test:  72.45508982035929 N:  835\n",
      "frame:  42 , train: 69.4 , test:  71.2 N:  625\n",
      "frame:  43 , train: 68.5 , test:  73.95833333333334 N:  477\n",
      "frame:  44 , train: 68.65 , test:  68.42105263157895 N:  379\n",
      "frame:  45 , train: 69.77 , test:  68.51851851851852 N:  269\n",
      "frame:  46 , train: 72.55 , test:  71.7948717948718 N:  192\n",
      "frame:  47 , train: 74.14 , test:  75.86206896551724 N:  145\n",
      "frame:  48 , train: 73.86 , test:  60.86956521739131 N:  111\n",
      "frame:  49 , train: 73.13 , test:  82.35294117647058 N:  84\n",
      "frame:  50 , train: 76.36 , test:  57.14285714285714 N:  69\n",
      "frame:  51 , train: 76.19 , test:  45.45454545454545 N:  53\n",
      "frame:  52 , train: 89.29 , test:  100.0 N:  35\n",
      "frame:  53 , train: 95.24 , test:  100.0 N:  27\n",
      "frame:  54 , train: 100.0 , test:  80.0 N:  22\n",
      "frame:  55 , train: 100.0 , test:  50.0 N:  17\n",
      "frame:  56 , train: 100.0 , test:  100.0 N:  13\n",
      "frame:  57 , train: 100.0 , test:  100.0 N:  11\n",
      "frame:  58 , train: 100.0 , test:  50.0 N:  6\n",
      "frame:  59 , train: 100.0 , test:  0.0 N:  4\n",
      "frame:  60 , train: 100.0 , test:  100.0 N:  3\n",
      "frame:  61 ...issue\n",
      "frame:  62 ...issue\n",
      "frame:  63 ...issue\n",
      "frame:  64 ...issue\n"
     ]
    }
   ],
   "source": [
    "# predict using lead in total gold and difference in team embeddings\n",
    "\n",
    "acc_train_list = []\n",
    "acc_test_list = []\n",
    "valid_frames = []\n",
    "for frame in range(max_frames):\n",
    "    X = npzfile['total_gold'][:,frame,2]\n",
    "    if frame != 0:\n",
    "        indices = np.where(X != 0)[0]\n",
    "    else:\n",
    "        indices = range(n)\n",
    "    X = X.reshape((n,1))\n",
    "    if len(indices) == 0:\n",
    "        continue\n",
    "    # print('frame: ', frame,', number of matches: ',len(indices[0]))\n",
    "    X = np.concatenate((X, team_diff),axis=1)\n",
    "    try:\n",
    "        X_train, X_test, y_train, y_test = train_test_split(X[indices], Y[indices], test_size=0.2, random_state=42)\n",
    "        acc_train, y_pred = runLogisticRegression(X_train, y_train, X_test)\n",
    "        acc_test = accuracy_score(y_test, y_pred)*100\n",
    "        acc_train_list.append(acc_train)\n",
    "        acc_test_list.append(acc_test)\n",
    "        valid_frames.append(frame)\n",
    "        print('frame: ', frame, ', train:' ,acc_train, ', test: ' , acc_test, 'N: ', len(indices))\n",
    "    except:\n",
    "        print('frame: ', frame, '...issue')"
   ]
  },
  {
   "cell_type": "code",
   "execution_count": 110,
   "metadata": {},
   "outputs": [
    {
     "name": "stdout",
     "output_type": "stream",
     "text": [
      "frame:  1 , train: 0.004420377391042063 , test:  -0.00027895974404912316 N:  4406\n",
      "frame:  2 , train: 0.0013626012886175376 , test:  -0.0008782458522009762 N:  25131\n",
      "frame:  3 , train: 0.001543122119584961 , test:  -0.0015581552511996222 N:  25218\n",
      "frame:  4 , train: 0.0016039483013728928 , test:  -0.0020201169976044042 N:  25154\n",
      "frame:  5 , train: 0.0017485523693517857 , test:  -0.0018976382906388256 N:  24896\n",
      "frame:  6 , train: 0.0018707702697805528 , test:  -0.0026873427734726008 N:  24893\n",
      "frame:  7 , train: 0.0013577067456801428 , test:  -0.0005059699139009499 N:  24897\n",
      "frame:  8 , train: 0.0017056752073433268 , test:  -0.0011548870771815878 N:  24896\n",
      "frame:  9 , train: 0.0015901542129134194 , test:  -0.0020890320876869595 N:  24889\n"
     ]
    }
   ],
   "source": [
    "# predict duration\n",
    "\n",
    "acc_train_list = []\n",
    "acc_test_list = []\n",
    "valid_frames = []\n",
    "#for frame in range(max_frames):\n",
    "for frame in range(10):\n",
    "    X = npzfile['total_gold'][:,frame,2]\n",
    "    indices = np.where(X != 0)[0]\n",
    "    X = X.reshape((n,1))\n",
    "    if len(indices) == 0:\n",
    "        continue\n",
    "    # print('frame: ', frame,', number of matches: ',len(indices[0]))\n",
    "    X = np.concatenate((X, team_diff),axis=1)\n",
    "    try:\n",
    "        X_train, X_test, y_train, y_test = train_test_split(X[indices], Y2[indices], test_size=0.2, random_state=42)\n",
    "\n",
    "        y_pred_test, y_pred_train = runLinearRegression(X_train, y_train, X_test)\n",
    "        \n",
    "#        print(Y_pred_train.shape, y_train.shape)\n",
    "\n",
    "        acc_train = get_R2(y_pred_train, y_train)\n",
    "        acc_test = get_R2(y_pred_test, y_test)\n",
    "#        print('hi')\n",
    "        acc_train_list.append(acc_train)\n",
    "        acc_test_list.append(acc_test)\n",
    "#        print('hi')\n",
    "        valid_frames.append(frame)\n",
    "        print('frame: ', frame, ', train:' ,acc_train, ', test: ' , acc_test, 'N: ', len(indices))\n",
    "    except:\n",
    "        print('frame: ', frame, '...issue')"
   ]
  },
  {
   "cell_type": "code",
   "execution_count": 111,
   "metadata": {},
   "outputs": [
    {
     "name": "stdout",
     "output_type": "stream",
     "text": [
      "(19911,) (19911,)\n"
     ]
    }
   ],
   "source": [
    "print(y_train.shape, y_pred_train.shape)"
   ]
  },
  {
   "cell_type": "code",
   "execution_count": 112,
   "metadata": {},
   "outputs": [
    {
     "data": {
      "text/plain": [
       "(array([   1.,    0.,    0.,    3.,    2.,    2.,    6.,    8.,    4.,\n",
       "          11.,   22.,   30.,   69.,   87.,  158.,  251.,  369.,  522.,\n",
       "         769.,  909., 1226., 1475., 1664., 1777., 1768., 1667., 1606.,\n",
       "        1426., 1158.,  879.,  659.,  501.,  319.,  209.,  149.,   89.,\n",
       "          58.,   22.,   17.,   14.,    1.,    3.,    0.,    0.,    0.,\n",
       "           0.,    0.,    0.,    0.,    1.]),\n",
       " array([25.23685842, 25.29807969, 25.35930095, 25.42052222, 25.48174348,\n",
       "        25.54296475, 25.60418601, 25.66540728, 25.72662854, 25.78784981,\n",
       "        25.84907107, 25.91029234, 25.9715136 , 26.03273487, 26.09395613,\n",
       "        26.1551774 , 26.21639866, 26.27761993, 26.33884119, 26.40006246,\n",
       "        26.46128372, 26.52250499, 26.58372626, 26.64494752, 26.70616879,\n",
       "        26.76739005, 26.82861132, 26.88983258, 26.95105385, 27.01227511,\n",
       "        27.07349638, 27.13471764, 27.19593891, 27.25716017, 27.31838144,\n",
       "        27.3796027 , 27.44082397, 27.50204523, 27.5632665 , 27.62448776,\n",
       "        27.68570903, 27.74693029, 27.80815156, 27.86937282, 27.93059409,\n",
       "        27.99181535, 28.05303662, 28.11425788, 28.17547915, 28.23670041,\n",
       "        28.29792168]),\n",
       " <a list of 50 Patch objects>)"
      ]
     },
     "execution_count": 112,
     "metadata": {},
     "output_type": "execute_result"
    },
    {
     "data": {
      "image/png": "[encoded data removed]",
      "text/plain": [
       "<Figure size 432x288 with 1 Axes>"
      ]
     },
     "metadata": {},
     "output_type": "display_data"
    }
   ],
   "source": [
    "plt.hist(y_train,bins=50)\n",
    "plt.hist(y_pred_train,bins=50)"
   ]
  },
  {
   "cell_type": "code",
   "execution_count": 98,
   "metadata": {},
   "outputs": [
    {
     "data": {
      "text/plain": [
       "0.0016039483013728928"
      ]
     },
     "execution_count": 98,
     "metadata": {},
     "output_type": "execute_result"
    }
   ],
   "source": [
    "get_R2(y_pred_train, y_train)"
   ]
  },
  {
   "cell_type": "code",
   "execution_count": 76,
   "metadata": {},
   "outputs": [
    {
     "data": {
      "text/plain": [
       "(25237, 21)"
      ]
     },
     "execution_count": 76,
     "metadata": {},
     "output_type": "execute_result"
    }
   ],
   "source": [
    "X.shape"
   ]
  },
  {
   "cell_type": "code",
   "execution_count": 129,
   "metadata": {},
   "outputs": [
    {
     "name": "stdout",
     "output_type": "stream",
     "text": [
      "frame:  1 , train: 55.26 , test:  55.631399317406135 N:  4395\n",
      "frame:  2 , train: 55.0 , test:  55.17999999999999 N:  24998\n",
      "frame:  3 , train: 60.04 , test:  60.7135738489137 N:  25085\n",
      "frame:  4 , train: 63.21 , test:  63.85614385614385 N:  25021\n",
      "frame:  5 , train: 64.95 , test:  65.09186351706036 N:  24763\n",
      "frame:  6 , train: 67.0 , test:  66.5589660743134 N:  24760\n",
      "frame:  7 , train: 68.01 , test:  68.56450635978194 N:  24764\n",
      "frame:  8 , train: 69.55 , test:  69.77589339794065 N:  24763\n",
      "frame:  9 , train: 71.44 , test:  71.18336025848141 N:  24757\n",
      "frame:  10 , train: 72.65 , test:  72.94022617124394 N:  24758\n",
      "frame:  11 , train: 73.85 , test:  74.21180274858528 N:  24737\n",
      "frame:  12 , train: 74.88 , test:  75.08601497672535 N:  24701\n",
      "frame:  13 , train: 76.14 , test:  75.7206658546488 N:  24629\n",
      "frame:  14 , train: 77.33 , test:  76.60615949418724 N:  24512\n",
      "frame:  15 , train: 78.0 , test:  79.05211325400082 N:  24367\n",
      "frame:  16 , train: 79.11 , test:  78.36160529582126 N:  24169\n",
      "frame:  17 , train: 79.1 , test:  79.54052882531425 N:  23067\n",
      "frame:  18 , train: 79.94 , test:  79.11111111111111 N:  22496\n",
      "frame:  19 , train: 80.73 , test:  79.75056689342404 N:  22050\n",
      "frame:  20 , train: 80.7 , test:  80.7557732680196 N:  21433\n",
      "frame:  21 , train: 81.39 , test:  82.22811671087533 N:  20732\n",
      "frame:  22 , train: 81.29 , test:  82.4750192159877 N:  19511\n",
      "frame:  23 , train: 81.85 , test:  81.85286103542234 N:  18348\n",
      "frame:  24 , train: 82.04 , test:  83.04538799414348 N:  17072\n",
      "frame:  25 , train: 82.46 , test:  82.05046311082721 N:  15654\n",
      "frame:  26 , train: 82.48 , test:  82.83005617977528 N:  14238\n",
      "frame:  27 , train: 82.15 , test:  82.28638314475224 N:  12814\n",
      "frame:  28 , train: 81.84 , test:  80.73353954927089 N:  11312\n",
      "frame:  29 , train: 81.13 , test:  82.1285140562249 N:  9959\n",
      "frame:  30 , train: 81.26 , test:  79.84857309260337 N:  8584\n",
      "frame:  31 , train: 79.71 , test:  80.041011619959 N:  7313\n",
      "frame:  32 , train: 78.88 , test:  78.1021897810219 N:  6163\n",
      "frame:  33 , train: 78.4 , test:  76.60194174757281 N:  5150\n",
      "frame:  34 , train: 77.05 , test:  77.22419928825623 N:  4211\n",
      "frame:  35 , train: 76.78 , test:  77.53623188405797 N:  3446\n",
      "frame:  36 , train: 75.59 , test:  77.41935483870968 N:  2787\n",
      "frame:  37 , train: 75.79 , test:  73.8359201773836 N:  2252\n",
      "frame:  38 , train: 74.23 , test:  74.2296918767507 N:  1785\n",
      "frame:  39 , train: 74.71 , test:  75.88652482269504 N:  1409\n",
      "frame:  40 , train: 73.87 , test:  69.9074074074074 N:  1077\n",
      "frame:  41 , train: 72.31 , test:  72.45508982035929 N:  835\n",
      "frame:  42 , train: 69.4 , test:  71.2 N:  625\n",
      "frame:  43 , train: 67.19 , test:  77.08333333333334 N:  477\n",
      "frame:  44 , train: 68.65 , test:  68.42105263157895 N:  379\n",
      "frame:  45 , train: 68.37 , test:  68.51851851851852 N:  269\n",
      "frame:  46 , train: 70.59 , test:  69.23076923076923 N:  192\n",
      "frame:  47 , train: 73.28 , test:  75.86206896551724 N:  145\n",
      "frame:  48 , train: 69.32 , test:  78.26086956521739 N:  111\n",
      "frame:  49 , train: 65.67 , test:  76.47058823529412 N:  84\n",
      "frame:  50 , train: 72.73 , test:  71.42857142857143 N:  69\n",
      "frame:  51 , train: 71.43 , test:  72.72727272727273 N:  53\n",
      "frame:  52 , train: 75.0 , test:  100.0 N:  35\n",
      "frame:  53 , train: 80.95 , test:  83.33333333333334 N:  27\n",
      "frame:  54 , train: 76.47 , test:  100.0 N:  22\n",
      "frame:  55 , train: 69.23 , test:  100.0 N:  17\n",
      "frame:  56 , train: 80.0 , test:  100.0 N:  13\n",
      "frame:  57 , train: 75.0 , test:  100.0 N:  11\n",
      "frame:  58 , train: 50.0 , test:  100.0 N:  6\n",
      "frame:  59 , train: 66.67 , test:  0.0 N:  4\n",
      "frame:  60 , train: 50.0 , test:  0.0 N:  3\n",
      "frame:  61 ...issue\n",
      "frame:  62 ...issue\n",
      "frame:  63 ...issue\n",
      "frame:  64 ...issue\n"
     ]
    }
   ],
   "source": [
    "# predict just using lead in total gold\n",
    "\n",
    "acc_train_list = []\n",
    "acc_test_list = []\n",
    "valid_frames = []\n",
    "for frame in range(max_frames):\n",
    "    X = npzfile['total_gold'][:,frame,2]\n",
    "    indices = np.where(X != 0)[0]\n",
    "    X = X.reshape((n,1))\n",
    "    if len(indices) == 0:\n",
    "        continue\n",
    "    # print('frame: ', frame,', number of matches: ',len(indices[0]))\n",
    "    try:\n",
    "        X_train, X_test, y_train, y_test = train_test_split(X[indices], Y[indices], test_size=0.2, random_state=42)\n",
    "        acc_train, y_pred = runLogisticRegression(X_train, y_train, X_test)\n",
    "        acc_test = accuracy_score(y_test, y_pred)*100\n",
    "        acc_train_list.append(acc_train)\n",
    "        acc_test_list.append(acc_test)\n",
    "        valid_frames.append(frame)\n",
    "        print('frame: ', frame, ', train:' ,acc_train, ', test: ' , acc_test, 'N: ', len(indices))\n",
    "    except:\n",
    "        print('frame: ', frame, '...issue')"
   ]
  },
  {
   "cell_type": "code",
   "execution_count": 30,
   "metadata": {},
   "outputs": [
    {
     "name": "stdout",
     "output_type": "stream",
     "text": [
      "frame:  0 , train: 50.48 , test:  48.78243512974052 N:  12525\n",
      "frame:  1 , train: 51.12 , test:  49.740518962075846 N:  12525\n",
      "frame:  2 , train: 54.67 , test:  54.12660256410257 N:  12477\n",
      "frame:  3 , train: 59.45 , test:  61.206552137435075 N:  12511\n",
      "frame:  4 , train: 62.96 , test:  62.73018414731786 N:  12488\n",
      "frame:  5 , train: 64.7 , test:  63.98544866612773 N:  12366\n",
      "frame:  6 , train: 66.11 , test:  67.93368378487666 N:  12365\n",
      "frame:  7 , train: 67.66 , test:  67.29991915925626 N:  12370\n",
      "frame:  8 , train: 68.81 , test:  70.08892481810832 N:  12368\n",
      "frame:  9 , train: 70.93 , test:  72.3008491710473 N:  12365\n",
      "frame:  10 , train: 72.71 , test:  70.57396928051737 N:  12367\n",
      "frame:  11 , train: 73.78 , test:  73.19045693489689 N:  12361\n",
      "frame:  12 , train: 74.28 , test:  75.69866342648845 N:  12343\n",
      "frame:  13 , train: 75.53 , test:  75.57903291344982 N:  12305\n",
      "frame:  14 , train: 76.9 , test:  76.44897959183673 N:  12250\n",
      "frame:  15 , train: 78.34 , test:  77.39023389413214 N:  12181\n",
      "frame:  16 , train: 78.69 , test:  80.10730499380932 N:  12112\n",
      "frame:  17 , train: 79.19 , test:  79.83662940670679 N:  11626\n",
      "frame:  18 , train: 79.57 , test:  79.78956597983341 N:  11404\n",
      "frame:  19 , train: 80.72 , test:  81.25556544968833 N:  11230\n",
      "frame:  20 , train: 81.36 , test:  80.48335613315093 N:  10963\n",
      "frame:  21 , train: 81.87 , test:  83.48968105065666 N:  10660\n",
      "frame:  22 , train: 82.25 , test:  83.08531746031747 N:  10077\n",
      "frame:  23 , train: 83.18 , test:  81.89473684210526 N:  9499\n",
      "frame:  24 , train: 83.75 , test:  83.72747747747748 N:  8876\n",
      "frame:  25 , train: 83.99 , test:  82.68638324091188 N:  8113\n",
      "frame:  26 , train: 84.26 , test:  83.11776718856365 N:  7345\n",
      "frame:  27 , train: 83.82 , test:  82.75075987841946 N:  6577\n",
      "frame:  28 , train: 83.33 , test:  82.65746333045729 N:  5791\n",
      "frame:  29 , train: 83.01 , test:  82.49754178957718 N:  5085\n",
      "frame:  30 , train: 81.98 , test:  85.10882016036655 N:  4363\n",
      "frame:  31 , train: 81.09 , test:  79.75543478260869 N:  3676\n",
      "frame:  32 , train: 80.39 , test:  83.25281803542673 N:  3104\n",
      "frame:  33 , train: 80.75 , test:  81.72888015717092 N:  2545\n",
      "frame:  34 , train: 81.85 , test:  73.3173076923077 N:  2080\n",
      "frame:  35 , train: 80.35 , test:  84.070796460177 N:  1693\n",
      "frame:  36 , train: 79.17 , test:  78.51851851851852 N:  1350\n",
      "frame:  37 , train: 81.03 , test:  77.98165137614679 N:  1088\n",
      "frame:  38 , train: 82.13 , test:  74.11764705882354 N:  847\n",
      "frame:  39 , train: 80.72 , test:  78.19548872180451 N:  662\n",
      "frame:  40 , train: 79.25 , test:  71.28712871287128 N:  501\n",
      "frame:  41 , train: 83.44 , test:  76.62337662337663 N:  385\n",
      "frame:  42 , train: 82.02 , test:  71.9298245614035 N:  285\n",
      "frame:  43 , train: 79.43 , test:  72.72727272727273 N:  219\n",
      "frame:  44 , train: 100.0 , test:  57.14285714285714 N:  172\n",
      "frame:  45 , train: 100.0 , test:  68.0 N:  123\n",
      "frame:  46 , train: 100.0 , test:  52.63157894736842 N:  92\n",
      "frame:  47 , train: 100.0 , test:  78.57142857142857 N:  66\n",
      "frame:  48 , train: 100.0 , test:  50.0 N:  50\n",
      "frame:  49 , train: 100.0 , test:  55.55555555555556 N:  41\n",
      "frame:  50 , train: 100.0 , test:  14.285714285714285 N:  31\n",
      "frame:  51 , train: 100.0 , test:  60.0 N:  24\n",
      "frame:  52 , train: 100.0 , test:  50.0 N:  17\n",
      "frame:  53 , train: 100.0 , test:  33.33333333333333 N:  14\n",
      "frame:  54 , train: 100.0 , test:  33.33333333333333 N:  11\n",
      "frame:  55 , train: 100.0 , test:  100.0 N:  7\n",
      "frame:  56 , train: 100.0 , test:  100.0 N:  3\n",
      "frame:  57 , train: 100.0 , test:  100.0 N:  3\n",
      "frame:  58 ...issue\n",
      "frame:  59 ...issue\n",
      "frame:  60 ...issue\n",
      "frame:  61 ...issue\n"
     ]
    }
   ],
   "source": [
    "# predict just using lead in total gold\n",
    "\n",
    "acc_train_list = []\n",
    "acc_test_list = []\n",
    "valid_frames = []\n",
    "for frame in range(max_frames):\n",
    "#for frame in range(5):\n",
    "    X = npzfile['total_gold'][:,:frame+1,2][valid_games]\n",
    "    m = len(X)\n",
    "    if frame <= 1:\n",
    "        indices = range(m)\n",
    "    else:\n",
    "        indices = np.where(X[:,-1] != 0)[0]\n",
    "    X = X.reshape((m,frame+1))\n",
    "    #X = np.concatenate((X, team_1[valid_games], team_2[valid_games], team_diff[valid_games]),axis=1)\n",
    "    \n",
    "    if len(indices) == 0:\n",
    "        continue\n",
    "    # print('frame: ', frame,', number of matches: ',len(indices[0]))\n",
    "    try:\n",
    "        X_train, X_test, y_train, y_test = train_test_split(X[indices], Y[valid_games][indices], test_size=0.2, random_state=42)\n",
    "        acc_train, y_pred = runLogisticRegression(X_train, y_train, X_test)\n",
    "        acc_test = accuracy_score(y_test, y_pred)*100\n",
    "        acc_train_list.append(acc_train)\n",
    "        acc_test_list.append(acc_test)\n",
    "        valid_frames.append(frame)\n",
    "        print('frame: ', frame, ', train:' ,acc_train, ', test: ' , acc_test, 'N: ', len(indices))\n",
    "    except:\n",
    "        print('frame: ', frame, '...issue')"
   ]
  },
  {
   "cell_type": "code",
   "execution_count": 38,
   "metadata": {},
   "outputs": [
    {
     "name": "stdout",
     "output_type": "stream",
     "text": [
      "frame:  0 , train: 52.52 , test:  51.64261590420632 N:  16284\n",
      "frame:  1 , train: 52.98 , test:  52.34878722750997 N:  16284\n",
      "frame:  2 , train: 55.31 , test:  55.610357583230574 N:  16220\n",
      "frame:  3 , train: 60.28 , test:  59.77258758451137 N:  16269\n",
      "frame:  4 , train: 63.58 , test:  62.57309941520468 N:  16241\n",
      "frame:  5 , train: 65.09 , test:  63.59962698165993 N:  16082\n",
      "frame:  6 , train: 66.46 , test:  66.63557213930348 N:  16080\n",
      "frame:  7 , train: 67.63 , test:  67.21566190180236 N:  16086\n",
      "frame:  8 , train: 69.43 , test:  70.68697544295928 N:  16084\n",
      "frame:  9 , train: 71.33 , test:  70.08706467661692 N:  16079\n",
      "frame:  10 , train: 72.05 , test:  72.79228855721394 N:  16079\n",
      "frame:  11 , train: 73.24 , test:  73.98879900435594 N:  16068\n",
      "frame:  12 , train: 74.4 , test:  74.797507788162 N:  16046\n",
      "frame:  13 , train: 75.83 , test:  74.625 N:  15997\n",
      "frame:  14 , train: 76.7 , test:  76.3653483992467 N:  15926\n",
      "frame:  15 , train: 78.09 , test:  77.09056484695488 N:  15841\n",
      "frame:  16 , train: 78.84 , test:  78.69164814226738 N:  15741\n",
      "frame:  17 , train: 78.8 , test:  79.61614824619457 N:  15109\n",
      "frame:  18 , train: 79.22 , test:  80.0810263335584 N:  14806\n",
      "frame:  19 , train: 80.71 , test:  79.44406314344543 N:  14568\n",
      "frame:  20 , train: 80.57 , test:  81.5205913410771 N:  14204\n",
      "frame:  21 , train: 81.93 , test:  80.55756698044895 N:  13807\n",
      "frame:  22 , train: 82.12 , test:  81.9609345078514 N:  13055\n",
      "frame:  23 , train: 82.87 , test:  80.94270621698496 N:  12304\n",
      "frame:  24 , train: 83.51 , test:  82.9193899782135 N:  11475\n",
      "frame:  25 , train: 83.12 , test:  84.81375358166189 N:  10469\n",
      "frame:  26 , train: 83.76 , test:  83.99366085578447 N:  9462\n",
      "frame:  27 , train: 83.46 , test:  83.52941176470588 N:  8497\n",
      "frame:  28 , train: 83.1 , test:  81.91560616208974 N:  7462\n",
      "frame:  29 , train: 82.96 , test:  80.90145148968678 N:  6543\n",
      "frame:  30 , train: 81.77 , test:  84.26666666666667 N:  5623\n",
      "frame:  31 , train: 81.3 , test:  81.24341412012645 N:  4745\n",
      "frame:  32 , train: 81.16 , test:  77.9874213836478 N:  3975\n",
      "frame:  33 , train: 79.83 , test:  83.86605783866058 N:  3285\n",
      "frame:  34 , train: 80.55 , test:  77.86116322701689 N:  2662\n",
      "frame:  35 , train: 81.09 , test:  78.65429234338747 N:  2155\n",
      "frame:  36 , train: 79.69 , test:  76.45348837209302 N:  1718\n",
      "frame:  37 , train: 80.78 , test:  77.17391304347827 N:  1379\n",
      "frame:  38 , train: 81.33 , test:  77.67441860465117 N:  1072\n",
      "frame:  39 , train: 80.21 , test:  77.97619047619048 N:  840\n",
      "frame:  40 , train: 78.93 , test:  73.01587301587301 N:  629\n",
      "frame:  41 , train: 83.51 , test:  77.31958762886599 N:  485\n",
      "frame:  42 , train: 82.99 , test:  69.86301369863014 N:  361\n",
      "frame:  43 , train: 79.26 , test:  72.72727272727273 N:  272\n",
      "frame:  44 , train: 85.63 , test:  65.9090909090909 N:  218\n",
      "frame:  45 , train: 88.62 , test:  61.29032258064516 N:  154\n",
      "frame:  46 , train: 100.0 , test:  56.52173913043478 N:  111\n",
      "frame:  47 , train: 100.0 , test:  56.25 N:  80\n",
      "frame:  48 , train: 100.0 , test:  61.53846153846154 N:  63\n",
      "frame:  49 , train: 100.0 , test:  45.45454545454545 N:  52\n",
      "frame:  50 , train: 100.0 , test:  100.0 N:  41\n",
      "frame:  51 , train: 100.0 , test:  33.33333333333333 N:  29\n",
      "frame:  52 , train: 100.0 , test:  20.0 N:  21\n",
      "frame:  53 , train: 100.0 , test:  25.0 N:  17\n",
      "frame:  54 , train: 100.0 , test:  33.33333333333333 N:  13\n",
      "frame:  55 , train: 100.0 , test:  50.0 N:  9\n",
      "frame:  56 , train: 100.0 , test:  0.0 N:  5\n",
      "frame:  57 , train: 100.0 , test:  0.0 N:  4\n",
      "frame:  58 ...issue\n",
      "frame:  59 ...issue\n",
      "frame:  60 ...issue\n",
      "frame:  61 ...issue\n"
     ]
    }
   ],
   "source": [
    "# predict just using lead in total gold\n",
    "\n",
    "acc_train_list = []\n",
    "acc_test_list = []\n",
    "valid_frames = []\n",
    "for frame in range(max_frames):\n",
    "#for frame in range(5):\n",
    "    X = npzfile['total_gold'][:,:frame+1,2][valid_games]\n",
    "    m = len(X)\n",
    "    if frame <= 1:\n",
    "        indices = range(m)\n",
    "    else:\n",
    "        indices = np.where(X[:,-1] != 0)[0]\n",
    "    X = X.reshape((m,frame+1))\n",
    "    X = np.concatenate((X, team_diff[valid_games]),axis=1)\n",
    "    \n",
    "    if len(indices) == 0:\n",
    "        continue\n",
    "    # print('frame: ', frame,', number of matches: ',len(indices[0]))\n",
    "    try:\n",
    "        X_train, X_test, y_train, y_test = train_test_split(X[indices], Y[valid_games][indices], test_size=0.2, random_state=42)\n",
    "        acc_train, y_pred = runLogisticRegression(X_train, y_train, X_test)\n",
    "        acc_test = accuracy_score(y_test, y_pred)*100\n",
    "        acc_train_list.append(acc_train)\n",
    "        acc_test_list.append(acc_test)\n",
    "        valid_frames.append(frame)\n",
    "        print('frame: ', frame, ', train:' ,acc_train, ', test: ' , acc_test, 'N: ', len(indices))\n",
    "    except:\n",
    "        print('frame: ', frame, '...issue')"
   ]
  },
  {
   "cell_type": "code",
   "execution_count": 36,
   "metadata": {},
   "outputs": [
    {
     "name": "stdout",
     "output_type": "stream",
     "text": [
      "frame:  0 , train: 54.91 , test:  50.0 N:  7816\n",
      "frame:  1 , train: 55.2 , test:  50.57544757033248 N:  7816\n",
      "frame:  2 , train: 56.17 , test:  54.2068079640334 N:  7785\n",
      "frame:  3 , train: 60.5 , test:  59.154929577464785 N:  7807\n",
      "frame:  4 , train: 63.81 , test:  63.181526619627974 N:  7792\n",
      "frame:  5 , train: 64.68 , test:  67.35885788449059 N:  7704\n",
      "frame:  6 , train: 66.88 , test:  66.77482154445165 N:  7703\n",
      "frame:  7 , train: 68.23 , test:  67.63942931258107 N:  7709\n",
      "frame:  8 , train: 69.58 , test:  68.28793774319067 N:  7709\n",
      "frame:  9 , train: 71.13 , test:  72.30869001297016 N:  7707\n",
      "frame:  10 , train: 71.82 , test:  73.28145265888456 N:  7706\n",
      "frame:  11 , train: 73.39 , test:  74.56197274497079 N:  7704\n",
      "frame:  12 , train: 73.76 , test:  76.47823261858349 N:  7693\n",
      "frame:  13 , train: 75.62 , test:  75.60339204174821 N:  7665\n",
      "frame:  14 , train: 76.68 , test:  77.78505897771953 N:  7628\n",
      "frame:  15 , train: 77.94 , test:  78.57613711272248 N:  7583\n",
      "frame:  16 , train: 79.44 , test:  78.0649436713055 N:  7541\n",
      "frame:  17 , train: 79.9 , test:  79.62707182320442 N:  7240\n",
      "frame:  18 , train: 80.0 , test:  78.95847994370162 N:  7101\n",
      "frame:  19 , train: 80.45 , test:  81.62973552537527 N:  6994\n",
      "frame:  20 , train: 81.11 , test:  81.33235724743777 N:  6828\n",
      "frame:  21 , train: 81.42 , test:  82.03007518796991 N:  6648\n",
      "frame:  22 , train: 82.34 , test:  81.3397129186603 N:  6266\n",
      "frame:  23 , train: 82.97 , test:  83.58714043993231 N:  5909\n",
      "frame:  24 , train: 83.12 , test:  84.51086956521739 N:  5517\n",
      "frame:  25 , train: 84.29 , test:  82.7552031714569 N:  5045\n",
      "frame:  26 , train: 83.46 , test:  84.97807017543859 N:  4558\n",
      "frame:  27 , train: 83.59 , test:  82.98653610771115 N:  4083\n",
      "frame:  28 , train: 83.83 , test:  83.35644937586684 N:  3602\n",
      "frame:  29 , train: 83.72 , test:  83.41232227488152 N:  3163\n",
      "frame:  30 , train: 81.73 , test:  85.66176470588235 N:  2717\n",
      "frame:  31 , train: 81.44 , test:  80.13100436681223 N:  2290\n",
      "frame:  32 , train: 82.14 , test:  79.84496124031007 N:  1932\n",
      "frame:  33 , train: 81.65 , test:  75.15723270440252 N:  1588\n",
      "frame:  34 , train: 80.87 , test:  78.68217054263566 N:  1288\n",
      "frame:  35 , train: 80.48 , test:  78.4688995215311 N:  1044\n",
      "frame:  36 , train: 80.54 , test:  74.69879518072288 N:  829\n",
      "frame:  37 , train: 80.19 , test:  79.1044776119403 N:  669\n",
      "frame:  38 , train: 84.56 , test:  81.65137614678899 N:  543\n",
      "frame:  39 , train: 83.28 , test:  82.55813953488372 N:  427\n",
      "frame:  40 , train: 83.2 , test:  71.42857142857143 N:  313\n",
      "frame:  41 , train: 89.23 , test:  75.51020408163265 N:  244\n",
      "frame:  42 , train: 92.31 , test:  63.888888888888886 N:  179\n",
      "frame:  43 , train: 100.0 , test:  70.37037037037037 N:  134\n",
      "frame:  44 , train: 100.0 , test:  59.09090909090909 N:  109\n",
      "frame:  45 , train: 100.0 , test:  68.75 N:  80\n",
      "frame:  46 , train: 100.0 , test:  58.333333333333336 N:  60\n",
      "frame:  47 , train: 100.0 , test:  66.66666666666666 N:  43\n",
      "frame:  48 , train: 100.0 , test:  71.42857142857143 N:  33\n",
      "frame:  49 , train: 100.0 , test:  33.33333333333333 N:  27\n",
      "frame:  50 , train: 100.0 , test:  0.0 N:  20\n",
      "frame:  51 , train: 100.0 , test:  25.0 N:  16\n",
      "frame:  52 , train: 100.0 , test:  33.33333333333333 N:  11\n",
      "frame:  53 , train: 100.0 , test:  50.0 N:  9\n",
      "frame:  54 , train: 100.0 , test:  50.0 N:  7\n",
      "frame:  55 , train: 100.0 , test:  100.0 N:  4\n",
      "frame:  56 ...issue\n",
      "frame:  57 ...issue\n",
      "frame:  58 ...issue\n",
      "frame:  59 ...issue\n",
      "frame:  60 ...issue\n",
      "frame:  61 ...issue\n"
     ]
    }
   ],
   "source": [
    "# predict just using lead in total gold\n",
    "\n",
    "acc_train_list = []\n",
    "acc_test_list2 = []\n",
    "valid_frames = []\n",
    "for frame in range(max_frames):\n",
    "#for frame in range(5):\n",
    "    X = npzfile['total_gold'][:,:frame+1,2][valid_games]\n",
    "    m = len(X)\n",
    "    if frame <= 1:\n",
    "        indices = range(m)\n",
    "    else:\n",
    "        indices = np.where(X[:,-1] != 0)[0]\n",
    "    X = X.reshape((m,frame+1))\n",
    "    X = np.concatenate((X, team_diff[valid_games]),axis=1)\n",
    "    \n",
    "    if len(indices) == 0:\n",
    "        continue\n",
    "    # print('frame: ', frame,', number of matches: ',len(indices[0]))\n",
    "    try:\n",
    "        X_train, X_test, y_train, y_test = train_test_split(X[indices], Y[valid_games][indices], test_size=0.2, random_state=42)\n",
    "        acc_train, y_pred = runLogisticRegression(X_train, y_train, X_test)\n",
    "        acc_test = accuracy_score(y_test, y_pred)*100\n",
    "        acc_train_list.append(acc_train)\n",
    "        acc_test_list2.append(acc_test)\n",
    "        valid_frames.append(frame)\n",
    "        print('frame: ', frame, ', train:' ,acc_train, ', test: ' , acc_test, 'N: ', len(indices))\n",
    "    except:\n",
    "        print('frame: ', frame, '...issue')"
   ]
  },
  {
   "cell_type": "code",
   "execution_count": 50,
   "metadata": {},
   "outputs": [
    {
     "name": "stdout",
     "output_type": "stream",
     "text": [
      "frame:  0 , train: 50.58 , test:  48.59335038363171 N:  7816\n",
      "frame:  1 , train: 51.23 , test:  49.552429667519185 N:  7816\n",
      "frame:  2 , train: 54.0 , test:  51.8946692357097 N:  7785\n",
      "frame:  3 , train: 59.9 , test:  58.57874519846351 N:  7807\n",
      "frame:  4 , train: 62.55 , test:  63.181526619627974 N:  7792\n",
      "frame:  5 , train: 63.2 , test:  66.96950032446463 N:  7704\n",
      "frame:  6 , train: 66.16 , test:  66.58014276443868 N:  7703\n",
      "frame:  7 , train: 67.65 , test:  67.63942931258107 N:  7709\n",
      "frame:  8 , train: 69.11 , test:  68.5473411154345 N:  7709\n",
      "frame:  9 , train: 70.82 , test:  71.33592736705577 N:  7707\n",
      "frame:  10 , train: 71.84 , test:  73.28145265888456 N:  7706\n",
      "frame:  11 , train: 73.37 , test:  74.6268656716418 N:  7704\n",
      "frame:  12 , train: 73.76 , test:  76.47823261858349 N:  7693\n",
      "frame:  13 , train: 75.6 , test:  75.66862361382908 N:  7665\n",
      "frame:  14 , train: 76.68 , test:  77.78505897771953 N:  7628\n",
      "frame:  15 , train: 77.98 , test:  78.57613711272248 N:  7583\n",
      "frame:  16 , train: 79.41 , test:  78.0649436713055 N:  7541\n",
      "frame:  17 , train: 79.9 , test:  79.62707182320442 N:  7240\n",
      "frame:  18 , train: 79.98 , test:  78.8881069669247 N:  7101\n",
      "frame:  19 , train: 80.45 , test:  81.62973552537527 N:  6994\n",
      "frame:  20 , train: 81.11 , test:  81.33235724743777 N:  6828\n",
      "frame:  21 , train: 81.42 , test:  82.03007518796991 N:  6648\n",
      "frame:  22 , train: 82.34 , test:  81.3397129186603 N:  6266\n",
      "frame:  23 , train: 82.97 , test:  83.58714043993231 N:  5909\n",
      "frame:  24 , train: 83.12 , test:  84.51086956521739 N:  5517\n",
      "frame:  25 , train: 84.29 , test:  82.7552031714569 N:  5045\n",
      "frame:  26 , train: 83.46 , test:  84.97807017543859 N:  4558\n",
      "frame:  27 , train: 83.59 , test:  82.98653610771115 N:  4083\n",
      "frame:  28 , train: 83.83 , test:  83.35644937586684 N:  3602\n",
      "frame:  29 , train: 83.68 , test:  83.41232227488152 N:  3163\n",
      "frame:  30 , train: 81.73 , test:  85.66176470588235 N:  2717\n",
      "frame:  31 , train: 81.39 , test:  80.13100436681223 N:  2290\n",
      "frame:  32 , train: 82.14 , test:  79.84496124031007 N:  1932\n",
      "frame:  33 , train: 81.65 , test:  75.15723270440252 N:  1588\n",
      "frame:  34 , train: 80.87 , test:  78.68217054263566 N:  1288\n",
      "frame:  35 , train: 80.48 , test:  77.99043062200957 N:  1044\n",
      "frame:  36 , train: 80.54 , test:  74.69879518072288 N:  829\n",
      "frame:  37 , train: 80.19 , test:  79.1044776119403 N:  669\n",
      "frame:  38 , train: 83.87 , test:  82.56880733944955 N:  543\n",
      "frame:  39 , train: 83.28 , test:  82.55813953488372 N:  427\n",
      "frame:  40 , train: 80.8 , test:  68.25396825396825 N:  313\n",
      "frame:  41 , train: 87.18 , test:  77.55102040816327 N:  244\n",
      "frame:  42 , train: 92.31 , test:  66.66666666666666 N:  179\n",
      "frame:  43 , train: 100.0 , test:  70.37037037037037 N:  134\n",
      "frame:  44 , train: 100.0 , test:  59.09090909090909 N:  109\n",
      "frame:  45 , train: 100.0 , test:  68.75 N:  80\n",
      "frame:  46 , train: 100.0 , test:  58.333333333333336 N:  60\n",
      "frame:  47 , train: 100.0 , test:  66.66666666666666 N:  43\n",
      "frame:  48 , train: 100.0 , test:  71.42857142857143 N:  33\n",
      "frame:  49 , train: 100.0 , test:  33.33333333333333 N:  27\n",
      "frame:  50 , train: 100.0 , test:  0.0 N:  20\n",
      "frame:  51 , train: 100.0 , test:  25.0 N:  16\n",
      "frame:  52 , train: 100.0 , test:  33.33333333333333 N:  11\n",
      "frame:  53 , train: 100.0 , test:  50.0 N:  9\n",
      "frame:  54 , train: 100.0 , test:  50.0 N:  7\n",
      "frame:  55 , train: 100.0 , test:  100.0 N:  4\n",
      "frame:  56 ...issue\n",
      "frame:  57 ...issue\n",
      "frame:  58 ...issue\n",
      "frame:  59 ...issue\n",
      "frame:  60 ...issue\n",
      "frame:  61 ...issue\n"
     ]
    }
   ],
   "source": [
    "# predict just using lead in total gold\n",
    "\n",
    "acc_train_list = []\n",
    "acc_test_list8 = []\n",
    "valid_frames = []\n",
    "for frame in range(max_frames):\n",
    "#for frame in range(5):\n",
    "    X = npzfile['total_gold'][:,:frame+1,2][valid_games]\n",
    "    m = len(X)\n",
    "    if frame <= 1:\n",
    "        indices = range(m)\n",
    "    else:\n",
    "        indices = np.where(X[:,-1] != 0)[0]\n",
    "    X = X.reshape((m,frame+1))\n",
    "#    X = np.concatenate((X, team_diff[valid_games]),axis=1)\n",
    "    \n",
    "    if len(indices) == 0:\n",
    "        continue\n",
    "    # print('frame: ', frame,', number of matches: ',len(indices[0]))\n",
    "    try:\n",
    "        X_train, X_test, y_train, y_test = train_test_split(X[indices], Y[valid_games][indices], test_size=0.2, random_state=42)\n",
    "        acc_train, y_pred = runLogisticRegression(X_train, y_train, X_test)\n",
    "        acc_test = accuracy_score(y_test, y_pred)*100\n",
    "        acc_train_list.append(acc_train)\n",
    "        acc_test_list8.append(acc_test)\n",
    "        valid_frames.append(frame)\n",
    "        print('frame: ', frame, ', train:' ,acc_train, ', test: ' , acc_test, 'N: ', len(indices))\n",
    "    except:\n",
    "        print('frame: ', frame, '...issue')"
   ]
  },
  {
   "cell_type": "code",
   "execution_count": 41,
   "metadata": {},
   "outputs": [
    {
     "data": {
      "text/plain": [
       "<matplotlib.legend.Legend at 0x11002c278>"
      ]
     },
     "execution_count": 41,
     "metadata": {},
     "output_type": "execute_result"
    },
    {
     "data": {
      "image/png": "[encoded data removed]",
      "text/plain": [
       "<Figure size 432x288 with 1 Axes>"
      ]
     },
     "metadata": {},
     "output_type": "display_data"
    }
   ],
   "source": [
    "plt.plot(acc_test_list2,label='7')\n",
    "plt.plot(acc_test_list,label='6')\n",
    "plt.legend()"
   ]
  },
  {
   "cell_type": "code",
   "execution_count": 49,
   "metadata": {},
   "outputs": [
    {
     "data": {
      "text/plain": [
       "<matplotlib.collections.LineCollection at 0x11a60a208>"
      ]
     },
     "execution_count": 49,
     "metadata": {},
     "output_type": "execute_result"
    },
    {
     "data": {
      "image/png": "[encoded data removed]",
      "text/plain": [
       "<Figure size 432x288 with 1 Axes>"
      ]
     },
     "metadata": {},
     "output_type": "display_data"
    }
   ],
   "source": [
    "#diff = np.array(acc_test_list2[:50]) - np.array(acc_test_list[:50])\n",
    "#diff = np.array(acc_test_list8[:50]) - np.array(acc_test_list[:50])\n",
    "diff2 = np.array(acc_test_list8[:50]) - np.array(acc_test_list[:50])\n",
    "\n",
    "plt.plot(diff)\n",
    "plt.hlines(0,0,50)"
   ]
  },
  {
   "cell_type": "code",
   "execution_count": 150,
   "metadata": {},
   "outputs": [
    {
     "name": "stdout",
     "output_type": "stream",
     "text": [
      "frame:  0 , train: 52.68 , test:  51.4670896114195 N:  6301 (6301, 1)\n",
      "frame:  1 , train: 53.13 , test:  50.27755749405234 N:  6301 (6301, 2)\n",
      "frame:  2 , train: 53.49 , test:  52.101506740682005 N:  6301 (6301, 3)\n",
      "frame:  3 , train: 57.86 , test:  57.33544805709754 N:  6301 (6301, 4)\n",
      "frame:  4 , train: 60.79 , test:  59.63521015067407 N:  6301 (6301, 5)\n",
      "frame:  5 , train: 63.02 , test:  61.934972244250595 N:  6301 (6301, 6)\n",
      "frame:  6 , train: 63.91 , test:  64.63124504361618 N:  6301 (6301, 7)\n",
      "frame:  7 , train: 65.32 , test:  67.0103092783505 N:  6301 (6301, 8)\n",
      "frame:  8 , train: 66.88 , test:  67.32751784298176 N:  6301 (6301, 9)\n",
      "frame:  9 , train: 68.13 , test:  67.48612212529738 N:  6301 (6301, 10)\n",
      "frame:  10 , train: 69.13 , test:  68.67565424266455 N:  6301 (6301, 11)\n",
      "frame:  11 , train: 70.04 , test:  72.24425059476606 N:  6301 (6301, 12)\n",
      "frame:  12 , train: 72.86 , test:  71.37192704203014 N:  6301 (6301, 13)\n",
      "frame:  13 , train: 73.06 , test:  73.83029341792229 N:  6301 (6301, 14)\n",
      "frame:  14 , train: 73.47 , test:  74.6233148295004 N:  6301 (6301, 15)\n",
      "frame:  15 , train: 74.94 , test:  74.78191911181602 N:  6301 (6301, 16)\n",
      "frame:  16 , train: 75.99 , test:  78.1126090404441 N:  6301 (6301, 17)\n",
      "frame:  17 , train: 77.82 , test:  76.92307692307693 N:  6301 (6301, 18)\n",
      "frame:  18 , train: 78.77 , test:  77.08168120539256 N:  6301 (6301, 19)\n",
      "frame:  19 , train: 79.5 , test:  79.22283901665345 N:  6301 (6301, 20)\n",
      "frame:  20 , train: 80.04 , test:  80.3330689928628 N:  6301 (6301, 21)\n",
      "frame:  21 , train: 81.59 , test:  79.42583732057416 N:  6268 (6268, 22)\n",
      "frame:  22 , train: 81.94 , test:  80.58823529411765 N:  5946 (5946, 23)\n",
      "frame:  23 , train: 83.33 , test:  79.41696113074205 N:  5656 (5656, 24)\n",
      "frame:  24 , train: 83.77 , test:  82.32514177693761 N:  5290 (5290, 25)\n",
      "frame:  25 , train: 82.88 , test:  80.88842975206612 N:  4840 (4840, 26)\n",
      "frame:  26 , train: 83.5 , test:  82.22722159730034 N:  4441 (4441, 27)\n",
      "frame:  27 , train: 83.0 , test:  83.31257783312577 N:  4014 (4014, 28)\n",
      "frame:  28 , train: 82.64 , test:  82.35294117647058 N:  3566 (3566, 29)\n",
      "frame:  29 , train: 82.98 , test:  81.38801261829653 N:  3167 (3167, 30)\n",
      "frame:  30 , train: 82.9 , test:  82.11091234347049 N:  2793 (2793, 31)\n",
      "frame:  31 , train: 81.82 , test:  81.61157024793388 N:  2420 (2420, 32)\n",
      "frame:  32 , train: 81.6 , test:  81.40096618357488 N:  2066 (2066, 33)\n",
      "frame:  33 , train: 81.3 , test:  79.76878612716763 N:  1726 (1726, 34)\n",
      "frame:  34 , train: 78.8 , test:  78.04878048780488 N:  1433 (1433, 35)\n",
      "frame:  35 , train: 79.81 , test:  81.66666666666667 N:  1196 (1196, 36)\n",
      "frame:  36 , train: 80.36 , test:  77.04081632653062 N:  980 (980, 37)\n",
      "frame:  37 , train: 78.85 , test:  81.41025641025641 N:  780 (780, 38)\n",
      "frame:  38 , train: 82.21 , test:  76.37795275590551 N:  633 (633, 39)\n",
      "frame:  39 , train: 80.44 , test:  69.90291262135922 N:  512 (512, 40)\n",
      "frame:  40 , train: 76.97 , test:  75.0 N:  397 (397, 41)\n",
      "frame:  41 , train: 80.33 , test:  73.77049180327869 N:  305 (305, 42)\n",
      "frame:  42 , train: 87.57 , test:  70.2127659574468 N:  232 (232, 43)\n",
      "frame:  43 , train: 91.67 , test:  67.56756756756756 N:  181 (181, 44)\n",
      "frame:  44 , train: 100.0 , test:  48.148148148148145 N:  135 (135, 45)\n",
      "frame:  45 , train: 100.0 , test:  61.904761904761905 N:  102 (102, 46)\n",
      "frame:  46 , train: 100.0 , test:  60.0 N:  72 (72, 47)\n",
      "frame:  47 , train: 100.0 , test:  81.81818181818183 N:  52 (52, 48)\n",
      "frame:  48 , train: 100.0 , test:  62.5 N:  38 (38, 49)\n",
      "frame:  49 , train: 100.0 , test:  83.33333333333334 N:  29 (29, 50)\n",
      "frame:  50 , train: 100.0 , test:  20.0 N:  22 (22, 51)\n",
      "frame:  51 , train: 100.0 , test:  50.0 N:  17 (17, 52)\n",
      "frame:  52 , train: 100.0 , test:  33.33333333333333 N:  13 (13, 53)\n",
      "frame:  53 , train: 100.0 , test:  50.0 N:  10 (10, 54)\n",
      "frame:  54 , train: 100.0 , test:  50.0 N:  6 (6, 55)\n",
      "frame:  55 ...issue\n",
      "frame:  56 ...issue\n",
      "frame:  57 ...issue\n",
      "frame:  58 ...issue\n",
      "frame:  59 ...issue\n",
      "frame:  60 ...issue\n"
     ]
    }
   ],
   "source": [
    "# predict just using lead in total gold\n",
    "\n",
    "acc_train_list = []\n",
    "acc_test_list7 = []\n",
    "valid_frames = []\n",
    "for frame in range(max_frames):\n",
    "#for frame in range(5):\n",
    "    X = npzfile['total_gold'][:,:frame+1,2][valid_games]\n",
    "    m = len(X)\n",
    "    if frame <= min_duration:\n",
    "        indices = range(m)\n",
    "    else:\n",
    "        indices = np.where(X[:,-1] != 0)[0]\n",
    "    X = X.reshape((m,frame+1))\n",
    "    #X = np.concatenate((X, team_diff[valid_games]),axis=1)\n",
    "    \n",
    "    if len(indices) == 0:\n",
    "        continue\n",
    "    # print('frame: ', frame,', number of matches: ',len(indices[0]))\n",
    "    try:\n",
    "        X_train, X_test, y_train, y_test = train_test_split(X[indices], Y[valid_games][indices], test_size=0.2, random_state=frame)\n",
    "        acc_train, y_pred = runLogisticRegression(X_train, y_train, X_test)\n",
    "        acc_test = accuracy_score(y_test, y_pred)*100\n",
    "        acc_train_list.append(acc_train)\n",
    "        acc_test_list7.append(acc_test)\n",
    "        valid_frames.append(frame)\n",
    "        print('frame: ', frame, ', train:' ,acc_train, ', test: ' , acc_test, 'N: ', len(indices), X[indices].shape)\n",
    "    except:\n",
    "        print('frame: ', frame, '...issue')"
   ]
  },
  {
   "cell_type": "code",
   "execution_count": 151,
   "metadata": {},
   "outputs": [
    {
     "data": {
      "text/plain": [
       "<matplotlib.collections.LineCollection at 0x124b747f0>"
      ]
     },
     "execution_count": 151,
     "metadata": {},
     "output_type": "execute_result"
    },
    {
     "data": {
      "image/png": "[encoded data removed]",
      "text/plain": [
       "<Figure size 432x288 with 1 Axes>"
      ]
     },
     "metadata": {},
     "output_type": "display_data"
    }
   ],
   "source": [
    "#diff = np.array(acc_test_list2[:50]) - np.array(acc_test_list[:50])\n",
    "#diff = np.array(acc_test_list8[:50]) - np.array(acc_test_list[:50])\n",
    "diff2 = np.array(acc_test_list7[:50]) - np.array(acc_test_list8[:50])\n",
    "\n",
    "plt.plot(diff2)\n",
    "plt.hlines(0,0,20)\n",
    "#plt.xlim([0,20])"
   ]
  },
  {
   "cell_type": "code",
   "execution_count": 92,
   "metadata": {},
   "outputs": [
    {
     "data": {
      "text/plain": [
       "array([[ 0.11576041, -0.33541065,  0.29905552, ...,  0.05572695,\n",
       "         0.08907028, -0.03298457],\n",
       "       [-0.4907985 , -0.06095341,  0.12450665, ..., -0.13059838,\n",
       "        -0.05667697, -0.41038036],\n",
       "       [ 0.33221704,  0.07162333,  0.00613123, ...,  0.21948028,\n",
       "         0.5391406 , -0.7917012 ],\n",
       "       ...,\n",
       "       [ 0.30620772, -0.34311545, -0.28058288, ...,  0.78229773,\n",
       "        -0.01001409,  0.40734887],\n",
       "       [ 0.06581232,  0.19016945, -0.2458608 , ..., -0.647972  ,\n",
       "        -0.4062418 , -0.24183774],\n",
       "       [ 1.205298  ,  0.15735024,  0.8116971 , ..., -0.08414393,\n",
       "        -0.19817062,  0.16945323]], dtype=float32)"
      ]
     },
     "execution_count": 92,
     "metadata": {},
     "output_type": "execute_result"
    }
   ],
   "source": [
    "team_diff"
   ]
  },
  {
   "cell_type": "code",
   "execution_count": 124,
   "metadata": {},
   "outputs": [
    {
     "name": "stdout",
     "output_type": "stream",
     "text": [
      "frame:  15 , train: 77.07 , test: 77.38095238095238 , loss: 7.812445085185109 N:  2099 (2099, 16)\n",
      "frame:  16 , train: 78.84 , test: 78.0952380952381 , loss: 7.565728116686743 N:  2098 (2098, 17)\n",
      "frame:  17 , train: 80.05 , test: 74.06483790523691 , loss: 8.957783355978455 N:  2005 (2005, 18)\n",
      "frame:  18 , train: 79.76 , test: 80.0 , loss: 6.907842323765678 N:  1971 (1971, 19)\n",
      "frame:  19 , train: 80.19 , test: 80.46272493573264 , loss: 6.747997413717525 N:  1944 (1944, 20)\n",
      "frame:  20 , train: 80.99 , test: 80.26315789473685 , loss: 6.816937409285153 N:  1900 (1900, 21)\n",
      "frame:  21 , train: 81.31 , test: 80.16304347826086 , loss: 6.85150506835314 N:  1839 (1839, 22)\n",
      "frame:  22 , train: 81.07 , test: 82.0 , loss: 6.21705514169877 N:  1750 (1750, 23)\n",
      "frame:  23 , train: 82.4 , test: 79.39393939393939 , loss: 7.11716115627007 N:  1648 (1648, 24)\n",
      "frame:  24 , train: 80.88 , test: 87.33766233766234 , loss: 4.373463221283313 N:  1537 (1537, 25)\n",
      "frame:  25 , train: 83.57 , test: 80.93525179856115 , loss: 6.584796905291945 N:  1386 (1386, 26)\n",
      "frame:  26 , train: 84.04 , test: 79.92125984251969 , loss: 6.9350235703989735 N:  1269 (1269, 27)\n",
      "frame:  27 , train: 82.55 , test: 85.08771929824562 , loss: 5.150582413073275 N:  1139 (1139, 28)\n",
      "frame:  28 , train: 82.23 , test: 85.5 , loss: 5.008150563172106 N:  999 (999, 29)\n",
      "frame:  29 , train: 82.08 , test: 81.25 , loss: 6.476088721554009 N:  879 (879, 30)\n",
      "frame:  30 , train: 81.34 , test: 78.43137254901961 , loss: 7.449623624777358 N:  764 (764, 31)\n",
      "frame:  31 , train: 78.27 , test: 78.62595419847328 , loss: 7.382443754284296 N:  651 (651, 32)\n",
      "frame:  32 , train: 77.05 , test: 71.81818181818181 , loss: 9.733742394649031 N:  550 (550, 33)\n",
      "frame:  33 , train: 73.6 , test: 78.88888888888889 , loss: 7.291599420890831 N:  446 (446, 34)\n",
      "frame:  34 , train: 77.05 , test: 78.08219178082192 , loss: 7.570241351992366 N:  365 (365, 35)\n",
      "frame:  35 , train: 71.67 , test: 79.66101694915254 , loss: 7.024903639425072 N:  292 (292, 36)\n",
      "frame:  36 , train: 72.58 , test: 63.829787234042556 , loss: 12.492919035910289 N:  233 (233, 37)\n",
      "frame:  37 , train: 71.52 , test: 73.68421052631578 , loss: 9.08923585102178 N:  189 (189, 38)\n",
      "frame:  38 , train: 76.47 , test: 60.0 , loss: 13.81567047745031 N:  149 (149, 39)\n",
      "frame:  39 , train: 76.09 , test: 62.5 , loss: 12.952274364008645 N:  116 (116, 40)\n"
     ]
    }
   ],
   "source": [
    "# predict just using fractional lead in total gold\n",
    "\n",
    "acc_train_list = []\n",
    "acc_test_list7 = []\n",
    "valid_frames = []\n",
    "#for frame in range(max_frames):\n",
    "for frame in range(15,40):\n",
    "    X1 = npzfile['total_gold'][:,:frame+1,2][valid_games]\n",
    "    X2 = npzfile['total_gold'][:,:frame+1,0][valid_games]\n",
    "\n",
    "    m = len(X1)\n",
    "    if frame <= min_duration:\n",
    "        indices = range(m)\n",
    "    else:\n",
    "        indices = np.where(X2[:,-1] != 0)[0]\n",
    "    X = X1[indices] / X2[indices]\n",
    "    X = X.reshape((len(X),frame+1))\n",
    "#    X = np.concatenate((X, team_diff[valid_games][indices]),axis=1)\n",
    "    \n",
    "    if len(indices) == 0:\n",
    "        continue\n",
    "    # print('frame: ', frame,', number of matches: ',len(indices[0]))\n",
    "    try:\n",
    "        X_train, X_test, y_train, y_test = train_test_split(X, Y[valid_games][indices], test_size=0.2, random_state=42)\n",
    "        acc_train, y_pred = runLogisticRegression(X_train, y_train, X_test)\n",
    "        acc_test = accuracy_score(y_test, y_pred)*100\n",
    "        loss_test = log_loss(y_test, y_pred)\n",
    "        acc_train_list.append(acc_train)\n",
    "        acc_test_list7.append(acc_test)\n",
    "        valid_frames.append(frame)\n",
    "        print('frame: ', frame, ', train:' ,acc_train, ', test:', acc_test, ', loss:',loss_test,'N: ', len(indices), X.shape)\n",
    "    except:\n",
    "        print('frame: ', frame, '...issue')"
   ]
  },
  {
   "cell_type": "code",
   "execution_count": null,
   "metadata": {},
   "outputs": [],
   "source": []
  }
 ],
 "metadata": {
  "kernelspec": {
   "display_name": "Python 3",
   "language": "python",
   "name": "python3"
  },
  "language_info": {
   "codemirror_mode": {
    "name": "ipython",
    "version": 3
   },
   "file_extension": ".py",
   "mimetype": "text/x-python",
   "name": "python",
   "nbconvert_exporter": "python",
   "pygments_lexer": "ipython3",
   "version": "3.6.5"
  }
 },
 "nbformat": 4,
 "nbformat_minor": 2
}
