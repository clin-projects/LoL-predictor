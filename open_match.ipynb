{
 "cells": [
  {
   "cell_type": "code",
   "execution_count": 1,
   "metadata": {},
   "outputs": [],
   "source": [
    "import glob\n",
    "import json\n",
    "import numpy as np\n",
    "import matplotlib.pyplot as plt\n",
    "import pandas as pd\n",
    "\n",
    "np.set_printoptions(suppress=True)\n",
    "\n",
    "import seaborn as sns\n",
    "%matplotlib inline"
   ]
  },
  {
   "cell_type": "code",
   "execution_count": 62,
   "metadata": {},
   "outputs": [],
   "source": [
    "match_id_list = [2719060322,\n",
    " 2720141598,\n",
    " 2737314939,\n",
    " 2746516932,\n",
    " 2749098820,\n",
    " 2756865141,\n",
    " 2761396673,\n",
    " 2765041861,\n",
    " 2765143572,\n",
    " 2769748980,\n",
    " 2771534907,\n",
    " 2772371484,\n",
    " 2778323149,\n",
    " 2780757506,\n",
    " 2781361647,\n",
    " 2781615740,\n",
    " 2783630957,\n",
    " 2784651369,\n",
    " 2787699111,\n",
    " 2788017115,\n",
    " 2788582633]"
   ]
  },
  {
   "cell_type": "code",
   "execution_count": 298,
   "metadata": {},
   "outputs": [],
   "source": [
    "match_id = match_id_list[4]\n",
    "file = './dat/match_' + str(match_id) + '.json'\n",
    "\n",
    "with open(file,'r') as fp:\n",
    "    match = json.load(fp)"
   ]
  },
  {
   "cell_type": "code",
   "execution_count": 299,
   "metadata": {},
   "outputs": [
    {
     "data": {
      "text/plain": [
       "dict_keys(['gameId', 'platformId', 'gameCreation', 'gameDuration', 'queueId', 'mapId', 'seasonId', 'gameVersion', 'gameMode', 'gameType', 'teams', 'participants', 'participantIdentities'])"
      ]
     },
     "execution_count": 299,
     "metadata": {},
     "output_type": "execute_result"
    }
   ],
   "source": [
    "match.keys()"
   ]
  },
  {
   "cell_type": "code",
   "execution_count": 300,
   "metadata": {},
   "outputs": [
    {
     "data": {
      "text/plain": [
       "0"
      ]
     },
     "execution_count": 300,
     "metadata": {},
     "output_type": "execute_result"
    }
   ],
   "source": [
    "winner = (match['teams'][0]['win'] == 'Fail')*1\n",
    "winner"
   ]
  },
  {
   "cell_type": "code",
   "execution_count": 301,
   "metadata": {},
   "outputs": [],
   "source": [
    "total_gold = []\n",
    "for i in range(10):\n",
    "    total_gold.append(match['participants'][i]['stats']['goldEarned'])"
   ]
  },
  {
   "cell_type": "code",
   "execution_count": 302,
   "metadata": {},
   "outputs": [
    {
     "name": "stdout",
     "output_type": "stream",
     "text": [
      "83242 76069 7173\n"
     ]
    }
   ],
   "source": [
    "team_0_gold = np.sum(total_gold[:5])\n",
    "team_1_gold = np.sum(total_gold[5:])\n",
    "team_diff = team_0_gold - team_1_gold\n",
    "print(team_0_gold, team_1_gold, team_diff)"
   ]
  },
  {
   "cell_type": "code",
   "execution_count": 303,
   "metadata": {},
   "outputs": [],
   "source": [
    "file = './dat/timeline_' + str(match_id) + '.json'\n",
    "\n",
    "with open(file,'r') as fp:\n",
    "    match2 = json.load(fp)"
   ]
  },
  {
   "cell_type": "code",
   "execution_count": 304,
   "metadata": {},
   "outputs": [],
   "source": [
    "def calculate_team_total_and_difference(dat, frames):\n",
    "    team_total = np.array([np.sum(dat[:,:5],axis=1),np.sum(dat[:,5:],axis=1)]).transpose()\n",
    "    team_total_diff = np.concatenate((team_total,(team_total[:,0] - team_total[:,1]).reshape((frames,1))),axis=1)\n",
    "    return team_total_diff\n",
    "\n",
    "def get_dat(match):\n",
    "    current_gold = []\n",
    "    total_gold = []\n",
    "    xp = []\n",
    "    frames = len(match['frames'])\n",
    "    for frame in range(frames):\n",
    "        frame_current_gold = []\n",
    "        frame_total_gold = []\n",
    "        frame_xp = []\n",
    "        for i in range(1,11):\n",
    "            frame_current_gold.append(match['frames'][frame]['participantFrames'][str(i)]['currentGold'])\n",
    "            frame_total_gold.append(match['frames'][frame]['participantFrames'][str(i)]['totalGold'])\n",
    "            frame_xp.append(match['frames'][frame]['participantFrames'][str(i)]['xp'])\n",
    "        current_gold.append(frame_current_gold)\n",
    "        total_gold.append(frame_total_gold)\n",
    "        xp.append(frame_xp)\n",
    "        \n",
    "    team_current_gold = calculate_team_total_and_difference(np.array(current_gold), frames)\n",
    "    team_total_gold = calculate_team_total_and_difference(np.array(total_gold), frames)\n",
    "    team_xp = calculate_team_total_and_difference(np.array(xp), frames)\n",
    "    return team_current_gold, team_total_gold, team_xp, frames"
   ]
  },
  {
   "cell_type": "code",
   "execution_count": 305,
   "metadata": {},
   "outputs": [],
   "source": [
    "team_current_gold, team_total_gold, team_xp, frames = get_dat(match2)"
   ]
  },
  {
   "cell_type": "code",
   "execution_count": 306,
   "metadata": {},
   "outputs": [],
   "source": [
    "fractional_diff = team_total_gold[:,2] / team_total_gold[:,0] * 100"
   ]
  },
  {
   "cell_type": "code",
   "execution_count": 307,
   "metadata": {},
   "outputs": [],
   "source": [
    "team_gold_diff_growth = team_total_gold[:,2][1:] - team_total_gold[:,2][:-1]"
   ]
  },
  {
   "cell_type": "code",
   "execution_count": 308,
   "metadata": {},
   "outputs": [
    {
     "data": {
      "text/plain": [
       "<matplotlib.collections.LineCollection at 0x11860ef60>"
      ]
     },
     "execution_count": 308,
     "metadata": {},
     "output_type": "execute_result"
    },
    {
     "data": {
      "image/png": "[encoded data removed]",
      "text/plain": [
       "<Figure size 432x288 with 1 Axes>"
      ]
     },
     "metadata": {},
     "output_type": "display_data"
    }
   ],
   "source": [
    "# plt.plot(team_total_gold[:,0],color='blue')\n",
    "# plt.plot(team_total_gold[:,1],color='red')\n",
    "plt.plot(team_total_gold[:,2],color='green')\n",
    "plt.hlines(0,0,len(team_gold_diff_growth),linestyles='--')"
   ]
  },
  {
   "cell_type": "code",
   "execution_count": 309,
   "metadata": {},
   "outputs": [
    {
     "data": {
      "text/plain": [
       "<matplotlib.collections.LineCollection at 0x11861fe48>"
      ]
     },
     "execution_count": 309,
     "metadata": {},
     "output_type": "execute_result"
    },
    {
     "data": {
      "image/png": "[encoded data removed]",
      "text/plain": [
       "<Figure size 432x288 with 1 Axes>"
      ]
     },
     "metadata": {},
     "output_type": "display_data"
    }
   ],
   "source": [
    "plt.plot(team_gold_diff_growth,color='blue',marker='o')\n",
    "plt.hlines(0,0,len(team_gold_diff_growth),linestyles='--')"
   ]
  },
  {
   "cell_type": "code",
   "execution_count": 310,
   "metadata": {},
   "outputs": [
    {
     "data": {
      "text/plain": [
       "<matplotlib.collections.LineCollection at 0x1188eac18>"
      ]
     },
     "execution_count": 310,
     "metadata": {},
     "output_type": "execute_result"
    },
    {
     "data": {
      "image/png": "[encoded data removed]",
      "text/plain": [
       "<Figure size 432x288 with 1 Axes>"
      ]
     },
     "metadata": {},
     "output_type": "display_data"
    }
   ],
   "source": [
    "plt.plot(fractional_diff,color='blue')\n",
    "plt.hlines(0,0,len(team_gold_diff_growth),linestyles='--')"
   ]
  },
  {
   "cell_type": "code",
   "execution_count": 311,
   "metadata": {},
   "outputs": [],
   "source": [
    "lead = (fractional_diff>0)*1\n",
    "m = len(lead)\n",
    "percent_time_with_lead = []\n",
    "for i in range(1,m):\n",
    "    percent_time_with_lead.append(np.sum(lead[:i])/i)"
   ]
  },
  {
   "cell_type": "code",
   "execution_count": 315,
   "metadata": {},
   "outputs": [
    {
     "name": "stdout",
     "output_type": "stream",
     "text": [
      "0 0 0.0\n",
      "1 0 0.0\n",
      "2 1 0.3333333333333333\n",
      "3 1 0.5\n",
      "4 0 0.4\n",
      "5 0 0.3333333333333333\n",
      "6 0 0.2857142857142857\n",
      "7 0 0.25\n",
      "8 0 0.2222222222222222\n",
      "9 0 0.2\n",
      "10 1 0.2727272727272727\n",
      "11 1 0.3333333333333333\n",
      "12 1 0.38461538461538464\n",
      "13 1 0.42857142857142855\n",
      "14 1 0.4666666666666667\n",
      "15 1 0.5\n",
      "16 1 0.5294117647058824\n",
      "17 1 0.5555555555555556\n",
      "18 1 0.5789473684210527\n",
      "19 1 0.6\n",
      "20 1 0.6190476190476191\n",
      "21 1 0.6363636363636364\n",
      "22 1 0.6521739130434783\n",
      "23 1 0.6666666666666666\n",
      "24 0 0.64\n",
      "25 0 0.6153846153846154\n",
      "26 0 0.5925925925925926\n",
      "27 0 0.5714285714285714\n",
      "28 0 0.5517241379310345\n",
      "29 0 0.5333333333333333\n",
      "30 0 0.5161290322580645\n",
      "31 0 0.5\n",
      "32 0 0.48484848484848486\n",
      "33 0 0.47058823529411764\n",
      "34 1 0.4857142857142857\n",
      "35 1 0.5\n",
      "36 1 0.5135135135135135\n",
      "37 1 0.5263157894736842\n",
      "38 1 0.5384615384615384\n",
      "39 1 0.55\n",
      "40 1 0.5609756097560976\n",
      "41 1 0.5714285714285714\n",
      "42 0 0.5581395348837209\n",
      "43 1 0.5681818181818182\n",
      "44 1 0.5777777777777777\n",
      "45 1 0.5869565217391305\n"
     ]
    },
    {
     "ename": "IndexError",
     "evalue": "list index out of range",
     "output_type": "error",
     "traceback": [
      "\u001b[0;31m---------------------------------------------------------------------------\u001b[0m",
      "\u001b[0;31mIndexError\u001b[0m                                Traceback (most recent call last)",
      "\u001b[0;32m<ipython-input-315-8c08522e58d4>\u001b[0m in \u001b[0;36m<module>\u001b[0;34m()\u001b[0m\n\u001b[1;32m      1\u001b[0m \u001b[0;32mfor\u001b[0m \u001b[0mi\u001b[0m\u001b[0;34m,\u001b[0m \u001b[0mx\u001b[0m \u001b[0;32min\u001b[0m \u001b[0menumerate\u001b[0m\u001b[0;34m(\u001b[0m\u001b[0mlead\u001b[0m\u001b[0;34m)\u001b[0m\u001b[0;34m:\u001b[0m\u001b[0;34m\u001b[0m\u001b[0m\n\u001b[0;32m----> 2\u001b[0;31m     \u001b[0mprint\u001b[0m\u001b[0;34m(\u001b[0m\u001b[0mi\u001b[0m\u001b[0;34m,\u001b[0m\u001b[0mx\u001b[0m\u001b[0;34m,\u001b[0m\u001b[0mpercent_time_with_lead\u001b[0m\u001b[0;34m[\u001b[0m\u001b[0mi\u001b[0m\u001b[0;34m]\u001b[0m\u001b[0;34m)\u001b[0m\u001b[0;34m\u001b[0m\u001b[0m\n\u001b[0m",
      "\u001b[0;31mIndexError\u001b[0m: list index out of range"
     ]
    }
   ],
   "source": [
    "for i, x in enumerate(lead):\n",
    "    print(i,x,percent_time_with_lead[i])"
   ]
  },
  {
   "cell_type": "code",
   "execution_count": 312,
   "metadata": {},
   "outputs": [
    {
     "data": {
      "text/plain": [
       "<matplotlib.collections.LineCollection at 0x118a196a0>"
      ]
     },
     "execution_count": 312,
     "metadata": {},
     "output_type": "execute_result"
    },
    {
     "data": {
      "image/png": "[encoded data removed]",
      "text/plain": [
       "<Figure size 432x288 with 1 Axes>"
      ]
     },
     "metadata": {},
     "output_type": "display_data"
    }
   ],
   "source": [
    "plt.plot(percent_time_with_lead)\n",
    "plt.hlines(0.5,0,len(team_gold_diff_growth),linestyles='--')"
   ]
  },
  {
   "cell_type": "code",
   "execution_count": null,
   "metadata": {},
   "outputs": [],
   "source": []
  },
  {
   "cell_type": "code",
   "execution_count": null,
   "metadata": {},
   "outputs": [],
   "source": []
  },
  {
   "cell_type": "code",
   "execution_count": null,
   "metadata": {},
   "outputs": [],
   "source": []
  },
  {
   "cell_type": "code",
   "execution_count": null,
   "metadata": {},
   "outputs": [],
   "source": []
  },
  {
   "cell_type": "code",
   "execution_count": null,
   "metadata": {},
   "outputs": [],
   "source": []
  },
  {
   "cell_type": "code",
   "execution_count": null,
   "metadata": {},
   "outputs": [],
   "source": []
  },
  {
   "cell_type": "code",
   "execution_count": null,
   "metadata": {},
   "outputs": [],
   "source": []
  },
  {
   "cell_type": "code",
   "execution_count": null,
   "metadata": {},
   "outputs": [],
   "source": []
  },
  {
   "cell_type": "code",
   "execution_count": null,
   "metadata": {},
   "outputs": [],
   "source": []
  }
 ],
 "metadata": {
  "kernelspec": {
   "display_name": "Python 3",
   "language": "python",
   "name": "python3"
  },
  "language_info": {
   "codemirror_mode": {
    "name": "ipython",
    "version": 3
   },
   "file_extension": ".py",
   "mimetype": "text/x-python",
   "name": "python",
   "nbconvert_exporter": "python",
   "pygments_lexer": "ipython3",
   "version": "3.6.5"
  }
 },
 "nbformat": 4,
 "nbformat_minor": 2
}
