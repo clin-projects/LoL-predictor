{
 "cells": [
  {
   "cell_type": "code",
   "execution_count": 142,
   "metadata": {},
   "outputs": [],
   "source": [
    "import glob\n",
    "import json\n",
    "import numpy as np\n",
    "import matplotlib.pyplot as plt\n",
    "import pandas as pd\n",
    "\n",
    "np.set_printoptions(suppress=True)\n",
    "\n",
    "%matplotlib inline"
   ]
  },
  {
   "cell_type": "code",
   "execution_count": 143,
   "metadata": {},
   "outputs": [],
   "source": [
    "fin = 'challenger_matches.txt'\n",
    "\n",
    "matches = []\n",
    "\n",
    "with open(fin,'rb') as f:\n",
    "    for row in f:\n",
    "        try:\n",
    "            matches.append(int(row))\n",
    "        except:\n",
    "            continue"
   ]
  },
  {
   "cell_type": "code",
   "execution_count": 144,
   "metadata": {},
   "outputs": [
    {
     "name": "stdout",
     "output_type": "stream",
     "text": [
      "211705 101472\n"
     ]
    }
   ],
   "source": [
    "unique_matches = list(set(matches))\n",
    "\n",
    "print(len(matches), len(unique_matches))"
   ]
  },
  {
   "cell_type": "code",
   "execution_count": 145,
   "metadata": {},
   "outputs": [
    {
     "name": "stdout",
     "output_type": "stream",
     "text": [
      "7540 matches\n"
     ]
    }
   ],
   "source": [
    "# get existing matches\n",
    "\n",
    "files = glob.glob('./dat_challenger_only/match*')\n",
    "print(len(files), 'matches')"
   ]
  },
  {
   "cell_type": "code",
   "execution_count": 146,
   "metadata": {},
   "outputs": [],
   "source": [
    "existing_matches = []\n",
    "for f in files:\n",
    "    existing_matches.append(int(f.split('_')[-1].replace('.json','')))"
   ]
  },
  {
   "cell_type": "code",
   "execution_count": 147,
   "metadata": {},
   "outputs": [],
   "source": [
    "num_existing_matches = len(existing_matches)"
   ]
  },
  {
   "cell_type": "code",
   "execution_count": 148,
   "metadata": {},
   "outputs": [],
   "source": [
    "new_matches = set(unique_matches).difference(set(existing_matches))\n",
    "num_new_matches = len(new_matches)"
   ]
  },
  {
   "cell_type": "code",
   "execution_count": 149,
   "metadata": {},
   "outputs": [
    {
     "name": "stdout",
     "output_type": "stream",
     "text": [
      "current: 7540, new: 93932, total: 101472\n"
     ]
    }
   ],
   "source": [
    "print('current: %d, new: %d, total: %d' % (num_existing_matches, num_new_matches,\n",
    "                                           num_existing_matches + num_new_matches))"
   ]
  },
  {
   "cell_type": "code",
   "execution_count": 150,
   "metadata": {},
   "outputs": [],
   "source": [
    "fout = 'new_matches.txt'\n",
    "\n",
    "cutoff = 3 * 10**9\n",
    "\n",
    "new_matches = np.array(list(new_matches))\n",
    "\n",
    "new_matches_cutoff = new_matches[np.where(new_matches < cutoff)]\n",
    "\n",
    "with open(fout,'w') as f:\n",
    "    match_ids_as_string = '\\n'.join([str(x) for x in new_matches_cutoff]) + '\\n'\n",
    "    f.write(match_ids_as_string)"
   ]
  },
  {
   "cell_type": "code",
   "execution_count": 151,
   "metadata": {},
   "outputs": [
    {
     "data": {
      "text/plain": [
       "93511"
      ]
     },
     "execution_count": 151,
     "metadata": {},
     "output_type": "execute_result"
    }
   ],
   "source": [
    "len(new_matches_cutoff)"
   ]
  },
  {
   "cell_type": "code",
   "execution_count": 139,
   "metadata": {},
   "outputs": [
    {
     "ename": "FileNotFoundError",
     "evalue": "[Errno 2] No such file or directory: './dat/match_2835841035.json' -> './dat_challenger_only/match_2835841035.json'",
     "output_type": "error",
     "traceback": [
      "\u001b[0;31m---------------------------------------------------------------------------\u001b[0m",
      "\u001b[0;31mFileNotFoundError\u001b[0m                         Traceback (most recent call last)",
      "\u001b[0;32m<ipython-input-139-eed1be811e6d>\u001b[0m in \u001b[0;36m<module>\u001b[0;34m()\u001b[0m\n\u001b[1;32m      9\u001b[0m     \u001b[0mcur_timeline_path\u001b[0m \u001b[0;34m=\u001b[0m \u001b[0mcur_match_path\u001b[0m\u001b[0;34m.\u001b[0m\u001b[0mreplace\u001b[0m\u001b[0;34m(\u001b[0m\u001b[0;34m'match'\u001b[0m\u001b[0;34m,\u001b[0m\u001b[0;34m'timeline'\u001b[0m\u001b[0;34m)\u001b[0m\u001b[0;34m\u001b[0m\u001b[0m\n\u001b[1;32m     10\u001b[0m     \u001b[0mnew_timeline_path\u001b[0m \u001b[0;34m=\u001b[0m \u001b[0mcur_timeline_path\u001b[0m\u001b[0;34m.\u001b[0m\u001b[0mreplace\u001b[0m\u001b[0;34m(\u001b[0m\u001b[0;34m'dat'\u001b[0m\u001b[0;34m,\u001b[0m\u001b[0;34m'dat_challenger_only'\u001b[0m\u001b[0;34m)\u001b[0m\u001b[0;34m\u001b[0m\u001b[0m\n\u001b[0;32m---> 11\u001b[0;31m     \u001b[0mos\u001b[0m\u001b[0;34m.\u001b[0m\u001b[0mrename\u001b[0m\u001b[0;34m(\u001b[0m\u001b[0mcur_match_path\u001b[0m\u001b[0;34m,\u001b[0m \u001b[0mnew_match_path\u001b[0m\u001b[0;34m)\u001b[0m\u001b[0;34m\u001b[0m\u001b[0m\n\u001b[0m\u001b[1;32m     12\u001b[0m     \u001b[0mos\u001b[0m\u001b[0;34m.\u001b[0m\u001b[0mrename\u001b[0m\u001b[0;34m(\u001b[0m\u001b[0mcur_timeline_path\u001b[0m\u001b[0;34m,\u001b[0m \u001b[0mnew_timeline_path\u001b[0m\u001b[0;34m)\u001b[0m\u001b[0;34m\u001b[0m\u001b[0m\n",
      "\u001b[0;31mFileNotFoundError\u001b[0m: [Errno 2] No such file or directory: './dat/match_2835841035.json' -> './dat_challenger_only/match_2835841035.json'"
     ]
    }
   ],
   "source": [
    "# this was when i had some challenger matches in ./dat/ --- this was to move them over\n",
    "\"\"\"\n",
    "old_matches = set(unique_matches).intersection(set(existing_matches))\n",
    "\n",
    "print(len(old_matches))\n",
    "\n",
    "# moving old matches to new folder\n",
    "# https://stackoverflow.com/questions/8858008/how-to-move-a-file-in-python\n",
    "\n",
    "import os\n",
    "\n",
    "for match_id in old_matches:\n",
    "    cur_match_path = './dat/match_%d.json' % (match_id)\n",
    "    new_match_path = cur_match_path.replace('dat','dat_challenger_only')\n",
    "    cur_timeline_path = cur_match_path.replace('match','timeline')\n",
    "    new_timeline_path = cur_timeline_path.replace('dat','dat_challenger_only')\n",
    "    os.rename(cur_match_path, new_match_path)\n",
    "    os.rename(cur_timeline_path, new_timeline_path)\"\"\""
   ]
  },
  {
   "cell_type": "code",
   "execution_count": 140,
   "metadata": {},
   "outputs": [
    {
     "name": "stdout",
     "output_type": "stream",
     "text": [
      "0 matches\n"
     ]
    }
   ],
   "source": [
    "# get existing matches\n",
    "\n",
    "files = glob.glob('./dat_challenger_only_b/*')\n",
    "print(len(files), 'matches')"
   ]
  },
  {
   "cell_type": "code",
   "execution_count": 77,
   "metadata": {},
   "outputs": [],
   "source": [
    "for file in files:\n",
    "    cur_path = file\n",
    "    new_path = file.replace('_b','')\n",
    "    os.rename(cur_path, new_path)"
   ]
  },
  {
   "cell_type": "code",
   "execution_count": null,
   "metadata": {},
   "outputs": [],
   "source": [
    "os"
   ]
  }
 ],
 "metadata": {
  "kernelspec": {
   "display_name": "Python 3",
   "language": "python",
   "name": "python3"
  },
  "language_info": {
   "codemirror_mode": {
    "name": "ipython",
    "version": 3
   },
   "file_extension": ".py",
   "mimetype": "text/x-python",
   "name": "python",
   "nbconvert_exporter": "python",
   "pygments_lexer": "ipython3",
   "version": "3.6.5"
  }
 },
 "nbformat": 4,
 "nbformat_minor": 2
}
