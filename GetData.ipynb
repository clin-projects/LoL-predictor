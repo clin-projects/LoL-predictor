{
 "cells": [
  {
   "cell_type": "code",
   "execution_count": 2,
   "metadata": {},
   "outputs": [],
   "source": [
    "api_key = 'RGAPI-35c1b7c3-e9a6-4c8d-aa75-d4f1d44102bf'"
   ]
  },
  {
   "cell_type": "code",
   "execution_count": 57,
   "metadata": {},
   "outputs": [],
   "source": [
    "# use riotwatcher (https://github.com/pseudonym117/Riot-Watcher)\n",
    "\n",
    "from riotwatcher import RiotWatcher\n",
    "import numpy as np\n",
    "\n",
    "watcher = RiotWatcher(api_key)\n",
    "\n",
    "my_region = 'na1'"
   ]
  },
  {
   "cell_type": "code",
   "execution_count": 271,
   "metadata": {},
   "outputs": [
    {
     "ename": "KeyboardInterrupt",
     "evalue": "",
     "output_type": "error",
     "traceback": [
      "\u001b[0;31m---------------------------------------------------------------------------\u001b[0m",
      "\u001b[0;31mKeyboardInterrupt\u001b[0m                         Traceback (most recent call last)",
      "\u001b[0;32m<ipython-input-271-844066bdf5ae>\u001b[0m in \u001b[0;36m<module>\u001b[0;34m()\u001b[0m\n\u001b[1;32m      2\u001b[0m \u001b[0;31m# Doublelift, TF blade, thtr, Pobelter, CG Solo, Tony Top,\u001b[0m\u001b[0;34m\u001b[0m\u001b[0;34m\u001b[0m\u001b[0m\n\u001b[1;32m      3\u001b[0m \u001b[0;34m\u001b[0m\u001b[0m\n\u001b[0;32m----> 4\u001b[0;31m \u001b[0msummoner_id\u001b[0m \u001b[0;34m=\u001b[0m \u001b[0mwatcher\u001b[0m\u001b[0;34m.\u001b[0m\u001b[0msummoner\u001b[0m\u001b[0;34m.\u001b[0m\u001b[0mby_name\u001b[0m\u001b[0;34m(\u001b[0m\u001b[0mmy_region\u001b[0m\u001b[0;34m,\u001b[0m \u001b[0;34m'Jurassiq'\u001b[0m\u001b[0;34m)\u001b[0m\u001b[0;34m\u001b[0m\u001b[0m\n\u001b[0m",
      "\u001b[0;32m~/anaconda3/envs/test/lib/python3.6/site-packages/riotwatcher/_apis/SummonerApiV3.py\u001b[0m in \u001b[0;36mby_name\u001b[0;34m(self, region, summoner_name)\u001b[0m\n\u001b[1;32m     44\u001b[0m             \u001b[0mself\u001b[0m\u001b[0;34m.\u001b[0m\u001b[0mby_name\u001b[0m\u001b[0;34m.\u001b[0m\u001b[0m__name__\u001b[0m\u001b[0;34m,\u001b[0m\u001b[0;34m\u001b[0m\u001b[0m\n\u001b[1;32m     45\u001b[0m             \u001b[0mregion\u001b[0m\u001b[0;34m,\u001b[0m\u001b[0;34m\u001b[0m\u001b[0m\n\u001b[0;32m---> 46\u001b[0;31m             \u001b[0;34m'/lol/summoner/v3/summoners/by-name/{summonerName}'\u001b[0m\u001b[0;34m.\u001b[0m\u001b[0mformat\u001b[0m\u001b[0;34m(\u001b[0m\u001b[0msummonerName\u001b[0m\u001b[0;34m=\u001b[0m\u001b[0msummoner_name\u001b[0m\u001b[0;34m)\u001b[0m\u001b[0;34m\u001b[0m\u001b[0m\n\u001b[0m\u001b[1;32m     47\u001b[0m         )\n\u001b[1;32m     48\u001b[0m \u001b[0;34m\u001b[0m\u001b[0m\n",
      "\u001b[0;32m~/anaconda3/envs/test/lib/python3.6/site-packages/riotwatcher/_apis/NamedEndpoint.py\u001b[0m in \u001b[0;36m_request\u001b[0;34m(self, method_name, region, url_ext, **kwargs)\u001b[0m\n\u001b[1;32m     27\u001b[0m                                 \u001b[0mthe\u001b[0m \u001b[0;34m.\u001b[0m\u001b[0mcom\u001b[0m \u001b[0mextension\u001b[0m\u001b[0;34m.\u001b[0m\u001b[0;34m\u001b[0m\u001b[0m\n\u001b[1;32m     28\u001b[0m         \"\"\"\n\u001b[0;32m---> 29\u001b[0;31m         \u001b[0;32mreturn\u001b[0m \u001b[0mself\u001b[0m\u001b[0;34m.\u001b[0m\u001b[0m_base_api\u001b[0m\u001b[0;34m.\u001b[0m\u001b[0mrequest\u001b[0m\u001b[0;34m(\u001b[0m\u001b[0mself\u001b[0m\u001b[0;34m.\u001b[0m\u001b[0m_endpoint_name\u001b[0m\u001b[0;34m,\u001b[0m \u001b[0mmethod_name\u001b[0m\u001b[0;34m,\u001b[0m \u001b[0mregion\u001b[0m\u001b[0;34m,\u001b[0m \u001b[0murl_ext\u001b[0m\u001b[0;34m,\u001b[0m \u001b[0;34m**\u001b[0m\u001b[0mkwargs\u001b[0m\u001b[0;34m)\u001b[0m\u001b[0;34m\u001b[0m\u001b[0m\n\u001b[0m",
      "\u001b[0;32m~/anaconda3/envs/test/lib/python3.6/site-packages/riotwatcher/_apis/BaseApi.py\u001b[0m in \u001b[0;36mrequest\u001b[0;34m(self, endpoint_name, method_name, region, url_ext, **kwargs)\u001b[0m\n\u001b[1;32m     27\u001b[0m                     \u001b[0mmethod_name\u001b[0m\u001b[0;34m,\u001b[0m\u001b[0;34m\u001b[0m\u001b[0m\n\u001b[1;32m     28\u001b[0m                     \u001b[0murl\u001b[0m\u001b[0;34m,\u001b[0m\u001b[0;34m\u001b[0m\u001b[0m\n\u001b[0;32m---> 29\u001b[0;31m                     \u001b[0mquery_params\u001b[0m\u001b[0;34m\u001b[0m\u001b[0m\n\u001b[0m\u001b[1;32m     30\u001b[0m                 )\n\u001b[1;32m     31\u001b[0m                 \u001b[0mearly_ret_idx\u001b[0m \u001b[0;34m=\u001b[0m \u001b[0midx\u001b[0m\u001b[0;34m\u001b[0m\u001b[0m\n",
      "\u001b[0;32m~/anaconda3/envs/test/lib/python3.6/site-packages/riotwatcher/Handlers/RateLimit/RateLimitHandler.py\u001b[0m in \u001b[0;36mpreview_request\u001b[0;34m(self, region, endpoint_name, method_name, url, query_params)\u001b[0m\n\u001b[1;32m     53\u001b[0m                 \u001b[0mwait_until\u001b[0m\u001b[0;34m[\u001b[0m\u001b[0;36m1\u001b[0m\u001b[0;34m]\u001b[0m\u001b[0;34m\u001b[0m\u001b[0m\n\u001b[1;32m     54\u001b[0m             )\n\u001b[0;32m---> 55\u001b[0;31m             \u001b[0mtime\u001b[0m\u001b[0;34m.\u001b[0m\u001b[0msleep\u001b[0m\u001b[0;34m(\u001b[0m\u001b[0mto_wait\u001b[0m\u001b[0;34m.\u001b[0m\u001b[0mtotal_seconds\u001b[0m\u001b[0;34m(\u001b[0m\u001b[0;34m)\u001b[0m\u001b[0;34m)\u001b[0m\u001b[0;34m\u001b[0m\u001b[0m\n\u001b[0m\u001b[1;32m     56\u001b[0m \u001b[0;34m\u001b[0m\u001b[0m\n\u001b[1;32m     57\u001b[0m     \u001b[0;32mdef\u001b[0m \u001b[0mafter_request\u001b[0m\u001b[0;34m(\u001b[0m\u001b[0mself\u001b[0m\u001b[0;34m,\u001b[0m \u001b[0mregion\u001b[0m\u001b[0;34m,\u001b[0m \u001b[0mendpoint_name\u001b[0m\u001b[0;34m,\u001b[0m \u001b[0mmethod_name\u001b[0m\u001b[0;34m,\u001b[0m \u001b[0murl\u001b[0m\u001b[0;34m,\u001b[0m \u001b[0mresponse\u001b[0m\u001b[0;34m)\u001b[0m\u001b[0;34m:\u001b[0m\u001b[0;34m\u001b[0m\u001b[0m\n",
      "\u001b[0;31mKeyboardInterrupt\u001b[0m: "
     ]
    }
   ],
   "source": [
    "# https://www.leagueofgraphs.com/rankings/summoners/na\n",
    "# Doublelift, TF blade, thtr, Pobelter, CG Solo, Tony Top,\n",
    "\n",
    "summoner_id = watcher.summoner.by_name(my_region, 'Jurassiq')"
   ]
  },
  {
   "cell_type": "code",
   "execution_count": 267,
   "metadata": {},
   "outputs": [
    {
     "name": "stdout",
     "output_type": "stream",
     "text": [
      "{'id': 19587365, 'accountId': 32281250, 'name': 'Tony Top', 'profileIconId': 3551, 'revisionDate': 1532984182000, 'summonerLevel': 127}\n"
     ]
    }
   ],
   "source": [
    "print(summoner_id)"
   ]
  },
  {
   "cell_type": "code",
   "execution_count": 268,
   "metadata": {},
   "outputs": [
    {
     "data": {
      "text/plain": [
       "32281250"
      ]
     },
     "execution_count": 268,
     "metadata": {},
     "output_type": "execute_result"
    }
   ],
   "source": [
    "summoner_id['accountId']"
   ]
  },
  {
   "cell_type": "code",
   "execution_count": 269,
   "metadata": {},
   "outputs": [],
   "source": [
    "matches = watcher.match.matchlist_by_account(my_region, account_id = summoner_id['accountId'])"
   ]
  },
  {
   "cell_type": "code",
   "execution_count": 270,
   "metadata": {},
   "outputs": [
    {
     "name": "stdout",
     "output_type": "stream",
     "text": [
      "0 2836050929 ./dat/match_2836050929.json\n",
      "1 2836015259 ./dat/match_2836015259.json\n",
      "2 2835988988 ./dat/match_2835988988.json\n",
      "3 2835984590 ./dat/match_2835984590.json\n",
      "4 2835990464 ./dat/match_2835990464.json\n",
      "5 2835966589 ./dat/match_2835966589.json\n",
      "6 2835954180 ./dat/match_2835954180.json\n",
      "7 2835951719 ./dat/match_2835951719.json\n",
      "8 2835874509 ./dat/match_2835874509.json\n",
      "9 2834840602 ./dat/match_2834840602.json\n",
      "10 2834786374 ./dat/match_2834786374.json\n",
      "11 2834791460 ./dat/match_2834791460.json\n",
      "12 2834766666 ./dat/match_2834766666.json\n",
      "13 2834751618 ./dat/match_2834751618.json\n",
      "14 2834733504 ./dat/match_2834733504.json\n",
      "15 2834707521 ./dat/match_2834707521.json\n",
      "16 2834658772 ./dat/match_2834658772.json\n",
      "17 2834651947 ./dat/match_2834651947.json\n",
      "18 2834646686 ./dat/match_2834646686.json\n",
      "19 2834464586 ./dat/match_2834464586.json\n",
      "20 2834437645 ./dat/match_2834437645.json\n",
      "21 2834399361 ./dat/match_2834399361.json\n",
      "22 2834400019 ./dat/match_2834400019.json\n",
      "23 2834353492 ./dat/match_2834353492.json\n",
      "24 2834322962 ./dat/match_2834322962.json\n",
      "25 2834295603 ./dat/match_2834295603.json\n",
      "26 2834290276 ./dat/match_2834290276.json\n",
      "27 2834282500 ./dat/match_2834282500.json\n",
      "28 2834245457 ./dat/match_2834245457.json\n",
      "29 2834224945 ./dat/match_2834224945.json\n",
      "30 2834196917 ./dat/match_2834196917.json\n",
      "31 2834173721 ./dat/match_2834173721.json\n",
      "32 2834148958 ./dat/match_2834148958.json\n",
      "33 2834164425 ./dat/match_2834164425.json\n",
      "34 2834159988 ./dat/match_2834159988.json\n",
      "35 2833981424 ./dat/match_2833981424.json\n",
      "36 2833943467 ./dat/match_2833943467.json\n",
      "37 2833925849 ./dat/match_2833925849.json\n",
      "38 2833887208 ./dat/match_2833887208.json\n",
      "39 2833857451 ./dat/match_2833857451.json\n",
      "40 2833828025 ./dat/match_2833828025.json\n",
      "41 2833782604 ./dat/match_2833782604.json\n",
      "42 2833742196 ./dat/match_2833742196.json\n",
      "43 2833697744 ./dat/match_2833697744.json\n",
      "44 2833700105 ./dat/match_2833700105.json\n",
      "45 2833684441 ./dat/match_2833684441.json\n",
      "46 2832966419 ./dat/match_2832966419.json\n",
      "47 2832950413 ./dat/match_2832950413.json\n",
      "48 2832904914 ./dat/match_2832904914.json\n",
      "49 2832892944 ./dat/match_2832892944.json\n",
      "50 2832541519 ./dat/match_2832541519.json\n",
      "51 2832532906 ./dat/match_2832532906.json\n",
      "52 2832505191 ./dat/match_2832505191.json\n",
      "53 2832490423 ./dat/match_2832490423.json\n",
      "54 2832472803 ./dat/match_2832472803.json\n",
      "55 2832437206 ./dat/match_2832437206.json\n",
      "56 2832424102 ./dat/match_2832424102.json\n",
      "57 2832407250 ./dat/match_2832407250.json\n",
      "58 2832392057 ./dat/match_2832392057.json\n",
      "59 2832386781 ./dat/match_2832386781.json\n",
      "60 2832363390 ./dat/match_2832363390.json\n",
      "61 2831946080 ./dat/match_2831946080.json\n",
      "62 2831938917 ./dat/match_2831938917.json\n",
      "63 2831921258 ./dat/match_2831921258.json\n",
      "64 2831876341 ./dat/match_2831876341.json\n",
      "65 2831881181 ./dat/match_2831881181.json\n",
      "66 2831408154 ./dat/match_2831408154.json\n",
      "67 2831389913 ./dat/match_2831389913.json\n",
      "68 2831349539 ./dat/match_2831349539.json\n",
      "69 2831328291 ./dat/match_2831328291.json\n",
      "70 2830711106 ./dat/match_2830711106.json\n",
      "71 2830585435 ./dat/match_2830585435.json\n",
      "72 2830557179 ./dat/match_2830557179.json\n",
      "73 2830563199 ./dat/match_2830563199.json\n",
      "74 2830548195 ./dat/match_2830548195.json\n",
      "75 2830543862 ./dat/match_2830543862.json\n",
      "76 2830529867 ./dat/match_2830529867.json\n",
      "77 2830507595 ./dat/match_2830507595.json\n",
      "78 2830504177 ./dat/match_2830504177.json\n",
      "79 2830501501 ./dat/match_2830501501.json\n",
      "80 2830415123 ./dat/match_2830415123.json\n",
      "81 2830385089 ./dat/match_2830385089.json\n",
      "82 2830356322 ./dat/match_2830356322.json\n",
      "83 2830326796 ./dat/match_2830326796.json\n",
      "84 2830287042 ./dat/match_2830287042.json\n",
      "85 2830237305 ./dat/match_2830237305.json\n",
      "86 2830038952 ./dat/match_2830038952.json\n",
      "87 2829948581 ./dat/match_2829948581.json\n",
      "88 2829943102 ./dat/match_2829943102.json\n",
      "89 2829896334 ./dat/match_2829896334.json\n",
      "90 2829901003 ./dat/match_2829901003.json\n",
      "91 2829862449 ./dat/match_2829862449.json\n",
      "92 2829825357 ./dat/match_2829825357.json\n",
      "93 2829819946 ./dat/match_2829819946.json\n",
      "94 2829804082 ./dat/match_2829804082.json\n",
      "95 2829347254 ./dat/match_2829347254.json\n",
      "96 2828859878 ./dat/match_2828859878.json\n"
     ]
    },
    {
     "ename": "KeyboardInterrupt",
     "evalue": "",
     "output_type": "error",
     "traceback": [
      "\u001b[0;31m---------------------------------------------------------------------------\u001b[0m",
      "\u001b[0;31mKeyboardInterrupt\u001b[0m                         Traceback (most recent call last)",
      "\u001b[0;32m<ipython-input-270-755833604642>\u001b[0m in \u001b[0;36m<module>\u001b[0;34m()\u001b[0m\n\u001b[1;32m      3\u001b[0m \u001b[0;32mfor\u001b[0m \u001b[0mi\u001b[0m\u001b[0;34m,\u001b[0m \u001b[0mcur_match\u001b[0m \u001b[0;32min\u001b[0m \u001b[0menumerate\u001b[0m\u001b[0;34m(\u001b[0m\u001b[0mmatches\u001b[0m\u001b[0;34m[\u001b[0m\u001b[0;34m'matches'\u001b[0m\u001b[0;34m]\u001b[0m\u001b[0;34m)\u001b[0m\u001b[0;34m:\u001b[0m\u001b[0;34m\u001b[0m\u001b[0m\n\u001b[1;32m      4\u001b[0m     \u001b[0mcur_match_id\u001b[0m \u001b[0;34m=\u001b[0m \u001b[0mcur_match\u001b[0m\u001b[0;34m[\u001b[0m\u001b[0;34m'gameId'\u001b[0m\u001b[0;34m]\u001b[0m\u001b[0;34m\u001b[0m\u001b[0m\n\u001b[0;32m----> 5\u001b[0;31m     \u001b[0mmatch\u001b[0m \u001b[0;34m=\u001b[0m \u001b[0mwatcher\u001b[0m\u001b[0;34m.\u001b[0m\u001b[0mmatch\u001b[0m\u001b[0;34m.\u001b[0m\u001b[0mby_id\u001b[0m\u001b[0;34m(\u001b[0m\u001b[0mmy_region\u001b[0m\u001b[0;34m,\u001b[0m \u001b[0mmatch_id\u001b[0m \u001b[0;34m=\u001b[0m \u001b[0mcur_match_id\u001b[0m\u001b[0;34m)\u001b[0m\u001b[0;34m\u001b[0m\u001b[0m\n\u001b[0m\u001b[1;32m      6\u001b[0m     \u001b[0mfout\u001b[0m \u001b[0;34m=\u001b[0m \u001b[0;34m'./dat/match_'\u001b[0m \u001b[0;34m+\u001b[0m \u001b[0mstr\u001b[0m\u001b[0;34m(\u001b[0m\u001b[0mcur_match_id\u001b[0m\u001b[0;34m)\u001b[0m \u001b[0;34m+\u001b[0m \u001b[0;34m'.json'\u001b[0m\u001b[0;34m\u001b[0m\u001b[0m\n\u001b[1;32m      7\u001b[0m     \u001b[0mprint\u001b[0m\u001b[0;34m(\u001b[0m\u001b[0mi\u001b[0m\u001b[0;34m,\u001b[0m \u001b[0mcur_match_id\u001b[0m\u001b[0;34m,\u001b[0m \u001b[0mfout\u001b[0m\u001b[0;34m)\u001b[0m\u001b[0;34m\u001b[0m\u001b[0m\n",
      "\u001b[0;32m~/anaconda3/envs/test/lib/python3.6/site-packages/riotwatcher/_apis/MatchApiV3.py\u001b[0m in \u001b[0;36mby_id\u001b[0;34m(self, region, match_id)\u001b[0m\n\u001b[1;32m     29\u001b[0m             \u001b[0mself\u001b[0m\u001b[0;34m.\u001b[0m\u001b[0mby_id\u001b[0m\u001b[0;34m.\u001b[0m\u001b[0m__name__\u001b[0m\u001b[0;34m,\u001b[0m\u001b[0;34m\u001b[0m\u001b[0m\n\u001b[1;32m     30\u001b[0m             \u001b[0mregion\u001b[0m\u001b[0;34m,\u001b[0m\u001b[0;34m\u001b[0m\u001b[0m\n\u001b[0;32m---> 31\u001b[0;31m             \u001b[0;34m'/lol/match/v3/matches/{matchId}'\u001b[0m\u001b[0;34m.\u001b[0m\u001b[0mformat\u001b[0m\u001b[0;34m(\u001b[0m\u001b[0mmatchId\u001b[0m\u001b[0;34m=\u001b[0m\u001b[0mmatch_id\u001b[0m\u001b[0;34m)\u001b[0m\u001b[0;34m\u001b[0m\u001b[0m\n\u001b[0m\u001b[1;32m     32\u001b[0m         )\n\u001b[1;32m     33\u001b[0m \u001b[0;34m\u001b[0m\u001b[0m\n",
      "\u001b[0;32m~/anaconda3/envs/test/lib/python3.6/site-packages/riotwatcher/_apis/NamedEndpoint.py\u001b[0m in \u001b[0;36m_request\u001b[0;34m(self, method_name, region, url_ext, **kwargs)\u001b[0m\n\u001b[1;32m     27\u001b[0m                                 \u001b[0mthe\u001b[0m \u001b[0;34m.\u001b[0m\u001b[0mcom\u001b[0m \u001b[0mextension\u001b[0m\u001b[0;34m.\u001b[0m\u001b[0;34m\u001b[0m\u001b[0m\n\u001b[1;32m     28\u001b[0m         \"\"\"\n\u001b[0;32m---> 29\u001b[0;31m         \u001b[0;32mreturn\u001b[0m \u001b[0mself\u001b[0m\u001b[0;34m.\u001b[0m\u001b[0m_base_api\u001b[0m\u001b[0;34m.\u001b[0m\u001b[0mrequest\u001b[0m\u001b[0;34m(\u001b[0m\u001b[0mself\u001b[0m\u001b[0;34m.\u001b[0m\u001b[0m_endpoint_name\u001b[0m\u001b[0;34m,\u001b[0m \u001b[0mmethod_name\u001b[0m\u001b[0;34m,\u001b[0m \u001b[0mregion\u001b[0m\u001b[0;34m,\u001b[0m \u001b[0murl_ext\u001b[0m\u001b[0;34m,\u001b[0m \u001b[0;34m**\u001b[0m\u001b[0mkwargs\u001b[0m\u001b[0;34m)\u001b[0m\u001b[0;34m\u001b[0m\u001b[0m\n\u001b[0m",
      "\u001b[0;32m~/anaconda3/envs/test/lib/python3.6/site-packages/riotwatcher/_apis/BaseApi.py\u001b[0m in \u001b[0;36mrequest\u001b[0;34m(self, endpoint_name, method_name, region, url_ext, **kwargs)\u001b[0m\n\u001b[1;32m     27\u001b[0m                     \u001b[0mmethod_name\u001b[0m\u001b[0;34m,\u001b[0m\u001b[0;34m\u001b[0m\u001b[0m\n\u001b[1;32m     28\u001b[0m                     \u001b[0murl\u001b[0m\u001b[0;34m,\u001b[0m\u001b[0;34m\u001b[0m\u001b[0m\n\u001b[0;32m---> 29\u001b[0;31m                     \u001b[0mquery_params\u001b[0m\u001b[0;34m\u001b[0m\u001b[0m\n\u001b[0m\u001b[1;32m     30\u001b[0m                 )\n\u001b[1;32m     31\u001b[0m                 \u001b[0mearly_ret_idx\u001b[0m \u001b[0;34m=\u001b[0m \u001b[0midx\u001b[0m\u001b[0;34m\u001b[0m\u001b[0m\n",
      "\u001b[0;32m~/anaconda3/envs/test/lib/python3.6/site-packages/riotwatcher/Handlers/RateLimit/RateLimitHandler.py\u001b[0m in \u001b[0;36mpreview_request\u001b[0;34m(self, region, endpoint_name, method_name, url, query_params)\u001b[0m\n\u001b[1;32m     53\u001b[0m                 \u001b[0mwait_until\u001b[0m\u001b[0;34m[\u001b[0m\u001b[0;36m1\u001b[0m\u001b[0;34m]\u001b[0m\u001b[0;34m\u001b[0m\u001b[0m\n\u001b[1;32m     54\u001b[0m             )\n\u001b[0;32m---> 55\u001b[0;31m             \u001b[0mtime\u001b[0m\u001b[0;34m.\u001b[0m\u001b[0msleep\u001b[0m\u001b[0;34m(\u001b[0m\u001b[0mto_wait\u001b[0m\u001b[0;34m.\u001b[0m\u001b[0mtotal_seconds\u001b[0m\u001b[0;34m(\u001b[0m\u001b[0;34m)\u001b[0m\u001b[0;34m)\u001b[0m\u001b[0;34m\u001b[0m\u001b[0m\n\u001b[0m\u001b[1;32m     56\u001b[0m \u001b[0;34m\u001b[0m\u001b[0m\n\u001b[1;32m     57\u001b[0m     \u001b[0;32mdef\u001b[0m \u001b[0mafter_request\u001b[0m\u001b[0;34m(\u001b[0m\u001b[0mself\u001b[0m\u001b[0;34m,\u001b[0m \u001b[0mregion\u001b[0m\u001b[0;34m,\u001b[0m \u001b[0mendpoint_name\u001b[0m\u001b[0;34m,\u001b[0m \u001b[0mmethod_name\u001b[0m\u001b[0;34m,\u001b[0m \u001b[0murl\u001b[0m\u001b[0;34m,\u001b[0m \u001b[0mresponse\u001b[0m\u001b[0;34m)\u001b[0m\u001b[0;34m:\u001b[0m\u001b[0;34m\u001b[0m\u001b[0m\n",
      "\u001b[0;31mKeyboardInterrupt\u001b[0m: "
     ]
    }
   ],
   "source": [
    "# pull all matches from api\n",
    "\n",
    "for i, cur_match in enumerate(matches['matches']):\n",
    "    cur_match_id = cur_match['gameId']\n",
    "    match = watcher.match.by_id(my_region, match_id = cur_match_id)\n",
    "    fout = './dat/match_' + str(cur_match_id) + '.json'\n",
    "    print(i, cur_match_id, fout)\n",
    "    with open(fout, 'w') as fp:\n",
    "        json.dump(match, fp)"
   ]
  },
  {
   "cell_type": "code",
   "execution_count": null,
   "metadata": {},
   "outputs": [],
   "source": [
    "matches['matches'][0]['gameId']"
   ]
  },
  {
   "cell_type": "code",
   "execution_count": 25,
   "metadata": {},
   "outputs": [
    {
     "name": "stdout",
     "output_type": "stream",
     "text": [
      "2834728655\n"
     ]
    }
   ],
   "source": [
    "print(matches['matches'][0]['gameId'])"
   ]
  },
  {
   "cell_type": "code",
   "execution_count": 64,
   "metadata": {},
   "outputs": [],
   "source": [
    "cur_match_id = matches['matches'][1]['gameId']"
   ]
  },
  {
   "cell_type": "code",
   "execution_count": 28,
   "metadata": {},
   "outputs": [],
   "source": [
    "timeline = watcher.match.timeline_by_match(my_region, match_id = cur_match_id)"
   ]
  },
  {
   "cell_type": "code",
   "execution_count": 31,
   "metadata": {},
   "outputs": [
    {
     "data": {
      "text/plain": [
       "dict_keys(['frames', 'frameInterval'])"
      ]
     },
     "execution_count": 31,
     "metadata": {},
     "output_type": "execute_result"
    }
   ],
   "source": [
    "timeline.keys()"
   ]
  },
  {
   "cell_type": "code",
   "execution_count": 36,
   "metadata": {},
   "outputs": [
    {
     "data": {
      "text/plain": [
       "dict_keys(['participantFrames', 'events', 'timestamp'])"
      ]
     },
     "execution_count": 36,
     "metadata": {},
     "output_type": "execute_result"
    }
   ],
   "source": [
    "timeline['frames'][0].keys()"
   ]
  },
  {
   "cell_type": "code",
   "execution_count": 44,
   "metadata": {},
   "outputs": [
    {
     "data": {
      "text/plain": [
       "10"
      ]
     },
     "execution_count": 44,
     "metadata": {},
     "output_type": "execute_result"
    }
   ],
   "source": [
    "len(timeline['frames'][0]['participantFrames'])"
   ]
  },
  {
   "cell_type": "code",
   "execution_count": 274,
   "metadata": {},
   "outputs": [
    {
     "data": {
      "text/plain": [
       "23"
      ]
     },
     "execution_count": 274,
     "metadata": {},
     "output_type": "execute_result"
    }
   ],
   "source": [
    "len(timeline['frames'][-3]['events'])"
   ]
  },
  {
   "cell_type": "code",
   "execution_count": 298,
   "metadata": {},
   "outputs": [
    {
     "data": {
      "text/plain": [
       "31"
      ]
     },
     "execution_count": 298,
     "metadata": {},
     "output_type": "execute_result"
    }
   ],
   "source": [
    "timeline['frames']"
   ]
  },
  {
   "cell_type": "code",
   "execution_count": 299,
   "metadata": {},
   "outputs": [
    {
     "data": {
      "text/plain": [
       "{'1': {'participantId': 1,\n",
       "  'currentGold': 486,\n",
       "  'totalGold': 13086,\n",
       "  'level': 16,\n",
       "  'xp': 15573,\n",
       "  'minionsKilled': 204,\n",
       "  'jungleMinionsKilled': 5},\n",
       " '2': {'participantId': 2,\n",
       "  'currentGold': 61,\n",
       "  'totalGold': 11711,\n",
       "  'level': 14,\n",
       "  'xp': 12610,\n",
       "  'minionsKilled': 224,\n",
       "  'jungleMinionsKilled': 15},\n",
       " '3': {'participantId': 3,\n",
       "  'currentGold': 1088,\n",
       "  'totalGold': 10738,\n",
       "  'level': 15,\n",
       "  'xp': 13472,\n",
       "  'minionsKilled': 46,\n",
       "  'jungleMinionsKilled': 106},\n",
       " '4': {'participantId': 4,\n",
       "  'currentGold': 670,\n",
       "  'totalGold': 11403,\n",
       "  'level': 15,\n",
       "  'xp': 14336,\n",
       "  'minionsKilled': 189,\n",
       "  'jungleMinionsKilled': 5},\n",
       " '5': {'participantId': 5,\n",
       "  'currentGold': 921,\n",
       "  'totalGold': 7746,\n",
       "  'level': 13,\n",
       "  'xp': 10436,\n",
       "  'minionsKilled': 42,\n",
       "  'jungleMinionsKilled': 0},\n",
       " '6': {'participantId': 6,\n",
       "  'currentGold': 1034,\n",
       "  'totalGold': 8734,\n",
       "  'level': 13,\n",
       "  'xp': 11106,\n",
       "  'minionsKilled': 8,\n",
       "  'jungleMinionsKilled': 0},\n",
       " '7': {'participantId': 7,\n",
       "  'currentGold': 671,\n",
       "  'totalGold': 11471,\n",
       "  'level': 14,\n",
       "  'xp': 11701,\n",
       "  'minionsKilled': 184,\n",
       "  'jungleMinionsKilled': 12},\n",
       " '8': {'participantId': 8,\n",
       "  'currentGold': 2782,\n",
       "  'totalGold': 14982,\n",
       "  'level': 16,\n",
       "  'xp': 16369,\n",
       "  'minionsKilled': 207,\n",
       "  'jungleMinionsKilled': 17},\n",
       " '9': {'participantId': 9,\n",
       "  'currentGold': 2248,\n",
       "  'totalGold': 15023,\n",
       "  'level': 17,\n",
       "  'xp': 16753,\n",
       "  'minionsKilled': 44,\n",
       "  'jungleMinionsKilled': 171},\n",
       " '10': {'participantId': 10,\n",
       "  'currentGold': 140,\n",
       "  'totalGold': 11725,\n",
       "  'level': 16,\n",
       "  'xp': 15670,\n",
       "  'minionsKilled': 231,\n",
       "  'jungleMinionsKilled': 0}}"
      ]
     },
     "execution_count": 299,
     "metadata": {},
     "output_type": "execute_result"
    }
   ],
   "source": [
    "timeline['frames'][-1]['participantFrames']"
   ]
  },
  {
   "cell_type": "code",
   "execution_count": 65,
   "metadata": {},
   "outputs": [],
   "source": [
    "match = watcher.match.by_id(my_region, match_id = cur_match_id)\n",
    "fout = './dat/match_' + str(cur_match_id) + '.json'\n",
    "with open(fout, 'w') as fp:\n",
    "    json.dump(match, fp)"
   ]
  },
  {
   "cell_type": "code",
   "execution_count": 223,
   "metadata": {},
   "outputs": [],
   "source": [
    "import json\n",
    "\n",
    "# https://stackoverflow.com/questions/7100125/storing-python-dictionaries\n",
    "fout = './dat/match_' + str(cur_match_id) + '.json'\n",
    "with open(fout, 'w') as fp:\n",
    "    json.dump(match, fp)"
   ]
  },
  {
   "cell_type": "code",
   "execution_count": 224,
   "metadata": {},
   "outputs": [],
   "source": [
    "with open(fout, 'r') as fp:\n",
    "    data = json.load(fp)"
   ]
  },
  {
   "cell_type": "code",
   "execution_count": 48,
   "metadata": {},
   "outputs": [
    {
     "data": {
      "text/plain": [
       "dict_keys(['gameId', 'platformId', 'gameCreation', 'gameDuration', 'queueId', 'mapId', 'seasonId', 'gameVersion', 'gameMode', 'gameType', 'teams', 'participants', 'participantIdentities'])"
      ]
     },
     "execution_count": 48,
     "metadata": {},
     "output_type": "execute_result"
    }
   ],
   "source": [
    "match.keys()"
   ]
  },
  {
   "cell_type": "code",
   "execution_count": 49,
   "metadata": {},
   "outputs": [
    {
     "name": "stdout",
     "output_type": "stream",
     "text": [
      "labels:\n",
      "('creepsPerMinDeltas_0-10', int),\n",
      "('creepsPerMinDeltas_10-20', int),\n",
      "('creepsPerMinDeltas_20-30', int),\n",
      "('creepsPerMinDeltas_30-end', int),\n",
      "('goldPerMinDeltas_0-10', int),\n",
      "('goldPerMinDeltas_10-20', int),\n",
      "('goldPerMinDeltas_20-30', int),\n",
      "('goldPerMinDeltas_30-end', int),\n"
     ]
    }
   ],
   "source": [
    "solo_vars = ['creepsPerMinDeltas', 'goldPerMinDeltas']\n",
    "team_outcome = ['win']\n",
    "time_deltas = ['0-10', '10-20', '20-30', '30-end']\n",
    "\n",
    "dat_labels = []\n",
    "print('labels:')\n",
    "for v in solo_vars:\n",
    "    for t in time_deltas:\n",
    "        cur_label = v + '_' + t\n",
    "        dat_labels.append(cur_label)\n",
    "        print(\"('\"+ cur_label + \"', int),\")"
   ]
  },
  {
   "cell_type": "code",
   "execution_count": 211,
   "metadata": {},
   "outputs": [],
   "source": [
    "def get_winner(match):\n",
    "    if match['teams'][0]['win'] == 'Win':\n",
    "        return 0\n",
    "    elif match['teams'][1]['win'] == 'Win':\n",
    "        return 1\n",
    "    else:\n",
    "        return -1\n",
    "    \n",
    "def get_team_data(match_id, winner):\n",
    "    team_dat = []\n",
    "    \n",
    "    team_vars = ['firstBlood', 'firstTower', 'firstInhibitor', 'firstBaron', 'firstDragon', 'firstRiftHerald']\n",
    "    \n",
    "    for v in team_vars:\n",
    "        cur_dat = match['teams'][winner][v]*1\n",
    "        team_dat.append(cur_dat)\n",
    "    return np.array(team_dat)\n",
    "\n",
    "def get_role_lane(match_id, participant_id):\n",
    "    role = match['participants'][participant_id]['timeline']['role']\n",
    "    lane = match['participants'][participant_id]['timeline']['lane']\n",
    "    return [role, lane]\n",
    "\n",
    "def get_participant_data(match_id, winner, debug=False):\n",
    "\n",
    "    participant_data = []\n",
    "\n",
    "    m = len(match['participants'][0]['timeline'][solo_vars[0]])\n",
    "    \n",
    "    participant_ids = [(x+winner*5) % 10 for x in range(10)]\n",
    "    \n",
    "    for participant_id in participant_ids:\n",
    "        [role, lane] = get_role_lane(match_id, participant_id)\n",
    "        cur_participant_data = []\n",
    "        for v in solo_vars:\n",
    "            for i, t in enumerate(time_deltas):\n",
    "                if i + 1 <= m:\n",
    "                    cur_participant_data.append(np.round(match['participants'][participant_id]['timeline'][v][t],2))\n",
    "                else:\n",
    "                    cur_participant_data.append(-1)\n",
    "                \n",
    "        cur_participant_data = np.array(cur_participant_data,\n",
    "                                dtype = object)\n",
    "        participant_data.append([role, lane, cur_participant_data])\n",
    "    \n",
    "    return np.array(participant_data)\n",
    "\n",
    "def process_match(match_id):\n",
    "    winner = get_winner(match_id)\n",
    "    team_dat = get_team_data(match_id, winner)\n",
    "    duration = match_id['gameDuration'] / 60\n",
    "    duration_id = int(duration/10) # 0 if last 10-20, 1 if 20-30, 2 if 30-40, 3 if 40+, etc.\n",
    "    participant_data = get_participant_data(match_id, winner)\n",
    "    return winner, team_dat, duration, duration_id, participant_data"
   ]
  },
  {
   "cell_type": "code",
   "execution_count": 212,
   "metadata": {},
   "outputs": [],
   "source": [
    "match_data = process_match(match)"
   ]
  },
  {
   "cell_type": "code",
   "execution_count": 206,
   "metadata": {},
   "outputs": [
    {
     "data": {
      "text/plain": [
       "array([['NONE', 'JUNGLE',\n",
       "        array([7.9, 10.4, -1, -1, 360.5, 515.3, -1, -1], dtype=object)],\n",
       "       ['SOLO', 'BOTTOM',\n",
       "        array([7, 7.3, -1, -1, 262.9, 509.2, -1, -1], dtype=object)],\n",
       "       ['SOLO', 'MIDDLE',\n",
       "        array([8.7, 6.2, -1, -1, 402.1, 616.3, -1, -1], dtype=object)],\n",
       "       ['NONE', 'JUNGLE',\n",
       "        array([0.5, 1.8, -1, -1, 353.4, 411.4, -1, -1], dtype=object)],\n",
       "       ['SOLO', 'TOP',\n",
       "        array([1.6, 1.4, -1, -1, 207.9, 344.2, -1, -1], dtype=object)],\n",
       "       ['DUO_CARRY', 'BOTTOM',\n",
       "        array([9.3, 9.2, -1, -1, 301.3, 428.7, -1, -1], dtype=object)],\n",
       "       ['DUO_SUPPORT', 'BOTTOM',\n",
       "        array([1.1, 1.5, -1, -1, 174.6, 219.9, -1, -1], dtype=object)],\n",
       "       ['SOLO', 'TOP',\n",
       "        array([4.6, 8.1, -1, -1, 195.7, 333.4, -1, -1], dtype=object)],\n",
       "       ['NONE', 'JUNGLE',\n",
       "        array([0.8, 0.3, -1, -1, 186.4, 253.6, -1, -1], dtype=object)],\n",
       "       ['SOLO', 'MIDDLE',\n",
       "        array([6.5, 7.6, -1, -1, 239.4, 364.6, -1, -1], dtype=object)]],\n",
       "      dtype=object)"
      ]
     },
     "execution_count": 206,
     "metadata": {},
     "output_type": "execute_result"
    }
   ],
   "source": [
    "match_data[4]"
   ]
  },
  {
   "cell_type": "code",
   "execution_count": 86,
   "metadata": {},
   "outputs": [
    {
     "data": {
      "text/plain": [
       "dict_keys(['gameId', 'platformId', 'gameCreation', 'gameDuration', 'queueId', 'mapId', 'seasonId', 'gameVersion', 'gameMode', 'gameType', 'teams', 'participants', 'participantIdentities'])"
      ]
     },
     "execution_count": 86,
     "metadata": {},
     "output_type": "execute_result"
    }
   ],
   "source": [
    "match.keys()"
   ]
  },
  {
   "cell_type": "code",
   "execution_count": 91,
   "metadata": {},
   "outputs": [
    {
     "data": {
      "text/plain": [
       "'MATCHED_GAME'"
      ]
     },
     "execution_count": 91,
     "metadata": {},
     "output_type": "execute_result"
    }
   ],
   "source": [
    "match['gameType']"
   ]
  },
  {
   "cell_type": "code",
   "execution_count": 98,
   "metadata": {},
   "outputs": [
    {
     "name": "stdout",
     "output_type": "stream",
     "text": [
      "1\n"
     ]
    }
   ],
   "source": [
    "duration = match['gameDuration'] / 60\n",
    "duration_id = int(duration/10)-1 # 0 if last 10-20, 1 if 20-30, 2 if 30-40, 3 if 40+, etc.\n",
    "print(duration_id)"
   ]
  },
  {
   "cell_type": "code",
   "execution_count": 127,
   "metadata": {},
   "outputs": [
    {
     "data": {
      "text/plain": [
       "{'participantId': 1,\n",
       " 'teamId': 100,\n",
       " 'championId': 202,\n",
       " 'spell1Id': 4,\n",
       " 'spell2Id': 7,\n",
       " 'highestAchievedSeasonTier': 'MASTER',\n",
       " 'stats': {'participantId': 1,\n",
       "  'win': False,\n",
       "  'item0': 1055,\n",
       "  'item1': 3142,\n",
       "  'item2': 3147,\n",
       "  'item3': 3086,\n",
       "  'item4': 3047,\n",
       "  'item5': 0,\n",
       "  'item6': 3363,\n",
       "  'kills': 5,\n",
       "  'deaths': 4,\n",
       "  'assists': 4,\n",
       "  'largestKillingSpree': 3,\n",
       "  'largestMultiKill': 2,\n",
       "  'killingSprees': 1,\n",
       "  'longestTimeSpentLiving': 849,\n",
       "  'doubleKills': 1,\n",
       "  'tripleKills': 0,\n",
       "  'quadraKills': 0,\n",
       "  'pentaKills': 0,\n",
       "  'unrealKills': 0,\n",
       "  'totalDamageDealt': 120803,\n",
       "  'magicDamageDealt': 1313,\n",
       "  'physicalDamageDealt': 118121,\n",
       "  'trueDamageDealt': 1368,\n",
       "  'largestCriticalStrike': 1147,\n",
       "  'totalDamageDealtToChampions': 22426,\n",
       "  'magicDamageDealtToChampions': 1073,\n",
       "  'physicalDamageDealtToChampions': 21050,\n",
       "  'trueDamageDealtToChampions': 302,\n",
       "  'totalHeal': 3889,\n",
       "  'totalUnitsHealed': 3,\n",
       "  'damageSelfMitigated': 7030,\n",
       "  'damageDealtToObjectives': 5367,\n",
       "  'damageDealtToTurrets': 90,\n",
       "  'visionScore': 12,\n",
       "  'timeCCingOthers': 21,\n",
       "  'totalDamageTaken': 16284,\n",
       "  'magicalDamageTaken': 5328,\n",
       "  'physicalDamageTaken': 9976,\n",
       "  'trueDamageTaken': 979,\n",
       "  'goldEarned': 10637,\n",
       "  'goldSpent': 8775,\n",
       "  'turretKills': 0,\n",
       "  'inhibitorKills': 0,\n",
       "  'totalMinionsKilled': 212,\n",
       "  'neutralMinionsKilled': 4,\n",
       "  'neutralMinionsKilledTeamJungle': 4,\n",
       "  'neutralMinionsKilledEnemyJungle': 0,\n",
       "  'totalTimeCrowdControlDealt': 182,\n",
       "  'champLevel': 13,\n",
       "  'visionWardsBoughtInGame': 1,\n",
       "  'sightWardsBoughtInGame': 0,\n",
       "  'wardsPlaced': 7,\n",
       "  'wardsKilled': 1,\n",
       "  'firstBloodKill': False,\n",
       "  'firstBloodAssist': False,\n",
       "  'firstTowerKill': False,\n",
       "  'firstTowerAssist': False,\n",
       "  'firstInhibitorKill': False,\n",
       "  'firstInhibitorAssist': False,\n",
       "  'combatPlayerScore': 0,\n",
       "  'objectivePlayerScore': 0,\n",
       "  'totalPlayerScore': 0,\n",
       "  'totalScoreRank': 0,\n",
       "  'playerScore0': 0,\n",
       "  'playerScore1': 0,\n",
       "  'playerScore2': 0,\n",
       "  'playerScore3': 0,\n",
       "  'playerScore4': 0,\n",
       "  'playerScore5': 0,\n",
       "  'playerScore6': 0,\n",
       "  'playerScore7': 0,\n",
       "  'playerScore8': 0,\n",
       "  'playerScore9': 0,\n",
       "  'perk0': 8229,\n",
       "  'perk0Var1': 1273,\n",
       "  'perk0Var2': 0,\n",
       "  'perk0Var3': 0,\n",
       "  'perk1': 8226,\n",
       "  'perk1Var1': 250,\n",
       "  'perk1Var2': 495,\n",
       "  'perk1Var3': 0,\n",
       "  'perk2': 8233,\n",
       "  'perk2Var1': 15,\n",
       "  'perk2Var2': 20,\n",
       "  'perk2Var3': 0,\n",
       "  'perk3': 8236,\n",
       "  'perk3Var1': 14,\n",
       "  'perk3Var2': 0,\n",
       "  'perk3Var3': 0,\n",
       "  'perk4': 8139,\n",
       "  'perk4Var1': 1285,\n",
       "  'perk4Var2': 0,\n",
       "  'perk4Var3': 0,\n",
       "  'perk5': 8135,\n",
       "  'perk5Var1': 5,\n",
       "  'perk5Var2': 0,\n",
       "  'perk5Var3': 0,\n",
       "  'perkPrimaryStyle': 8200,\n",
       "  'perkSubStyle': 8100},\n",
       " 'timeline': {'participantId': 1,\n",
       "  'creepsPerMinDeltas': {'10-20': 9.2, '0-10': 9.3},\n",
       "  'xpPerMinDeltas': {'10-20': 457.1, '0-10': 327.4},\n",
       "  'goldPerMinDeltas': {'10-20': 428.7, '0-10': 301.3},\n",
       "  'damageTakenPerMinDeltas': {'10-20': 632.8, '0-10': 146.1},\n",
       "  'role': 'DUO_CARRY',\n",
       "  'lane': 'BOTTOM'}}"
      ]
     },
     "execution_count": 127,
     "metadata": {},
     "output_type": "execute_result"
    }
   ],
   "source": [
    "match['participants'][0]"
   ]
  },
  {
   "cell_type": "code",
   "execution_count": 134,
   "metadata": {},
   "outputs": [
    {
     "name": "stdout",
     "output_type": "stream",
     "text": [
      "5\n",
      "6\n",
      "7\n",
      "8\n",
      "9\n",
      "0\n",
      "1\n",
      "2\n",
      "3\n",
      "4\n"
     ]
    },
    {
     "data": {
      "text/plain": [
       "[None, None, None, None, None, None, None, None, None, None]"
      ]
     },
     "execution_count": 134,
     "metadata": {},
     "output_type": "execute_result"
    }
   ],
   "source": [
    "winner = 1\n",
    "[print((x+winner*5) % 10) for x in range(10)]"
   ]
  },
  {
   "cell_type": "code",
   "execution_count": null,
   "metadata": {},
   "outputs": [],
   "source": []
  }
 ],
 "metadata": {
  "kernelspec": {
   "display_name": "Python 3",
   "language": "python",
   "name": "python3"
  },
  "language_info": {
   "codemirror_mode": {
    "name": "ipython",
    "version": 3
   },
   "file_extension": ".py",
   "mimetype": "text/x-python",
   "name": "python",
   "nbconvert_exporter": "python",
   "pygments_lexer": "ipython3",
   "version": "3.6.5"
  }
 },
 "nbformat": 4,
 "nbformat_minor": 2
}
