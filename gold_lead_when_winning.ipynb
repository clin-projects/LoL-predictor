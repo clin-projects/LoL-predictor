{
 "cells": [
  {
   "cell_type": "code",
   "execution_count": 1,
   "metadata": {},
   "outputs": [],
   "source": [
    "import glob\n",
    "import json\n",
    "import numpy as np\n",
    "import matplotlib.pyplot as plt\n",
    "import pandas as pd\n",
    "\n",
    "np.set_printoptions(suppress=True)\n",
    "\n",
    "import seaborn as sns\n",
    "%matplotlib inline"
   ]
  },
  {
   "cell_type": "code",
   "execution_count": 2,
   "metadata": {},
   "outputs": [],
   "source": [
    "files = glob.glob('./dat/*timeline*')\n",
    "\n",
    "len(files)\n",
    "\n",
    "m = 5000"
   ]
  },
  {
   "cell_type": "code",
   "execution_count": 3,
   "metadata": {},
   "outputs": [],
   "source": [
    "file = files[100]\n",
    "\n",
    "with open(file, 'r') as fp:\n",
    "    match = json.load(fp)"
   ]
  },
  {
   "cell_type": "code",
   "execution_count": 4,
   "metadata": {},
   "outputs": [],
   "source": [
    "match_id = file.replace('./dat/timeline_','').replace('.json','')\n",
    "match_file = './dat/match_'+match_id+'.json'\n",
    "\n",
    "with open(match_file, 'r') as fp:\n",
    "    match2 = json.load(fp)"
   ]
  },
  {
   "cell_type": "code",
   "execution_count": 69,
   "metadata": {},
   "outputs": [],
   "source": [
    "def calculate_team_total_and_difference(dat, frames):\n",
    "    team_total = np.array([np.sum(dat[:,:5],axis=1),np.sum(dat[:,5:],axis=1)]).transpose()\n",
    "    team_total_diff = np.concatenate((team_total,(team_total[:,0] - team_total[:,1]).reshape((frames,1))),axis=1)\n",
    "    return team_total_diff\n",
    "\n",
    "def calculate_team_max_and_difference(dat, frames):\n",
    "    team_max = np.array([np.max(dat[:,:5],axis=1),np.max(dat[:,5:],axis=1)]).transpose()\n",
    "    team_max_diff = np.concatenate((team_max,(team_max[:,0] - team_max[:,1]).reshape((frames,1))),axis=1)\n",
    "    return team_max_diff\n",
    "\n",
    "def get_dat(match):\n",
    "    current_gold = []\n",
    "    total_gold = []\n",
    "    xp = []\n",
    "    frames = len(match['frames'])\n",
    "    for frame in range(frames):\n",
    "        frame_current_gold = []\n",
    "        frame_total_gold = []\n",
    "        frame_xp = []\n",
    "        for i in range(1,11):\n",
    "            frame_current_gold.append(match['frames'][frame]['participantFrames'][str(i)]['currentGold'])\n",
    "            frame_total_gold.append(match['frames'][frame]['participantFrames'][str(i)]['totalGold'])\n",
    "            frame_xp.append(match['frames'][frame]['participantFrames'][str(i)]['xp'])\n",
    "        current_gold.append(frame_current_gold)\n",
    "        total_gold.append(frame_total_gold)\n",
    "        xp.append(frame_xp)\n",
    "        \n",
    "    team_current_gold = calculate_team_total_and_difference(np.array(current_gold), frames)\n",
    "    team_total_gold = calculate_team_total_and_difference(np.array(total_gold), frames)\n",
    "    team_xp = calculate_team_total_and_difference(np.array(xp), frames)\n",
    "    \n",
    "    team_max_current_gold = calculate_team_max_and_difference(np.array(current_gold), frames)\n",
    "    team_max_total_gold = calculate_team_max_and_difference(np.array(total_gold), frames)\n",
    "    team_max_xp = calculate_team_max_and_difference(np.array(xp), frames)\n",
    "    \n",
    "    return team_current_gold, team_total_gold, team_xp, team_max_current_gold, team_max_total_gold, team_max_xp, frames"
   ]
  },
  {
   "cell_type": "code",
   "execution_count": 37,
   "metadata": {},
   "outputs": [],
   "source": [
    "current_gold = []\n",
    "total_gold = []\n",
    "xp = []\n",
    "winners = []\n",
    "num_frames = []\n",
    "match_ids = []\n",
    "\n",
    "m = 1000\n",
    "\n",
    "for i, file in enumerate(files[:m]):\n",
    "    with open(file, 'r') as fp:\n",
    "        match_id = file.replace('./dat/timeline_','').replace('.json','')\n",
    "        match_file = './dat/match_'+match_id+'.json'\n",
    "\n",
    "        with open(match_file, 'r') as fp2:\n",
    "            match2 = json.load(fp2)\n",
    "            if match2['mapId'] != 11:\n",
    "                continue\n",
    "            winner = (match2['teams'][0]['win'] == 'Fail')*1\n",
    "            winners.append(winner)\n",
    "        match_ids.append(match_id)\n",
    "        match = json.load(fp)\n",
    "        team_current_gold, team_total_gold, team_xp, team_max_current_gold, team_max_total_gold, team_max_xp, frames = get_dat(match)\n",
    "\n",
    "        current_gold.append(team_current_gold)\n",
    "        total_gold.append(team_total_gold)\n",
    "        xp.append(team_xp)\n",
    "        num_frames.append(frames)"
   ]
  },
  {
   "cell_type": "code",
   "execution_count": 38,
   "metadata": {},
   "outputs": [
    {
     "data": {
      "text/plain": [
       "888"
      ]
     },
     "execution_count": 38,
     "metadata": {},
     "output_type": "execute_result"
    }
   ],
   "source": [
    "num_matches = len(winners)\n",
    "num_matches"
   ]
  },
  {
   "cell_type": "code",
   "execution_count": 8,
   "metadata": {},
   "outputs": [
    {
     "data": {
      "text/plain": [
       "49"
      ]
     },
     "execution_count": 8,
     "metadata": {},
     "output_type": "execute_result"
    }
   ],
   "source": [
    "max_frames = np.max(num_frames)\n",
    "max_frames"
   ]
  },
  {
   "cell_type": "code",
   "execution_count": 39,
   "metadata": {},
   "outputs": [],
   "source": [
    "def convert_to_tensor(dat, num_matches, num_frames):\n",
    "    for i in range(num_matches):\n",
    "        dat[i] = np.pad(dat[i], ((0,max_frames - num_frames[i]), (0,0)), 'constant')\n",
    "    dat = np.array(dat)\n",
    "    return dat"
   ]
  },
  {
   "cell_type": "code",
   "execution_count": 40,
   "metadata": {},
   "outputs": [],
   "source": [
    "tensor_current_gold = convert_to_tensor(current_gold, num_matches, num_frames)\n",
    "tensor_total_gold = convert_to_tensor(total_gold, num_matches, num_frames)\n",
    "tensor_xp = convert_to_tensor(xp, num_matches, num_frames)\n",
    "winners = np.array(winners)"
   ]
  },
  {
   "cell_type": "code",
   "execution_count": 41,
   "metadata": {},
   "outputs": [
    {
     "name": "stdout",
     "output_type": "stream",
     "text": [
      "(888, 49, 3)\n",
      "(888, 49, 3)\n",
      "(888, 49, 3)\n"
     ]
    }
   ],
   "source": [
    "print(tensor_current_gold.shape)\n",
    "print(tensor_total_gold.shape)\n",
    "print(tensor_xp.shape)"
   ]
  },
  {
   "cell_type": "code",
   "execution_count": 143,
   "metadata": {},
   "outputs": [
    {
     "data": {
      "text/plain": [
       "array([1863.26203825, 5803.18566874, 3777.64037812, 2286.42322221,\n",
       "       3939.5634884 , 2589.0257485 , 3865.96233438, 1770.65043957,\n",
       "       4780.05932378, 2065.47346225, 5762.98363465, 3343.30192266,\n",
       "       2008.4001493 , 2215.07642353, 3860.23905459, 3172.30354925,\n",
       "       1431.89429806, 1625.60203898, 2433.54538139, 2028.07229515,\n",
       "       2476.85571976, 2879.0602124 , 3698.01875634, 2205.32816869,\n",
       "       4759.09339335, 3520.75782654, 2157.14850684, 1665.47896796,\n",
       "       2657.16512439, 2406.27112752, 4431.9794964 , 2855.08018524,\n",
       "       2255.70490867, 2532.77184567, 4537.5585774 , 3889.89746879,\n",
       "       3117.64222449, 2294.11854896, 1897.55501677, 2427.57082291,\n",
       "       2632.08922484, 3331.61941875, 3151.08645257, 5094.24332372,\n",
       "       1515.35581616, 3944.197258  , 1950.64205765, 2445.13634154,\n",
       "       4002.00750009, 3883.78046598, 2008.66741419, 2304.64092006,\n",
       "       2712.98577247, 3302.01970917, 1739.50274152, 2715.17083052,\n",
       "       3782.57220478, 1491.64513253, 3330.75370749, 2586.29703509,\n",
       "       1541.32671421, 1429.59721026, 3849.96399824, 2390.59382868,\n",
       "       2321.84295505, 4930.43678691, 2171.76014405, 2731.13259974,\n",
       "       4500.61449971, 1468.69542393, 3601.37952156, 3041.38039456,\n",
       "       5209.84745991, 2923.94841963, 3121.83762594, 3010.9578415 ,\n",
       "       1808.86719546, 3903.87012564, 2959.62196582, 2815.34694914,\n",
       "       3686.90812176, 3121.73757365, 2806.89998752])"
      ]
     },
     "execution_count": 143,
     "metadata": {},
     "output_type": "execute_result"
    }
   ],
   "source": [
    "tensor_current_gold_avg = np.mean(tensor_current_gold[:,:,2],axis=1)\n",
    "tensor_current_gold_avg\n",
    "tensor_current_gold_std = np.std(tensor_current_gold[:,:,2],axis=1)\n",
    "tensor_current_gold_std\n",
    "\n",
    "tensor_total_gold_avg = np.mean(tensor_total_gold[:,:,2],axis=1)\n",
    "tensor_total_gold_std = np.std(tensor_total_gold[:,:,2],axis=1)"
   ]
  },
  {
   "cell_type": "code",
   "execution_count": 173,
   "metadata": {},
   "outputs": [
    {
     "ename": "ValueError",
     "evalue": "operands could not be broadcast together with shapes (888,) (888,49) ",
     "output_type": "error",
     "traceback": [
      "\u001b[0;31m---------------------------------------------------------------------------\u001b[0m",
      "\u001b[0;31mValueError\u001b[0m                                Traceback (most recent call last)",
      "\u001b[0;32m<ipython-input-173-1d940ed336ea>\u001b[0m in \u001b[0;36m<module>\u001b[0;34m()\u001b[0m\n\u001b[0;32m----> 1\u001b[0;31m \u001b[0mtensor_total_gold_avg\u001b[0m \u001b[0;34m=\u001b[0m \u001b[0mnp\u001b[0m\u001b[0;34m.\u001b[0m\u001b[0mmean\u001b[0m\u001b[0;34m(\u001b[0m\u001b[0mtensor_total_gold\u001b[0m\u001b[0;34m[\u001b[0m\u001b[0;34m:\u001b[0m\u001b[0;34m,\u001b[0m\u001b[0;34m:\u001b[0m\u001b[0;34m,\u001b[0m\u001b[0;36m2\u001b[0m\u001b[0;34m]\u001b[0m\u001b[0;34m[\u001b[0m\u001b[0;34m(\u001b[0m\u001b[0mwinners\u001b[0m\u001b[0;34m==\u001b[0m\u001b[0;36m0\u001b[0m\u001b[0;34m)\u001b[0m \u001b[0;34m&\u001b[0m \u001b[0;34m(\u001b[0m\u001b[0mtensor_total_gold\u001b[0m\u001b[0;34m[\u001b[0m\u001b[0;34m:\u001b[0m\u001b[0;34m,\u001b[0m\u001b[0;34m:\u001b[0m\u001b[0;34m,\u001b[0m\u001b[0;36m2\u001b[0m\u001b[0;34m]\u001b[0m \u001b[0;34m!=\u001b[0m \u001b[0;36m0\u001b[0m\u001b[0;34m)\u001b[0m\u001b[0;34m]\u001b[0m\u001b[0;34m,\u001b[0m\u001b[0maxis\u001b[0m\u001b[0;34m=\u001b[0m\u001b[0;36m1\u001b[0m\u001b[0;34m)\u001b[0m\u001b[0;34m\u001b[0m\u001b[0m\n\u001b[0m\u001b[1;32m      2\u001b[0m \u001b[0mtensor_total_gold_std\u001b[0m \u001b[0;34m=\u001b[0m \u001b[0mnp\u001b[0m\u001b[0;34m.\u001b[0m\u001b[0mstd\u001b[0m\u001b[0;34m(\u001b[0m\u001b[0mtensor_total_gold\u001b[0m\u001b[0;34m[\u001b[0m\u001b[0;34m:\u001b[0m\u001b[0;34m,\u001b[0m\u001b[0;34m:\u001b[0m\u001b[0;34m,\u001b[0m\u001b[0;36m2\u001b[0m\u001b[0;34m]\u001b[0m\u001b[0;34m[\u001b[0m\u001b[0mwinners\u001b[0m\u001b[0;34m==\u001b[0m\u001b[0;36m0\u001b[0m\u001b[0;34m]\u001b[0m\u001b[0;34m,\u001b[0m\u001b[0maxis\u001b[0m\u001b[0;34m=\u001b[0m\u001b[0;36m1\u001b[0m\u001b[0;34m)\u001b[0m\u001b[0;34m\u001b[0m\u001b[0m\n",
      "\u001b[0;31mValueError\u001b[0m: operands could not be broadcast together with shapes (888,) (888,49) "
     ]
    }
   ],
   "source": [
    "tensor_total_gold_avg = np.mean(tensor_total_gold[:,:,2][winners==0],axis=1)\n",
    "tensor_total_gold_std = np.std(tensor_total_gold[:,:,2][winners==0],axis=1)"
   ]
  },
  {
   "cell_type": "code",
   "execution_count": 172,
   "metadata": {},
   "outputs": [
    {
     "data": {
      "text/plain": [
       "array([-1543, 16939,  5577,  9355,  -775, 15519,  -717, -1913,  3591,\n",
       "        1793,  4567, -8271,   731,  1407,   595,   565,  1867, -5597,\n",
       "        5275,  5113,  3789,   141,  1945, 13235, 18915,   143, -2763,\n",
       "        6943,   333,  7887,  1831,  2343,  5261,  6019,  5723,  6505,\n",
       "        1935, -2055,  3355, -1363,   943,  2635,  2987,  9143,  9535,\n",
       "        -329,  3483,  3781,  1943,  3751,  4761,  2115,  4969,  4407,\n",
       "       -1391,  6859, -3855,  1049, -2349,  5785,  3497,   473,   583,\n",
       "        2493,  5693, -1547,  1925,  1073,  1711,   505,  3525,  2671,\n",
       "        2901,  1643,  6077,  5535, -1757,  1757,  7125,  5893,    39,\n",
       "        2457,  9205,  3121,  5209, 11353,   509,  -579,  -429, -1537,\n",
       "       12775, -2613,  1347,  1139,  3121,  1109,  7657,  9175, 10705,\n",
       "        1913,  6633,  6037,  4857,  6539,  5219,  7531,  8633,  1593,\n",
       "        8717,  4123,  1091,  4959,  5451,  3909,  -163,  7697,  3989,\n",
       "           1, -2683,  -349, -2205,   463,  4879,   953,  5537,  9815,\n",
       "        4661,  5391,  2487,  1635,  5435,   981, -1003,  4933,   635,\n",
       "        4263,  3551,  5411,  2673,  7331,  7133, 11677, 11545, 11789,\n",
       "        5123,  -917,  4229,  5809,  2293,  4555,  6075,  6869,  3607,\n",
       "        5433,  2035,  6799,  3901,  4615,   355,  1245,  3955,  3551,\n",
       "        6315, -4389, -1741,   685,  2005, -8103,  6791,  7523,  8253,\n",
       "        3523,  6799,  2793,  -453, -2027,  5195,  3539,  4671,   909,\n",
       "        2527,  9219,  4575,  2313, 10311, -2005,  4605,  1821,  2423,\n",
       "        3439,  5249,   731,  1755,  2327,  7953,  4959,   151,  3265,\n",
       "        5137,  3015, -1657,  5905,  2967,  2023,  5851])"
      ]
     },
     "execution_count": 172,
     "metadata": {},
     "output_type": "execute_result"
    }
   ],
   "source": [
    "tensor_total_gold[:,frame,2][(winners==0) & tensor_total_gold[:,frame,2] != 0]"
   ]
  },
  {
   "cell_type": "code",
   "execution_count": 49,
   "metadata": {},
   "outputs": [
    {
     "name": "stderr",
     "output_type": "stream",
     "text": [
      "/Users/ccl/anaconda3/envs/test/lib/python3.6/site-packages/numpy/core/fromnumeric.py:2957: RuntimeWarning: Mean of empty slice.\n",
      "  out=out, **kwargs)\n",
      "/Users/ccl/anaconda3/envs/test/lib/python3.6/site-packages/numpy/core/_methods.py:80: RuntimeWarning: invalid value encountered in double_scalars\n",
      "  ret = ret.dtype.type(ret / rcount)\n",
      "/Users/ccl/anaconda3/envs/test/lib/python3.6/site-packages/numpy/core/_methods.py:135: RuntimeWarning: Degrees of freedom <= 0 for slice\n",
      "  keepdims=keepdims)\n",
      "/Users/ccl/anaconda3/envs/test/lib/python3.6/site-packages/numpy/core/_methods.py:105: RuntimeWarning: invalid value encountered in true_divide\n",
      "  arrmean, rcount, out=arrmean, casting='unsafe', subok=False)\n",
      "/Users/ccl/anaconda3/envs/test/lib/python3.6/site-packages/numpy/core/_methods.py:127: RuntimeWarning: invalid value encountered in double_scalars\n",
      "  ret = ret.dtype.type(ret / rcount)\n",
      "/Users/ccl/anaconda3/envs/test/lib/python3.6/site-packages/ipykernel_launcher.py:11: RuntimeWarning: invalid value encountered in true_divide\n",
      "  # This is added back by InteractiveShellApp.init_path()\n"
     ]
    }
   ],
   "source": [
    "avg = []\n",
    "std = []\n",
    "counts = []\n",
    "avg_fraction = []\n",
    "std_fraction = []\n",
    "\n",
    "cur_winner = 0\n",
    "\n",
    "for frame in range(max_frames):\n",
    "    indices = (winners==cur_winner) & (tensor_total_gold[:,frame,2] != 0)\n",
    "    fractional_diff = tensor_total_gold[:,frame,2] / tensor_total_gold[:,frame,0]\n",
    "    avg.append(np.mean(tensor_total_gold[:,frame,2][indices]))\n",
    "    std.append(np.std(tensor_total_gold[:,frame,2][indices]))\n",
    "    avg_fraction.append(np.mean(fractional_diff[indices]))\n",
    "    std_fraction.append(np.std(fractional_diff[indices]))\n",
    "    counts.append(len(tensor_total_gold[:,frame,2][indices]))"
   ]
  },
  {
   "cell_type": "code",
   "execution_count": 64,
   "metadata": {},
   "outputs": [
    {
     "name": "stdout",
     "output_type": "stream",
     "text": [
      "(array([ 28,  44,  76, 101, 110, 143, 191, 243, 248, 272, 281, 291, 368,\n",
      "       409, 422, 431, 503, 549, 725, 741, 782]),)\n"
     ]
    },
    {
     "data": {
      "text/plain": [
       "array([ 4712,  5721, -2030, -5031,    78,  8059,  6551,  5560,  8906,\n",
       "        8024,  2534, -5294, 14986, -4716,  9655,  5258,  7668,  6353,\n",
       "       10562, -1509,   -20])"
      ]
     },
     "execution_count": 64,
     "metadata": {},
     "output_type": "execute_result"
    }
   ],
   "source": [
    "frame = -10\n",
    "indices = (winners==cur_winner) & (tensor_total_gold[:,frame,2] != 0)\n",
    "print(np.where(indices))\n",
    "tensor_total_gold[:,frame,2][indices]"
   ]
  },
  {
   "cell_type": "code",
   "execution_count": 65,
   "metadata": {},
   "outputs": [
    {
     "data": {
      "text/plain": [
       "(array([ 28,  44,  76, 101, 110, 143, 191, 243, 248, 272, 281, 291, 368,\n",
       "        409, 422, 431, 503, 549, 725, 741, 782]),)"
      ]
     },
     "execution_count": 65,
     "metadata": {},
     "output_type": "execute_result"
    }
   ],
   "source": [
    "np.where(indices)"
   ]
  },
  {
   "cell_type": "code",
   "execution_count": 68,
   "metadata": {},
   "outputs": [
    {
     "data": {
      "text/plain": [
       "[2719060322,\n",
       " 2720141598,\n",
       " 2737314939,\n",
       " 2746516932,\n",
       " 2749098820,\n",
       " 2756865141,\n",
       " 2761396673,\n",
       " 2765041861,\n",
       " 2765143572,\n",
       " 2769748980,\n",
       " 2771534907,\n",
       " 2772371484,\n",
       " 2778323149,\n",
       " 2780757506,\n",
       " 2781361647,\n",
       " 2781615740,\n",
       " 2783630957,\n",
       " 2784651369,\n",
       " 2787699111,\n",
       " 2788017115,\n",
       " 2788582633]"
      ]
     },
     "execution_count": 68,
     "metadata": {},
     "output_type": "execute_result"
    }
   ],
   "source": [
    "[int(x) for x in np.array(match_ids)[np.where(indices)]]"
   ]
  },
  {
   "cell_type": "code",
   "execution_count": 19,
   "metadata": {},
   "outputs": [
    {
     "data": {
      "text/plain": [
       "[0,\n",
       " 80,\n",
       " 475,\n",
       " 477,\n",
       " 473,\n",
       " 467,\n",
       " 468,\n",
       " 468,\n",
       " 467,\n",
       " 468,\n",
       " 467,\n",
       " 467,\n",
       " 466,\n",
       " 465,\n",
       " 464,\n",
       " 463,\n",
       " 458,\n",
       " 441,\n",
       " 433,\n",
       " 430,\n",
       " 418,\n",
       " 409,\n",
       " 385,\n",
       " 362,\n",
       " 337,\n",
       " 306,\n",
       " 277,\n",
       " 253,\n",
       " 227,\n",
       " 199,\n",
       " 173,\n",
       " 147,\n",
       " 119,\n",
       " 106,\n",
       " 87,\n",
       " 69,\n",
       " 56,\n",
       " 44,\n",
       " 34,\n",
       " 30,\n",
       " 21,\n",
       " 16,\n",
       " 10,\n",
       " 5,\n",
       " 4,\n",
       " 4,\n",
       " 4,\n",
       " 4,\n",
       " 1]"
      ]
     },
     "execution_count": 19,
     "metadata": {},
     "output_type": "execute_result"
    }
   ],
   "source": [
    "counts"
   ]
  },
  {
   "cell_type": "code",
   "execution_count": 34,
   "metadata": {},
   "outputs": [
    {
     "data": {
      "text/plain": [
       "<ErrorbarContainer object of 3 artists>"
      ]
     },
     "execution_count": 34,
     "metadata": {},
     "output_type": "execute_result"
    },
    {
     "data": {
      "image/png": "[encoded data removed]",
      "text/plain": [
       "<Figure size 432x288 with 1 Axes>"
      ]
     },
     "metadata": {},
     "output_type": "display_data"
    }
   ],
   "source": [
    "plt.errorbar(range(max_frames),avg,yerr=[std,std])"
   ]
  },
  {
   "cell_type": "code",
   "execution_count": 50,
   "metadata": {},
   "outputs": [
    {
     "data": {
      "text/plain": [
       "<ErrorbarContainer object of 3 artists>"
      ]
     },
     "execution_count": 50,
     "metadata": {},
     "output_type": "execute_result"
    },
    {
     "data": {
      "image/png": "[encoded data removed]",
      "text/plain": [
       "<Figure size 432x288 with 1 Axes>"
      ]
     },
     "metadata": {},
     "output_type": "display_data"
    }
   ],
   "source": [
    "plt.errorbar(range(max_frames),avg_fraction,yerr=[std_fraction,std_fraction])"
   ]
  },
  {
   "cell_type": "code",
   "execution_count": 53,
   "metadata": {},
   "outputs": [
    {
     "name": "stderr",
     "output_type": "stream",
     "text": [
      "/Users/ccl/anaconda3/envs/test/lib/python3.6/site-packages/ipykernel_launcher.py:11: RuntimeWarning: invalid value encountered in true_divide\n",
      "  # This is added back by InteractiveShellApp.init_path()\n"
     ]
    }
   ],
   "source": [
    "avg = []\n",
    "std = []\n",
    "counts = []\n",
    "avg_fraction = []\n",
    "std_fraction = []\n",
    "\n",
    "cur_winner = 0\n",
    "\n",
    "for frame in range(max_frames):\n",
    "    indices = (winners==cur_winner) & (tensor_total_gold[:,frame,2] != 0)\n",
    "    fractional_diff = tensor_total_gold[:,frame,2] / tensor_total_gold[:,frame,0]\n",
    "    avg.append(np.sum(tensor_total_gold[:,frame,2][indices] > 0))\n",
    "#    std.append(np.std(tensor_total_gold[:,frame,2][indices]))\n",
    "#    avg_fraction.append(np.mean(fractional_diff[indices]))\n",
    "#    std_fraction.append(np.std(fractional_diff[indices]))\n",
    "    counts.append(len(tensor_total_gold[:,frame,2][indices]))"
   ]
  },
  {
   "cell_type": "code",
   "execution_count": 57,
   "metadata": {},
   "outputs": [
    {
     "name": "stderr",
     "output_type": "stream",
     "text": [
      "/Users/ccl/anaconda3/envs/test/lib/python3.6/site-packages/ipykernel_launcher.py:1: RuntimeWarning: invalid value encountered in true_divide\n",
      "  \"\"\"Entry point for launching an IPython kernel.\n"
     ]
    },
    {
     "data": {
      "text/plain": [
       "[<matplotlib.lines.Line2D at 0x114e67c18>]"
      ]
     },
     "execution_count": 57,
     "metadata": {},
     "output_type": "execute_result"
    },
    {
     "data": {
      "image/png": "[encoded data removed]",
      "text/plain": [
       "<Figure size 432x288 with 1 Axes>"
      ]
     },
     "metadata": {},
     "output_type": "display_data"
    }
   ],
   "source": [
    "plt.plot(np.array(avg)/counts)"
   ]
  },
  {
   "cell_type": "code",
   "execution_count": null,
   "metadata": {},
   "outputs": [],
   "source": []
  }
 ],
 "metadata": {
  "kernelspec": {
   "display_name": "Python 3",
   "language": "python",
   "name": "python3"
  },
  "language_info": {
   "codemirror_mode": {
    "name": "ipython",
    "version": 3
   },
   "file_extension": ".py",
   "mimetype": "text/x-python",
   "name": "python",
   "nbconvert_exporter": "python",
   "pygments_lexer": "ipython3",
   "version": "3.6.5"
  }
 },
 "nbformat": 4,
 "nbformat_minor": 2
}
