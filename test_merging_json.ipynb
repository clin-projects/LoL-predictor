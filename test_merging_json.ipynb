{
 "cells": [
  {
   "cell_type": "code",
   "execution_count": 1,
   "metadata": {},
   "outputs": [],
   "source": [
    "import glob\n",
    "import json\n",
    "import numpy as np\n",
    "import matplotlib.pyplot as plt\n",
    "import pandas as pd\n",
    "\n",
    "np.set_printoptions(suppress=True)\n",
    "\n",
    "%matplotlib inline"
   ]
  },
  {
   "cell_type": "code",
   "execution_count": 4,
   "metadata": {},
   "outputs": [],
   "source": [
    "files = glob.glob('./dat_challenger_only/match*')"
   ]
  },
  {
   "cell_type": "code",
   "execution_count": 5,
   "metadata": {},
   "outputs": [
    {
     "data": {
      "text/plain": [
       "7539"
      ]
     },
     "execution_count": 5,
     "metadata": {},
     "output_type": "execute_result"
    }
   ],
   "source": [
    "len(files)"
   ]
  },
  {
   "cell_type": "code",
   "execution_count": 6,
   "metadata": {},
   "outputs": [],
   "source": [
    "new_json = []\n",
    "for i, file in enumerate(files[:1000]):\n",
    "    with open(file, 'r') as fp:\n",
    "        match = json.load(fp)\n",
    "\n",
    "    timeline_file = file.replace('match','timeline')\n",
    "    \n",
    "    with open(timeline_file, 'r') as fp:\n",
    "        match['timeline'] = json.load(fp)\n",
    "\n",
    "    new_json.append(match)\n"
   ]
  },
  {
   "cell_type": "code",
   "execution_count": 13,
   "metadata": {},
   "outputs": [
    {
     "data": {
      "text/plain": [
       "dict_keys(['participantFrames', 'events', 'timestamp'])"
      ]
     },
     "execution_count": 13,
     "metadata": {},
     "output_type": "execute_result"
    }
   ],
   "source": [
    "match['timeline']['frames'][0]['participantFrames']"
   ]
  },
  {
   "cell_type": "code",
   "execution_count": 21,
   "metadata": {},
   "outputs": [],
   "source": [
    "timeline = match['timeline']['frames']\n",
    "num_frames = len(timeline)\n",
    "valid_events = []\n",
    "for frame in range(num_frames):\n",
    "    for event in timeline[frame]['events']:\n",
    "        valid_events.append(event['type'])"
   ]
  },
  {
   "cell_type": "code",
   "execution_count": 31,
   "metadata": {
    "scrolled": true
   },
   "outputs": [
    {
     "data": {
      "text/plain": [
       "[{'type': 'SKILL_LEVEL_UP',\n",
       "  'timestamp': 540414,\n",
       "  'participantId': 5,\n",
       "  'skillSlot': 4,\n",
       "  'levelUpType': 'NORMAL'},\n",
       " {'type': 'WARD_PLACED',\n",
       "  'timestamp': 545199,\n",
       "  'wardType': 'YELLOW_TRINKET',\n",
       "  'creatorId': 6},\n",
       " {'type': 'SKILL_LEVEL_UP',\n",
       "  'timestamp': 548268,\n",
       "  'participantId': 10,\n",
       "  'skillSlot': 1,\n",
       "  'levelUpType': 'NORMAL'},\n",
       " {'type': 'SKILL_LEVEL_UP',\n",
       "  'timestamp': 548961,\n",
       "  'participantId': 6,\n",
       "  'skillSlot': 3,\n",
       "  'levelUpType': 'NORMAL'},\n",
       " {'type': 'SKILL_LEVEL_UP',\n",
       "  'timestamp': 557213,\n",
       "  'participantId': 1,\n",
       "  'skillSlot': 2,\n",
       "  'levelUpType': 'NORMAL'},\n",
       " {'type': 'WARD_PLACED',\n",
       "  'timestamp': 562790,\n",
       "  'wardType': 'YELLOW_TRINKET',\n",
       "  'creatorId': 3},\n",
       " {'type': 'WARD_KILL',\n",
       "  'timestamp': 564869,\n",
       "  'wardType': 'CONTROL_WARD',\n",
       "  'killerId': 7},\n",
       " {'type': 'WARD_KILL',\n",
       "  'timestamp': 565265,\n",
       "  'wardType': 'UNDEFINED',\n",
       "  'killerId': 3},\n",
       " {'type': 'WARD_PLACED',\n",
       "  'timestamp': 569654,\n",
       "  'wardType': 'YELLOW_TRINKET',\n",
       "  'creatorId': 5},\n",
       " {'type': 'ITEM_DESTROYED',\n",
       "  'timestamp': 579081,\n",
       "  'participantId': 3,\n",
       "  'itemId': 2004},\n",
       " {'type': 'CHAMPION_KILL',\n",
       "  'timestamp': 580677,\n",
       "  'position': {'x': 7154, 'y': 3206},\n",
       "  'killerId': 5,\n",
       "  'victimId': 8,\n",
       "  'assistingParticipantIds': [4, 1, 2]},\n",
       " {'type': 'ITEM_PURCHASED',\n",
       "  'timestamp': 586552,\n",
       "  'participantId': 10,\n",
       "  'itemId': 1036},\n",
       " {'type': 'ITEM_PURCHASED',\n",
       "  'timestamp': 587410,\n",
       "  'participantId': 7,\n",
       "  'itemId': 3057},\n",
       " {'type': 'ITEM_DESTROYED',\n",
       "  'timestamp': 587410,\n",
       "  'participantId': 7,\n",
       "  'itemId': 1027},\n",
       " {'type': 'WARD_PLACED',\n",
       "  'timestamp': 589357,\n",
       "  'wardType': 'UNDEFINED',\n",
       "  'creatorId': 10},\n",
       " {'type': 'ITEM_PURCHASED',\n",
       "  'timestamp': 593153,\n",
       "  'participantId': 1,\n",
       "  'itemId': 3101},\n",
       " {'type': 'ITEM_DESTROYED',\n",
       "  'timestamp': 593153,\n",
       "  'participantId': 1,\n",
       "  'itemId': 1042},\n",
       " {'type': 'BUILDING_KILL',\n",
       "  'timestamp': 593648,\n",
       "  'position': {'x': 4318, 'y': 13875},\n",
       "  'killerId': 0,\n",
       "  'assistingParticipantIds': [],\n",
       "  'teamId': 200,\n",
       "  'buildingType': 'TOWER_BUILDING',\n",
       "  'laneType': 'TOP_LANE',\n",
       "  'towerType': 'OUTER_TURRET'},\n",
       " {'type': 'ITEM_PURCHASED',\n",
       "  'timestamp': 596156,\n",
       "  'participantId': 8,\n",
       "  'itemId': 3044},\n",
       " {'type': 'ITEM_DESTROYED',\n",
       "  'timestamp': 596156,\n",
       "  'participantId': 8,\n",
       "  'itemId': 1036},\n",
       " {'type': 'SKILL_LEVEL_UP',\n",
       "  'timestamp': 596651,\n",
       "  'participantId': 9,\n",
       "  'skillSlot': 4,\n",
       "  'levelUpType': 'NORMAL'},\n",
       " {'type': 'ITEM_PURCHASED',\n",
       "  'timestamp': 597080,\n",
       "  'participantId': 1,\n",
       "  'itemId': 1052},\n",
       " {'type': 'ITEM_PURCHASED',\n",
       "  'timestamp': 597542,\n",
       "  'participantId': 8,\n",
       "  'itemId': 1001}]"
      ]
     },
     "execution_count": 31,
     "metadata": {},
     "output_type": "execute_result"
    }
   ],
   "source": [
    "frame = 10\n",
    "timeline[frame]['events']"
   ]
  },
  {
   "cell_type": "code",
   "execution_count": 24,
   "metadata": {},
   "outputs": [
    {
     "data": {
      "text/plain": [
       "28"
      ]
     },
     "execution_count": 24,
     "metadata": {},
     "output_type": "execute_result"
    }
   ],
   "source": [
    "num_frames"
   ]
  },
  {
   "cell_type": "code",
   "execution_count": null,
   "metadata": {},
   "outputs": [],
   "source": []
  }
 ],
 "metadata": {
  "kernelspec": {
   "display_name": "Python 3",
   "language": "python",
   "name": "python3"
  },
  "language_info": {
   "codemirror_mode": {
    "name": "ipython",
    "version": 3
   },
   "file_extension": ".py",
   "mimetype": "text/x-python",
   "name": "python",
   "nbconvert_exporter": "python",
   "pygments_lexer": "ipython3",
   "version": "3.6.5"
  }
 },
 "nbformat": 4,
 "nbformat_minor": 2
}
