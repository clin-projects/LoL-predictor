{
 "cells": [
  {
   "cell_type": "code",
   "execution_count": 223,
   "metadata": {},
   "outputs": [],
   "source": [
    "import glob\n",
    "import json\n",
    "import numpy as np\n",
    "import matplotlib.pyplot as plt\n",
    "import pandas as pd\n",
    "\n",
    "np.set_printoptions(suppress=True)\n",
    "\n",
    "%matplotlib inline"
   ]
  },
  {
   "cell_type": "code",
   "execution_count": 171,
   "metadata": {},
   "outputs": [],
   "source": [
    "files = glob.glob('./dat/*')"
   ]
  },
  {
   "cell_type": "code",
   "execution_count": 172,
   "metadata": {},
   "outputs": [
    {
     "name": "stdout",
     "output_type": "stream",
     "text": [
      "labels:\n",
      "('creepsPerMinDeltas_0-10', int),\n",
      "('creepsPerMinDeltas_10-20', int),\n",
      "('creepsPerMinDeltas_20-30', int),\n",
      "('creepsPerMinDeltas_30-end', int),\n",
      "('goldPerMinDeltas_0-10', int),\n",
      "('goldPerMinDeltas_10-20', int),\n",
      "('goldPerMinDeltas_20-30', int),\n",
      "('goldPerMinDeltas_30-end', int),\n"
     ]
    }
   ],
   "source": [
    "solo_vars = ['creepsPerMinDeltas', 'goldPerMinDeltas']\n",
    "team_outcome = ['win']\n",
    "time_deltas = ['0-10', '10-20', '20-30', '30-end']\n",
    "\n",
    "dat_labels = []\n",
    "print('labels:')\n",
    "for v in solo_vars:\n",
    "    for t in time_deltas:\n",
    "        cur_label = v + '_' + t\n",
    "        dat_labels.append(cur_label)\n",
    "        print(\"('\"+ cur_label + \"', int),\")\n",
    "        \n",
    "def get_winner(match):\n",
    "    if match['teams'][0]['win'] == 'Win':\n",
    "        return 0\n",
    "    elif match['teams'][1]['win'] == 'Win':\n",
    "        return 1\n",
    "    else:\n",
    "        return -1\n",
    "    \n",
    "def get_team_data(match_id, winner):\n",
    "    team_dat = []\n",
    "\n",
    "    team_vars = ['firstBlood', 'firstTower', 'firstInhibitor', 'firstBaron', 'firstDragon', 'firstRiftHerald']\n",
    "\n",
    "    for i in [(x+winner)%2 for x in range(2)]:\n",
    "        for v in team_vars:\n",
    "            cur_dat = match['teams'][i][v]*1\n",
    "            team_dat.append(cur_dat)\n",
    "\n",
    "    return np.array(team_dat)\n",
    "\n",
    "def get_role_lane(match_id, participant_id):\n",
    "    role = match['participants'][participant_id]['timeline']['role']\n",
    "    lane = match['participants'][participant_id]['timeline']['lane']\n",
    "    return [role, lane]\n",
    "\n",
    "def get_participant_data(match_id, winner, debug=False):\n",
    "\n",
    "    participant_data = []\n",
    "\n",
    "    m = len(match['participants'][0]['timeline'][solo_vars[0]])\n",
    "    \n",
    "    participant_ids = [(x+winner*5) % 10 for x in range(10)]\n",
    "    \n",
    "    for participant_id in participant_ids:\n",
    "        [role, lane] = get_role_lane(match_id, participant_id)\n",
    "        cur_participant_data = []\n",
    "        for v in solo_vars:\n",
    "            for i, t in enumerate(time_deltas):\n",
    "                if i + 1 <= m:\n",
    "                    cur_participant_data.append(np.round(match['participants'][participant_id]['timeline'][v][t],2))\n",
    "                else:\n",
    "                    cur_participant_data.append(-1)\n",
    "                \n",
    "        cur_participant_data = np.array(cur_participant_data,\n",
    "                                dtype = object)\n",
    "        participant_data.append([role, lane, cur_participant_data])\n",
    "    \n",
    "    return np.array(participant_data)\n",
    "\n",
    "def process_match(match_id):\n",
    "    winner = get_winner(match_id)\n",
    "    team_dat = get_team_data(match_id, winner)\n",
    "    duration = match_id['gameDuration'] / 60\n",
    "    duration_id = int(duration/10) # 0 if last 10-20, 1 if 20-30, 2 if 30-40, 3 if 40+, etc.\n",
    "    participant_data = get_participant_data(match_id, winner)\n",
    "    return winner, team_dat, duration, duration_id, participant_data"
   ]
  },
  {
   "cell_type": "code",
   "execution_count": 173,
   "metadata": {},
   "outputs": [
    {
     "name": "stdout",
     "output_type": "stream",
     "text": [
      "50 ./dat/match_2807252465.json broken\n",
      "69 ./dat/match_2808999355.json broken\n",
      "131 ./dat/match_2812073616.json broken\n",
      "140 ./dat/match_2812204847.json broken\n",
      "149 ./dat/match_2814249792.json broken\n",
      "182 ./dat/match_2819492699.json broken\n",
      "200 ./dat/match_2820272221.json broken\n",
      "201 ./dat/match_2820274123.json broken\n"
     ]
    }
   ],
   "source": [
    "dat = []\n",
    "for i, file in enumerate(files):\n",
    "\n",
    "    with open(file, 'r') as fp:\n",
    "        match = json.load(fp)\n",
    "        try:\n",
    "            cur_dat = process_match(match)\n",
    "        except:\n",
    "            print(i,file, 'broken')\n",
    "            continue\n",
    "        dat.append([file, np.array(cur_dat)])\n"
   ]
  },
  {
   "cell_type": "code",
   "execution_count": 174,
   "metadata": {},
   "outputs": [],
   "source": [
    "dat = np.array(dat)"
   ]
  },
  {
   "cell_type": "code",
   "execution_count": 175,
   "metadata": {},
   "outputs": [],
   "source": [
    "n = len(dat)\n",
    "team_dat = []\n",
    "durations = []\n",
    "duration_ids = []\n",
    "roles = []\n",
    "lanes = []\n",
    "creepgold = []\n",
    "for i in range(n):\n",
    "    team_dat.append(dat[i,1][1])\n",
    "    durations.append(dat[i,1][2])\n",
    "    duration_ids.append(dat[i,1][3])\n",
    "    roles.append(dat[i,1][4][:,0])\n",
    "    lanes.append(list(dat[i,1][4][:,1]))\n",
    "    cur_creepgold_data = np.array([x.astype(float) for x in dat[i,1][4][:,2]])\n",
    "    creepgold.append(cur_creepgold_data)\n",
    "team_dat = np.array(team_dat)\n",
    "durations = np.array(durations)\n",
    "roles = np.array(roles)\n",
    "lanes = np.array(lanes)\n",
    "creepgold = np.array(creepgold)"
   ]
  },
  {
   "cell_type": "code",
   "execution_count": 176,
   "metadata": {},
   "outputs": [
    {
     "data": {
      "text/plain": [
       "(567, 10)"
      ]
     },
     "execution_count": 176,
     "metadata": {},
     "output_type": "execute_result"
    }
   ],
   "source": [
    "roles.shape"
   ]
  },
  {
   "cell_type": "code",
   "execution_count": 177,
   "metadata": {},
   "outputs": [],
   "source": [
    "solotop = np.argwhere((roles == 'SOLO') & (lanes == 'TOP'))\n",
    "solomid = np.argwhere((roles == 'SOLO') & (lanes == 'MIDDLE'))"
   ]
  },
  {
   "cell_type": "code",
   "execution_count": 178,
   "metadata": {},
   "outputs": [],
   "source": [
    "solotop_games,solotop_counts = np.unique(solotop[:,0], return_counts=True)\n",
    "solomid_games,solomid_counts = np.unique(solomid[:,0], return_counts=True)"
   ]
  },
  {
   "cell_type": "code",
   "execution_count": 179,
   "metadata": {},
   "outputs": [
    {
     "name": "stdout",
     "output_type": "stream",
     "text": [
      "258 valid games\n"
     ]
    }
   ],
   "source": [
    "# filter only those with 2+ solotop and solomid\n",
    "valid_games = list(set(solotop_games[solotop_counts>1]).intersection(set(solomid_games[solomid_counts>1])))\n",
    "n = len(valid_games)\n",
    "print(n,'valid games')"
   ]
  },
  {
   "cell_type": "code",
   "execution_count": 180,
   "metadata": {},
   "outputs": [],
   "source": [
    "team_dat = team_dat[valid_games]\n",
    "durations = durations[valid_games]\n",
    "roles = roles[valid_games]\n",
    "lanes = lanes[valid_games]\n",
    "creepgold = creepgold[valid_games]"
   ]
  },
  {
   "cell_type": "code",
   "execution_count": 181,
   "metadata": {},
   "outputs": [],
   "source": [
    "solotop = np.argwhere((roles == 'SOLO') & (lanes == 'TOP'))\n",
    "solomid = np.argwhere((roles == 'SOLO') & (lanes == 'MIDDLE'))"
   ]
  },
  {
   "cell_type": "code",
   "execution_count": 208,
   "metadata": {},
   "outputs": [],
   "source": [
    "delta_solotop = []\n",
    "delta_solomid = []\n",
    "delta_rest_of_team = []\n",
    "delta_all = []\n",
    "\n",
    "for i in range(n):\n",
    "    solotop_index_winner = solotop[2*i][1]\n",
    "    solotop_index_loser = solotop[2*i+1][1]\n",
    "    cur_delta_solotop = creepgold[i][solotop_index_winner] - creepgold[i][solotop_index_loser]\n",
    "    delta_solotop.append(cur_delta_solotop)\n",
    "    \n",
    "    solomid_index_winner = solomid[2*i][1]\n",
    "    solomid_index_loser = solomid[2*i+1][1]\n",
    "    cur_delta_solomid = creepgold[i][solomid_index_winner] - creepgold[i][solomid_index_loser]\n",
    "    delta_solomid.append(cur_delta_solomid)\n",
    "    \n",
    "    cur_delta_all = np.sum(creepgold[i][:5],axis=0) - np.sum(creepgold[i][5:],axis=0)\n",
    "    \n",
    "    cur_delta_rest_of_team = cur_delta_all - cur_delta_solotop - cur_delta_solomid\n",
    "    \n",
    "    delta_rest_of_team.append(cur_delta_rest_of_team)\n",
    "    \n",
    "    delta_all.append(cur_delta_all)\n",
    "    \n",
    "delta_solotop = np.array(delta_solotop)\n",
    "delta_solomid = np.array(delta_solomid)\n",
    "delta_rest_of_team = np.array(delta_rest_of_team)\n",
    "delta_all = np.array(delta_all)"
   ]
  },
  {
   "cell_type": "code",
   "execution_count": 209,
   "metadata": {},
   "outputs": [],
   "source": [
    "def remove_game_phase(array, phases_to_remove):\n",
    "    return np.delete(array, np.array(phases_to_remove), axis=1)"
   ]
  },
  {
   "cell_type": "code",
   "execution_count": 210,
   "metadata": {},
   "outputs": [],
   "source": [
    "phases_to_remove = [2,3,6,7] # keep only 0-20\n",
    "\n",
    "delta_solotop_phases = remove_game_phase(delta_solotop, phases_to_remove)\n",
    "delta_solomid_phases = remove_game_phase(delta_solomid, phases_to_remove)\n",
    "delta_rest_of_team_phases = remove_game_phase(delta_rest_of_team, phases_to_remove)\n",
    "delta_all_phases = remove_game_phase(delta_all, phases_to_remove)"
   ]
  },
  {
   "cell_type": "code",
   "execution_count": 345,
   "metadata": {},
   "outputs": [
    {
     "data": {
      "text/plain": [
       "(array([34., 47., 47., 43., 33., 31., 11.,  8.,  2.,  2.]),\n",
       " array([20.05 , 22.645, 25.24 , 27.835, 30.43 , 33.025, 35.62 , 38.215,\n",
       "        40.81 , 43.405, 46.   ]),\n",
       " <a list of 10 Patch objects>)"
      ]
     },
     "execution_count": 345,
     "metadata": {},
     "output_type": "execute_result"
    },
    {
     "data": {
      "image/png": "[encoded data removed]",
      "text/plain": [
       "<Figure size 432x288 with 1 Axes>"
      ]
     },
     "metadata": {},
     "output_type": "display_data"
    }
   ],
   "source": [
    "plt.hist(durations)"
   ]
  },
  {
   "cell_type": "code",
   "execution_count": 308,
   "metadata": {},
   "outputs": [
    {
     "name": "stdout",
     "output_type": "stream",
     "text": [
      "(258, 4)\n",
      "(258, 4)\n",
      "(258, 4)\n",
      "(258, 4)\n"
     ]
    }
   ],
   "source": [
    "print(delta_solotop_phases.shape)\n",
    "print(delta_solomid_phases.shape)\n",
    "print(delta_rest_of_team_phases.shape)\n",
    "print(delta_all_phases.shape)"
   ]
  },
  {
   "cell_type": "code",
   "execution_count": 333,
   "metadata": {},
   "outputs": [],
   "source": [
    "delta = np.concatenate((delta_solotop_phases, delta_solomid_phases, delta_rest_of_team_phases),axis=1)\n",
    "#delta = delta_all_phases"
   ]
  },
  {
   "cell_type": "code",
   "execution_count": 334,
   "metadata": {},
   "outputs": [],
   "source": [
    "from sklearn import preprocessing\n",
    "\n",
    "scaler = preprocessing.StandardScaler().fit(delta)\n",
    "delta_rescaled = scaler.transform(delta)"
   ]
  },
  {
   "cell_type": "code",
   "execution_count": 335,
   "metadata": {},
   "outputs": [],
   "source": [
    "X_winners = np.concatenate((team_dat[:,:6], delta_rescaled),axis=1)\n",
    "X_losers = np.concatenate((team_dat[:,6:], -1*delta_rescaled),axis=1)"
   ]
  },
  {
   "cell_type": "code",
   "execution_count": 336,
   "metadata": {},
   "outputs": [
    {
     "data": {
      "text/plain": [
       "(516, 18)"
      ]
     },
     "execution_count": 336,
     "metadata": {},
     "output_type": "execute_result"
    }
   ],
   "source": [
    "X = np.concatenate((X_winners, X_losers), axis=0)\n",
    "X.shape"
   ]
  },
  {
   "cell_type": "code",
   "execution_count": 337,
   "metadata": {},
   "outputs": [
    {
     "data": {
      "text/plain": [
       "(516, 2)"
      ]
     },
     "execution_count": 337,
     "metadata": {},
     "output_type": "execute_result"
    }
   ],
   "source": [
    "from keras.utils import np_utils\n",
    "\n",
    "Y = np.concatenate((np.ones(n), np.zeros(n))).reshape((2*n,1))\n",
    "Y = np_utils.to_categorical(Y,2)\n",
    "Y.shape"
   ]
  },
  {
   "cell_type": "code",
   "execution_count": 338,
   "metadata": {},
   "outputs": [
    {
     "name": "stdout",
     "output_type": "stream",
     "text": [
      "number of training examples = 412\n",
      "number of test examples = 104\n",
      "X_train shape: (412, 18)\n",
      "Y_train shape: (412, 2)\n",
      "X_test shape: (104, 18)\n",
      "Y_test shape: (104, 2)\n"
     ]
    }
   ],
   "source": [
    "from sklearn.model_selection import train_test_split\n",
    "\n",
    "test_size = 0.2\n",
    "\n",
    "X_train, X_test, Y_train, Y_test = train_test_split(X, Y, test_size=test_size, random_state=0)\n",
    "\n",
    "print (\"number of training examples = \" + str(X_train.shape[0]))\n",
    "print (\"number of test examples = \" + str(X_test.shape[0]))\n",
    "print (\"X_train shape: \" + str(X_train.shape))\n",
    "print (\"Y_train shape: \" + str(Y_train.shape))\n",
    "print (\"X_test shape: \" + str(X_test.shape))\n",
    "print (\"Y_test shape: \" + str(Y_test.shape))"
   ]
  },
  {
   "cell_type": "code",
   "execution_count": 372,
   "metadata": {},
   "outputs": [],
   "source": [
    "from keras.models import Sequential\n",
    "from keras.layers import Dense, BatchNormalization\n",
    "from keras import optimizers\n",
    "\n",
    "\n",
    "input_dim = X_train.shape[1]\n",
    "\n",
    "model = Sequential()\n",
    "#model.add(BatchNormalization())\n",
    "model.add(Dense(12, input_dim=input_dim, activation='relu'))\n",
    "#model.add(Dense(8, input_dim=input_dim, activation='relu'))\n",
    "#model.add(BatchNormalization())\n",
    "model.add(Dense(8, input_dim=12, activation='relu'))\n",
    "model.add(Dense(8, input_dim=8, activation='relu'))\n",
    "model.add(Dense(8, input_dim=4, activation='relu'))\n",
    "model.add(Dense(2, activation='softmax'))\n",
    "\n",
    "adam = optimizers.Adam(lr=0.00001)"
   ]
  },
  {
   "cell_type": "code",
   "execution_count": 373,
   "metadata": {},
   "outputs": [
    {
     "name": "stdout",
     "output_type": "stream",
     "text": [
      "_________________________________________________________________\n",
      "Layer (type)                 Output Shape              Param #   \n",
      "=================================================================\n",
      "dense_39 (Dense)             (None, 12)                228       \n",
      "_________________________________________________________________\n",
      "dense_40 (Dense)             (None, 8)                 104       \n",
      "_________________________________________________________________\n",
      "dense_41 (Dense)             (None, 8)                 72        \n",
      "_________________________________________________________________\n",
      "dense_42 (Dense)             (None, 8)                 72        \n",
      "_________________________________________________________________\n",
      "dense_43 (Dense)             (None, 2)                 18        \n",
      "=================================================================\n",
      "Total params: 494\n",
      "Trainable params: 494\n",
      "Non-trainable params: 0\n",
      "_________________________________________________________________\n"
     ]
    }
   ],
   "source": [
    "model.summary()"
   ]
  },
  {
   "cell_type": "code",
   "execution_count": 374,
   "metadata": {},
   "outputs": [],
   "source": [
    "# Compile model\n",
    "model.compile(loss='binary_crossentropy', optimizer=adam, metrics=['accuracy'])\n",
    "\n",
    "#opt = optimizers.SGD(lr=0.00001, decay=1e-6, momentum=0.9, nesterov=True)\n",
    "#model.compile(loss = \"binary_crossentropy\", optimizer = opt)"
   ]
  },
  {
   "cell_type": "code",
   "execution_count": 375,
   "metadata": {},
   "outputs": [
    {
     "name": "stdout",
     "output_type": "stream",
     "text": [
      "Epoch 1/30\n",
      "412/412 [==============================] - 2s 4ms/step - loss: 0.7920 - acc: 0.5000\n",
      "Epoch 2/30\n",
      "412/412 [==============================] - 0s 58us/step - loss: 0.7915 - acc: 0.5000\n",
      "Epoch 3/30\n",
      "412/412 [==============================] - 0s 53us/step - loss: 0.7911 - acc: 0.5000\n",
      "Epoch 4/30\n",
      "412/412 [==============================] - 0s 56us/step - loss: 0.7907 - acc: 0.5000\n",
      "Epoch 5/30\n",
      "412/412 [==============================] - 0s 55us/step - loss: 0.7903 - acc: 0.5000\n",
      "Epoch 6/30\n",
      "412/412 [==============================] - 0s 55us/step - loss: 0.7900 - acc: 0.5000\n",
      "Epoch 7/30\n",
      "412/412 [==============================] - 0s 53us/step - loss: 0.7896 - acc: 0.5000\n",
      "Epoch 8/30\n",
      "412/412 [==============================] - 0s 54us/step - loss: 0.7892 - acc: 0.5000\n",
      "Epoch 9/30\n",
      "412/412 [==============================] - 0s 55us/step - loss: 0.7888 - acc: 0.5000\n",
      "Epoch 10/30\n",
      "412/412 [==============================] - 0s 54us/step - loss: 0.7884 - acc: 0.5000\n",
      "Epoch 11/30\n",
      "412/412 [==============================] - 0s 52us/step - loss: 0.7880 - acc: 0.5000\n",
      "Epoch 12/30\n",
      "412/412 [==============================] - 0s 54us/step - loss: 0.7876 - acc: 0.5000\n",
      "Epoch 13/30\n",
      "412/412 [==============================] - 0s 57us/step - loss: 0.7872 - acc: 0.5000\n",
      "Epoch 14/30\n",
      "412/412 [==============================] - 0s 53us/step - loss: 0.7868 - acc: 0.5000\n",
      "Epoch 15/30\n",
      "412/412 [==============================] - 0s 56us/step - loss: 0.7864 - acc: 0.5000\n",
      "Epoch 16/30\n",
      "412/412 [==============================] - 0s 53us/step - loss: 0.7860 - acc: 0.5000\n",
      "Epoch 17/30\n",
      "412/412 [==============================] - 0s 60us/step - loss: 0.7857 - acc: 0.5000\n",
      "Epoch 18/30\n",
      "412/412 [==============================] - 0s 55us/step - loss: 0.7853 - acc: 0.5000\n",
      "Epoch 19/30\n",
      "412/412 [==============================] - 0s 57us/step - loss: 0.7849 - acc: 0.5000\n",
      "Epoch 20/30\n",
      "412/412 [==============================] - 0s 53us/step - loss: 0.7845 - acc: 0.5000\n",
      "Epoch 21/30\n",
      "412/412 [==============================] - 0s 56us/step - loss: 0.7842 - acc: 0.5000\n",
      "Epoch 22/30\n",
      "412/412 [==============================] - 0s 55us/step - loss: 0.7838 - acc: 0.5000\n",
      "Epoch 23/30\n",
      "412/412 [==============================] - 0s 57us/step - loss: 0.7834 - acc: 0.5000\n",
      "Epoch 24/30\n",
      "412/412 [==============================] - 0s 56us/step - loss: 0.7831 - acc: 0.5000\n",
      "Epoch 25/30\n",
      "412/412 [==============================] - 0s 54us/step - loss: 0.7827 - acc: 0.5000\n",
      "Epoch 26/30\n",
      "412/412 [==============================] - 0s 60us/step - loss: 0.7824 - acc: 0.5000\n",
      "Epoch 27/30\n",
      "412/412 [==============================] - 0s 55us/step - loss: 0.7821 - acc: 0.5000\n",
      "Epoch 28/30\n",
      "412/412 [==============================] - 0s 53us/step - loss: 0.7817 - acc: 0.5000\n",
      "Epoch 29/30\n",
      "412/412 [==============================] - 0s 58us/step - loss: 0.7814 - acc: 0.5000\n",
      "Epoch 30/30\n",
      "412/412 [==============================] - 0s 57us/step - loss: 0.7810 - acc: 0.5000\n"
     ]
    }
   ],
   "source": [
    "history = model.fit(X_train, Y_train, epochs=30, batch_size=100, verbose=1)"
   ]
  },
  {
   "cell_type": "code",
   "execution_count": 376,
   "metadata": {},
   "outputs": [
    {
     "name": "stdout",
     "output_type": "stream",
     "text": [
      "104/104 [==============================] - 1s 5ms/step\n",
      "Loss = 0.7671622863182654\n",
      "Test Accuracy = 0.5096153846153846\n"
     ]
    }
   ],
   "source": [
    "preds = model.evaluate(X_test,Y_test)\n",
    "print (\"Loss = \" + str(preds[0]))\n",
    "print (\"Test Accuracy = \" + str(preds[1]))"
   ]
  },
  {
   "cell_type": "code",
   "execution_count": 344,
   "metadata": {},
   "outputs": [
    {
     "data": {
      "text/html": [
       "<div>\n",
       "<style scoped>\n",
       "    .dataframe tbody tr th:only-of-type {\n",
       "        vertical-align: middle;\n",
       "    }\n",
       "\n",
       "    .dataframe tbody tr th {\n",
       "        vertical-align: top;\n",
       "    }\n",
       "\n",
       "    .dataframe thead th {\n",
       "        text-align: right;\n",
       "    }\n",
       "</style>\n",
       "<table border=\"1\" class=\"dataframe\">\n",
       "  <thead>\n",
       "    <tr style=\"text-align: right;\">\n",
       "      <th></th>\n",
       "      <th>0</th>\n",
       "      <th>1</th>\n",
       "      <th>2</th>\n",
       "      <th>3</th>\n",
       "      <th>4</th>\n",
       "      <th>5</th>\n",
       "      <th>6</th>\n",
       "      <th>7</th>\n",
       "      <th>8</th>\n",
       "      <th>9</th>\n",
       "      <th>10</th>\n",
       "      <th>11</th>\n",
       "      <th>12</th>\n",
       "      <th>13</th>\n",
       "      <th>14</th>\n",
       "      <th>15</th>\n",
       "      <th>16</th>\n",
       "      <th>17</th>\n",
       "    </tr>\n",
       "  </thead>\n",
       "  <tbody>\n",
       "    <tr>\n",
       "      <th>0</th>\n",
       "      <td>1.0</td>\n",
       "      <td>1.0</td>\n",
       "      <td>1.0</td>\n",
       "      <td>0.0</td>\n",
       "      <td>1.0</td>\n",
       "      <td>1.0</td>\n",
       "      <td>-1.011295</td>\n",
       "      <td>-0.889438</td>\n",
       "      <td>-0.682714</td>\n",
       "      <td>0.257763</td>\n",
       "      <td>-0.739382</td>\n",
       "      <td>-0.988831</td>\n",
       "      <td>0.308106</td>\n",
       "      <td>0.962443</td>\n",
       "      <td>-0.638054</td>\n",
       "      <td>0.680111</td>\n",
       "      <td>1.280105</td>\n",
       "      <td>2.793156</td>\n",
       "    </tr>\n",
       "    <tr>\n",
       "      <th>1</th>\n",
       "      <td>0.0</td>\n",
       "      <td>1.0</td>\n",
       "      <td>0.0</td>\n",
       "      <td>1.0</td>\n",
       "      <td>1.0</td>\n",
       "      <td>1.0</td>\n",
       "      <td>1.614806</td>\n",
       "      <td>0.838270</td>\n",
       "      <td>2.015178</td>\n",
       "      <td>0.137802</td>\n",
       "      <td>-0.739382</td>\n",
       "      <td>0.710017</td>\n",
       "      <td>1.213217</td>\n",
       "      <td>1.348387</td>\n",
       "      <td>-0.484109</td>\n",
       "      <td>-0.911114</td>\n",
       "      <td>0.133219</td>\n",
       "      <td>0.688054</td>\n",
       "    </tr>\n",
       "    <tr>\n",
       "      <th>2</th>\n",
       "      <td>0.0</td>\n",
       "      <td>1.0</td>\n",
       "      <td>1.0</td>\n",
       "      <td>1.0</td>\n",
       "      <td>0.0</td>\n",
       "      <td>1.0</td>\n",
       "      <td>0.520597</td>\n",
       "      <td>-0.136335</td>\n",
       "      <td>-0.013312</td>\n",
       "      <td>0.566551</td>\n",
       "      <td>1.098127</td>\n",
       "      <td>-1.231523</td>\n",
       "      <td>1.031000</td>\n",
       "      <td>-1.274790</td>\n",
       "      <td>0.131668</td>\n",
       "      <td>0.426962</td>\n",
       "      <td>0.510783</td>\n",
       "      <td>1.007891</td>\n",
       "    </tr>\n",
       "    <tr>\n",
       "      <th>3</th>\n",
       "      <td>1.0</td>\n",
       "      <td>1.0</td>\n",
       "      <td>1.0</td>\n",
       "      <td>1.0</td>\n",
       "      <td>1.0</td>\n",
       "      <td>1.0</td>\n",
       "      <td>2.271332</td>\n",
       "      <td>0.705369</td>\n",
       "      <td>1.757813</td>\n",
       "      <td>-0.835955</td>\n",
       "      <td>-0.739382</td>\n",
       "      <td>0.224632</td>\n",
       "      <td>-1.175021</td>\n",
       "      <td>0.368384</td>\n",
       "      <td>0.798760</td>\n",
       "      <td>-0.079337</td>\n",
       "      <td>0.593108</td>\n",
       "      <td>0.772444</td>\n",
       "    </tr>\n",
       "    <tr>\n",
       "      <th>4</th>\n",
       "      <td>0.0</td>\n",
       "      <td>1.0</td>\n",
       "      <td>1.0</td>\n",
       "      <td>1.0</td>\n",
       "      <td>1.0</td>\n",
       "      <td>1.0</td>\n",
       "      <td>1.669517</td>\n",
       "      <td>0.306667</td>\n",
       "      <td>1.405363</td>\n",
       "      <td>0.693917</td>\n",
       "      <td>1.574518</td>\n",
       "      <td>0.224632</td>\n",
       "      <td>1.039961</td>\n",
       "      <td>-0.636468</td>\n",
       "      <td>-1.099887</td>\n",
       "      <td>-0.404815</td>\n",
       "      <td>1.274427</td>\n",
       "      <td>0.097748</td>\n",
       "    </tr>\n",
       "  </tbody>\n",
       "</table>\n",
       "</div>"
      ],
      "text/plain": [
       "    0    1    2    3    4    5         6         7         8         9   \\\n",
       "0  1.0  1.0  1.0  0.0  1.0  1.0 -1.011295 -0.889438 -0.682714  0.257763   \n",
       "1  0.0  1.0  0.0  1.0  1.0  1.0  1.614806  0.838270  2.015178  0.137802   \n",
       "2  0.0  1.0  1.0  1.0  0.0  1.0  0.520597 -0.136335 -0.013312  0.566551   \n",
       "3  1.0  1.0  1.0  1.0  1.0  1.0  2.271332  0.705369  1.757813 -0.835955   \n",
       "4  0.0  1.0  1.0  1.0  1.0  1.0  1.669517  0.306667  1.405363  0.693917   \n",
       "\n",
       "         10        11        12        13        14        15        16  \\\n",
       "0 -0.739382 -0.988831  0.308106  0.962443 -0.638054  0.680111  1.280105   \n",
       "1 -0.739382  0.710017  1.213217  1.348387 -0.484109 -0.911114  0.133219   \n",
       "2  1.098127 -1.231523  1.031000 -1.274790  0.131668  0.426962  0.510783   \n",
       "3 -0.739382  0.224632 -1.175021  0.368384  0.798760 -0.079337  0.593108   \n",
       "4  1.574518  0.224632  1.039961 -0.636468 -1.099887 -0.404815  1.274427   \n",
       "\n",
       "         17  \n",
       "0  2.793156  \n",
       "1  0.688054  \n",
       "2  1.007891  \n",
       "3  0.772444  \n",
       "4  0.097748  "
      ]
     },
     "execution_count": 344,
     "metadata": {},
     "output_type": "execute_result"
    }
   ],
   "source": [
    "df = pd.DataFrame(X_winners)\n",
    "df.head()"
   ]
  },
  {
   "cell_type": "code",
   "execution_count": 245,
   "metadata": {},
   "outputs": [],
   "source": [
    "categorical_cols = list(range(6))"
   ]
  },
  {
   "cell_type": "code",
   "execution_count": 284,
   "metadata": {},
   "outputs": [
    {
     "name": "stderr",
     "output_type": "stream",
     "text": [
      "/Users/ccl/anaconda3/envs/test/lib/python3.6/site-packages/ipykernel_launcher.py:1: DeprecationWarning: \n",
      ".ix is deprecated. Please use\n",
      ".loc for label based indexing or\n",
      ".iloc for positional indexing\n",
      "\n",
      "See the documentation here:\n",
      "http://pandas.pydata.org/pandas-docs/stable/indexing.html#ix-indexer-is-deprecated\n",
      "  \"\"\"Entry point for launching an IPython kernel.\n"
     ]
    }
   ],
   "source": [
    "df = pd.concat([df[categorical_cols].apply(lambda x: x.astype('category')), df.ix[:, 6:].astype('float')], axis=1)"
   ]
  },
  {
   "cell_type": "code",
   "execution_count": 285,
   "metadata": {},
   "outputs": [
    {
     "data": {
      "text/html": [
       "<div>\n",
       "<style scoped>\n",
       "    .dataframe tbody tr th:only-of-type {\n",
       "        vertical-align: middle;\n",
       "    }\n",
       "\n",
       "    .dataframe tbody tr th {\n",
       "        vertical-align: top;\n",
       "    }\n",
       "\n",
       "    .dataframe thead th {\n",
       "        text-align: right;\n",
       "    }\n",
       "</style>\n",
       "<table border=\"1\" class=\"dataframe\">\n",
       "  <thead>\n",
       "    <tr style=\"text-align: right;\">\n",
       "      <th></th>\n",
       "      <th>7</th>\n",
       "      <th>8</th>\n",
       "      <th>9</th>\n",
       "      <th>10</th>\n",
       "      <th>11</th>\n",
       "      <th>12</th>\n",
       "      <th>13</th>\n",
       "    </tr>\n",
       "  </thead>\n",
       "  <tbody>\n",
       "    <tr>\n",
       "      <th>count</th>\n",
       "      <td>258.000000</td>\n",
       "      <td>258.000000</td>\n",
       "      <td>258.000000</td>\n",
       "      <td>258.000000</td>\n",
       "      <td>258.000000</td>\n",
       "      <td>258.000000</td>\n",
       "      <td>258.000000</td>\n",
       "    </tr>\n",
       "    <tr>\n",
       "      <th>mean</th>\n",
       "      <td>1.564341</td>\n",
       "      <td>-0.028295</td>\n",
       "      <td>-0.089651</td>\n",
       "      <td>65.850388</td>\n",
       "      <td>326.486047</td>\n",
       "      <td>112.944574</td>\n",
       "      <td>75.778798</td>\n",
       "    </tr>\n",
       "    <tr>\n",
       "      <th>std</th>\n",
       "      <td>3.330307</td>\n",
       "      <td>2.781165</td>\n",
       "      <td>2.332240</td>\n",
       "      <td>174.700512</td>\n",
       "      <td>356.488602</td>\n",
       "      <td>297.939280</td>\n",
       "      <td>292.501901</td>\n",
       "    </tr>\n",
       "    <tr>\n",
       "      <th>min</th>\n",
       "      <td>-6.800000</td>\n",
       "      <td>-12.700000</td>\n",
       "      <td>-16.000000</td>\n",
       "      <td>-377.700000</td>\n",
       "      <td>-604.600000</td>\n",
       "      <td>-625.100000</td>\n",
       "      <td>-642.200000</td>\n",
       "    </tr>\n",
       "    <tr>\n",
       "      <th>25%</th>\n",
       "      <td>-0.200000</td>\n",
       "      <td>0.000000</td>\n",
       "      <td>0.000000</td>\n",
       "      <td>-53.300000</td>\n",
       "      <td>81.325000</td>\n",
       "      <td>0.000000</td>\n",
       "      <td>0.000000</td>\n",
       "    </tr>\n",
       "    <tr>\n",
       "      <th>50%</th>\n",
       "      <td>1.550000</td>\n",
       "      <td>0.000000</td>\n",
       "      <td>0.000000</td>\n",
       "      <td>47.050000</td>\n",
       "      <td>309.950000</td>\n",
       "      <td>0.000000</td>\n",
       "      <td>0.000000</td>\n",
       "    </tr>\n",
       "    <tr>\n",
       "      <th>75%</th>\n",
       "      <td>3.500000</td>\n",
       "      <td>0.000000</td>\n",
       "      <td>0.000000</td>\n",
       "      <td>176.775000</td>\n",
       "      <td>581.200000</td>\n",
       "      <td>64.075000</td>\n",
       "      <td>0.000000</td>\n",
       "    </tr>\n",
       "    <tr>\n",
       "      <th>max</th>\n",
       "      <td>9.200000</td>\n",
       "      <td>9.600000</td>\n",
       "      <td>10.400000</td>\n",
       "      <td>660.800000</td>\n",
       "      <td>1177.300000</td>\n",
       "      <td>1387.700000</td>\n",
       "      <td>1901.200000</td>\n",
       "    </tr>\n",
       "  </tbody>\n",
       "</table>\n",
       "</div>"
      ],
      "text/plain": [
       "               7           8           9           10           11  \\\n",
       "count  258.000000  258.000000  258.000000  258.000000   258.000000   \n",
       "mean     1.564341   -0.028295   -0.089651   65.850388   326.486047   \n",
       "std      3.330307    2.781165    2.332240  174.700512   356.488602   \n",
       "min     -6.800000  -12.700000  -16.000000 -377.700000  -604.600000   \n",
       "25%     -0.200000    0.000000    0.000000  -53.300000    81.325000   \n",
       "50%      1.550000    0.000000    0.000000   47.050000   309.950000   \n",
       "75%      3.500000    0.000000    0.000000  176.775000   581.200000   \n",
       "max      9.200000    9.600000   10.400000  660.800000  1177.300000   \n",
       "\n",
       "                12           13  \n",
       "count   258.000000   258.000000  \n",
       "mean    112.944574    75.778798  \n",
       "std     297.939280   292.501901  \n",
       "min    -625.100000  -642.200000  \n",
       "25%       0.000000     0.000000  \n",
       "50%       0.000000     0.000000  \n",
       "75%      64.075000     0.000000  \n",
       "max    1387.700000  1901.200000  "
      ]
     },
     "execution_count": 285,
     "metadata": {},
     "output_type": "execute_result"
    }
   ],
   "source": [
    "df.describe(include = [np.number])"
   ]
  },
  {
   "cell_type": "code",
   "execution_count": 286,
   "metadata": {},
   "outputs": [
    {
     "data": {
      "text/html": [
       "<div>\n",
       "<style scoped>\n",
       "    .dataframe tbody tr th:only-of-type {\n",
       "        vertical-align: middle;\n",
       "    }\n",
       "\n",
       "    .dataframe tbody tr th {\n",
       "        vertical-align: top;\n",
       "    }\n",
       "\n",
       "    .dataframe thead th {\n",
       "        text-align: right;\n",
       "    }\n",
       "</style>\n",
       "<table border=\"1\" class=\"dataframe\">\n",
       "  <thead>\n",
       "    <tr style=\"text-align: right;\">\n",
       "      <th></th>\n",
       "      <th>0</th>\n",
       "      <th>1</th>\n",
       "      <th>2</th>\n",
       "      <th>3</th>\n",
       "      <th>4</th>\n",
       "      <th>5</th>\n",
       "    </tr>\n",
       "  </thead>\n",
       "  <tbody>\n",
       "    <tr>\n",
       "      <th>count</th>\n",
       "      <td>258.0</td>\n",
       "      <td>258.0</td>\n",
       "      <td>258.0</td>\n",
       "      <td>258.0</td>\n",
       "      <td>258.0</td>\n",
       "      <td>258.0</td>\n",
       "    </tr>\n",
       "    <tr>\n",
       "      <th>unique</th>\n",
       "      <td>2.0</td>\n",
       "      <td>2.0</td>\n",
       "      <td>2.0</td>\n",
       "      <td>2.0</td>\n",
       "      <td>2.0</td>\n",
       "      <td>2.0</td>\n",
       "    </tr>\n",
       "    <tr>\n",
       "      <th>top</th>\n",
       "      <td>1.0</td>\n",
       "      <td>1.0</td>\n",
       "      <td>1.0</td>\n",
       "      <td>1.0</td>\n",
       "      <td>1.0</td>\n",
       "      <td>1.0</td>\n",
       "    </tr>\n",
       "    <tr>\n",
       "      <th>freq</th>\n",
       "      <td>137.0</td>\n",
       "      <td>163.0</td>\n",
       "      <td>219.0</td>\n",
       "      <td>168.0</td>\n",
       "      <td>178.0</td>\n",
       "      <td>137.0</td>\n",
       "    </tr>\n",
       "  </tbody>\n",
       "</table>\n",
       "</div>"
      ],
      "text/plain": [
       "            0      1      2      3      4      5\n",
       "count   258.0  258.0  258.0  258.0  258.0  258.0\n",
       "unique    2.0    2.0    2.0    2.0    2.0    2.0\n",
       "top       1.0    1.0    1.0    1.0    1.0    1.0\n",
       "freq    137.0  163.0  219.0  168.0  178.0  137.0"
      ]
     },
     "execution_count": 286,
     "metadata": {},
     "output_type": "execute_result"
    }
   ],
   "source": [
    "df[list(range(6))].describe()"
   ]
  },
  {
   "cell_type": "code",
   "execution_count": null,
   "metadata": {},
   "outputs": [],
   "source": []
  }
 ],
 "metadata": {
  "kernelspec": {
   "display_name": "Python 3",
   "language": "python",
   "name": "python3"
  },
  "language_info": {
   "codemirror_mode": {
    "name": "ipython",
    "version": 3
   },
   "file_extension": ".py",
   "mimetype": "text/x-python",
   "name": "python",
   "nbconvert_exporter": "python",
   "pygments_lexer": "ipython3",
   "version": "3.6.5"
  }
 },
 "nbformat": 4,
 "nbformat_minor": 2
}
